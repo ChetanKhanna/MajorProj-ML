{
  "nbformat": 4,
  "nbformat_minor": 0,
  "metadata": {
    "colab": {
      "name": "FinalSubmit.ipynb",
      "provenance": []
    },
    "kernelspec": {
      "name": "python3",
      "display_name": "Python 3"
    },
    "language_info": {
      "name": "python"
    },
    "widgets": {
      "application/vnd.jupyter.widget-state+json": {
        "f8cf4147b11f4adb944724233b08a7e2": {
          "model_module": "@jupyter-widgets/controls",
          "model_name": "VBoxModel",
          "state": {
            "_view_name": "VBoxView",
            "_dom_classes": [],
            "_model_name": "VBoxModel",
            "_view_module": "@jupyter-widgets/controls",
            "_model_module_version": "1.5.0",
            "_view_count": null,
            "_view_module_version": "1.5.0",
            "box_style": "",
            "layout": "IPY_MODEL_4a7de0a530774c499eb0d8b882547771",
            "_model_module": "@jupyter-widgets/controls",
            "children": [
              "IPY_MODEL_2825fb59b2d247b9b5bd13793316e2bb",
              "IPY_MODEL_ef157d03758847e78ed08ec876917629"
            ]
          }
        },
        "4a7de0a530774c499eb0d8b882547771": {
          "model_module": "@jupyter-widgets/base",
          "model_name": "LayoutModel",
          "state": {
            "_view_name": "LayoutView",
            "grid_template_rows": null,
            "right": null,
            "justify_content": null,
            "_view_module": "@jupyter-widgets/base",
            "overflow": null,
            "_model_module_version": "1.2.0",
            "_view_count": null,
            "flex_flow": null,
            "width": null,
            "min_width": null,
            "border": null,
            "align_items": null,
            "bottom": null,
            "_model_module": "@jupyter-widgets/base",
            "top": null,
            "grid_column": null,
            "overflow_y": null,
            "overflow_x": null,
            "grid_auto_flow": null,
            "grid_area": null,
            "grid_template_columns": null,
            "flex": null,
            "_model_name": "LayoutModel",
            "justify_items": null,
            "grid_row": null,
            "max_height": null,
            "align_content": null,
            "visibility": null,
            "align_self": null,
            "height": null,
            "min_height": null,
            "padding": null,
            "grid_auto_rows": null,
            "grid_gap": null,
            "max_width": null,
            "order": null,
            "_view_module_version": "1.2.0",
            "grid_template_areas": null,
            "object_position": null,
            "object_fit": null,
            "grid_auto_columns": null,
            "margin": null,
            "display": null,
            "left": null
          }
        },
        "2825fb59b2d247b9b5bd13793316e2bb": {
          "model_module": "@jupyter-widgets/controls",
          "model_name": "LabelModel",
          "state": {
            "_view_name": "LabelView",
            "style": "IPY_MODEL_0d1b709c78594b1eb85f2b8b87122db7",
            "_dom_classes": [],
            "description": "",
            "_model_name": "LabelModel",
            "placeholder": "​",
            "_view_module": "@jupyter-widgets/controls",
            "_model_module_version": "1.5.0",
            "value": " 0.02MB of 0.02MB uploaded (0.00MB deduped)\r",
            "_view_count": null,
            "_view_module_version": "1.5.0",
            "description_tooltip": null,
            "_model_module": "@jupyter-widgets/controls",
            "layout": "IPY_MODEL_609e1e807c404565ab46d10cf4afe6b0"
          }
        },
        "ef157d03758847e78ed08ec876917629": {
          "model_module": "@jupyter-widgets/controls",
          "model_name": "FloatProgressModel",
          "state": {
            "_view_name": "ProgressView",
            "style": "IPY_MODEL_fdaa0fc08119469e981834c6a244a774",
            "_dom_classes": [],
            "description": "",
            "_model_name": "FloatProgressModel",
            "bar_style": "",
            "max": 1,
            "_view_module": "@jupyter-widgets/controls",
            "_model_module_version": "1.5.0",
            "value": 1,
            "_view_count": null,
            "_view_module_version": "1.5.0",
            "orientation": "horizontal",
            "min": 0,
            "description_tooltip": null,
            "_model_module": "@jupyter-widgets/controls",
            "layout": "IPY_MODEL_03b8a4edb1e24787852212dc3043e38e"
          }
        },
        "0d1b709c78594b1eb85f2b8b87122db7": {
          "model_module": "@jupyter-widgets/controls",
          "model_name": "DescriptionStyleModel",
          "state": {
            "_view_name": "StyleView",
            "_model_name": "DescriptionStyleModel",
            "description_width": "",
            "_view_module": "@jupyter-widgets/base",
            "_model_module_version": "1.5.0",
            "_view_count": null,
            "_view_module_version": "1.2.0",
            "_model_module": "@jupyter-widgets/controls"
          }
        },
        "609e1e807c404565ab46d10cf4afe6b0": {
          "model_module": "@jupyter-widgets/base",
          "model_name": "LayoutModel",
          "state": {
            "_view_name": "LayoutView",
            "grid_template_rows": null,
            "right": null,
            "justify_content": null,
            "_view_module": "@jupyter-widgets/base",
            "overflow": null,
            "_model_module_version": "1.2.0",
            "_view_count": null,
            "flex_flow": null,
            "width": null,
            "min_width": null,
            "border": null,
            "align_items": null,
            "bottom": null,
            "_model_module": "@jupyter-widgets/base",
            "top": null,
            "grid_column": null,
            "overflow_y": null,
            "overflow_x": null,
            "grid_auto_flow": null,
            "grid_area": null,
            "grid_template_columns": null,
            "flex": null,
            "_model_name": "LayoutModel",
            "justify_items": null,
            "grid_row": null,
            "max_height": null,
            "align_content": null,
            "visibility": null,
            "align_self": null,
            "height": null,
            "min_height": null,
            "padding": null,
            "grid_auto_rows": null,
            "grid_gap": null,
            "max_width": null,
            "order": null,
            "_view_module_version": "1.2.0",
            "grid_template_areas": null,
            "object_position": null,
            "object_fit": null,
            "grid_auto_columns": null,
            "margin": null,
            "display": null,
            "left": null
          }
        },
        "fdaa0fc08119469e981834c6a244a774": {
          "model_module": "@jupyter-widgets/controls",
          "model_name": "ProgressStyleModel",
          "state": {
            "_view_name": "StyleView",
            "_model_name": "ProgressStyleModel",
            "description_width": "",
            "_view_module": "@jupyter-widgets/base",
            "_model_module_version": "1.5.0",
            "_view_count": null,
            "_view_module_version": "1.2.0",
            "bar_color": null,
            "_model_module": "@jupyter-widgets/controls"
          }
        },
        "03b8a4edb1e24787852212dc3043e38e": {
          "model_module": "@jupyter-widgets/base",
          "model_name": "LayoutModel",
          "state": {
            "_view_name": "LayoutView",
            "grid_template_rows": null,
            "right": null,
            "justify_content": null,
            "_view_module": "@jupyter-widgets/base",
            "overflow": null,
            "_model_module_version": "1.2.0",
            "_view_count": null,
            "flex_flow": null,
            "width": null,
            "min_width": null,
            "border": null,
            "align_items": null,
            "bottom": null,
            "_model_module": "@jupyter-widgets/base",
            "top": null,
            "grid_column": null,
            "overflow_y": null,
            "overflow_x": null,
            "grid_auto_flow": null,
            "grid_area": null,
            "grid_template_columns": null,
            "flex": null,
            "_model_name": "LayoutModel",
            "justify_items": null,
            "grid_row": null,
            "max_height": null,
            "align_content": null,
            "visibility": null,
            "align_self": null,
            "height": null,
            "min_height": null,
            "padding": null,
            "grid_auto_rows": null,
            "grid_gap": null,
            "max_width": null,
            "order": null,
            "_view_module_version": "1.2.0",
            "grid_template_areas": null,
            "object_position": null,
            "object_fit": null,
            "grid_auto_columns": null,
            "margin": null,
            "display": null,
            "left": null
          }
        },
        "1b8e6f9a46234476879389b2a30915c5": {
          "model_module": "@jupyter-widgets/controls",
          "model_name": "VBoxModel",
          "state": {
            "_view_name": "VBoxView",
            "_dom_classes": [],
            "_model_name": "VBoxModel",
            "_view_module": "@jupyter-widgets/controls",
            "_model_module_version": "1.5.0",
            "_view_count": null,
            "_view_module_version": "1.5.0",
            "box_style": "",
            "layout": "IPY_MODEL_cd8aa343691741cc821dac28fa10d472",
            "_model_module": "@jupyter-widgets/controls",
            "children": [
              "IPY_MODEL_217ad77833de45d2b3c142b4c68707ca",
              "IPY_MODEL_5bc3e229549b4d3a92471475ebb56c39"
            ]
          }
        },
        "cd8aa343691741cc821dac28fa10d472": {
          "model_module": "@jupyter-widgets/base",
          "model_name": "LayoutModel",
          "state": {
            "_view_name": "LayoutView",
            "grid_template_rows": null,
            "right": null,
            "justify_content": null,
            "_view_module": "@jupyter-widgets/base",
            "overflow": null,
            "_model_module_version": "1.2.0",
            "_view_count": null,
            "flex_flow": null,
            "width": null,
            "min_width": null,
            "border": null,
            "align_items": null,
            "bottom": null,
            "_model_module": "@jupyter-widgets/base",
            "top": null,
            "grid_column": null,
            "overflow_y": null,
            "overflow_x": null,
            "grid_auto_flow": null,
            "grid_area": null,
            "grid_template_columns": null,
            "flex": null,
            "_model_name": "LayoutModel",
            "justify_items": null,
            "grid_row": null,
            "max_height": null,
            "align_content": null,
            "visibility": null,
            "align_self": null,
            "height": null,
            "min_height": null,
            "padding": null,
            "grid_auto_rows": null,
            "grid_gap": null,
            "max_width": null,
            "order": null,
            "_view_module_version": "1.2.0",
            "grid_template_areas": null,
            "object_position": null,
            "object_fit": null,
            "grid_auto_columns": null,
            "margin": null,
            "display": null,
            "left": null
          }
        },
        "217ad77833de45d2b3c142b4c68707ca": {
          "model_module": "@jupyter-widgets/controls",
          "model_name": "LabelModel",
          "state": {
            "_view_name": "LabelView",
            "style": "IPY_MODEL_9b0056265efc4ba4ac9fbe2501037d10",
            "_dom_classes": [],
            "description": "",
            "_model_name": "LabelModel",
            "placeholder": "​",
            "_view_module": "@jupyter-widgets/controls",
            "_model_module_version": "1.5.0",
            "value": " 0.07MB of 0.07MB uploaded (0.00MB deduped)\r",
            "_view_count": null,
            "_view_module_version": "1.5.0",
            "description_tooltip": null,
            "_model_module": "@jupyter-widgets/controls",
            "layout": "IPY_MODEL_6396d8881aab40d0822728a6c38de6cf"
          }
        },
        "5bc3e229549b4d3a92471475ebb56c39": {
          "model_module": "@jupyter-widgets/controls",
          "model_name": "FloatProgressModel",
          "state": {
            "_view_name": "ProgressView",
            "style": "IPY_MODEL_659d1863f99a4732be308a096e0fd200",
            "_dom_classes": [],
            "description": "",
            "_model_name": "FloatProgressModel",
            "bar_style": "",
            "max": 1,
            "_view_module": "@jupyter-widgets/controls",
            "_model_module_version": "1.5.0",
            "value": 1,
            "_view_count": null,
            "_view_module_version": "1.5.0",
            "orientation": "horizontal",
            "min": 0,
            "description_tooltip": null,
            "_model_module": "@jupyter-widgets/controls",
            "layout": "IPY_MODEL_8229df5cb1c64183b7f69793293ff753"
          }
        },
        "9b0056265efc4ba4ac9fbe2501037d10": {
          "model_module": "@jupyter-widgets/controls",
          "model_name": "DescriptionStyleModel",
          "state": {
            "_view_name": "StyleView",
            "_model_name": "DescriptionStyleModel",
            "description_width": "",
            "_view_module": "@jupyter-widgets/base",
            "_model_module_version": "1.5.0",
            "_view_count": null,
            "_view_module_version": "1.2.0",
            "_model_module": "@jupyter-widgets/controls"
          }
        },
        "6396d8881aab40d0822728a6c38de6cf": {
          "model_module": "@jupyter-widgets/base",
          "model_name": "LayoutModel",
          "state": {
            "_view_name": "LayoutView",
            "grid_template_rows": null,
            "right": null,
            "justify_content": null,
            "_view_module": "@jupyter-widgets/base",
            "overflow": null,
            "_model_module_version": "1.2.0",
            "_view_count": null,
            "flex_flow": null,
            "width": null,
            "min_width": null,
            "border": null,
            "align_items": null,
            "bottom": null,
            "_model_module": "@jupyter-widgets/base",
            "top": null,
            "grid_column": null,
            "overflow_y": null,
            "overflow_x": null,
            "grid_auto_flow": null,
            "grid_area": null,
            "grid_template_columns": null,
            "flex": null,
            "_model_name": "LayoutModel",
            "justify_items": null,
            "grid_row": null,
            "max_height": null,
            "align_content": null,
            "visibility": null,
            "align_self": null,
            "height": null,
            "min_height": null,
            "padding": null,
            "grid_auto_rows": null,
            "grid_gap": null,
            "max_width": null,
            "order": null,
            "_view_module_version": "1.2.0",
            "grid_template_areas": null,
            "object_position": null,
            "object_fit": null,
            "grid_auto_columns": null,
            "margin": null,
            "display": null,
            "left": null
          }
        },
        "659d1863f99a4732be308a096e0fd200": {
          "model_module": "@jupyter-widgets/controls",
          "model_name": "ProgressStyleModel",
          "state": {
            "_view_name": "StyleView",
            "_model_name": "ProgressStyleModel",
            "description_width": "",
            "_view_module": "@jupyter-widgets/base",
            "_model_module_version": "1.5.0",
            "_view_count": null,
            "_view_module_version": "1.2.0",
            "bar_color": null,
            "_model_module": "@jupyter-widgets/controls"
          }
        },
        "8229df5cb1c64183b7f69793293ff753": {
          "model_module": "@jupyter-widgets/base",
          "model_name": "LayoutModel",
          "state": {
            "_view_name": "LayoutView",
            "grid_template_rows": null,
            "right": null,
            "justify_content": null,
            "_view_module": "@jupyter-widgets/base",
            "overflow": null,
            "_model_module_version": "1.2.0",
            "_view_count": null,
            "flex_flow": null,
            "width": null,
            "min_width": null,
            "border": null,
            "align_items": null,
            "bottom": null,
            "_model_module": "@jupyter-widgets/base",
            "top": null,
            "grid_column": null,
            "overflow_y": null,
            "overflow_x": null,
            "grid_auto_flow": null,
            "grid_area": null,
            "grid_template_columns": null,
            "flex": null,
            "_model_name": "LayoutModel",
            "justify_items": null,
            "grid_row": null,
            "max_height": null,
            "align_content": null,
            "visibility": null,
            "align_self": null,
            "height": null,
            "min_height": null,
            "padding": null,
            "grid_auto_rows": null,
            "grid_gap": null,
            "max_width": null,
            "order": null,
            "_view_module_version": "1.2.0",
            "grid_template_areas": null,
            "object_position": null,
            "object_fit": null,
            "grid_auto_columns": null,
            "margin": null,
            "display": null,
            "left": null
          }
        }
      }
    }
  },
  "cells": [
    {
      "cell_type": "code",
      "metadata": {
        "id": "LT9ugSLzBAvU",
        "colab": {
          "base_uri": "https://localhost:8080/"
        },
        "outputId": "fc556818-63a8-4071-fd5b-2cb4bcf22b63"
      },
      "source": [
        "# importing modules\n",
        "import numpy as np\n",
        "import pandas as pd\n",
        "import seaborn as sns\n",
        "import matplotlib.pyplot as plt\n",
        "%matplotlib inline\n",
        "import warnings\n",
        "warnings.filterwarnings('ignore')\n",
        "import random\n",
        "random.seed(22)\n",
        "from math import sqrt\n",
        "from datetime import datetime\n",
        "import altair as alt\n",
        "import torch\n",
        "torch.manual_seed(0)"
      ],
      "execution_count": 1,
      "outputs": [
        {
          "output_type": "execute_result",
          "data": {
            "text/plain": [
              "<torch._C.Generator at 0x7f6fef370f70>"
            ]
          },
          "metadata": {
            "tags": []
          },
          "execution_count": 1
        }
      ]
    },
    {
      "cell_type": "code",
      "metadata": {
        "colab": {
          "base_uri": "https://localhost:8080/"
        },
        "id": "PctWh7y1ZQVx",
        "outputId": "0b328afe-ac2a-4ea8-acf0-1730334bd1b8"
      },
      "source": [
        "# wandb cell\n",
        "\n",
        "# we have used the reports and graphs generateed in the wandb\n",
        "# dashboard directly in the code as well as report.\n",
        "\n",
        "!pip install wandb\n",
        "import wandb\n",
        "\n",
        "wandb.login()\n",
        "\n",
        "# there are cells below all models we have trained that will log in the\n",
        "# details of each run into the wandb dashboard"
      ],
      "execution_count": null,
      "outputs": [
        {
          "output_type": "stream",
          "text": [
            "Requirement already satisfied: wandb in /usr/local/lib/python3.7/dist-packages (0.10.28)\n",
            "Requirement already satisfied: promise<3,>=2.0 in /usr/local/lib/python3.7/dist-packages (from wandb) (2.3)\n",
            "Requirement already satisfied: psutil>=5.0.0 in /usr/local/lib/python3.7/dist-packages (from wandb) (5.4.8)\n",
            "Requirement already satisfied: pathtools in /usr/local/lib/python3.7/dist-packages (from wandb) (0.1.2)\n",
            "Requirement already satisfied: PyYAML in /usr/local/lib/python3.7/dist-packages (from wandb) (3.13)\n",
            "Requirement already satisfied: subprocess32>=3.5.3 in /usr/local/lib/python3.7/dist-packages (from wandb) (3.5.4)\n",
            "Requirement already satisfied: sentry-sdk>=0.4.0 in /usr/local/lib/python3.7/dist-packages (from wandb) (1.0.0)\n",
            "Requirement already satisfied: protobuf>=3.12.0 in /usr/local/lib/python3.7/dist-packages (from wandb) (3.12.4)\n",
            "Requirement already satisfied: requests<3,>=2.0.0 in /usr/local/lib/python3.7/dist-packages (from wandb) (2.23.0)\n",
            "Requirement already satisfied: docker-pycreds>=0.4.0 in /usr/local/lib/python3.7/dist-packages (from wandb) (0.4.0)\n",
            "Requirement already satisfied: python-dateutil>=2.6.1 in /usr/local/lib/python3.7/dist-packages (from wandb) (2.8.1)\n",
            "Requirement already satisfied: GitPython>=1.0.0 in /usr/local/lib/python3.7/dist-packages (from wandb) (3.1.14)\n",
            "Requirement already satisfied: shortuuid>=0.5.0 in /usr/local/lib/python3.7/dist-packages (from wandb) (1.0.1)\n",
            "Requirement already satisfied: Click>=7.0 in /usr/local/lib/python3.7/dist-packages (from wandb) (7.1.2)\n",
            "Requirement already satisfied: six>=1.13.0 in /usr/local/lib/python3.7/dist-packages (from wandb) (1.15.0)\n",
            "Requirement already satisfied: configparser>=3.8.1 in /usr/local/lib/python3.7/dist-packages (from wandb) (5.0.2)\n",
            "Requirement already satisfied: certifi in /usr/local/lib/python3.7/dist-packages (from sentry-sdk>=0.4.0->wandb) (2020.12.5)\n",
            "Requirement already satisfied: urllib3>=1.10.0 in /usr/local/lib/python3.7/dist-packages (from sentry-sdk>=0.4.0->wandb) (1.24.3)\n",
            "Requirement already satisfied: setuptools in /usr/local/lib/python3.7/dist-packages (from protobuf>=3.12.0->wandb) (56.0.0)\n",
            "Requirement already satisfied: chardet<4,>=3.0.2 in /usr/local/lib/python3.7/dist-packages (from requests<3,>=2.0.0->wandb) (3.0.4)\n",
            "Requirement already satisfied: idna<3,>=2.5 in /usr/local/lib/python3.7/dist-packages (from requests<3,>=2.0.0->wandb) (2.10)\n",
            "Requirement already satisfied: gitdb<5,>=4.0.1 in /usr/local/lib/python3.7/dist-packages (from GitPython>=1.0.0->wandb) (4.0.7)\n",
            "Requirement already satisfied: smmap<5,>=3.0.1 in /usr/local/lib/python3.7/dist-packages (from gitdb<5,>=4.0.1->GitPython>=1.0.0->wandb) (4.0.0)\n"
          ],
          "name": "stdout"
        },
        {
          "output_type": "stream",
          "text": [
            "\u001b[34m\u001b[1mwandb\u001b[0m: Currently logged in as: \u001b[33mck20\u001b[0m (use `wandb login --relogin` to force relogin)\n"
          ],
          "name": "stderr"
        },
        {
          "output_type": "execute_result",
          "data": {
            "text/plain": [
              "True"
            ]
          },
          "metadata": {
            "tags": []
          },
          "execution_count": 3
        }
      ]
    },
    {
      "cell_type": "code",
      "metadata": {
        "colab": {
          "base_uri": "https://localhost:8080/"
        },
        "id": "9IqlrPR6BV7z",
        "outputId": "f912c17f-0871-4f6d-dcd8-cdeb994f1b79"
      },
      "source": [
        "# reading the dataset\n",
        "df = pd.read_csv('data.csv')\n",
        "df.info()"
      ],
      "execution_count": 3,
      "outputs": [
        {
          "output_type": "stream",
          "text": [
            "<class 'pandas.core.frame.DataFrame'>\n",
            "RangeIndex: 426 entries, 0 to 425\n",
            "Data columns (total 9 columns):\n",
            " #   Column        Non-Null Count  Dtype  \n",
            "---  ------        --------------  -----  \n",
            " 0   date          426 non-null    object \n",
            " 1   new_cases     426 non-null    int64  \n",
            " 2   total_cases   426 non-null    int64  \n",
            " 3   active_cases  426 non-null    float64\n",
            " 4   mobilty       426 non-null    float64\n",
            " 5   dose1         426 non-null    int64  \n",
            " 6   dose2         426 non-null    int64  \n",
            " 7   new_deaths    426 non-null    int64  \n",
            " 8   total_deaths  426 non-null    int64  \n",
            "dtypes: float64(2), int64(6), object(1)\n",
            "memory usage: 30.1+ KB\n"
          ],
          "name": "stdout"
        }
      ]
    },
    {
      "cell_type": "code",
      "metadata": {
        "colab": {
          "base_uri": "https://localhost:8080/",
          "height": 206
        },
        "id": "jtX3vdXTmHV0",
        "outputId": "b3a73dea-26c7-4393-dbc5-0c330b7bf984"
      },
      "source": [
        "df.head()"
      ],
      "execution_count": 20,
      "outputs": [
        {
          "output_type": "execute_result",
          "data": {
            "text/html": [
              "<div>\n",
              "<style scoped>\n",
              "    .dataframe tbody tr th:only-of-type {\n",
              "        vertical-align: middle;\n",
              "    }\n",
              "\n",
              "    .dataframe tbody tr th {\n",
              "        vertical-align: top;\n",
              "    }\n",
              "\n",
              "    .dataframe thead th {\n",
              "        text-align: right;\n",
              "    }\n",
              "</style>\n",
              "<table border=\"1\" class=\"dataframe\">\n",
              "  <thead>\n",
              "    <tr style=\"text-align: right;\">\n",
              "      <th></th>\n",
              "      <th>date</th>\n",
              "      <th>new_cases</th>\n",
              "      <th>total_cases</th>\n",
              "      <th>active_cases</th>\n",
              "      <th>mobilty</th>\n",
              "      <th>dose1</th>\n",
              "      <th>dose2</th>\n",
              "      <th>new_deaths</th>\n",
              "      <th>total_deaths</th>\n",
              "    </tr>\n",
              "  </thead>\n",
              "  <tbody>\n",
              "    <tr>\n",
              "      <th>0</th>\n",
              "      <td>2020-02-11</td>\n",
              "      <td>1</td>\n",
              "      <td>1</td>\n",
              "      <td>1.0</td>\n",
              "      <td>109.07</td>\n",
              "      <td>0</td>\n",
              "      <td>0</td>\n",
              "      <td>0</td>\n",
              "      <td>0</td>\n",
              "    </tr>\n",
              "    <tr>\n",
              "      <th>1</th>\n",
              "      <td>2020-02-12</td>\n",
              "      <td>0</td>\n",
              "      <td>1</td>\n",
              "      <td>0.0</td>\n",
              "      <td>111.20</td>\n",
              "      <td>0</td>\n",
              "      <td>0</td>\n",
              "      <td>0</td>\n",
              "      <td>0</td>\n",
              "    </tr>\n",
              "    <tr>\n",
              "      <th>2</th>\n",
              "      <td>2020-02-13</td>\n",
              "      <td>0</td>\n",
              "      <td>1</td>\n",
              "      <td>0.0</td>\n",
              "      <td>110.18</td>\n",
              "      <td>0</td>\n",
              "      <td>0</td>\n",
              "      <td>0</td>\n",
              "      <td>0</td>\n",
              "    </tr>\n",
              "    <tr>\n",
              "      <th>3</th>\n",
              "      <td>2020-02-14</td>\n",
              "      <td>0</td>\n",
              "      <td>1</td>\n",
              "      <td>0.0</td>\n",
              "      <td>123.91</td>\n",
              "      <td>0</td>\n",
              "      <td>0</td>\n",
              "      <td>0</td>\n",
              "      <td>0</td>\n",
              "    </tr>\n",
              "    <tr>\n",
              "      <th>4</th>\n",
              "      <td>2020-02-15</td>\n",
              "      <td>0</td>\n",
              "      <td>1</td>\n",
              "      <td>0.0</td>\n",
              "      <td>131.79</td>\n",
              "      <td>0</td>\n",
              "      <td>0</td>\n",
              "      <td>0</td>\n",
              "      <td>0</td>\n",
              "    </tr>\n",
              "  </tbody>\n",
              "</table>\n",
              "</div>"
            ],
            "text/plain": [
              "         date  new_cases  total_cases  ...  dose2  new_deaths  total_deaths\n",
              "0  2020-02-11          1            1  ...      0           0             0\n",
              "1  2020-02-12          0            1  ...      0           0             0\n",
              "2  2020-02-13          0            1  ...      0           0             0\n",
              "3  2020-02-14          0            1  ...      0           0             0\n",
              "4  2020-02-15          0            1  ...      0           0             0\n",
              "\n",
              "[5 rows x 9 columns]"
            ]
          },
          "metadata": {
            "tags": []
          },
          "execution_count": 20
        }
      ]
    },
    {
      "cell_type": "markdown",
      "metadata": {
        "id": "_eAP0YZTrt3r"
      },
      "source": [
        "## Data pre-processing\n",
        "\n",
        "Most of the pre-processing was done at the time of scraping the data insdie their respective folders. The code is included withing the respective scrape files. Once all the data was collected, it was accumulated inside a \"data.csv\" file. Since the number of data points were relatively small, doing it like this instead of here was faster and more convinient"
      ]
    },
    {
      "cell_type": "markdown",
      "metadata": {
        "id": "qHVJpimrr3Z1"
      },
      "source": [
        "## Data visualization\n",
        "\n",
        "Below we visualize all the features to get the feel of the trends and a high level overview of our dataset\n",
        "\n",
        "We start with individual plots and then go on to build a combined plot using Altair library"
      ]
    },
    {
      "cell_type": "code",
      "metadata": {
        "colab": {
          "base_uri": "https://localhost:8080/",
          "height": 265
        },
        "id": "DEyJNGWjmLbc",
        "outputId": "99c42953-dfef-4d74-f6ee-06902a16de28"
      },
      "source": [
        "plt.plot(df['new_cases'])\n",
        "plt.show()"
      ],
      "execution_count": null,
      "outputs": [
        {
          "output_type": "display_data",
          "data": {
            "image/png": "[encoded data removed]",
            "text/plain": [
              "<Figure size 432x288 with 1 Axes>"
            ]
          },
          "metadata": {
            "tags": [],
            "needs_background": "light"
          }
        }
      ]
    },
    {
      "cell_type": "code",
      "metadata": {
        "colab": {
          "base_uri": "https://localhost:8080/",
          "height": 265
        },
        "id": "FMzdDhWBt2ag",
        "outputId": "cca4c7a0-58d3-43a9-e734-071d756ef64a"
      },
      "source": [
        "plt.plot(df['active_cases'])\n",
        "plt.show()"
      ],
      "execution_count": null,
      "outputs": [
        {
          "output_type": "display_data",
          "data": {
            "image/png": "[encoded data removed]",
            "text/plain": [
              "<Figure size 432x288 with 1 Axes>"
            ]
          },
          "metadata": {
            "tags": [],
            "needs_background": "light"
          }
        }
      ]
    },
    {
      "cell_type": "code",
      "metadata": {
        "colab": {
          "base_uri": "https://localhost:8080/",
          "height": 269
        },
        "id": "-p4V9gfxt_kD",
        "outputId": "cefd5738-f5ee-452c-ba56-1e96e795f56e"
      },
      "source": [
        "plt.plot(df['new_deaths'])\n",
        "plt.show()"
      ],
      "execution_count": null,
      "outputs": [
        {
          "output_type": "display_data",
          "data": {
            "image/png": "[encoded data removed]",
            "text/plain": [
              "<Figure size 432x288 with 1 Axes>"
            ]
          },
          "metadata": {
            "tags": [],
            "needs_background": "light"
          }
        }
      ]
    },
    {
      "cell_type": "markdown",
      "metadata": {
        "id": "HR5YxYbM2MBW"
      },
      "source": [
        "From the above two graphs, there seems to be a similarity b/w new deaths and active cases in London"
      ]
    },
    {
      "cell_type": "code",
      "metadata": {
        "colab": {
          "base_uri": "https://localhost:8080/",
          "height": 265
        },
        "id": "SIxtMdph6G_0",
        "outputId": "45aa173e-9da0-49eb-a340-53429bcffdcf"
      },
      "source": [
        "# plotting them together\n",
        "fig, ax = plt.subplots()\n",
        "ax.plot(df['active_cases'], 'g', label='active cases')\n",
        "ax.plot(df['new_deaths'], 'b', label='new deaths')\n",
        "leg = ax.legend()"
      ],
      "execution_count": null,
      "outputs": [
        {
          "output_type": "display_data",
          "data": {
            "image/png": "[encoded data removed]",
            "text/plain": [
              "<Figure size 432x288 with 1 Axes>"
            ]
          },
          "metadata": {
            "tags": [],
            "needs_background": "light"
          }
        }
      ]
    },
    {
      "cell_type": "code",
      "metadata": {
        "colab": {
          "base_uri": "https://localhost:8080/",
          "height": 276
        },
        "id": "gUFfBbMVuGMT",
        "outputId": "9e66ffaf-5ec1-40ab-fdc6-0d16ca90da12"
      },
      "source": [
        "fig, ax = plt.subplots()\n",
        "ax.plot(df['dose1'], 'b', label='dose 1')\n",
        "ax.plot(df['dose2'], 'g', label='dose 2')\n",
        "leg = ax.legend()"
      ],
      "execution_count": null,
      "outputs": [
        {
          "output_type": "display_data",
          "data": {
            "image/png": "[encoded data removed]",
            "text/plain": [
              "<Figure size 432x288 with 1 Axes>"
            ]
          },
          "metadata": {
            "tags": [],
            "needs_background": "light"
          }
        }
      ]
    },
    {
      "cell_type": "code",
      "metadata": {
        "colab": {
          "base_uri": "https://localhost:8080/",
          "height": 388
        },
        "id": "To0jeOC5dBw7",
        "outputId": "1593bf87-a3eb-4b4f-91ed-14c77b8bc689"
      },
      "source": [
        "alt.Chart(df).mark_circle().encode(\n",
        "    x='date:T',\n",
        "    y='mobilty',\n",
        "    size=alt.Size('mobilty',\n",
        "        scale=alt.Scale(range=[0,500]),\n",
        "        legend=alt.Legend(title='Daily mobilty')\n",
        "    )\n",
        ").properties(\n",
        "    width=3000,\n",
        "    height=300\n",
        ")"
      ],
      "execution_count": null,
      "outputs": [
        {
          "output_type": "execute_result",
          "data": {
            "text/plain": [
              "alt.Chart(...)"
            ],
            "text/html": [
              "\n",
              "<div id=\"altair-viz-e5d4549d1ae848919f7886a950c0f6fd\"></div>\n",
              "<script type=\"text/javascript\">\n",
              "  (function(spec, embedOpt){\n",
              "    let outputDiv = document.currentScript.previousElementSibling;\n",
              "    if (outputDiv.id !== \"altair-viz-e5d4549d1ae848919f7886a950c0f6fd\") {\n",
              "      outputDiv = document.getElementById(\"altair-viz-e5d4549d1ae848919f7886a950c0f6fd\");\n",
              "    }\n",
              "    const paths = {\n",
              "      \"vega\": \"https://cdn.jsdelivr.net/npm//vega@5?noext\",\n",
              "      \"vega-lib\": \"https://cdn.jsdelivr.net/npm//vega-lib?noext\",\n",
              "      \"vega-lite\": \"https://cdn.jsdelivr.net/npm//vega-lite@4.8.1?noext\",\n",
              "      \"vega-embed\": \"https://cdn.jsdelivr.net/npm//vega-embed@6?noext\",\n",
              "    };\n",
              "\n",
              "    function loadScript(lib) {\n",
              "      return new Promise(function(resolve, reject) {\n",
              "        var s = document.createElement('script');\n",
              "        s.src = paths[lib];\n",
              "        s.async = true;\n",
              "        s.onload = () => resolve(paths[lib]);\n",
              "        s.onerror = () => reject(`Error loading script: ${paths[lib]}`);\n",
              "        document.getElementsByTagName(\"head\")[0].appendChild(s);\n",
              "      });\n",
              "    }\n",
              "\n",
              "    function showError(err) {\n",
              "      outputDiv.innerHTML = `<div class=\"error\" style=\"color:red;\">${err}</div>`;\n",
              "      throw err;\n",
              "    }\n",
              "\n",
              "    function displayChart(vegaEmbed) {\n",
              "      vegaEmbed(outputDiv, spec, embedOpt)\n",
              "        .catch(err => showError(`Javascript Error: ${err.message}<br>This usually means there's a typo in your chart specification. See the javascript console for the full traceback.`));\n",
              "    }\n",
              "\n",
              "    if(typeof define === \"function\" && define.amd) {\n",
              "      requirejs.config({paths});\n",
              "      require([\"vega-embed\"], displayChart, err => showError(`Error loading script: ${err.message}`));\n",
              "    } else if (typeof vegaEmbed === \"function\") {\n",
              "      displayChart(vegaEmbed);\n",
              "    } else {\n",
              "      loadScript(\"vega\")\n",
              "        .then(() => loadScript(\"vega-lite\"))\n",
              "        .then(() => loadScript(\"vega-embed\"))\n",
              "        .catch(showError)\n",
              "        .then(() => displayChart(vegaEmbed));\n",
              "    }\n",
              "  })({\"config\": {\"view\": {\"continuousWidth\": 400, \"continuousHeight\": 300}}, \"data\": {\"name\": \"data-49cd4247bbb38dfc30fd3e023056ec45\"}, \"mark\": \"circle\", \"encoding\": {\"size\": {\"type\": \"quantitative\", \"field\": \"mobilty\", \"legend\": {\"title\": \"Daily mobilty\"}, \"scale\": {\"range\": [0, 500]}}, \"x\": {\"type\": \"temporal\", \"field\": \"date\"}, \"y\": {\"type\": \"quantitative\", \"field\": \"mobilty\"}}, \"height\": 300, \"width\": 3000, \"$schema\": \"https://vega.github.io/schema/vega-lite/v4.8.1.json\", \"datasets\": {\"data-49cd4247bbb38dfc30fd3e023056ec45\": [{\"date\": \"2020-02-11\", \"new_cases\": 1, \"total_cases\": 1, \"active_cases\": 1.0, \"mobilty\": 109.07, \"dose1\": 0, \"dose2\": 0, \"new_deaths\": 0, \"total_deaths\": 0}, {\"date\": \"2020-02-12\", \"new_cases\": 0, \"total_cases\": 1, \"active_cases\": 0.0, \"mobilty\": 111.2, \"dose1\": 0, \"dose2\": 0, \"new_deaths\": 0, \"total_deaths\": 0}, {\"date\": \"2020-02-13\", \"new_cases\": 0, \"total_cases\": 1, \"active_cases\": 0.0, \"mobilty\": 110.18, \"dose1\": 0, \"dose2\": 0, \"new_deaths\": 0, \"total_deaths\": 0}, {\"date\": \"2020-02-14\", \"new_cases\": 0, \"total_cases\": 1, \"active_cases\": 0.0, \"mobilty\": 123.91, \"dose1\": 0, \"dose2\": 0, \"new_deaths\": 0, \"total_deaths\": 0}, {\"date\": \"2020-02-15\", \"new_cases\": 0, \"total_cases\": 1, \"active_cases\": 0.0, \"mobilty\": 131.79, \"dose1\": 0, \"dose2\": 0, \"new_deaths\": 0, \"total_deaths\": 0}, {\"date\": \"2020-02-16\", \"new_cases\": 0, \"total_cases\": 1, \"active_cases\": 0.0, \"mobilty\": 116.64, \"dose1\": 0, \"dose2\": 0, \"new_deaths\": 0, \"total_deaths\": 0}, {\"date\": \"2020-02-17\", \"new_cases\": 0, \"total_cases\": 1, \"active_cases\": 0.0, \"mobilty\": 123.55, \"dose1\": 0, \"dose2\": 0, \"new_deaths\": 0, \"total_deaths\": 0}, {\"date\": \"2020-02-18\", \"new_cases\": 0, \"total_cases\": 1, \"active_cases\": 0.0, \"mobilty\": 122.11, \"dose1\": 0, \"dose2\": 0, \"new_deaths\": 0, \"total_deaths\": 0}, {\"date\": \"2020-02-19\", \"new_cases\": 0, \"total_cases\": 1, \"active_cases\": 0.0, \"mobilty\": 125.12, \"dose1\": 0, \"dose2\": 0, \"new_deaths\": 0, \"total_deaths\": 0}, {\"date\": \"2020-02-20\", \"new_cases\": 0, \"total_cases\": 1, \"active_cases\": 0.0, \"mobilty\": 124.27, \"dose1\": 0, \"dose2\": 0, \"new_deaths\": 0, \"total_deaths\": 0}, {\"date\": \"2020-02-21\", \"new_cases\": 0, \"total_cases\": 1, \"active_cases\": 0.0, \"mobilty\": 133.95, \"dose1\": 0, \"dose2\": 0, \"new_deaths\": 0, \"total_deaths\": 0}, {\"date\": \"2020-02-22\", \"new_cases\": 0, \"total_cases\": 1, \"active_cases\": 0.0, \"mobilty\": 141.61, \"dose1\": 0, \"dose2\": 0, \"new_deaths\": 0, \"total_deaths\": 0}, {\"date\": \"2020-02-23\", \"new_cases\": 0, \"total_cases\": 1, \"active_cases\": 0.0, \"mobilty\": 111.26, \"dose1\": 0, \"dose2\": 0, \"new_deaths\": 0, \"total_deaths\": 0}, {\"date\": \"2020-02-24\", \"new_cases\": 1, \"total_cases\": 2, \"active_cases\": 1.0, \"mobilty\": 107.64, \"dose1\": 0, \"dose2\": 0, \"new_deaths\": 0, \"total_deaths\": 0}, {\"date\": \"2020-02-25\", \"new_cases\": 3, \"total_cases\": 5, \"active_cases\": 3.0, \"mobilty\": 109.44, \"dose1\": 0, \"dose2\": 0, \"new_deaths\": 0, \"total_deaths\": 0}, {\"date\": \"2020-02-26\", \"new_cases\": 2, \"total_cases\": 7, \"active_cases\": 2.0, \"mobilty\": 110.17, \"dose1\": 0, \"dose2\": 0, \"new_deaths\": 0, \"total_deaths\": 0}, {\"date\": \"2020-02-27\", \"new_cases\": 2, \"total_cases\": 9, \"active_cases\": 2.0, \"mobilty\": 111.27, \"dose1\": 0, \"dose2\": 0, \"new_deaths\": 0, \"total_deaths\": 0}, {\"date\": \"2020-02-28\", \"new_cases\": 3, \"total_cases\": 12, \"active_cases\": 3.0, \"mobilty\": 122.41, \"dose1\": 0, \"dose2\": 0, \"new_deaths\": 0, \"total_deaths\": 0}, {\"date\": \"2020-02-29\", \"new_cases\": 1, \"total_cases\": 13, \"active_cases\": 1.0, \"mobilty\": 129.48, \"dose1\": 0, \"dose2\": 0, \"new_deaths\": 0, \"total_deaths\": 0}, {\"date\": \"2020-03-01\", \"new_cases\": 4, \"total_cases\": 17, \"active_cases\": 4.0, \"mobilty\": 109.14, \"dose1\": 0, \"dose2\": 0, \"new_deaths\": 0, \"total_deaths\": 0}, {\"date\": \"2020-03-02\", \"new_cases\": 12, \"total_cases\": 29, \"active_cases\": 12.0, \"mobilty\": 102.74, \"dose1\": 0, \"dose2\": 0, \"new_deaths\": 0, \"total_deaths\": 0}, {\"date\": \"2020-03-03\", \"new_cases\": 6, \"total_cases\": 35, \"active_cases\": 6.0, \"mobilty\": 105.44, \"dose1\": 0, \"dose2\": 0, \"new_deaths\": 0, \"total_deaths\": 0}, {\"date\": \"2020-03-04\", \"new_cases\": 18, \"total_cases\": 53, \"active_cases\": 18.0, \"mobilty\": 106.93, \"dose1\": 0, \"dose2\": 0, \"new_deaths\": 0, \"total_deaths\": 0}, {\"date\": \"2020-03-05\", \"new_cases\": 14, \"total_cases\": 67, \"active_cases\": 14.0, \"mobilty\": 106.97, \"dose1\": 0, \"dose2\": 0, \"new_deaths\": 0, \"total_deaths\": 0}, {\"date\": \"2020-03-06\", \"new_cases\": 24, \"total_cases\": 91, \"active_cases\": 24.0, \"mobilty\": 118.77, \"dose1\": 0, \"dose2\": 0, \"new_deaths\": 1, \"total_deaths\": 1}, {\"date\": \"2020-03-07\", \"new_cases\": 15, \"total_cases\": 106, \"active_cases\": 15.0, \"mobilty\": 127.78, \"dose1\": 0, \"dose2\": 0, \"new_deaths\": 0, \"total_deaths\": 1}, {\"date\": \"2020-03-08\", \"new_cases\": 22, \"total_cases\": 128, \"active_cases\": 22.0, \"mobilty\": 100.86, \"dose1\": 0, \"dose2\": 0, \"new_deaths\": 0, \"total_deaths\": 1}, {\"date\": \"2020-03-09\", \"new_cases\": 53, \"total_cases\": 181, \"active_cases\": 53.0, \"mobilty\": 98.05, \"dose1\": 0, \"dose2\": 0, \"new_deaths\": 1, \"total_deaths\": 2}, {\"date\": \"2020-03-10\", \"new_cases\": 92, \"total_cases\": 273, \"active_cases\": 92.0, \"mobilty\": 99.47, \"dose1\": 0, \"dose2\": 0, \"new_deaths\": 0, \"total_deaths\": 2}, {\"date\": \"2020-03-11\", \"new_cases\": 183, \"total_cases\": 456, \"active_cases\": 183.0, \"mobilty\": 94.33, \"dose1\": 0, \"dose2\": 0, \"new_deaths\": 5, \"total_deaths\": 7}, {\"date\": \"2020-03-12\", \"new_cases\": 164, \"total_cases\": 620, \"active_cases\": 164.0, \"mobilty\": 86.28, \"dose1\": 0, \"dose2\": 0, \"new_deaths\": 6, \"total_deaths\": 13}, {\"date\": \"2020-03-13\", \"new_cases\": 135, \"total_cases\": 755, \"active_cases\": 135.0, \"mobilty\": 89.95, \"dose1\": 0, \"dose2\": 0, \"new_deaths\": 10, \"total_deaths\": 23}, {\"date\": \"2020-03-14\", \"new_cases\": 150, \"total_cases\": 905, \"active_cases\": 150.0, \"mobilty\": 94.84, \"dose1\": 0, \"dose2\": 0, \"new_deaths\": 13, \"total_deaths\": 36}, {\"date\": \"2020-03-15\", \"new_cases\": 165, \"total_cases\": 1070, \"active_cases\": 165.0, \"mobilty\": 67.46, \"dose1\": 0, \"dose2\": 0, \"new_deaths\": 9, \"total_deaths\": 45}, {\"date\": \"2020-03-16\", \"new_cases\": 233, \"total_cases\": 1303, \"active_cases\": 233.0, \"mobilty\": 57.95, \"dose1\": 0, \"dose2\": 0, \"new_deaths\": 15, \"total_deaths\": 60}, {\"date\": \"2020-03-17\", \"new_cases\": 311, \"total_cases\": 1614, \"active_cases\": 160.29, \"mobilty\": 46.33, \"dose1\": 0, \"dose2\": 0, \"new_deaths\": 23, \"total_deaths\": 83}, {\"date\": \"2020-03-18\", \"new_cases\": 355, \"total_cases\": 1969, \"active_cases\": 170.04, \"mobilty\": 40.32, \"dose1\": 0, \"dose2\": 0, \"new_deaths\": 28, \"total_deaths\": 111}, {\"date\": \"2020-03-19\", \"new_cases\": 332, \"total_cases\": 2301, \"active_cases\": 240.0, \"mobilty\": 38.7, \"dose1\": 0, \"dose2\": 0, \"new_deaths\": 25, \"total_deaths\": 136}, {\"date\": \"2020-03-20\", \"new_cases\": 426, \"total_cases\": 2727, \"active_cases\": 272.0, \"mobilty\": 34.64, \"dose1\": 0, \"dose2\": 0, \"new_deaths\": 44, \"total_deaths\": 180}, {\"date\": \"2020-03-21\", \"new_cases\": 350, \"total_cases\": 3077, \"active_cases\": 311.0, \"mobilty\": 28.01, \"dose1\": 0, \"dose2\": 0, \"new_deaths\": 49, \"total_deaths\": 229}, {\"date\": \"2020-03-22\", \"new_cases\": 437, \"total_cases\": 3514, \"active_cases\": 335.0, \"mobilty\": 25.9, \"dose1\": 0, \"dose2\": 0, \"new_deaths\": 54, \"total_deaths\": 283}, {\"date\": \"2020-03-23\", \"new_cases\": 687, \"total_cases\": 4201, \"active_cases\": 505.0, \"mobilty\": 24.44, \"dose1\": 0, \"dose2\": 0, \"new_deaths\": 63, \"total_deaths\": 346}, {\"date\": \"2020-03-24\", \"new_cases\": 633, \"total_cases\": 4834, \"active_cases\": 637.0, \"mobilty\": 17.15, \"dose1\": 0, \"dose2\": 0, \"new_deaths\": 86, \"total_deaths\": 432}, {\"date\": \"2020-03-25\", \"new_cases\": 760, \"total_cases\": 5594, \"active_cases\": 675.0, \"mobilty\": 15.43, \"dose1\": 0, \"dose2\": 0, \"new_deaths\": 112, \"total_deaths\": 544}, {\"date\": \"2020-03-26\", \"new_cases\": 766, \"total_cases\": 6360, \"active_cases\": 519.0, \"mobilty\": 14.49, \"dose1\": 0, \"dose2\": 0, \"new_deaths\": 130, \"total_deaths\": 674}, {\"date\": \"2020-03-27\", \"new_cases\": 817, \"total_cases\": 7177, \"active_cases\": 639.0, \"mobilty\": 14.05, \"dose1\": 0, \"dose2\": 0, \"new_deaths\": 130, \"total_deaths\": 804}, {\"date\": \"2020-03-28\", \"new_cases\": 576, \"total_cases\": 7753, \"active_cases\": 551.0, \"mobilty\": 13.6, \"dose1\": 0, \"dose2\": 0, \"new_deaths\": 123, \"total_deaths\": 927}, {\"date\": \"2020-03-29\", \"new_cases\": 598, \"total_cases\": 8351, \"active_cases\": 672.0, \"mobilty\": 13.3, \"dose1\": 0, \"dose2\": 0, \"new_deaths\": 145, \"total_deaths\": 1072}, {\"date\": \"2020-03-30\", \"new_cases\": 867, \"total_cases\": 9218, \"active_cases\": 883.0, \"mobilty\": 14.16, \"dose1\": 0, \"dose2\": 0, \"new_deaths\": 151, \"total_deaths\": 1223}, {\"date\": \"2020-03-31\", \"new_cases\": 935, \"total_cases\": 10153, \"active_cases\": 645.0, \"mobilty\": 13.92, \"dose1\": 0, \"dose2\": 0, \"new_deaths\": 183, \"total_deaths\": 1406}, {\"date\": \"2020-04-01\", \"new_cases\": 979, \"total_cases\": 11132, \"active_cases\": 767.0, \"mobilty\": 13.66, \"dose1\": 0, \"dose2\": 0, \"new_deaths\": 202, \"total_deaths\": 1608}, {\"date\": \"2020-04-02\", \"new_cases\": 1070, \"total_cases\": 12202, \"active_cases\": 835.0, \"mobilty\": 13.65, \"dose1\": 0, \"dose2\": 0, \"new_deaths\": 191, \"total_deaths\": 1799}, {\"date\": \"2020-04-03\", \"new_cases\": 981, \"total_cases\": 13183, \"active_cases\": 647.0, \"mobilty\": 13.36, \"dose1\": 0, \"dose2\": 0, \"new_deaths\": 199, \"total_deaths\": 1998}, {\"date\": \"2020-04-04\", \"new_cases\": 767, \"total_cases\": 13950, \"active_cases\": 733.0, \"mobilty\": 12.51, \"dose1\": 0, \"dose2\": 0, \"new_deaths\": 231, \"total_deaths\": 2229}, {\"date\": \"2020-04-05\", \"new_cases\": 633, \"total_cases\": 14583, \"active_cases\": 732.0, \"mobilty\": 12.83, \"dose1\": 0, \"dose2\": 0, \"new_deaths\": 195, \"total_deaths\": 2424}, {\"date\": \"2020-04-06\", \"new_cases\": 857, \"total_cases\": 15440, \"active_cases\": 743.0, \"mobilty\": 13.65, \"dose1\": 0, \"dose2\": 0, \"new_deaths\": 198, \"total_deaths\": 2622}, {\"date\": \"2020-04-07\", \"new_cases\": 950, \"total_cases\": 16390, \"active_cases\": 722.0, \"mobilty\": 13.36, \"dose1\": 0, \"dose2\": 0, \"new_deaths\": 220, \"total_deaths\": 2842}, {\"date\": \"2020-04-08\", \"new_cases\": 874, \"total_cases\": 17264, \"active_cases\": 744.0, \"mobilty\": 13.18, \"dose1\": 0, \"dose2\": 0, \"new_deaths\": 239, \"total_deaths\": 3081}, {\"date\": \"2020-04-09\", \"new_cases\": 800, \"total_cases\": 18064, \"active_cases\": 554.0, \"mobilty\": 13.25, \"dose1\": 0, \"dose2\": 0, \"new_deaths\": 207, \"total_deaths\": 3288}, {\"date\": \"2020-04-10\", \"new_cases\": 619, \"total_cases\": 18683, \"active_cases\": 531.0, \"mobilty\": 12.7, \"dose1\": 0, \"dose2\": 0, \"new_deaths\": 171, \"total_deaths\": 3459}, {\"date\": \"2020-04-11\", \"new_cases\": 519, \"total_cases\": 19202, \"active_cases\": 490.0, \"mobilty\": 12.1, \"dose1\": 0, \"dose2\": 0, \"new_deaths\": 178, \"total_deaths\": 3637}, {\"date\": \"2020-04-12\", \"new_cases\": 501, \"total_cases\": 19703, \"active_cases\": 384.0, \"mobilty\": 11.21, \"dose1\": 0, \"dose2\": 0, \"new_deaths\": 159, \"total_deaths\": 3796}, {\"date\": \"2020-04-13\", \"new_cases\": 596, \"total_cases\": 20299, \"active_cases\": 416.0, \"mobilty\": 12.72, \"dose1\": 0, \"dose2\": 0, \"new_deaths\": 166, \"total_deaths\": 3962}, {\"date\": \"2020-04-14\", \"new_cases\": 595, \"total_cases\": 20894, \"active_cases\": 447.0, \"mobilty\": 13.72, \"dose1\": 0, \"dose2\": 0, \"new_deaths\": 143, \"total_deaths\": 4105}, {\"date\": \"2020-04-15\", \"new_cases\": 659, \"total_cases\": 21553, \"active_cases\": 412.0, \"mobilty\": 13.91, \"dose1\": 0, \"dose2\": 0, \"new_deaths\": 143, \"total_deaths\": 4248}, {\"date\": \"2020-04-16\", \"new_cases\": 574, \"total_cases\": 22127, \"active_cases\": 388.0, \"mobilty\": 13.62, \"dose1\": 0, \"dose2\": 0, \"new_deaths\": 140, \"total_deaths\": 4388}, {\"date\": \"2020-04-17\", \"new_cases\": 580, \"total_cases\": 22707, \"active_cases\": 358.0, \"mobilty\": 13.17, \"dose1\": 0, \"dose2\": 0, \"new_deaths\": 101, \"total_deaths\": 4489}, {\"date\": \"2020-04-18\", \"new_cases\": 400, \"total_cases\": 23107, \"active_cases\": 283.0, \"mobilty\": 12.6, \"dose1\": 0, \"dose2\": 0, \"new_deaths\": 101, \"total_deaths\": 4590}, {\"date\": \"2020-04-19\", \"new_cases\": 395, \"total_cases\": 23502, \"active_cases\": 290.0, \"mobilty\": 13.58, \"dose1\": 0, \"dose2\": 0, \"new_deaths\": 104, \"total_deaths\": 4694}, {\"date\": \"2020-04-20\", \"new_cases\": 431, \"total_cases\": 23933, \"active_cases\": 308.0, \"mobilty\": 14.78, \"dose1\": 0, \"dose2\": 0, \"new_deaths\": 96, \"total_deaths\": 4790}, {\"date\": \"2020-04-21\", \"new_cases\": 466, \"total_cases\": 24399, \"active_cases\": 288.0, \"mobilty\": 14.7, \"dose1\": 0, \"dose2\": 0, \"new_deaths\": 96, \"total_deaths\": 4886}, {\"date\": \"2020-04-22\", \"new_cases\": 399, \"total_cases\": 24798, \"active_cases\": 225.0, \"mobilty\": 14.73, \"dose1\": 0, \"dose2\": 0, \"new_deaths\": 109, \"total_deaths\": 4995}, {\"date\": \"2020-04-23\", \"new_cases\": 520, \"total_cases\": 25318, \"active_cases\": 266.0, \"mobilty\": 14.85, \"dose1\": 0, \"dose2\": 0, \"new_deaths\": 77, \"total_deaths\": 5072}, {\"date\": \"2020-04-24\", \"new_cases\": 377, \"total_cases\": 25695, \"active_cases\": 171.0, \"mobilty\": 14.57, \"dose1\": 0, \"dose2\": 0, \"new_deaths\": 71, \"total_deaths\": 5143}, {\"date\": \"2020-04-25\", \"new_cases\": 333, \"total_cases\": 26028, \"active_cases\": 137.0, \"mobilty\": 14.42, \"dose1\": 0, \"dose2\": 0, \"new_deaths\": 58, \"total_deaths\": 5201}, {\"date\": \"2020-04-26\", \"new_cases\": 311, \"total_cases\": 26339, \"active_cases\": 187.0, \"mobilty\": 15.21, \"dose1\": 0, \"dose2\": 0, \"new_deaths\": 53, \"total_deaths\": 5254}, {\"date\": \"2020-04-27\", \"new_cases\": 418, \"total_cases\": 26757, \"active_cases\": 261.0, \"mobilty\": 15.41, \"dose1\": 0, \"dose2\": 0, \"new_deaths\": 52, \"total_deaths\": 5306}, {\"date\": \"2020-04-28\", \"new_cases\": 312, \"total_cases\": 27069, \"active_cases\": 248.0, \"mobilty\": 14.57, \"dose1\": 0, \"dose2\": 0, \"new_deaths\": 44, \"total_deaths\": 5350}, {\"date\": \"2020-04-29\", \"new_cases\": 428, \"total_cases\": 27497, \"active_cases\": 212.0, \"mobilty\": 15.04, \"dose1\": 0, \"dose2\": 0, \"new_deaths\": 45, \"total_deaths\": 5395}, {\"date\": \"2020-04-30\", \"new_cases\": 424, \"total_cases\": 27921, \"active_cases\": 183.0, \"mobilty\": 14.84, \"dose1\": 0, \"dose2\": 0, \"new_deaths\": 40, \"total_deaths\": 5435}, {\"date\": \"2020-05-01\", \"new_cases\": 354, \"total_cases\": 28275, \"active_cases\": 201.0, \"mobilty\": 15.62, \"dose1\": 0, \"dose2\": 0, \"new_deaths\": 41, \"total_deaths\": 5476}, {\"date\": \"2020-05-02\", \"new_cases\": 247, \"total_cases\": 28522, \"active_cases\": 150.0, \"mobilty\": 15.94, \"dose1\": 0, \"dose2\": 0, \"new_deaths\": 41, \"total_deaths\": 5517}, {\"date\": \"2020-05-03\", \"new_cases\": 167, \"total_cases\": 28689, \"active_cases\": 157.0, \"mobilty\": 16.21, \"dose1\": 0, \"dose2\": 0, \"new_deaths\": 36, \"total_deaths\": 5553}, {\"date\": \"2020-05-04\", \"new_cases\": 248, \"total_cases\": 28937, \"active_cases\": 169.0, \"mobilty\": 17.38, \"dose1\": 0, \"dose2\": 0, \"new_deaths\": 30, \"total_deaths\": 5583}, {\"date\": \"2020-05-05\", \"new_cases\": 216, \"total_cases\": 29153, \"active_cases\": 178.0, \"mobilty\": 17.57, \"dose1\": 0, \"dose2\": 0, \"new_deaths\": 25, \"total_deaths\": 5608}, {\"date\": \"2020-05-06\", \"new_cases\": 266, \"total_cases\": 29419, \"active_cases\": 216.0, \"mobilty\": 17.49, \"dose1\": 0, \"dose2\": 0, \"new_deaths\": 37, \"total_deaths\": 5645}, {\"date\": \"2020-05-07\", \"new_cases\": 273, \"total_cases\": 29692, \"active_cases\": 202.0, \"mobilty\": 17.67, \"dose1\": 0, \"dose2\": 0, \"new_deaths\": 37, \"total_deaths\": 5682}, {\"date\": \"2020-05-08\", \"new_cases\": 206, \"total_cases\": 29898, \"active_cases\": 99.0, \"mobilty\": 17.78, \"dose1\": 0, \"dose2\": 0, \"new_deaths\": 31, \"total_deaths\": 5713}, {\"date\": \"2020-05-09\", \"new_cases\": 128, \"total_cases\": 30026, \"active_cases\": 85.0, \"mobilty\": 18.45, \"dose1\": 0, \"dose2\": 0, \"new_deaths\": 23, \"total_deaths\": 5736}, {\"date\": \"2020-05-10\", \"new_cases\": 126, \"total_cases\": 30152, \"active_cases\": 86.0, \"mobilty\": 17.92, \"dose1\": 0, \"dose2\": 0, \"new_deaths\": 26, \"total_deaths\": 5762}, {\"date\": \"2020-05-11\", \"new_cases\": 162, \"total_cases\": 30314, \"active_cases\": 91.0, \"mobilty\": 17.7514285714286, \"dose1\": 0, \"dose2\": 0, \"new_deaths\": 18, \"total_deaths\": 5780}, {\"date\": \"2020-05-12\", \"new_cases\": 195, \"total_cases\": 30509, \"active_cases\": 80.0, \"mobilty\": 21.441428571428602, \"dose1\": 0, \"dose2\": 0, \"new_deaths\": 18, \"total_deaths\": 5798}, {\"date\": \"2020-05-13\", \"new_cases\": 204, \"total_cases\": 30713, \"active_cases\": 91.0, \"mobilty\": 19.95, \"dose1\": 0, \"dose2\": 0, \"new_deaths\": 17, \"total_deaths\": 5815}, {\"date\": \"2020-05-14\", \"new_cases\": 158, \"total_cases\": 30871, \"active_cases\": 91.0, \"mobilty\": 19.73, \"dose1\": 0, \"dose2\": 0, \"new_deaths\": 20, \"total_deaths\": 5835}, {\"date\": \"2020-05-15\", \"new_cases\": 132, \"total_cases\": 31003, \"active_cases\": 77.0, \"mobilty\": 20.81, \"dose1\": 0, \"dose2\": 0, \"new_deaths\": 19, \"total_deaths\": 5854}, {\"date\": \"2020-05-16\", \"new_cases\": 74, \"total_cases\": 31077, \"active_cases\": 59.0, \"mobilty\": 20.38, \"dose1\": 0, \"dose2\": 0, \"new_deaths\": 14, \"total_deaths\": 5868}, {\"date\": \"2020-05-17\", \"new_cases\": 78, \"total_cases\": 31155, \"active_cases\": 51.0, \"mobilty\": 21.57, \"dose1\": 0, \"dose2\": 0, \"new_deaths\": 16, \"total_deaths\": 5884}, {\"date\": \"2020-05-18\", \"new_cases\": 113, \"total_cases\": 31268, \"active_cases\": 74.0, \"mobilty\": 23.72, \"dose1\": 0, \"dose2\": 0, \"new_deaths\": 11, \"total_deaths\": 5895}, {\"date\": \"2020-05-19\", \"new_cases\": 129, \"total_cases\": 31397, \"active_cases\": 89.0, \"mobilty\": 23.93, \"dose1\": 0, \"dose2\": 0, \"new_deaths\": 14, \"total_deaths\": 5909}, {\"date\": \"2020-05-20\", \"new_cases\": 141, \"total_cases\": 31538, \"active_cases\": 71.0, \"mobilty\": 25.82, \"dose1\": 0, \"dose2\": 0, \"new_deaths\": 19, \"total_deaths\": 5928}, {\"date\": \"2020-05-21\", \"new_cases\": 157, \"total_cases\": 31695, \"active_cases\": 76.0, \"mobilty\": 24.67, \"dose1\": 0, \"dose2\": 0, \"new_deaths\": 12, \"total_deaths\": 5940}, {\"date\": \"2020-05-22\", \"new_cases\": 82, \"total_cases\": 31777, \"active_cases\": 77.0, \"mobilty\": 25.06, \"dose1\": 0, \"dose2\": 0, \"new_deaths\": 10, \"total_deaths\": 5950}, {\"date\": \"2020-05-23\", \"new_cases\": 65, \"total_cases\": 31842, \"active_cases\": 43.0, \"mobilty\": 24.28, \"dose1\": 0, \"dose2\": 0, \"new_deaths\": 6, \"total_deaths\": 5956}, {\"date\": \"2020-05-24\", \"new_cases\": 50, \"total_cases\": 31892, \"active_cases\": 41.0, \"mobilty\": 24.9, \"dose1\": 0, \"dose2\": 0, \"new_deaths\": 7, \"total_deaths\": 5963}, {\"date\": \"2020-05-25\", \"new_cases\": 57, \"total_cases\": 31949, \"active_cases\": 49.0, \"mobilty\": 29.48, \"dose1\": 0, \"dose2\": 0, \"new_deaths\": 9, \"total_deaths\": 5972}, {\"date\": \"2020-05-26\", \"new_cases\": 66, \"total_cases\": 32015, \"active_cases\": 67.0, \"mobilty\": 29.31, \"dose1\": 0, \"dose2\": 0, \"new_deaths\": 14, \"total_deaths\": 5986}, {\"date\": \"2020-05-27\", \"new_cases\": 85, \"total_cases\": 32100, \"active_cases\": 69.0, \"mobilty\": 28.33, \"dose1\": 0, \"dose2\": 0, \"new_deaths\": 7, \"total_deaths\": 5993}, {\"date\": \"2020-05-28\", \"new_cases\": 75, \"total_cases\": 32175, \"active_cases\": 57.0, \"mobilty\": 29.02, \"dose1\": 0, \"dose2\": 0, \"new_deaths\": 8, \"total_deaths\": 6001}, {\"date\": \"2020-05-29\", \"new_cases\": 56, \"total_cases\": 32231, \"active_cases\": 51.0, \"mobilty\": 30.22, \"dose1\": 0, \"dose2\": 0, \"new_deaths\": 7, \"total_deaths\": 6008}, {\"date\": \"2020-05-30\", \"new_cases\": 39, \"total_cases\": 32270, \"active_cases\": 30.0, \"mobilty\": 31.42, \"dose1\": 0, \"dose2\": 0, \"new_deaths\": 12, \"total_deaths\": 6020}, {\"date\": \"2020-05-31\", \"new_cases\": 38, \"total_cases\": 32308, \"active_cases\": 42.0, \"mobilty\": 31.19, \"dose1\": 0, \"dose2\": 0, \"new_deaths\": 6, \"total_deaths\": 6026}, {\"date\": \"2020-06-01\", \"new_cases\": 49, \"total_cases\": 32357, \"active_cases\": 48.0, \"mobilty\": 32.18, \"dose1\": 0, \"dose2\": 0, \"new_deaths\": 10, \"total_deaths\": 6036}, {\"date\": \"2020-06-02\", \"new_cases\": 49, \"total_cases\": 32406, \"active_cases\": 51.0, \"mobilty\": 32.59, \"dose1\": 0, \"dose2\": 0, \"new_deaths\": 8, \"total_deaths\": 6044}, {\"date\": \"2020-06-03\", \"new_cases\": 79, \"total_cases\": 32485, \"active_cases\": 68.0, \"mobilty\": 31.34, \"dose1\": 0, \"dose2\": 0, \"new_deaths\": 6, \"total_deaths\": 6050}, {\"date\": \"2020-06-04\", \"new_cases\": 57, \"total_cases\": 32542, \"active_cases\": 58.0, \"mobilty\": 29.03, \"dose1\": 0, \"dose2\": 0, \"new_deaths\": 8, \"total_deaths\": 6058}, {\"date\": \"2020-06-05\", \"new_cases\": 45, \"total_cases\": 32587, \"active_cases\": 50.0, \"mobilty\": 30.35, \"dose1\": 0, \"dose2\": 0, \"new_deaths\": 4, \"total_deaths\": 6062}, {\"date\": \"2020-06-06\", \"new_cases\": 47, \"total_cases\": 32634, \"active_cases\": 46.0, \"mobilty\": 31.14, \"dose1\": 0, \"dose2\": 0, \"new_deaths\": 0, \"total_deaths\": 6062}, {\"date\": \"2020-06-07\", \"new_cases\": 45, \"total_cases\": 32679, \"active_cases\": 56.0, \"mobilty\": 30.97, \"dose1\": 0, \"dose2\": 0, \"new_deaths\": 5, \"total_deaths\": 6067}, {\"date\": \"2020-06-08\", \"new_cases\": 57, \"total_cases\": 32736, \"active_cases\": 69.0, \"mobilty\": 31.01, \"dose1\": 0, \"dose2\": 0, \"new_deaths\": 5, \"total_deaths\": 6072}, {\"date\": \"2020-06-09\", \"new_cases\": 71, \"total_cases\": 32807, \"active_cases\": 35.0, \"mobilty\": 31.85, \"dose1\": 0, \"dose2\": 0, \"new_deaths\": 5, \"total_deaths\": 6077}, {\"date\": \"2020-06-10\", \"new_cases\": 52, \"total_cases\": 32859, \"active_cases\": 41.0, \"mobilty\": 30.17, \"dose1\": 0, \"dose2\": 0, \"new_deaths\": 8, \"total_deaths\": 6085}, {\"date\": \"2020-06-11\", \"new_cases\": 47, \"total_cases\": 32906, \"active_cases\": 32.0, \"mobilty\": 30.24, \"dose1\": 0, \"dose2\": 0, \"new_deaths\": 5, \"total_deaths\": 6090}, {\"date\": \"2020-06-12\", \"new_cases\": 53, \"total_cases\": 32959, \"active_cases\": 30.0, \"mobilty\": 33.37, \"dose1\": 0, \"dose2\": 0, \"new_deaths\": 3, \"total_deaths\": 6093}, {\"date\": \"2020-06-13\", \"new_cases\": 39, \"total_cases\": 32998, \"active_cases\": 20.0, \"mobilty\": 36.8, \"dose1\": 0, \"dose2\": 0, \"new_deaths\": 3, \"total_deaths\": 6096}, {\"date\": \"2020-06-14\", \"new_cases\": 31, \"total_cases\": 33029, \"active_cases\": 22.0, \"mobilty\": 35.0, \"dose1\": 0, \"dose2\": 0, \"new_deaths\": 3, \"total_deaths\": 6099}, {\"date\": \"2020-06-15\", \"new_cases\": 41, \"total_cases\": 33070, \"active_cases\": 49.0, \"mobilty\": 36.31, \"dose1\": 0, \"dose2\": 0, \"new_deaths\": 1, \"total_deaths\": 6100}, {\"date\": \"2020-06-16\", \"new_cases\": 47, \"total_cases\": 33117, \"active_cases\": 56.0, \"mobilty\": 35.46, \"dose1\": 0, \"dose2\": 0, \"new_deaths\": 2, \"total_deaths\": 6102}, {\"date\": \"2020-06-17\", \"new_cases\": 42, \"total_cases\": 33159, \"active_cases\": 56.0, \"mobilty\": 34.33, \"dose1\": 0, \"dose2\": 0, \"new_deaths\": 1, \"total_deaths\": 6103}, {\"date\": \"2020-06-18\", \"new_cases\": 46, \"total_cases\": 33205, \"active_cases\": 50.0, \"mobilty\": 35.35, \"dose1\": 0, \"dose2\": 0, \"new_deaths\": 2, \"total_deaths\": 6105}, {\"date\": \"2020-06-19\", \"new_cases\": 37, \"total_cases\": 33242, \"active_cases\": 47.0, \"mobilty\": 38.17, \"dose1\": 0, \"dose2\": 0, \"new_deaths\": 5, \"total_deaths\": 6110}, {\"date\": \"2020-06-20\", \"new_cases\": 29, \"total_cases\": 33271, \"active_cases\": 19.0, \"mobilty\": 41.19, \"dose1\": 0, \"dose2\": 0, \"new_deaths\": 3, \"total_deaths\": 6113}, {\"date\": \"2020-06-21\", \"new_cases\": 27, \"total_cases\": 33298, \"active_cases\": 25.0, \"mobilty\": 35.95, \"dose1\": 0, \"dose2\": 0, \"new_deaths\": 4, \"total_deaths\": 6117}, {\"date\": \"2020-06-22\", \"new_cases\": 51, \"total_cases\": 33349, \"active_cases\": 60.0, \"mobilty\": 42.1, \"dose1\": 0, \"dose2\": 0, \"new_deaths\": 2, \"total_deaths\": 6119}, {\"date\": \"2020-06-23\", \"new_cases\": 49, \"total_cases\": 33398, \"active_cases\": 69.0, \"mobilty\": 44.45, \"dose1\": 0, \"dose2\": 0, \"new_deaths\": 1, \"total_deaths\": 6120}, {\"date\": \"2020-06-24\", \"new_cases\": 46, \"total_cases\": 33444, \"active_cases\": 51.0, \"mobilty\": 46.58, \"dose1\": 0, \"dose2\": 0, \"new_deaths\": 4, \"total_deaths\": 6124}, {\"date\": \"2020-06-25\", \"new_cases\": 57, \"total_cases\": 33501, \"active_cases\": 47.0, \"mobilty\": 48.25, \"dose1\": 0, \"dose2\": 0, \"new_deaths\": 3, \"total_deaths\": 6127}, {\"date\": \"2020-06-26\", \"new_cases\": 48, \"total_cases\": 33549, \"active_cases\": 39.0, \"mobilty\": 47.16, \"dose1\": 0, \"dose2\": 0, \"new_deaths\": 2, \"total_deaths\": 6129}, {\"date\": \"2020-06-27\", \"new_cases\": 32, \"total_cases\": 33581, \"active_cases\": 29.0, \"mobilty\": 44.12, \"dose1\": 0, \"dose2\": 0, \"new_deaths\": 1, \"total_deaths\": 6130}, {\"date\": \"2020-06-28\", \"new_cases\": 22, \"total_cases\": 33603, \"active_cases\": 18.0, \"mobilty\": 41.37, \"dose1\": 0, \"dose2\": 0, \"new_deaths\": 2, \"total_deaths\": 6132}, {\"date\": \"2020-06-29\", \"new_cases\": 58, \"total_cases\": 33661, \"active_cases\": 20.0, \"mobilty\": 43.61, \"dose1\": 0, \"dose2\": 0, \"new_deaths\": 2, \"total_deaths\": 6134}, {\"date\": \"2020-06-30\", \"new_cases\": 52, \"total_cases\": 33713, \"active_cases\": 28.0, \"mobilty\": 42.79, \"dose1\": 0, \"dose2\": 0, \"new_deaths\": 1, \"total_deaths\": 6135}, {\"date\": \"2020-07-01\", \"new_cases\": 42, \"total_cases\": 33755, \"active_cases\": 53.0, \"mobilty\": 43.47, \"dose1\": 0, \"dose2\": 0, \"new_deaths\": 3, \"total_deaths\": 6138}, {\"date\": \"2020-07-02\", \"new_cases\": 40, \"total_cases\": 33795, \"active_cases\": 27.0, \"mobilty\": 43.29, \"dose1\": 0, \"dose2\": 0, \"new_deaths\": 2, \"total_deaths\": 6140}, {\"date\": \"2020-07-03\", \"new_cases\": 38, \"total_cases\": 33833, \"active_cases\": 20.0, \"mobilty\": 47.43, \"dose1\": 0, \"dose2\": 0, \"new_deaths\": 2, \"total_deaths\": 6142}, {\"date\": \"2020-07-04\", \"new_cases\": 32, \"total_cases\": 33865, \"active_cases\": 16.0, \"mobilty\": 50.91, \"dose1\": 0, \"dose2\": 0, \"new_deaths\": 1, \"total_deaths\": 6143}, {\"date\": \"2020-07-05\", \"new_cases\": 51, \"total_cases\": 33916, \"active_cases\": 23.0, \"mobilty\": 48.68, \"dose1\": 0, \"dose2\": 0, \"new_deaths\": 3, \"total_deaths\": 6146}, {\"date\": \"2020-07-06\", \"new_cases\": 54, \"total_cases\": 33970, \"active_cases\": 30.0, \"mobilty\": 51.02, \"dose1\": 0, \"dose2\": 0, \"new_deaths\": 2, \"total_deaths\": 6148}, {\"date\": \"2020-07-07\", \"new_cases\": 60, \"total_cases\": 34030, \"active_cases\": 26.0, \"mobilty\": 50.86, \"dose1\": 0, \"dose2\": 0, \"new_deaths\": 1, \"total_deaths\": 6149}, {\"date\": \"2020-07-08\", \"new_cases\": 57, \"total_cases\": 34087, \"active_cases\": 30.0, \"mobilty\": 49.03, \"dose1\": 0, \"dose2\": 0, \"new_deaths\": 3, \"total_deaths\": 6152}, {\"date\": \"2020-07-09\", \"new_cases\": 54, \"total_cases\": 34141, \"active_cases\": 27.0, \"mobilty\": 50.37, \"dose1\": 0, \"dose2\": 0, \"new_deaths\": 4, \"total_deaths\": 6156}, {\"date\": \"2020-07-10\", \"new_cases\": 41, \"total_cases\": 34182, \"active_cases\": 26.0, \"mobilty\": 56.37, \"dose1\": 0, \"dose2\": 0, \"new_deaths\": 0, \"total_deaths\": 6156}, {\"date\": \"2020-07-11\", \"new_cases\": 20, \"total_cases\": 34202, \"active_cases\": 17.0, \"mobilty\": 58.84, \"dose1\": 0, \"dose2\": 0, \"new_deaths\": 1, \"total_deaths\": 6157}, {\"date\": \"2020-07-12\", \"new_cases\": 38, \"total_cases\": 34240, \"active_cases\": 16.0, \"mobilty\": 53.15, \"dose1\": 0, \"dose2\": 0, \"new_deaths\": 1, \"total_deaths\": 6158}, {\"date\": \"2020-07-13\", \"new_cases\": 85, \"total_cases\": 34325, \"active_cases\": 18.0, \"mobilty\": 54.79, \"dose1\": 0, \"dose2\": 0, \"new_deaths\": 1, \"total_deaths\": 6159}, {\"date\": \"2020-07-14\", \"new_cases\": 62, \"total_cases\": 34387, \"active_cases\": 19.0, \"mobilty\": 55.14, \"dose1\": 0, \"dose2\": 0, \"new_deaths\": 0, \"total_deaths\": 6159}, {\"date\": \"2020-07-15\", \"new_cases\": 76, \"total_cases\": 34463, \"active_cases\": 22.0, \"mobilty\": 56.33, \"dose1\": 0, \"dose2\": 0, \"new_deaths\": 2, \"total_deaths\": 6161}, {\"date\": \"2020-07-16\", \"new_cases\": 70, \"total_cases\": 34533, \"active_cases\": 24.0, \"mobilty\": 57.31, \"dose1\": 0, \"dose2\": 0, \"new_deaths\": 0, \"total_deaths\": 6161}, {\"date\": \"2020-07-17\", \"new_cases\": 48, \"total_cases\": 34581, \"active_cases\": 18.0, \"mobilty\": 66.2, \"dose1\": 0, \"dose2\": 0, \"new_deaths\": 0, \"total_deaths\": 6161}, {\"date\": \"2020-07-18\", \"new_cases\": 47, \"total_cases\": 34628, \"active_cases\": 5.0, \"mobilty\": 66.06, \"dose1\": 0, \"dose2\": 0, \"new_deaths\": 2, \"total_deaths\": 6163}, {\"date\": \"2020-07-19\", \"new_cases\": 41, \"total_cases\": 34669, \"active_cases\": 7.0, \"mobilty\": 54.74, \"dose1\": 0, \"dose2\": 0, \"new_deaths\": 0, \"total_deaths\": 6163}, {\"date\": \"2020-07-20\", \"new_cases\": 97, \"total_cases\": 34766, \"active_cases\": 14.0, \"mobilty\": 60.56, \"dose1\": 0, \"dose2\": 0, \"new_deaths\": 0, \"total_deaths\": 6163}, {\"date\": \"2020-07-21\", \"new_cases\": 81, \"total_cases\": 34847, \"active_cases\": 11.0, \"mobilty\": 60.34, \"dose1\": 0, \"dose2\": 0, \"new_deaths\": 1, \"total_deaths\": 6164}, {\"date\": \"2020-07-22\", \"new_cases\": 80, \"total_cases\": 34927, \"active_cases\": 11.0, \"mobilty\": 61.47, \"dose1\": 0, \"dose2\": 0, \"new_deaths\": 0, \"total_deaths\": 6164}, {\"date\": \"2020-07-23\", \"new_cases\": 70, \"total_cases\": 34997, \"active_cases\": 14.0, \"mobilty\": 61.78, \"dose1\": 0, \"dose2\": 0, \"new_deaths\": 2, \"total_deaths\": 6166}, {\"date\": \"2020-07-24\", \"new_cases\": 83, \"total_cases\": 35080, \"active_cases\": 15.0, \"mobilty\": 66.13, \"dose1\": 0, \"dose2\": 0, \"new_deaths\": 0, \"total_deaths\": 6166}, {\"date\": \"2020-07-25\", \"new_cases\": 56, \"total_cases\": 35136, \"active_cases\": 5.0, \"mobilty\": 64.0, \"dose1\": 0, \"dose2\": 0, \"new_deaths\": 1, \"total_deaths\": 6167}, {\"date\": \"2020-07-26\", \"new_cases\": 65, \"total_cases\": 35201, \"active_cases\": 9.0, \"mobilty\": 59.57, \"dose1\": 0, \"dose2\": 0, \"new_deaths\": 0, \"total_deaths\": 6167}, {\"date\": \"2020-07-27\", \"new_cases\": 100, \"total_cases\": 35301, \"active_cases\": 10.0, \"mobilty\": 61.11, \"dose1\": 0, \"dose2\": 0, \"new_deaths\": 1, \"total_deaths\": 6168}, {\"date\": \"2020-07-28\", \"new_cases\": 100, \"total_cases\": 35401, \"active_cases\": 7.0, \"mobilty\": 63.55, \"dose1\": 0, \"dose2\": 0, \"new_deaths\": 0, \"total_deaths\": 6168}, {\"date\": \"2020-07-29\", \"new_cases\": 99, \"total_cases\": 35500, \"active_cases\": 11.0, \"mobilty\": 65.72, \"dose1\": 0, \"dose2\": 0, \"new_deaths\": 0, \"total_deaths\": 6168}, {\"date\": \"2020-07-30\", \"new_cases\": 102, \"total_cases\": 35602, \"active_cases\": 5.0, \"mobilty\": 67.3, \"dose1\": 0, \"dose2\": 0, \"new_deaths\": 1, \"total_deaths\": 6169}, {\"date\": \"2020-07-31\", \"new_cases\": 73, \"total_cases\": 35675, \"active_cases\": 2.0, \"mobilty\": 71.84, \"dose1\": 0, \"dose2\": 0, \"new_deaths\": 0, \"total_deaths\": 6169}, {\"date\": \"2020-08-01\", \"new_cases\": 58, \"total_cases\": 35733, \"active_cases\": 5.0, \"mobilty\": 70.88, \"dose1\": 0, \"dose2\": 0, \"new_deaths\": 0, \"total_deaths\": 6169}, {\"date\": \"2020-08-02\", \"new_cases\": 75, \"total_cases\": 35808, \"active_cases\": 10.0, \"mobilty\": 63.94, \"dose1\": 0, \"dose2\": 0, \"new_deaths\": 3, \"total_deaths\": 6172}, {\"date\": \"2020-08-03\", \"new_cases\": 87, \"total_cases\": 35895, \"active_cases\": 2.0, \"mobilty\": 67.07, \"dose1\": 0, \"dose2\": 0, \"new_deaths\": 0, \"total_deaths\": 6172}, {\"date\": \"2020-08-04\", \"new_cases\": 104, \"total_cases\": 35999, \"active_cases\": 5.0, \"mobilty\": 67.67, \"dose1\": 0, \"dose2\": 0, \"new_deaths\": 0, \"total_deaths\": 6172}, {\"date\": \"2020-08-05\", \"new_cases\": 113, \"total_cases\": 36112, \"active_cases\": 12.0, \"mobilty\": 70.56, \"dose1\": 0, \"dose2\": 0, \"new_deaths\": 0, \"total_deaths\": 6172}, {\"date\": \"2020-08-06\", \"new_cases\": 104, \"total_cases\": 36216, \"active_cases\": 7.0, \"mobilty\": 70.5, \"dose1\": 0, \"dose2\": 0, \"new_deaths\": 1, \"total_deaths\": 6173}, {\"date\": \"2020-08-07\", \"new_cases\": 122, \"total_cases\": 36338, \"active_cases\": 7.0, \"mobilty\": 74.41, \"dose1\": 0, \"dose2\": 0, \"new_deaths\": 0, \"total_deaths\": 6173}, {\"date\": \"2020-08-08\", \"new_cases\": 55, \"total_cases\": 36393, \"active_cases\": 2.0, \"mobilty\": 74.12, \"dose1\": 0, \"dose2\": 0, \"new_deaths\": 0, \"total_deaths\": 6173}, {\"date\": \"2020-08-09\", \"new_cases\": 67, \"total_cases\": 36460, \"active_cases\": 10.0, \"mobilty\": 65.9, \"dose1\": 0, \"dose2\": 0, \"new_deaths\": 0, \"total_deaths\": 6173}, {\"date\": \"2020-08-10\", \"new_cases\": 143, \"total_cases\": 36603, \"active_cases\": 9.0, \"mobilty\": 71.63, \"dose1\": 0, \"dose2\": 0, \"new_deaths\": 0, \"total_deaths\": 6173}, {\"date\": \"2020-08-11\", \"new_cases\": 149, \"total_cases\": 36752, \"active_cases\": 18.0, \"mobilty\": 69.3, \"dose1\": 0, \"dose2\": 0, \"new_deaths\": 1, \"total_deaths\": 6174}, {\"date\": \"2020-08-12\", \"new_cases\": 160, \"total_cases\": 36912, \"active_cases\": 5.0, \"mobilty\": 68.04, \"dose1\": 0, \"dose2\": 0, \"new_deaths\": 0, \"total_deaths\": 6174}, {\"date\": \"2020-08-13\", \"new_cases\": 124, \"total_cases\": 37036, \"active_cases\": 9.0, \"mobilty\": 68.66, \"dose1\": 0, \"dose2\": 0, \"new_deaths\": 2, \"total_deaths\": 6176}, {\"date\": \"2020-08-14\", \"new_cases\": 126, \"total_cases\": 37162, \"active_cases\": 8.0, \"mobilty\": 71.88, \"dose1\": 0, \"dose2\": 0, \"new_deaths\": 0, \"total_deaths\": 6176}, {\"date\": \"2020-08-15\", \"new_cases\": 106, \"total_cases\": 37268, \"active_cases\": 4.0, \"mobilty\": 71.68, \"dose1\": 0, \"dose2\": 0, \"new_deaths\": 0, \"total_deaths\": 6176}, {\"date\": \"2020-08-16\", \"new_cases\": 88, \"total_cases\": 37356, \"active_cases\": 7.0, \"mobilty\": 64.36, \"dose1\": 0, \"dose2\": 0, \"new_deaths\": 0, \"total_deaths\": 6176}, {\"date\": \"2020-08-17\", \"new_cases\": 189, \"total_cases\": 37545, \"active_cases\": 2.0, \"mobilty\": 72.27, \"dose1\": 0, \"dose2\": 0, \"new_deaths\": 1, \"total_deaths\": 6177}, {\"date\": \"2020-08-18\", \"new_cases\": 181, \"total_cases\": 37726, \"active_cases\": 6.0, \"mobilty\": 73.98, \"dose1\": 0, \"dose2\": 0, \"new_deaths\": 1, \"total_deaths\": 6178}, {\"date\": \"2020-08-19\", \"new_cases\": 151, \"total_cases\": 37877, \"active_cases\": 7.0, \"mobilty\": 72.56, \"dose1\": 0, \"dose2\": 0, \"new_deaths\": 0, \"total_deaths\": 6178}, {\"date\": \"2020-08-20\", \"new_cases\": 204, \"total_cases\": 38081, \"active_cases\": 6.0, \"mobilty\": 75.51, \"dose1\": 0, \"dose2\": 0, \"new_deaths\": 1, \"total_deaths\": 6179}, {\"date\": \"2020-08-21\", \"new_cases\": 166, \"total_cases\": 38247, \"active_cases\": 5.0, \"mobilty\": 77.49, \"dose1\": 0, \"dose2\": 0, \"new_deaths\": 0, \"total_deaths\": 6179}, {\"date\": \"2020-08-22\", \"new_cases\": 119, \"total_cases\": 38366, \"active_cases\": 3.0, \"mobilty\": 81.13, \"dose1\": 0, \"dose2\": 0, \"new_deaths\": 0, \"total_deaths\": 6179}, {\"date\": \"2020-08-23\", \"new_cases\": 144, \"total_cases\": 38510, \"active_cases\": 8.0, \"mobilty\": 70.64, \"dose1\": 0, \"dose2\": 0, \"new_deaths\": 0, \"total_deaths\": 6179}, {\"date\": \"2020-08-24\", \"new_cases\": 195, \"total_cases\": 38705, \"active_cases\": 6.0, \"mobilty\": 76.94, \"dose1\": 0, \"dose2\": 0, \"new_deaths\": 1, \"total_deaths\": 6180}, {\"date\": \"2020-08-25\", \"new_cases\": 171, \"total_cases\": 38876, \"active_cases\": 9.0, \"mobilty\": 78.02, \"dose1\": 0, \"dose2\": 0, \"new_deaths\": 1, \"total_deaths\": 6181}, {\"date\": \"2020-08-26\", \"new_cases\": 164, \"total_cases\": 39040, \"active_cases\": 5.0, \"mobilty\": 82.89, \"dose1\": 0, \"dose2\": 0, \"new_deaths\": 0, \"total_deaths\": 6181}, {\"date\": \"2020-08-27\", \"new_cases\": 229, \"total_cases\": 39269, \"active_cases\": 5.0, \"mobilty\": 74.0, \"dose1\": 0, \"dose2\": 0, \"new_deaths\": 0, \"total_deaths\": 6181}, {\"date\": \"2020-08-28\", \"new_cases\": 221, \"total_cases\": 39490, \"active_cases\": 11.0, \"mobilty\": 80.93, \"dose1\": 0, \"dose2\": 0, \"new_deaths\": 0, \"total_deaths\": 6181}, {\"date\": \"2020-08-29\", \"new_cases\": 139, \"total_cases\": 39629, \"active_cases\": 6.0, \"mobilty\": 83.81, \"dose1\": 0, \"dose2\": 0, \"new_deaths\": 0, \"total_deaths\": 6181}, {\"date\": \"2020-08-30\", \"new_cases\": 133, \"total_cases\": 39762, \"active_cases\": 6.0, \"mobilty\": 76.04, \"dose1\": 0, \"dose2\": 0, \"new_deaths\": 0, \"total_deaths\": 6181}, {\"date\": \"2020-08-31\", \"new_cases\": 216, \"total_cases\": 39978, \"active_cases\": 6.0, \"mobilty\": 83.39, \"dose1\": 0, \"dose2\": 0, \"new_deaths\": 1, \"total_deaths\": 6182}, {\"date\": \"2020-09-01\", \"new_cases\": 314, \"total_cases\": 40292, \"active_cases\": 6.0, \"mobilty\": 81.02, \"dose1\": 0, \"dose2\": 0, \"new_deaths\": 0, \"total_deaths\": 6182}, {\"date\": \"2020-09-02\", \"new_cases\": 333, \"total_cases\": 40625, \"active_cases\": 11.0, \"mobilty\": 82.55, \"dose1\": 0, \"dose2\": 0, \"new_deaths\": 1, \"total_deaths\": 6183}, {\"date\": \"2020-09-03\", \"new_cases\": 348, \"total_cases\": 40973, \"active_cases\": 15.0, \"mobilty\": 82.17, \"dose1\": 0, \"dose2\": 0, \"new_deaths\": 1, \"total_deaths\": 6184}, {\"date\": \"2020-09-04\", \"new_cases\": 355, \"total_cases\": 41328, \"active_cases\": 11.0, \"mobilty\": 86.65, \"dose1\": 0, \"dose2\": 0, \"new_deaths\": 0, \"total_deaths\": 6184}, {\"date\": \"2020-09-05\", \"new_cases\": 270, \"total_cases\": 41598, \"active_cases\": 23.0, \"mobilty\": 88.04, \"dose1\": 0, \"dose2\": 0, \"new_deaths\": 0, \"total_deaths\": 6184}, {\"date\": \"2020-09-06\", \"new_cases\": 205, \"total_cases\": 41803, \"active_cases\": 12.0, \"mobilty\": 79.68, \"dose1\": 0, \"dose2\": 0, \"new_deaths\": 2, \"total_deaths\": 6186}, {\"date\": \"2020-09-07\", \"new_cases\": 463, \"total_cases\": 42266, \"active_cases\": 5.0, \"mobilty\": 82.09, \"dose1\": 0, \"dose2\": 0, \"new_deaths\": 0, \"total_deaths\": 6186}, {\"date\": \"2020-09-08\", \"new_cases\": 342, \"total_cases\": 42608, \"active_cases\": 11.0, \"mobilty\": 82.83, \"dose1\": 0, \"dose2\": 0, \"new_deaths\": 0, \"total_deaths\": 6186}, {\"date\": \"2020-09-09\", \"new_cases\": 344, \"total_cases\": 42952, \"active_cases\": 17.0, \"mobilty\": 81.07, \"dose1\": 0, \"dose2\": 0, \"new_deaths\": 0, \"total_deaths\": 6186}, {\"date\": \"2020-09-10\", \"new_cases\": 391, \"total_cases\": 43343, \"active_cases\": 19.0, \"mobilty\": 81.32, \"dose1\": 0, \"dose2\": 0, \"new_deaths\": 2, \"total_deaths\": 6188}, {\"date\": \"2020-09-11\", \"new_cases\": 331, \"total_cases\": 43674, \"active_cases\": 13.0, \"mobilty\": 86.93, \"dose1\": 0, \"dose2\": 0, \"new_deaths\": 1, \"total_deaths\": 6189}, {\"date\": \"2020-09-12\", \"new_cases\": 229, \"total_cases\": 43903, \"active_cases\": 19.0, \"mobilty\": 92.73, \"dose1\": 0, \"dose2\": 0, \"new_deaths\": 1, \"total_deaths\": 6190}, {\"date\": \"2020-09-13\", \"new_cases\": 112, \"total_cases\": 44015, \"active_cases\": 23.0, \"mobilty\": 82.51, \"dose1\": 0, \"dose2\": 0, \"new_deaths\": 0, \"total_deaths\": 6190}, {\"date\": \"2020-09-14\", \"new_cases\": 297, \"total_cases\": 44312, \"active_cases\": 31.0, \"mobilty\": 83.06, \"dose1\": 0, \"dose2\": 0, \"new_deaths\": 0, \"total_deaths\": 6190}, {\"date\": \"2020-09-15\", \"new_cases\": 270, \"total_cases\": 44582, \"active_cases\": 26.0, \"mobilty\": 83.16, \"dose1\": 0, \"dose2\": 0, \"new_deaths\": 1, \"total_deaths\": 6191}, {\"date\": \"2020-09-16\", \"new_cases\": 292, \"total_cases\": 44874, \"active_cases\": 25.0, \"mobilty\": 83.36, \"dose1\": 0, \"dose2\": 0, \"new_deaths\": 2, \"total_deaths\": 6193}, {\"date\": \"2020-09-17\", \"new_cases\": 323, \"total_cases\": 45197, \"active_cases\": 28.0, \"mobilty\": 84.44, \"dose1\": 0, \"dose2\": 0, \"new_deaths\": 2, \"total_deaths\": 6195}, {\"date\": \"2020-09-18\", \"new_cases\": 386, \"total_cases\": 45583, \"active_cases\": 41.0, \"mobilty\": 88.49, \"dose1\": 0, \"dose2\": 0, \"new_deaths\": 1, \"total_deaths\": 6196}, {\"date\": \"2020-09-19\", \"new_cases\": 338, \"total_cases\": 45921, \"active_cases\": 32.0, \"mobilty\": 93.2, \"dose1\": 0, \"dose2\": 0, \"new_deaths\": 3, \"total_deaths\": 6199}, {\"date\": \"2020-09-20\", \"new_cases\": 409, \"total_cases\": 46330, \"active_cases\": 38.0, \"mobilty\": 82.1, \"dose1\": 0, \"dose2\": 0, \"new_deaths\": 3, \"total_deaths\": 6202}, {\"date\": \"2020-09-21\", \"new_cases\": 427, \"total_cases\": 46757, \"active_cases\": 44.0, \"mobilty\": 79.03, \"dose1\": 0, \"dose2\": 0, \"new_deaths\": 2, \"total_deaths\": 6204}, {\"date\": \"2020-09-22\", \"new_cases\": 518, \"total_cases\": 47275, \"active_cases\": 35.0, \"mobilty\": 79.07, \"dose1\": 0, \"dose2\": 0, \"new_deaths\": 6, \"total_deaths\": 6210}, {\"date\": \"2020-09-23\", \"new_cases\": 657, \"total_cases\": 47932, \"active_cases\": 36.0, \"mobilty\": 76.77, \"dose1\": 0, \"dose2\": 0, \"new_deaths\": 4, \"total_deaths\": 6214}, {\"date\": \"2020-09-24\", \"new_cases\": 599, \"total_cases\": 48531, \"active_cases\": 47.0, \"mobilty\": 74.67, \"dose1\": 0, \"dose2\": 0, \"new_deaths\": 3, \"total_deaths\": 6217}, {\"date\": \"2020-09-25\", \"new_cases\": 602, \"total_cases\": 49133, \"active_cases\": 36.0, \"mobilty\": 84.0, \"dose1\": 0, \"dose2\": 0, \"new_deaths\": 1, \"total_deaths\": 6218}, {\"date\": \"2020-09-26\", \"new_cases\": 548, \"total_cases\": 49681, \"active_cases\": 28.0, \"mobilty\": 85.32, \"dose1\": 0, \"dose2\": 0, \"new_deaths\": 1, \"total_deaths\": 6219}, {\"date\": \"2020-09-27\", \"new_cases\": 528, \"total_cases\": 50209, \"active_cases\": 23.0, \"mobilty\": 73.91, \"dose1\": 0, \"dose2\": 0, \"new_deaths\": 1, \"total_deaths\": 6220}, {\"date\": \"2020-09-28\", \"new_cases\": 742, \"total_cases\": 50951, \"active_cases\": 28.0, \"mobilty\": 74.13, \"dose1\": 0, \"dose2\": 0, \"new_deaths\": 3, \"total_deaths\": 6223}, {\"date\": \"2020-09-29\", \"new_cases\": 700, \"total_cases\": 51651, \"active_cases\": 36.0, \"mobilty\": 74.72, \"dose1\": 0, \"dose2\": 0, \"new_deaths\": 7, \"total_deaths\": 6230}, {\"date\": \"2020-09-30\", \"new_cases\": 988, \"total_cases\": 52639, \"active_cases\": 31.0, \"mobilty\": 75.83, \"dose1\": 0, \"dose2\": 0, \"new_deaths\": 6, \"total_deaths\": 6236}, {\"date\": \"2020-10-01\", \"new_cases\": 1071, \"total_cases\": 53710, \"active_cases\": 50.0, \"mobilty\": 74.27, \"dose1\": 0, \"dose2\": 0, \"new_deaths\": 4, \"total_deaths\": 6240}, {\"date\": \"2020-10-02\", \"new_cases\": 1037, \"total_cases\": 54747, \"active_cases\": 37.0, \"mobilty\": 78.77, \"dose1\": 0, \"dose2\": 0, \"new_deaths\": 1, \"total_deaths\": 6241}, {\"date\": \"2020-10-03\", \"new_cases\": 791, \"total_cases\": 55538, \"active_cases\": 38.0, \"mobilty\": 83.45, \"dose1\": 0, \"dose2\": 0, \"new_deaths\": 3, \"total_deaths\": 6244}, {\"date\": \"2020-10-04\", \"new_cases\": 819, \"total_cases\": 56357, \"active_cases\": 27.0, \"mobilty\": 71.61, \"dose1\": 0, \"dose2\": 0, \"new_deaths\": 2, \"total_deaths\": 6246}, {\"date\": \"2020-10-05\", \"new_cases\": 1290, \"total_cases\": 57647, \"active_cases\": 47.0, \"mobilty\": 72.35, \"dose1\": 0, \"dose2\": 0, \"new_deaths\": 7, \"total_deaths\": 6253}, {\"date\": \"2020-10-06\", \"new_cases\": 1168, \"total_cases\": 58815, \"active_cases\": 43.0, \"mobilty\": 72.59, \"dose1\": 0, \"dose2\": 0, \"new_deaths\": 4, \"total_deaths\": 6257}, {\"date\": \"2020-10-07\", \"new_cases\": 1403, \"total_cases\": 60218, \"active_cases\": 46.0, \"mobilty\": 76.47, \"dose1\": 0, \"dose2\": 0, \"new_deaths\": 6, \"total_deaths\": 6263}, {\"date\": \"2020-10-08\", \"new_cases\": 1474, \"total_cases\": 61692, \"active_cases\": 39.0, \"mobilty\": 74.92, \"dose1\": 0, \"dose2\": 0, \"new_deaths\": 6, \"total_deaths\": 6269}, {\"date\": \"2020-10-09\", \"new_cases\": 1345, \"total_cases\": 63037, \"active_cases\": 55.0, \"mobilty\": 83.01, \"dose1\": 0, \"dose2\": 0, \"new_deaths\": 7, \"total_deaths\": 6276}, {\"date\": \"2020-10-10\", \"new_cases\": 872, \"total_cases\": 63909, \"active_cases\": 51.0, \"mobilty\": 90.52, \"dose1\": 0, \"dose2\": 0, \"new_deaths\": 3, \"total_deaths\": 6279}, {\"date\": \"2020-10-11\", \"new_cases\": 741, \"total_cases\": 64650, \"active_cases\": 50.0, \"mobilty\": 77.91, \"dose1\": 0, \"dose2\": 0, \"new_deaths\": 5, \"total_deaths\": 6284}, {\"date\": \"2020-10-12\", \"new_cases\": 1572, \"total_cases\": 66222, \"active_cases\": 69.0, \"mobilty\": 69.02, \"dose1\": 0, \"dose2\": 0, \"new_deaths\": 7, \"total_deaths\": 6291}, {\"date\": \"2020-10-13\", \"new_cases\": 1424, \"total_cases\": 67646, \"active_cases\": 73.0, \"mobilty\": 70.55, \"dose1\": 0, \"dose2\": 0, \"new_deaths\": 4, \"total_deaths\": 6295}, {\"date\": \"2020-10-14\", \"new_cases\": 1622, \"total_cases\": 69268, \"active_cases\": 76.0, \"mobilty\": 72.4, \"dose1\": 0, \"dose2\": 0, \"new_deaths\": 6, \"total_deaths\": 6301}, {\"date\": \"2020-10-15\", \"new_cases\": 1719, \"total_cases\": 70987, \"active_cases\": 78.0, \"mobilty\": 71.33, \"dose1\": 0, \"dose2\": 0, \"new_deaths\": 13, \"total_deaths\": 6314}, {\"date\": \"2020-10-16\", \"new_cases\": 1652, \"total_cases\": 72639, \"active_cases\": 67.0, \"mobilty\": 81.68, \"dose1\": 0, \"dose2\": 0, \"new_deaths\": 6, \"total_deaths\": 6320}, {\"date\": \"2020-10-17\", \"new_cases\": 1107, \"total_cases\": 73746, \"active_cases\": 87.0, \"mobilty\": 78.48, \"dose1\": 0, \"dose2\": 0, \"new_deaths\": 2, \"total_deaths\": 6322}, {\"date\": \"2020-10-18\", \"new_cases\": 1295, \"total_cases\": 75041, \"active_cases\": 95.0, \"mobilty\": 70.35, \"dose1\": 0, \"dose2\": 0, \"new_deaths\": 5, \"total_deaths\": 6327}, {\"date\": \"2020-10-19\", \"new_cases\": 2334, \"total_cases\": 77375, \"active_cases\": 90.0, \"mobilty\": 67.06, \"dose1\": 0, \"dose2\": 0, \"new_deaths\": 11, \"total_deaths\": 6338}, {\"date\": \"2020-10-20\", \"new_cases\": 2313, \"total_cases\": 79688, \"active_cases\": 89.0, \"mobilty\": 68.22, \"dose1\": 0, \"dose2\": 0, \"new_deaths\": 8, \"total_deaths\": 6346}, {\"date\": \"2020-10-21\", \"new_cases\": 2350, \"total_cases\": 82038, \"active_cases\": 114.0, \"mobilty\": 67.63, \"dose1\": 0, \"dose2\": 0, \"new_deaths\": 14, \"total_deaths\": 6360}, {\"date\": \"2020-10-22\", \"new_cases\": 2170, \"total_cases\": 84208, \"active_cases\": 108.0, \"mobilty\": 69.62, \"dose1\": 0, \"dose2\": 0, \"new_deaths\": 12, \"total_deaths\": 6372}, {\"date\": \"2020-10-23\", \"new_cases\": 2000, \"total_cases\": 86208, \"active_cases\": 125.0, \"mobilty\": 77.23, \"dose1\": 0, \"dose2\": 0, \"new_deaths\": 7, \"total_deaths\": 6379}, {\"date\": \"2020-10-24\", \"new_cases\": 1432, \"total_cases\": 87640, \"active_cases\": 108.0, \"mobilty\": 77.92, \"dose1\": 0, \"dose2\": 0, \"new_deaths\": 18, \"total_deaths\": 6397}, {\"date\": \"2020-10-25\", \"new_cases\": 1291, \"total_cases\": 88931, \"active_cases\": 118.0, \"mobilty\": 73.78, \"dose1\": 0, \"dose2\": 0, \"new_deaths\": 10, \"total_deaths\": 6407}, {\"date\": \"2020-10-26\", \"new_cases\": 2523, \"total_cases\": 91454, \"active_cases\": 155.0, \"mobilty\": 73.45, \"dose1\": 0, \"dose2\": 0, \"new_deaths\": 10, \"total_deaths\": 6417}, {\"date\": \"2020-10-27\", \"new_cases\": 2087, \"total_cases\": 93541, \"active_cases\": 109.0, \"mobilty\": 72.86, \"dose1\": 0, \"dose2\": 0, \"new_deaths\": 12, \"total_deaths\": 6429}, {\"date\": \"2020-10-28\", \"new_cases\": 1964, \"total_cases\": 95505, \"active_cases\": 112.0, \"mobilty\": 74.47, \"dose1\": 0, \"dose2\": 0, \"new_deaths\": 23, \"total_deaths\": 6452}, {\"date\": \"2020-10-29\", \"new_cases\": 2007, \"total_cases\": 97512, \"active_cases\": 140.0, \"mobilty\": 74.62, \"dose1\": 0, \"dose2\": 0, \"new_deaths\": 14, \"total_deaths\": 6466}, {\"date\": \"2020-10-30\", \"new_cases\": 1873, \"total_cases\": 99385, \"active_cases\": 126.0, \"mobilty\": 84.29, \"dose1\": 0, \"dose2\": 0, \"new_deaths\": 17, \"total_deaths\": 6483}, {\"date\": \"2020-10-31\", \"new_cases\": 1383, \"total_cases\": 100768, \"active_cases\": 132.0, \"mobilty\": 82.43, \"dose1\": 0, \"dose2\": 0, \"new_deaths\": 7, \"total_deaths\": 6490}, {\"date\": \"2020-11-01\", \"new_cases\": 1200, \"total_cases\": 101968, \"active_cases\": 134.0, \"mobilty\": 69.49, \"dose1\": 0, \"dose2\": 0, \"new_deaths\": 17, \"total_deaths\": 6507}, {\"date\": \"2020-11-02\", \"new_cases\": 2906, \"total_cases\": 104874, \"active_cases\": 136.0, \"mobilty\": 70.1, \"dose1\": 0, \"dose2\": 0, \"new_deaths\": 16, \"total_deaths\": 6523}, {\"date\": \"2020-11-03\", \"new_cases\": 2127, \"total_cases\": 107001, \"active_cases\": 103.0, \"mobilty\": 74.54, \"dose1\": 0, \"dose2\": 0, \"new_deaths\": 10, \"total_deaths\": 6533}, {\"date\": \"2020-11-04\", \"new_cases\": 2046, \"total_cases\": 109047, \"active_cases\": 123.0, \"mobilty\": 77.69, \"dose1\": 0, \"dose2\": 0, \"new_deaths\": 18, \"total_deaths\": 6551}, {\"date\": \"2020-11-05\", \"new_cases\": 2088, \"total_cases\": 111135, \"active_cases\": 118.0, \"mobilty\": 42.21, \"dose1\": 0, \"dose2\": 0, \"new_deaths\": 17, \"total_deaths\": 6568}, {\"date\": \"2020-11-06\", \"new_cases\": 2113, \"total_cases\": 113248, \"active_cases\": 101.0, \"mobilty\": 42.07, \"dose1\": 0, \"dose2\": 0, \"new_deaths\": 12, \"total_deaths\": 6580}, {\"date\": \"2020-11-07\", \"new_cases\": 1647, \"total_cases\": 114895, \"active_cases\": 109.0, \"mobilty\": 41.63, \"dose1\": 0, \"dose2\": 0, \"new_deaths\": 21, \"total_deaths\": 6601}, {\"date\": \"2020-11-08\", \"new_cases\": 1757, \"total_cases\": 116652, \"active_cases\": 150.0, \"mobilty\": 41.48, \"dose1\": 0, \"dose2\": 0, \"new_deaths\": 15, \"total_deaths\": 6616}, {\"date\": \"2020-11-09\", \"new_cases\": 3074, \"total_cases\": 119726, \"active_cases\": 136.0, \"mobilty\": 45.85, \"dose1\": 0, \"dose2\": 0, \"new_deaths\": 28, \"total_deaths\": 6644}, {\"date\": \"2020-11-10\", \"new_cases\": 2721, \"total_cases\": 122447, \"active_cases\": 147.0, \"mobilty\": 45.65, \"dose1\": 0, \"dose2\": 0, \"new_deaths\": 14, \"total_deaths\": 6658}, {\"date\": \"2020-11-11\", \"new_cases\": 2905, \"total_cases\": 125352, \"active_cases\": 134.0, \"mobilty\": 46.05, \"dose1\": 0, \"dose2\": 0, \"new_deaths\": 15, \"total_deaths\": 6673}, {\"date\": \"2020-11-12\", \"new_cases\": 2833, \"total_cases\": 128185, \"active_cases\": 152.0, \"mobilty\": 45.31, \"dose1\": 0, \"dose2\": 0, \"new_deaths\": 16, \"total_deaths\": 6689}, {\"date\": \"2020-11-13\", \"new_cases\": 2689, \"total_cases\": 130874, \"active_cases\": 136.0, \"mobilty\": 47.1, \"dose1\": 0, \"dose2\": 0, \"new_deaths\": 14, \"total_deaths\": 6703}, {\"date\": \"2020-11-14\", \"new_cases\": 1924, \"total_cases\": 132798, \"active_cases\": 139.0, \"mobilty\": 42.87, \"dose1\": 0, \"dose2\": 0, \"new_deaths\": 21, \"total_deaths\": 6724}, {\"date\": \"2020-11-15\", \"new_cases\": 1796, \"total_cases\": 134594, \"active_cases\": 170.0, \"mobilty\": 43.37, \"dose1\": 0, \"dose2\": 0, \"new_deaths\": 18, \"total_deaths\": 6742}, {\"date\": \"2020-11-16\", \"new_cases\": 3069, \"total_cases\": 137663, \"active_cases\": 154.0, \"mobilty\": 45.65, \"dose1\": 0, \"dose2\": 0, \"new_deaths\": 29, \"total_deaths\": 6771}, {\"date\": \"2020-11-17\", \"new_cases\": 2551, \"total_cases\": 140214, \"active_cases\": 152.0, \"mobilty\": 45.76, \"dose1\": 0, \"dose2\": 0, \"new_deaths\": 29, \"total_deaths\": 6800}, {\"date\": \"2020-11-18\", \"new_cases\": 2451, \"total_cases\": 142665, \"active_cases\": 179.0, \"mobilty\": 45.9, \"dose1\": 0, \"dose2\": 0, \"new_deaths\": 23, \"total_deaths\": 6823}, {\"date\": \"2020-11-19\", \"new_cases\": 2181, \"total_cases\": 144846, \"active_cases\": 173.0, \"mobilty\": 44.27, \"dose1\": 0, \"dose2\": 0, \"new_deaths\": 24, \"total_deaths\": 6847}, {\"date\": \"2020-11-20\", \"new_cases\": 2108, \"total_cases\": 146954, \"active_cases\": 116.0, \"mobilty\": 47.17, \"dose1\": 0, \"dose2\": 0, \"new_deaths\": 20, \"total_deaths\": 6867}, {\"date\": \"2020-11-21\", \"new_cases\": 1477, \"total_cases\": 148431, \"active_cases\": 165.0, \"mobilty\": 48.9, \"dose1\": 0, \"dose2\": 0, \"new_deaths\": 19, \"total_deaths\": 6886}, {\"date\": \"2020-11-22\", \"new_cases\": 1479, \"total_cases\": 149910, \"active_cases\": 145.0, \"mobilty\": 46.69, \"dose1\": 0, \"dose2\": 0, \"new_deaths\": 29, \"total_deaths\": 6915}, {\"date\": \"2020-11-23\", \"new_cases\": 2385, \"total_cases\": 152295, \"active_cases\": 147.0, \"mobilty\": 47.97, \"dose1\": 0, \"dose2\": 0, \"new_deaths\": 19, \"total_deaths\": 6934}, {\"date\": \"2020-11-24\", \"new_cases\": 2151, \"total_cases\": 154446, \"active_cases\": 131.0, \"mobilty\": 47.62, \"dose1\": 0, \"dose2\": 0, \"new_deaths\": 27, \"total_deaths\": 6961}, {\"date\": \"2020-11-25\", \"new_cases\": 2238, \"total_cases\": 156684, \"active_cases\": 200.0, \"mobilty\": 46.59, \"dose1\": 0, \"dose2\": 0, \"new_deaths\": 30, \"total_deaths\": 6991}, {\"date\": \"2020-11-26\", \"new_cases\": 2064, \"total_cases\": 158748, \"active_cases\": 155.0, \"mobilty\": 47.5, \"dose1\": 0, \"dose2\": 0, \"new_deaths\": 25, \"total_deaths\": 7016}, {\"date\": \"2020-11-27\", \"new_cases\": 2194, \"total_cases\": 160942, \"active_cases\": 124.0, \"mobilty\": 50.13, \"dose1\": 0, \"dose2\": 0, \"new_deaths\": 28, \"total_deaths\": 7044}, {\"date\": \"2020-11-28\", \"new_cases\": 1635, \"total_cases\": 162577, \"active_cases\": 107.0, \"mobilty\": 51.71, \"dose1\": 0, \"dose2\": 0, \"new_deaths\": 23, \"total_deaths\": 7067}, {\"date\": \"2020-11-29\", \"new_cases\": 1651, \"total_cases\": 164228, \"active_cases\": 154.0, \"mobilty\": 47.2, \"dose1\": 0, \"dose2\": 0, \"new_deaths\": 40, \"total_deaths\": 7107}, {\"date\": \"2020-11-30\", \"new_cases\": 2689, \"total_cases\": 166917, \"active_cases\": 146.0, \"mobilty\": 50.61, \"dose1\": 0, \"dose2\": 0, \"new_deaths\": 19, \"total_deaths\": 7126}, {\"date\": \"2020-12-01\", \"new_cases\": 2451, \"total_cases\": 169368, \"active_cases\": 160.0, \"mobilty\": 52.95, \"dose1\": 0, \"dose2\": 0, \"new_deaths\": 28, \"total_deaths\": 7154}, {\"date\": \"2020-12-02\", \"new_cases\": 2791, \"total_cases\": 172159, \"active_cases\": 162.0, \"mobilty\": 60.57, \"dose1\": 0, \"dose2\": 0, \"new_deaths\": 30, \"total_deaths\": 7184}, {\"date\": \"2020-12-03\", \"new_cases\": 2450, \"total_cases\": 174609, \"active_cases\": 156.0, \"mobilty\": 63.77, \"dose1\": 0, \"dose2\": 0, \"new_deaths\": 27, \"total_deaths\": 7211}, {\"date\": \"2020-12-04\", \"new_cases\": 2912, \"total_cases\": 177521, \"active_cases\": 170.0, \"mobilty\": 74.48, \"dose1\": 0, \"dose2\": 0, \"new_deaths\": 30, \"total_deaths\": 7241}, {\"date\": \"2020-12-05\", \"new_cases\": 2237, \"total_cases\": 179758, \"active_cases\": 141.0, \"mobilty\": 82.08, \"dose1\": 0, \"dose2\": 0, \"new_deaths\": 26, \"total_deaths\": 7267}, {\"date\": \"2020-12-06\", \"new_cases\": 2420, \"total_cases\": 182178, \"active_cases\": 179.0, \"mobilty\": 66.9, \"dose1\": 0, \"dose2\": 0, \"new_deaths\": 25, \"total_deaths\": 7292}, {\"date\": \"2020-12-07\", \"new_cases\": 3703, \"total_cases\": 185881, \"active_cases\": 210.0, \"mobilty\": 64.8, \"dose1\": 0, \"dose2\": 0, \"new_deaths\": 30, \"total_deaths\": 7322}, {\"date\": \"2020-12-08\", \"new_cases\": 3697, \"total_cases\": 189578, \"active_cases\": 203.0, \"mobilty\": 64.62, \"dose1\": 0, \"dose2\": 0, \"new_deaths\": 35, \"total_deaths\": 7357}, {\"date\": \"2020-12-09\", \"new_cases\": 4409, \"total_cases\": 193987, \"active_cases\": 248.0, \"mobilty\": 66.81, \"dose1\": 9408, \"dose2\": 1263, \"new_deaths\": 28, \"total_deaths\": 7385}, {\"date\": \"2020-12-10\", \"new_cases\": 4997, \"total_cases\": 198984, \"active_cases\": 235.0, \"mobilty\": 67.78, \"dose1\": 18816, \"dose2\": 2526, \"new_deaths\": 31, \"total_deaths\": 7416}, {\"date\": \"2020-12-11\", \"new_cases\": 5468, \"total_cases\": 204452, \"active_cases\": 277.0, \"mobilty\": 79.32, \"dose1\": 28224, \"dose2\": 3789, \"new_deaths\": 27, \"total_deaths\": 7443}, {\"date\": \"2020-12-12\", \"new_cases\": 4654, \"total_cases\": 209106, \"active_cases\": 246.0, \"mobilty\": 84.59, \"dose1\": 37632, \"dose2\": 5052, \"new_deaths\": 33, \"total_deaths\": 7476}, {\"date\": \"2020-12-13\", \"new_cases\": 5492, \"total_cases\": 214598, \"active_cases\": 287.0, \"mobilty\": 66.44, \"dose1\": 47040, \"dose2\": 6315, \"new_deaths\": 33, \"total_deaths\": 7509}, {\"date\": \"2020-12-14\", \"new_cases\": 8309, \"total_cases\": 222907, \"active_cases\": 292.0, \"mobilty\": 69.28, \"dose1\": 56448, \"dose2\": 7578, \"new_deaths\": 39, \"total_deaths\": 7548}, {\"date\": \"2020-12-15\", \"new_cases\": 8818, \"total_cases\": 231725, \"active_cases\": 332.0, \"mobilty\": 73.29, \"dose1\": 65856, \"dose2\": 8841, \"new_deaths\": 49, \"total_deaths\": 7597}, {\"date\": \"2020-12-16\", \"new_cases\": 9962, \"total_cases\": 241687, \"active_cases\": 252.0, \"mobilty\": 56.77, \"dose1\": 75264, \"dose2\": 10104, \"new_deaths\": 37, \"total_deaths\": 7634}, {\"date\": \"2020-12-17\", \"new_cases\": 10130, \"total_cases\": 251817, \"active_cases\": 366.0, \"mobilty\": 57.6, \"dose1\": 84672, \"dose2\": 11367, \"new_deaths\": 58, \"total_deaths\": 7692}, {\"date\": \"2020-12-18\", \"new_cases\": 10766, \"total_cases\": 262583, \"active_cases\": 357.0, \"mobilty\": 60.39, \"dose1\": 94080, \"dose2\": 12630, \"new_deaths\": 43, \"total_deaths\": 7735}, {\"date\": \"2020-12-19\", \"new_cases\": 7140, \"total_cases\": 269723, \"active_cases\": 404.0, \"mobilty\": 53.79, \"dose1\": 103488, \"dose2\": 13893, \"new_deaths\": 42, \"total_deaths\": 7777}, {\"date\": \"2020-12-20\", \"new_cases\": 8875, \"total_cases\": 278598, \"active_cases\": 413.0, \"mobilty\": 39.87, \"dose1\": 112896, \"dose2\": 15156, \"new_deaths\": 54, \"total_deaths\": 7831}, {\"date\": \"2020-12-21\", \"new_cases\": 13208, \"total_cases\": 291806, \"active_cases\": 505.0, \"mobilty\": 40.4, \"dose1\": 122304, \"dose2\": 16419, \"new_deaths\": 60, \"total_deaths\": 7891}, {\"date\": \"2020-12-22\", \"new_cases\": 13317, \"total_cases\": 305123, \"active_cases\": 508.0, \"mobilty\": 37.09, \"dose1\": 131712, \"dose2\": 17682, \"new_deaths\": 59, \"total_deaths\": 7950}, {\"date\": \"2020-12-23\", \"new_cases\": 12317, \"total_cases\": 317440, \"active_cases\": 511.0, \"mobilty\": 37.33, \"dose1\": 141120, \"dose2\": 18945, \"new_deaths\": 58, \"total_deaths\": 8008}, {\"date\": \"2020-12-24\", \"new_cases\": 9402, \"total_cases\": 326842, \"active_cases\": 492.0, \"mobilty\": 31.69, \"dose1\": 150528, \"dose2\": 20208, \"new_deaths\": 65, \"total_deaths\": 8073}, {\"date\": \"2020-12-25\", \"new_cases\": 4324, \"total_cases\": 331166, \"active_cases\": 578.0, \"mobilty\": 15.54, \"dose1\": 159936, \"dose2\": 21471, \"new_deaths\": 82, \"total_deaths\": 8155}, {\"date\": \"2020-12-26\", \"new_cases\": 11849, \"total_cases\": 343015, \"active_cases\": 607.0, \"mobilty\": 29.42, \"dose1\": 169344, \"dose2\": 22734, \"new_deaths\": 82, \"total_deaths\": 8237}, {\"date\": \"2020-12-27\", \"new_cases\": 13121, \"total_cases\": 356136, \"active_cases\": 629.0, \"mobilty\": 32.85, \"dose1\": 178752, \"dose2\": 23997, \"new_deaths\": 92, \"total_deaths\": 8329}, {\"date\": \"2020-12-28\", \"new_cases\": 10666, \"total_cases\": 366802, \"active_cases\": 739.0, \"mobilty\": 34.62, \"dose1\": 188160, \"dose2\": 25260, \"new_deaths\": 89, \"total_deaths\": 8418}, {\"date\": \"2020-12-29\", \"new_cases\": 19860, \"total_cases\": 386662, \"active_cases\": 679.0, \"mobilty\": 36.66, \"dose1\": 197568, \"dose2\": 26523, \"new_deaths\": 110, \"total_deaths\": 8528}, {\"date\": \"2020-12-30\", \"new_cases\": 17303, \"total_cases\": 403965, \"active_cases\": 681.0, \"mobilty\": 36.48, \"dose1\": 206976, \"dose2\": 27786, \"new_deaths\": 100, \"total_deaths\": 8628}, {\"date\": \"2020-12-31\", \"new_cases\": 12385, \"total_cases\": 416350, \"active_cases\": 708.0, \"mobilty\": 34.43, \"dose1\": 216384, \"dose2\": 29049, \"new_deaths\": 110, \"total_deaths\": 8738}, {\"date\": \"2021-01-01\", \"new_cases\": 6735, \"total_cases\": 423085, \"active_cases\": 796.0, \"mobilty\": 26.45, \"dose1\": 225792, \"dose2\": 30312, \"new_deaths\": 114, \"total_deaths\": 8852}, {\"date\": \"2021-01-02\", \"new_cases\": 13621, \"total_cases\": 436706, \"active_cases\": 828.0, \"mobilty\": 34.41, \"dose1\": 235200, \"dose2\": 31575, \"new_deaths\": 126, \"total_deaths\": 8978}, {\"date\": \"2021-01-03\", \"new_cases\": 13108, \"total_cases\": 449814, \"active_cases\": 865.0, \"mobilty\": 36.62, \"dose1\": 244608, \"dose2\": 32838, \"new_deaths\": 107, \"total_deaths\": 9085}, {\"date\": \"2021-01-04\", \"new_cases\": 17220, \"total_cases\": 467034, \"active_cases\": 830.0, \"mobilty\": 37.35, \"dose1\": 254016, \"dose2\": 34101, \"new_deaths\": 151, \"total_deaths\": 9236}, {\"date\": \"2021-01-05\", \"new_cases\": 14534, \"total_cases\": 481568, \"active_cases\": 913.0, \"mobilty\": 33.89, \"dose1\": 263424, \"dose2\": 35364, \"new_deaths\": 149, \"total_deaths\": 9385}, {\"date\": \"2021-01-06\", \"new_cases\": 13536, \"total_cases\": 495104, \"active_cases\": 977.0, \"mobilty\": 33.01, \"dose1\": 272832, \"dose2\": 36627, \"new_deaths\": 147, \"total_deaths\": 9532}, {\"date\": \"2021-01-07\", \"new_cases\": 12052, \"total_cases\": 507156, \"active_cases\": 820.0, \"mobilty\": 32.43, \"dose1\": 282240, \"dose2\": 37890, \"new_deaths\": 159, \"total_deaths\": 9691}, {\"date\": \"2021-01-08\", \"new_cases\": 10516, \"total_cases\": 517672, \"active_cases\": 813.0, \"mobilty\": 33.25, \"dose1\": 291648, \"dose2\": 39153, \"new_deaths\": 140, \"total_deaths\": 9831}, {\"date\": \"2021-01-09\", \"new_cases\": 8729, \"total_cases\": 526401, \"active_cases\": 832.0, \"mobilty\": 32.92, \"dose1\": 301056, \"dose2\": 40416, \"new_deaths\": 148, \"total_deaths\": 9979}, {\"date\": \"2021-01-10\", \"new_cases\": 7460, \"total_cases\": 533861, \"active_cases\": 734.0, \"mobilty\": 32.37, \"dose1\": 310464, \"dose2\": 41679, \"new_deaths\": 161, \"total_deaths\": 10140}, {\"date\": \"2021-01-11\", \"new_cases\": 11534, \"total_cases\": 545395, \"active_cases\": 795.0, \"mobilty\": 33.47, \"dose1\": 319872, \"dose2\": 42942, \"new_deaths\": 163, \"total_deaths\": 10303}, {\"date\": \"2021-01-12\", \"new_cases\": 9821, \"total_cases\": 555216, \"active_cases\": 875.0, \"mobilty\": 33.13, \"dose1\": 329280, \"dose2\": 44205, \"new_deaths\": 172, \"total_deaths\": 10475}, {\"date\": \"2021-01-13\", \"new_cases\": 9302, \"total_cases\": 564518, \"active_cases\": 804.0, \"mobilty\": 32.94, \"dose1\": 338688, \"dose2\": 45468, \"new_deaths\": 167, \"total_deaths\": 10642}, {\"date\": \"2021-01-14\", \"new_cases\": 8913, \"total_cases\": 573431, \"active_cases\": 763.0, \"mobilty\": 32.44, \"dose1\": 348096, \"dose2\": 46731, \"new_deaths\": 158, \"total_deaths\": 10800}, {\"date\": \"2021-01-15\", \"new_cases\": 8181, \"total_cases\": 581612, \"active_cases\": 670.0, \"mobilty\": 34.1, \"dose1\": 357504, \"dose2\": 47994, \"new_deaths\": 148, \"total_deaths\": 10948}, {\"date\": \"2021-01-16\", \"new_cases\": 6164, \"total_cases\": 587776, \"active_cases\": 758.0, \"mobilty\": 32.99, \"dose1\": 366912, \"dose2\": 49257, \"new_deaths\": 160, \"total_deaths\": 11108}, {\"date\": \"2021-01-17\", \"new_cases\": 5382, \"total_cases\": 593158, \"active_cases\": 652.0, \"mobilty\": 34.13, \"dose1\": 376320, \"dose2\": 50520, \"new_deaths\": 170, \"total_deaths\": 11278}, {\"date\": \"2021-01-18\", \"new_cases\": 8291, \"total_cases\": 601449, \"active_cases\": 704.0, \"mobilty\": 35.14, \"dose1\": 411999, \"dose2\": 51250, \"new_deaths\": 187, \"total_deaths\": 11465}, {\"date\": \"2021-01-19\", \"new_cases\": 6997, \"total_cases\": 608446, \"active_cases\": 742.0, \"mobilty\": 34.67, \"dose1\": 447678, \"dose2\": 51980, \"new_deaths\": 182, \"total_deaths\": 11647}, {\"date\": \"2021-01-20\", \"new_cases\": 6237, \"total_cases\": 614683, \"active_cases\": 660.0, \"mobilty\": 34.23, \"dose1\": 483357, \"dose2\": 52710, \"new_deaths\": 161, \"total_deaths\": 11808}, {\"date\": \"2021-01-21\", \"new_cases\": 5787, \"total_cases\": 620470, \"active_cases\": 598.0, \"mobilty\": 34.56, \"dose1\": 519036, \"dose2\": 53440, \"new_deaths\": 182, \"total_deaths\": 11990}, {\"date\": \"2021-01-22\", \"new_cases\": 5560, \"total_cases\": 626030, \"active_cases\": 580.0, \"mobilty\": 36.62, \"dose1\": 554715, \"dose2\": 54170, \"new_deaths\": 143, \"total_deaths\": 12133}, {\"date\": \"2021-01-23\", \"new_cases\": 4143, \"total_cases\": 630173, \"active_cases\": 520.0, \"mobilty\": 36.39, \"dose1\": 590394, \"dose2\": 54900, \"new_deaths\": 141, \"total_deaths\": 12274}, {\"date\": \"2021-01-24\", \"new_cases\": 3114, \"total_cases\": 633287, \"active_cases\": 544.0, \"mobilty\": 33.49, \"dose1\": 626073, \"dose2\": 55630, \"new_deaths\": 130, \"total_deaths\": 12404}, {\"date\": \"2021-01-25\", \"new_cases\": 4956, \"total_cases\": 638243, \"active_cases\": 478.0, \"mobilty\": 36.19, \"dose1\": 671608, \"dose2\": 56199, \"new_deaths\": 128, \"total_deaths\": 12532}, {\"date\": \"2021-01-26\", \"new_cases\": 4140, \"total_cases\": 642383, \"active_cases\": 472.0, \"mobilty\": 34.67, \"dose1\": 717143, \"dose2\": 56768, \"new_deaths\": 119, \"total_deaths\": 12651}, {\"date\": \"2021-01-27\", \"new_cases\": 4201, \"total_cases\": 646584, \"active_cases\": 485.0, \"mobilty\": 35.25, \"dose1\": 762678, \"dose2\": 57337, \"new_deaths\": 113, \"total_deaths\": 12764}, {\"date\": \"2021-01-28\", \"new_cases\": 3848, \"total_cases\": 650432, \"active_cases\": 473.0, \"mobilty\": 36.32, \"dose1\": 808213, \"dose2\": 57906, \"new_deaths\": 109, \"total_deaths\": 12873}, {\"date\": \"2021-01-29\", \"new_cases\": 3375, \"total_cases\": 653807, \"active_cases\": 423.0, \"mobilty\": 37.29, \"dose1\": 853748, \"dose2\": 58475, \"new_deaths\": 96, \"total_deaths\": 12969}, {\"date\": \"2021-01-30\", \"new_cases\": 2621, \"total_cases\": 656428, \"active_cases\": 370.0, \"mobilty\": 35.55, \"dose1\": 899283, \"dose2\": 59044, \"new_deaths\": 88, \"total_deaths\": 13057}, {\"date\": \"2021-01-31\", \"new_cases\": 2231, \"total_cases\": 658659, \"active_cases\": 394.0, \"mobilty\": 36.12, \"dose1\": 944818, \"dose2\": 59613, \"new_deaths\": 91, \"total_deaths\": 13148}, {\"date\": \"2021-02-01\", \"new_cases\": 3288, \"total_cases\": 661947, \"active_cases\": 421.0, \"mobilty\": 36.41, \"dose1\": 981883, \"dose2\": 59859, \"new_deaths\": 80, \"total_deaths\": 13228}, {\"date\": \"2021-02-02\", \"new_cases\": 2943, \"total_cases\": 664890, \"active_cases\": 357.0, \"mobilty\": 35.92, \"dose1\": 1018948, \"dose2\": 60105, \"new_deaths\": 100, \"total_deaths\": 13328}, {\"date\": \"2021-02-03\", \"new_cases\": 2696, \"total_cases\": 667586, \"active_cases\": 349.0, \"mobilty\": 36.51, \"dose1\": 1056013, \"dose2\": 60351, \"new_deaths\": 108, \"total_deaths\": 13436}, {\"date\": \"2021-02-04\", \"new_cases\": 2464, \"total_cases\": 670050, \"active_cases\": 329.0, \"mobilty\": 36.67, \"dose1\": 1093078, \"dose2\": 60597, \"new_deaths\": 64, \"total_deaths\": 13500}, {\"date\": \"2021-02-05\", \"new_cases\": 2108, \"total_cases\": 672158, \"active_cases\": 292.0, \"mobilty\": 39.61, \"dose1\": 1130143, \"dose2\": 60843, \"new_deaths\": 86, \"total_deaths\": 13586}, {\"date\": \"2021-02-06\", \"new_cases\": 1540, \"total_cases\": 673698, \"active_cases\": 236.0, \"mobilty\": 38.97, \"dose1\": 1167208, \"dose2\": 61089, \"new_deaths\": 62, \"total_deaths\": 13648}, {\"date\": \"2021-02-07\", \"new_cases\": 1338, \"total_cases\": 675036, \"active_cases\": 302.0, \"mobilty\": 35.3, \"dose1\": 1204273, \"dose2\": 61335, \"new_deaths\": 71, \"total_deaths\": 13719}, {\"date\": \"2021-02-08\", \"new_cases\": 1795, \"total_cases\": 676831, \"active_cases\": 287.0, \"mobilty\": 36.45, \"dose1\": 1240822, \"dose2\": 61582, \"new_deaths\": 66, \"total_deaths\": 13785}, {\"date\": \"2021-02-09\", \"new_cases\": 1658, \"total_cases\": 678489, \"active_cases\": 232.0, \"mobilty\": 35.8, \"dose1\": 1277371, \"dose2\": 61829, \"new_deaths\": 58, \"total_deaths\": 13843}, {\"date\": \"2021-02-10\", \"new_cases\": 1530, \"total_cases\": 680019, \"active_cases\": 243.0, \"mobilty\": 37.72, \"dose1\": 1313920, \"dose2\": 62076, \"new_deaths\": 71, \"total_deaths\": 13914}, {\"date\": \"2021-02-11\", \"new_cases\": 1437, \"total_cases\": 681456, \"active_cases\": 217.0, \"mobilty\": 37.17, \"dose1\": 1350469, \"dose2\": 62323, \"new_deaths\": 50, \"total_deaths\": 13964}, {\"date\": \"2021-02-12\", \"new_cases\": 1274, \"total_cases\": 682730, \"active_cases\": 190.0, \"mobilty\": 39.56, \"dose1\": 1387018, \"dose2\": 62570, \"new_deaths\": 52, \"total_deaths\": 14016}, {\"date\": \"2021-02-13\", \"new_cases\": 865, \"total_cases\": 683595, \"active_cases\": 175.0, \"mobilty\": 39.98, \"dose1\": 1423567, \"dose2\": 62817, \"new_deaths\": 44, \"total_deaths\": 14060}, {\"date\": \"2021-02-14\", \"new_cases\": 880, \"total_cases\": 684475, \"active_cases\": 196.0, \"mobilty\": 37.2, \"dose1\": 1460116, \"dose2\": 63064, \"new_deaths\": 42, \"total_deaths\": 14102}, {\"date\": \"2021-02-15\", \"new_cases\": 1378, \"total_cases\": 685853, \"active_cases\": 179.0, \"mobilty\": 41.63, \"dose1\": 1501004, \"dose2\": 63550, \"new_deaths\": 38, \"total_deaths\": 14140}, {\"date\": \"2021-02-16\", \"new_cases\": 1194, \"total_cases\": 687047, \"active_cases\": 166.0, \"mobilty\": 41.12, \"dose1\": 1541892, \"dose2\": 64036, \"new_deaths\": 50, \"total_deaths\": 14190}, {\"date\": \"2021-02-17\", \"new_cases\": 1086, \"total_cases\": 688133, \"active_cases\": 150.0, \"mobilty\": 42.83, \"dose1\": 1582780, \"dose2\": 64522, \"new_deaths\": 44, \"total_deaths\": 14234}, {\"date\": \"2021-02-18\", \"new_cases\": 1100, \"total_cases\": 689233, \"active_cases\": 142.0, \"mobilty\": 42.44, \"dose1\": 1623668, \"dose2\": 65008, \"new_deaths\": 44, \"total_deaths\": 14278}, {\"date\": \"2021-02-19\", \"new_cases\": 1025, \"total_cases\": 690258, \"active_cases\": 150.0, \"mobilty\": 45.28, \"dose1\": 1664556, \"dose2\": 65494, \"new_deaths\": 42, \"total_deaths\": 14320}, {\"date\": \"2021-02-20\", \"new_cases\": 798, \"total_cases\": 691056, \"active_cases\": 110.0, \"mobilty\": 46.48, \"dose1\": 1705444, \"dose2\": 65980, \"new_deaths\": 28, \"total_deaths\": 14348}, {\"date\": \"2021-02-21\", \"new_cases\": 738, \"total_cases\": 691794, \"active_cases\": 127.0, \"mobilty\": 43.4, \"dose1\": 1746332, \"dose2\": 66466, \"new_deaths\": 36, \"total_deaths\": 14384}, {\"date\": \"2021-02-22\", \"new_cases\": 1020, \"total_cases\": 692814, \"active_cases\": 129.0, \"mobilty\": 44.78, \"dose1\": 1791467, \"dose2\": 68443, \"new_deaths\": 31, \"total_deaths\": 14415}, {\"date\": \"2021-02-23\", \"new_cases\": 918, \"total_cases\": 693732, \"active_cases\": 103.0, \"mobilty\": 45.54, \"dose1\": 1836602, \"dose2\": 70420, \"new_deaths\": 23, \"total_deaths\": 14438}, {\"date\": \"2021-02-24\", \"new_cases\": 727, \"total_cases\": 694459, \"active_cases\": 105.0, \"mobilty\": 46.37, \"dose1\": 1881737, \"dose2\": 72397, \"new_deaths\": 25, \"total_deaths\": 14463}, {\"date\": \"2021-02-25\", \"new_cases\": 649, \"total_cases\": 695108, \"active_cases\": 110.0, \"mobilty\": 45.48, \"dose1\": 1926872, \"dose2\": 74374, \"new_deaths\": 21, \"total_deaths\": 14484}, {\"date\": \"2021-02-26\", \"new_cases\": 619, \"total_cases\": 695727, \"active_cases\": 72.0, \"mobilty\": 50.27, \"dose1\": 1972007, \"dose2\": 76351, \"new_deaths\": 23, \"total_deaths\": 14507}, {\"date\": \"2021-02-27\", \"new_cases\": 499, \"total_cases\": 696226, \"active_cases\": 64.0, \"mobilty\": 53.59, \"dose1\": 2017142, \"dose2\": 78328, \"new_deaths\": 18, \"total_deaths\": 14525}, {\"date\": \"2021-02-28\", \"new_cases\": 473, \"total_cases\": 696699, \"active_cases\": 97.0, \"mobilty\": 46.88, \"dose1\": 2062277, \"dose2\": 80305, \"new_deaths\": 13, \"total_deaths\": 14538}, {\"date\": \"2021-03-01\", \"new_cases\": 550, \"total_cases\": 697249, \"active_cases\": 89.0, \"mobilty\": 48.31, \"dose1\": 2095615, \"dose2\": 84401, \"new_deaths\": 25, \"total_deaths\": 14563}, {\"date\": \"2021-03-02\", \"new_cases\": 657, \"total_cases\": 697906, \"active_cases\": 95.0, \"mobilty\": 47.79, \"dose1\": 2128953, \"dose2\": 88497, \"new_deaths\": 21, \"total_deaths\": 14584}, {\"date\": \"2021-03-03\", \"new_cases\": 579, \"total_cases\": 698485, \"active_cases\": 67.0, \"mobilty\": 47.4, \"dose1\": 2162291, \"dose2\": 92593, \"new_deaths\": 8, \"total_deaths\": 14592}, {\"date\": \"2021-03-04\", \"new_cases\": 509, \"total_cases\": 698994, \"active_cases\": 88.0, \"mobilty\": 46.73, \"dose1\": 2195629, \"dose2\": 96689, \"new_deaths\": 12, \"total_deaths\": 14604}, {\"date\": \"2021-03-05\", \"new_cases\": 500, \"total_cases\": 699494, \"active_cases\": 62.0, \"mobilty\": 51.26, \"dose1\": 2228967, \"dose2\": 100785, \"new_deaths\": 18, \"total_deaths\": 14622}, {\"date\": \"2021-03-06\", \"new_cases\": 400, \"total_cases\": 699894, \"active_cases\": 49.0, \"mobilty\": 52.48, \"dose1\": 2262305, \"dose2\": 104881, \"new_deaths\": 17, \"total_deaths\": 14639}, {\"date\": \"2021-03-07\", \"new_cases\": 407, \"total_cases\": 700301, \"active_cases\": 58.0, \"mobilty\": 49.76, \"dose1\": 2295643, \"dose2\": 108977, \"new_deaths\": 12, \"total_deaths\": 14651}, {\"date\": \"2021-03-08\", \"new_cases\": 562, \"total_cases\": 700863, \"active_cases\": 56.0, \"mobilty\": 50.74, \"dose1\": 2326029, \"dose2\": 114834, \"new_deaths\": 9, \"total_deaths\": 14660}, {\"date\": \"2021-03-09\", \"new_cases\": 590, \"total_cases\": 701453, \"active_cases\": 67.0, \"mobilty\": 52.16, \"dose1\": 2356415, \"dose2\": 120691, \"new_deaths\": 10, \"total_deaths\": 14670}, {\"date\": \"2021-03-10\", \"new_cases\": 528, \"total_cases\": 701981, \"active_cases\": 52.0, \"mobilty\": 49.11, \"dose1\": 2386801, \"dose2\": 126548, \"new_deaths\": 12, \"total_deaths\": 14682}, {\"date\": \"2021-03-11\", \"new_cases\": 453, \"total_cases\": 702434, \"active_cases\": 47.0, \"mobilty\": 49.57, \"dose1\": 2417187, \"dose2\": 132405, \"new_deaths\": 12, \"total_deaths\": 14694}, {\"date\": \"2021-03-12\", \"new_cases\": 509, \"total_cases\": 702943, \"active_cases\": 39.0, \"mobilty\": 50.22625, \"dose1\": 2447573, \"dose2\": 138262, \"new_deaths\": 7, \"total_deaths\": 14701}, {\"date\": \"2021-03-13\", \"new_cases\": 363, \"total_cases\": 703306, \"active_cases\": 48.0, \"mobilty\": 53.45, \"dose1\": 2477959, \"dose2\": 144119, \"new_deaths\": 9, \"total_deaths\": 14710}, {\"date\": \"2021-03-14\", \"new_cases\": 362, \"total_cases\": 703668, \"active_cases\": 41.0, \"mobilty\": 48.39, \"dose1\": 2508345, \"dose2\": 149976, \"new_deaths\": 4, \"total_deaths\": 14714}, {\"date\": \"2021-03-15\", \"new_cases\": 596, \"total_cases\": 704264, \"active_cases\": 40.0, \"mobilty\": 52.2, \"dose1\": 2557564, \"dose2\": 158802, \"new_deaths\": 7, \"total_deaths\": 14721}, {\"date\": \"2021-03-16\", \"new_cases\": 505, \"total_cases\": 704769, \"active_cases\": 45.0, \"mobilty\": 51.9, \"dose1\": 2606783, \"dose2\": 167628, \"new_deaths\": 4, \"total_deaths\": 14725}, {\"date\": \"2021-03-17\", \"new_cases\": 453, \"total_cases\": 705222, \"active_cases\": 27.0, \"mobilty\": 52.34, \"dose1\": 2656002, \"dose2\": 176454, \"new_deaths\": 10, \"total_deaths\": 14735}, {\"date\": \"2021-03-18\", \"new_cases\": 475, \"total_cases\": 705697, \"active_cases\": 33.0, \"mobilty\": 50.62, \"dose1\": 2705221, \"dose2\": 185280, \"new_deaths\": 9, \"total_deaths\": 14744}, {\"date\": \"2021-03-19\", \"new_cases\": 441, \"total_cases\": 706138, \"active_cases\": 42.0, \"mobilty\": 55.68, \"dose1\": 2754440, \"dose2\": 194106, \"new_deaths\": 5, \"total_deaths\": 14749}, {\"date\": \"2021-03-20\", \"new_cases\": 370, \"total_cases\": 706508, \"active_cases\": 31.0, \"mobilty\": 56.87, \"dose1\": 2803659, \"dose2\": 202932, \"new_deaths\": 3, \"total_deaths\": 14752}, {\"date\": \"2021-03-21\", \"new_cases\": 456, \"total_cases\": 706964, \"active_cases\": 28.0, \"mobilty\": 52.32, \"dose1\": 2852878, \"dose2\": 211758, \"new_deaths\": 5, \"total_deaths\": 14757}, {\"date\": \"2021-03-22\", \"new_cases\": 532, \"total_cases\": 707496, \"active_cases\": 31.0, \"mobilty\": 54.86, \"dose1\": 2894119, \"dose2\": 232601, \"new_deaths\": 6, \"total_deaths\": 14763}, {\"date\": \"2021-03-23\", \"new_cases\": 471, \"total_cases\": 707967, \"active_cases\": 33.0, \"mobilty\": 55.32, \"dose1\": 2935360, \"dose2\": 253444, \"new_deaths\": 2, \"total_deaths\": 14765}, {\"date\": \"2021-03-24\", \"new_cases\": 606, \"total_cases\": 708573, \"active_cases\": 27.0, \"mobilty\": 54.49, \"dose1\": 2976601, \"dose2\": 274287, \"new_deaths\": 6, \"total_deaths\": 14771}, {\"date\": \"2021-03-25\", \"new_cases\": 447, \"total_cases\": 709020, \"active_cases\": 33.0, \"mobilty\": 53.97, \"dose1\": 3017842, \"dose2\": 295130, \"new_deaths\": 2, \"total_deaths\": 14773}, {\"date\": \"2021-03-26\", \"new_cases\": 420, \"total_cases\": 709440, \"active_cases\": 26.0, \"mobilty\": 56.96, \"dose1\": 3059083, \"dose2\": 315973, \"new_deaths\": 2, \"total_deaths\": 14775}, {\"date\": \"2021-03-27\", \"new_cases\": 296, \"total_cases\": 709736, \"active_cases\": 29.0, \"mobilty\": 65.12, \"dose1\": 3100324, \"dose2\": 336816, \"new_deaths\": 4, \"total_deaths\": 14779}, {\"date\": \"2021-03-28\", \"new_cases\": 465, \"total_cases\": 710201, \"active_cases\": 32.0, \"mobilty\": 57.44, \"dose1\": 3141565, \"dose2\": 357659, \"new_deaths\": 3, \"total_deaths\": 14782}, {\"date\": \"2021-03-29\", \"new_cases\": 400, \"total_cases\": 710601, \"active_cases\": 23.0, \"mobilty\": 64.47, \"dose1\": 3155038, \"dose2\": 383559, \"new_deaths\": 1, \"total_deaths\": 14783}, {\"date\": \"2021-03-30\", \"new_cases\": 351, \"total_cases\": 710952, \"active_cases\": 29.0, \"mobilty\": 74.29, \"dose1\": 3168511, \"dose2\": 409459, \"new_deaths\": 4, \"total_deaths\": 14787}, {\"date\": \"2021-03-31\", \"new_cases\": 298, \"total_cases\": 711250, \"active_cases\": 30.0, \"mobilty\": 69.84, \"dose1\": 3181984, \"dose2\": 435359, \"new_deaths\": 5, \"total_deaths\": 14792}, {\"date\": \"2021-04-01\", \"new_cases\": 334, \"total_cases\": 711584, \"active_cases\": 25.0, \"mobilty\": 68.39, \"dose1\": 3195457, \"dose2\": 461259, \"new_deaths\": 4, \"total_deaths\": 14796}, {\"date\": \"2021-04-02\", \"new_cases\": 247, \"total_cases\": 711831, \"active_cases\": 27.0, \"mobilty\": 69.07, \"dose1\": 3208930, \"dose2\": 487159, \"new_deaths\": 4, \"total_deaths\": 14800}, {\"date\": \"2021-04-03\", \"new_cases\": 236, \"total_cases\": 712067, \"active_cases\": 25.0, \"mobilty\": 64.87, \"dose1\": 3222403, \"dose2\": 513059, \"new_deaths\": 3, \"total_deaths\": 14803}, {\"date\": \"2021-04-04\", \"new_cases\": 209, \"total_cases\": 712276, \"active_cases\": 23.0, \"mobilty\": 60.01, \"dose1\": 3235876, \"dose2\": 538959, \"new_deaths\": 0, \"total_deaths\": 14803}, {\"date\": \"2021-04-05\", \"new_cases\": 241, \"total_cases\": 712517, \"active_cases\": 23.0, \"mobilty\": 64.44, \"dose1\": 3244337, \"dose2\": 573480, \"new_deaths\": 2, \"total_deaths\": 14805}, {\"date\": \"2021-04-06\", \"new_cases\": 330, \"total_cases\": 712847, \"active_cases\": 22.0, \"mobilty\": 68.6, \"dose1\": 3252798, \"dose2\": 608001, \"new_deaths\": 1, \"total_deaths\": 14806}, {\"date\": \"2021-04-07\", \"new_cases\": 337, \"total_cases\": 713184, \"active_cases\": 26.0, \"mobilty\": 69.83, \"dose1\": 3261259, \"dose2\": 642522, \"new_deaths\": 3, \"total_deaths\": 14809}, {\"date\": \"2021-04-08\", \"new_cases\": 317, \"total_cases\": 713501, \"active_cases\": 27.0, \"mobilty\": 67.72, \"dose1\": 3269720, \"dose2\": 677043, \"new_deaths\": 3, \"total_deaths\": 14812}, {\"date\": \"2021-04-09\", \"new_cases\": 355, \"total_cases\": 713856, \"active_cases\": 21.0, \"mobilty\": 69.65, \"dose1\": 3278181, \"dose2\": 711564, \"new_deaths\": 0, \"total_deaths\": 14812}, {\"date\": \"2021-04-10\", \"new_cases\": 271, \"total_cases\": 714127, \"active_cases\": 25.0, \"mobilty\": 67.18, \"dose1\": 3286642, \"dose2\": 746085, \"new_deaths\": 4, \"total_deaths\": 14816}, {\"date\": \"2021-04-11\", \"new_cases\": 290, \"total_cases\": 714417, \"active_cases\": 28.0, \"mobilty\": 72.76, \"dose1\": 3295103, \"dose2\": 780606, \"new_deaths\": 5, \"total_deaths\": 14821}]}}, {\"mode\": \"vega-lite\"});\n",
              "</script>"
            ]
          },
          "metadata": {
            "tags": []
          },
          "execution_count": 48
        }
      ]
    },
    {
      "cell_type": "code",
      "metadata": {
        "colab": {
          "base_uri": "https://localhost:8080/",
          "height": 788
        },
        "id": "-eiO1auY_H9Z",
        "outputId": "d49b2793-d0f8-41e3-8b76-faead58c9f98"
      },
      "source": [
        "interval = alt.selection_interval()\n",
        "circle = alt.Chart(df).mark_circle().encode(\n",
        "    x='date:O',\n",
        "    size=alt.Size('new_cases:Q',\n",
        "        scale=alt.Scale(range=[0, 3000]),\n",
        "        legend=alt.Legend(title='Daily new cases')\n",
        "    ) \n",
        ").properties(\n",
        "    width=3000,\n",
        "    height=300,\n",
        "    selection=interval\n",
        ")\n",
        "\n",
        "bars = alt.Chart(df).mark_bar().encode(\n",
        "    x='sum(new_cases):Q'\n",
        ").properties(\n",
        "    width=1000\n",
        ").transform_filter(\n",
        "    interval\n",
        ")\n",
        "\n",
        "circle & bars"
      ],
      "execution_count": null,
      "outputs": [
        {
          "output_type": "execute_result",
          "data": {
            "text/plain": [
              "alt.VConcatChart(...)"
            ],
            "text/html": [
              "\n",
              "<div id=\"altair-viz-101cfba99c1448b5bb7985fddda5e922\"></div>\n",
              "<script type=\"text/javascript\">\n",
              "  (function(spec, embedOpt){\n",
              "    let outputDiv = document.currentScript.previousElementSibling;\n",
              "    if (outputDiv.id !== \"altair-viz-101cfba99c1448b5bb7985fddda5e922\") {\n",
              "      outputDiv = document.getElementById(\"altair-viz-101cfba99c1448b5bb7985fddda5e922\");\n",
              "    }\n",
              "    const paths = {\n",
              "      \"vega\": \"https://cdn.jsdelivr.net/npm//vega@5?noext\",\n",
              "      \"vega-lib\": \"https://cdn.jsdelivr.net/npm//vega-lib?noext\",\n",
              "      \"vega-lite\": \"https://cdn.jsdelivr.net/npm//vega-lite@4.8.1?noext\",\n",
              "      \"vega-embed\": \"https://cdn.jsdelivr.net/npm//vega-embed@6?noext\",\n",
              "    };\n",
              "\n",
              "    function loadScript(lib) {\n",
              "      return new Promise(function(resolve, reject) {\n",
              "        var s = document.createElement('script');\n",
              "        s.src = paths[lib];\n",
              "        s.async = true;\n",
              "        s.onload = () => resolve(paths[lib]);\n",
              "        s.onerror = () => reject(`Error loading script: ${paths[lib]}`);\n",
              "        document.getElementsByTagName(\"head\")[0].appendChild(s);\n",
              "      });\n",
              "    }\n",
              "\n",
              "    function showError(err) {\n",
              "      outputDiv.innerHTML = `<div class=\"error\" style=\"color:red;\">${err}</div>`;\n",
              "      throw err;\n",
              "    }\n",
              "\n",
              "    function displayChart(vegaEmbed) {\n",
              "      vegaEmbed(outputDiv, spec, embedOpt)\n",
              "        .catch(err => showError(`Javascript Error: ${err.message}<br>This usually means there's a typo in your chart specification. See the javascript console for the full traceback.`));\n",
              "    }\n",
              "\n",
              "    if(typeof define === \"function\" && define.amd) {\n",
              "      requirejs.config({paths});\n",
              "      require([\"vega-embed\"], displayChart, err => showError(`Error loading script: ${err.message}`));\n",
              "    } else if (typeof vegaEmbed === \"function\") {\n",
              "      displayChart(vegaEmbed);\n",
              "    } else {\n",
              "      loadScript(\"vega\")\n",
              "        .then(() => loadScript(\"vega-lite\"))\n",
              "        .then(() => loadScript(\"vega-embed\"))\n",
              "        .catch(showError)\n",
              "        .then(() => displayChart(vegaEmbed));\n",
              "    }\n",
              "  })({\"config\": {\"view\": {\"continuousWidth\": 400, \"continuousHeight\": 300}}, \"vconcat\": [{\"mark\": \"circle\", \"encoding\": {\"size\": {\"type\": \"quantitative\", \"field\": \"new_cases\", \"legend\": {\"title\": \"Daily new cases\"}, \"scale\": {\"range\": [0, 3000]}}, \"x\": {\"type\": \"ordinal\", \"field\": \"date\"}}, \"height\": 300, \"selection\": {\"selector015\": {\"type\": \"interval\"}}, \"width\": 3000}, {\"mark\": \"bar\", \"encoding\": {\"x\": {\"type\": \"quantitative\", \"aggregate\": \"sum\", \"field\": \"new_cases\"}}, \"transform\": [{\"filter\": {\"selection\": \"selector015\"}}], \"width\": 1000}], \"data\": {\"name\": \"data-49cd4247bbb38dfc30fd3e023056ec45\"}, \"$schema\": \"https://vega.github.io/schema/vega-lite/v4.8.1.json\", \"datasets\": {\"data-49cd4247bbb38dfc30fd3e023056ec45\": [{\"date\": \"2020-02-11\", \"new_cases\": 1, \"total_cases\": 1, \"active_cases\": 1.0, \"mobilty\": 109.07, \"dose1\": 0, \"dose2\": 0, \"new_deaths\": 0, \"total_deaths\": 0}, {\"date\": \"2020-02-12\", \"new_cases\": 0, \"total_cases\": 1, \"active_cases\": 0.0, \"mobilty\": 111.2, \"dose1\": 0, \"dose2\": 0, \"new_deaths\": 0, \"total_deaths\": 0}, {\"date\": \"2020-02-13\", \"new_cases\": 0, \"total_cases\": 1, \"active_cases\": 0.0, \"mobilty\": 110.18, \"dose1\": 0, \"dose2\": 0, \"new_deaths\": 0, \"total_deaths\": 0}, {\"date\": \"2020-02-14\", \"new_cases\": 0, \"total_cases\": 1, \"active_cases\": 0.0, \"mobilty\": 123.91, \"dose1\": 0, \"dose2\": 0, \"new_deaths\": 0, \"total_deaths\": 0}, {\"date\": \"2020-02-15\", \"new_cases\": 0, \"total_cases\": 1, \"active_cases\": 0.0, \"mobilty\": 131.79, \"dose1\": 0, \"dose2\": 0, \"new_deaths\": 0, \"total_deaths\": 0}, {\"date\": \"2020-02-16\", \"new_cases\": 0, \"total_cases\": 1, \"active_cases\": 0.0, \"mobilty\": 116.64, \"dose1\": 0, \"dose2\": 0, \"new_deaths\": 0, \"total_deaths\": 0}, {\"date\": \"2020-02-17\", \"new_cases\": 0, \"total_cases\": 1, \"active_cases\": 0.0, \"mobilty\": 123.55, \"dose1\": 0, \"dose2\": 0, \"new_deaths\": 0, \"total_deaths\": 0}, {\"date\": \"2020-02-18\", \"new_cases\": 0, \"total_cases\": 1, \"active_cases\": 0.0, \"mobilty\": 122.11, \"dose1\": 0, \"dose2\": 0, \"new_deaths\": 0, \"total_deaths\": 0}, {\"date\": \"2020-02-19\", \"new_cases\": 0, \"total_cases\": 1, \"active_cases\": 0.0, \"mobilty\": 125.12, \"dose1\": 0, \"dose2\": 0, \"new_deaths\": 0, \"total_deaths\": 0}, {\"date\": \"2020-02-20\", \"new_cases\": 0, \"total_cases\": 1, \"active_cases\": 0.0, \"mobilty\": 124.27, \"dose1\": 0, \"dose2\": 0, \"new_deaths\": 0, \"total_deaths\": 0}, {\"date\": \"2020-02-21\", \"new_cases\": 0, \"total_cases\": 1, \"active_cases\": 0.0, \"mobilty\": 133.95, \"dose1\": 0, \"dose2\": 0, \"new_deaths\": 0, \"total_deaths\": 0}, {\"date\": \"2020-02-22\", \"new_cases\": 0, \"total_cases\": 1, \"active_cases\": 0.0, \"mobilty\": 141.61, \"dose1\": 0, \"dose2\": 0, \"new_deaths\": 0, \"total_deaths\": 0}, {\"date\": \"2020-02-23\", \"new_cases\": 0, \"total_cases\": 1, \"active_cases\": 0.0, \"mobilty\": 111.26, \"dose1\": 0, \"dose2\": 0, \"new_deaths\": 0, \"total_deaths\": 0}, {\"date\": \"2020-02-24\", \"new_cases\": 1, \"total_cases\": 2, \"active_cases\": 1.0, \"mobilty\": 107.64, \"dose1\": 0, \"dose2\": 0, \"new_deaths\": 0, \"total_deaths\": 0}, {\"date\": \"2020-02-25\", \"new_cases\": 3, \"total_cases\": 5, \"active_cases\": 3.0, \"mobilty\": 109.44, \"dose1\": 0, \"dose2\": 0, \"new_deaths\": 0, \"total_deaths\": 0}, {\"date\": \"2020-02-26\", \"new_cases\": 2, \"total_cases\": 7, \"active_cases\": 2.0, \"mobilty\": 110.17, \"dose1\": 0, \"dose2\": 0, \"new_deaths\": 0, \"total_deaths\": 0}, {\"date\": \"2020-02-27\", \"new_cases\": 2, \"total_cases\": 9, \"active_cases\": 2.0, \"mobilty\": 111.27, \"dose1\": 0, \"dose2\": 0, \"new_deaths\": 0, \"total_deaths\": 0}, {\"date\": \"2020-02-28\", \"new_cases\": 3, \"total_cases\": 12, \"active_cases\": 3.0, \"mobilty\": 122.41, \"dose1\": 0, \"dose2\": 0, \"new_deaths\": 0, \"total_deaths\": 0}, {\"date\": \"2020-02-29\", \"new_cases\": 1, \"total_cases\": 13, \"active_cases\": 1.0, \"mobilty\": 129.48, \"dose1\": 0, \"dose2\": 0, \"new_deaths\": 0, \"total_deaths\": 0}, {\"date\": \"2020-03-01\", \"new_cases\": 4, \"total_cases\": 17, \"active_cases\": 4.0, \"mobilty\": 109.14, \"dose1\": 0, \"dose2\": 0, \"new_deaths\": 0, \"total_deaths\": 0}, {\"date\": \"2020-03-02\", \"new_cases\": 12, \"total_cases\": 29, \"active_cases\": 12.0, \"mobilty\": 102.74, \"dose1\": 0, \"dose2\": 0, \"new_deaths\": 0, \"total_deaths\": 0}, {\"date\": \"2020-03-03\", \"new_cases\": 6, \"total_cases\": 35, \"active_cases\": 6.0, \"mobilty\": 105.44, \"dose1\": 0, \"dose2\": 0, \"new_deaths\": 0, \"total_deaths\": 0}, {\"date\": \"2020-03-04\", \"new_cases\": 18, \"total_cases\": 53, \"active_cases\": 18.0, \"mobilty\": 106.93, \"dose1\": 0, \"dose2\": 0, \"new_deaths\": 0, \"total_deaths\": 0}, {\"date\": \"2020-03-05\", \"new_cases\": 14, \"total_cases\": 67, \"active_cases\": 14.0, \"mobilty\": 106.97, \"dose1\": 0, \"dose2\": 0, \"new_deaths\": 0, \"total_deaths\": 0}, {\"date\": \"2020-03-06\", \"new_cases\": 24, \"total_cases\": 91, \"active_cases\": 24.0, \"mobilty\": 118.77, \"dose1\": 0, \"dose2\": 0, \"new_deaths\": 1, \"total_deaths\": 1}, {\"date\": \"2020-03-07\", \"new_cases\": 15, \"total_cases\": 106, \"active_cases\": 15.0, \"mobilty\": 127.78, \"dose1\": 0, \"dose2\": 0, \"new_deaths\": 0, \"total_deaths\": 1}, {\"date\": \"2020-03-08\", \"new_cases\": 22, \"total_cases\": 128, \"active_cases\": 22.0, \"mobilty\": 100.86, \"dose1\": 0, \"dose2\": 0, \"new_deaths\": 0, \"total_deaths\": 1}, {\"date\": \"2020-03-09\", \"new_cases\": 53, \"total_cases\": 181, \"active_cases\": 53.0, \"mobilty\": 98.05, \"dose1\": 0, \"dose2\": 0, \"new_deaths\": 1, \"total_deaths\": 2}, {\"date\": \"2020-03-10\", \"new_cases\": 92, \"total_cases\": 273, \"active_cases\": 92.0, \"mobilty\": 99.47, \"dose1\": 0, \"dose2\": 0, \"new_deaths\": 0, \"total_deaths\": 2}, {\"date\": \"2020-03-11\", \"new_cases\": 183, \"total_cases\": 456, \"active_cases\": 183.0, \"mobilty\": 94.33, \"dose1\": 0, \"dose2\": 0, \"new_deaths\": 5, \"total_deaths\": 7}, {\"date\": \"2020-03-12\", \"new_cases\": 164, \"total_cases\": 620, \"active_cases\": 164.0, \"mobilty\": 86.28, \"dose1\": 0, \"dose2\": 0, \"new_deaths\": 6, \"total_deaths\": 13}, {\"date\": \"2020-03-13\", \"new_cases\": 135, \"total_cases\": 755, \"active_cases\": 135.0, \"mobilty\": 89.95, \"dose1\": 0, \"dose2\": 0, \"new_deaths\": 10, \"total_deaths\": 23}, {\"date\": \"2020-03-14\", \"new_cases\": 150, \"total_cases\": 905, \"active_cases\": 150.0, \"mobilty\": 94.84, \"dose1\": 0, \"dose2\": 0, \"new_deaths\": 13, \"total_deaths\": 36}, {\"date\": \"2020-03-15\", \"new_cases\": 165, \"total_cases\": 1070, \"active_cases\": 165.0, \"mobilty\": 67.46, \"dose1\": 0, \"dose2\": 0, \"new_deaths\": 9, \"total_deaths\": 45}, {\"date\": \"2020-03-16\", \"new_cases\": 233, \"total_cases\": 1303, \"active_cases\": 233.0, \"mobilty\": 57.95, \"dose1\": 0, \"dose2\": 0, \"new_deaths\": 15, \"total_deaths\": 60}, {\"date\": \"2020-03-17\", \"new_cases\": 311, \"total_cases\": 1614, \"active_cases\": 160.29, \"mobilty\": 46.33, \"dose1\": 0, \"dose2\": 0, \"new_deaths\": 23, \"total_deaths\": 83}, {\"date\": \"2020-03-18\", \"new_cases\": 355, \"total_cases\": 1969, \"active_cases\": 170.04, \"mobilty\": 40.32, \"dose1\": 0, \"dose2\": 0, \"new_deaths\": 28, \"total_deaths\": 111}, {\"date\": \"2020-03-19\", \"new_cases\": 332, \"total_cases\": 2301, \"active_cases\": 240.0, \"mobilty\": 38.7, \"dose1\": 0, \"dose2\": 0, \"new_deaths\": 25, \"total_deaths\": 136}, {\"date\": \"2020-03-20\", \"new_cases\": 426, \"total_cases\": 2727, \"active_cases\": 272.0, \"mobilty\": 34.64, \"dose1\": 0, \"dose2\": 0, \"new_deaths\": 44, \"total_deaths\": 180}, {\"date\": \"2020-03-21\", \"new_cases\": 350, \"total_cases\": 3077, \"active_cases\": 311.0, \"mobilty\": 28.01, \"dose1\": 0, \"dose2\": 0, \"new_deaths\": 49, \"total_deaths\": 229}, {\"date\": \"2020-03-22\", \"new_cases\": 437, \"total_cases\": 3514, \"active_cases\": 335.0, \"mobilty\": 25.9, \"dose1\": 0, \"dose2\": 0, \"new_deaths\": 54, \"total_deaths\": 283}, {\"date\": \"2020-03-23\", \"new_cases\": 687, \"total_cases\": 4201, \"active_cases\": 505.0, \"mobilty\": 24.44, \"dose1\": 0, \"dose2\": 0, \"new_deaths\": 63, \"total_deaths\": 346}, {\"date\": \"2020-03-24\", \"new_cases\": 633, \"total_cases\": 4834, \"active_cases\": 637.0, \"mobilty\": 17.15, \"dose1\": 0, \"dose2\": 0, \"new_deaths\": 86, \"total_deaths\": 432}, {\"date\": \"2020-03-25\", \"new_cases\": 760, \"total_cases\": 5594, \"active_cases\": 675.0, \"mobilty\": 15.43, \"dose1\": 0, \"dose2\": 0, \"new_deaths\": 112, \"total_deaths\": 544}, {\"date\": \"2020-03-26\", \"new_cases\": 766, \"total_cases\": 6360, \"active_cases\": 519.0, \"mobilty\": 14.49, \"dose1\": 0, \"dose2\": 0, \"new_deaths\": 130, \"total_deaths\": 674}, {\"date\": \"2020-03-27\", \"new_cases\": 817, \"total_cases\": 7177, \"active_cases\": 639.0, \"mobilty\": 14.05, \"dose1\": 0, \"dose2\": 0, \"new_deaths\": 130, \"total_deaths\": 804}, {\"date\": \"2020-03-28\", \"new_cases\": 576, \"total_cases\": 7753, \"active_cases\": 551.0, \"mobilty\": 13.6, \"dose1\": 0, \"dose2\": 0, \"new_deaths\": 123, \"total_deaths\": 927}, {\"date\": \"2020-03-29\", \"new_cases\": 598, \"total_cases\": 8351, \"active_cases\": 672.0, \"mobilty\": 13.3, \"dose1\": 0, \"dose2\": 0, \"new_deaths\": 145, \"total_deaths\": 1072}, {\"date\": \"2020-03-30\", \"new_cases\": 867, \"total_cases\": 9218, \"active_cases\": 883.0, \"mobilty\": 14.16, \"dose1\": 0, \"dose2\": 0, \"new_deaths\": 151, \"total_deaths\": 1223}, {\"date\": \"2020-03-31\", \"new_cases\": 935, \"total_cases\": 10153, \"active_cases\": 645.0, \"mobilty\": 13.92, \"dose1\": 0, \"dose2\": 0, \"new_deaths\": 183, \"total_deaths\": 1406}, {\"date\": \"2020-04-01\", \"new_cases\": 979, \"total_cases\": 11132, \"active_cases\": 767.0, \"mobilty\": 13.66, \"dose1\": 0, \"dose2\": 0, \"new_deaths\": 202, \"total_deaths\": 1608}, {\"date\": \"2020-04-02\", \"new_cases\": 1070, \"total_cases\": 12202, \"active_cases\": 835.0, \"mobilty\": 13.65, \"dose1\": 0, \"dose2\": 0, \"new_deaths\": 191, \"total_deaths\": 1799}, {\"date\": \"2020-04-03\", \"new_cases\": 981, \"total_cases\": 13183, \"active_cases\": 647.0, \"mobilty\": 13.36, \"dose1\": 0, \"dose2\": 0, \"new_deaths\": 199, \"total_deaths\": 1998}, {\"date\": \"2020-04-04\", \"new_cases\": 767, \"total_cases\": 13950, \"active_cases\": 733.0, \"mobilty\": 12.51, \"dose1\": 0, \"dose2\": 0, \"new_deaths\": 231, \"total_deaths\": 2229}, {\"date\": \"2020-04-05\", \"new_cases\": 633, \"total_cases\": 14583, \"active_cases\": 732.0, \"mobilty\": 12.83, \"dose1\": 0, \"dose2\": 0, \"new_deaths\": 195, \"total_deaths\": 2424}, {\"date\": \"2020-04-06\", \"new_cases\": 857, \"total_cases\": 15440, \"active_cases\": 743.0, \"mobilty\": 13.65, \"dose1\": 0, \"dose2\": 0, \"new_deaths\": 198, \"total_deaths\": 2622}, {\"date\": \"2020-04-07\", \"new_cases\": 950, \"total_cases\": 16390, \"active_cases\": 722.0, \"mobilty\": 13.36, \"dose1\": 0, \"dose2\": 0, \"new_deaths\": 220, \"total_deaths\": 2842}, {\"date\": \"2020-04-08\", \"new_cases\": 874, \"total_cases\": 17264, \"active_cases\": 744.0, \"mobilty\": 13.18, \"dose1\": 0, \"dose2\": 0, \"new_deaths\": 239, \"total_deaths\": 3081}, {\"date\": \"2020-04-09\", \"new_cases\": 800, \"total_cases\": 18064, \"active_cases\": 554.0, \"mobilty\": 13.25, \"dose1\": 0, \"dose2\": 0, \"new_deaths\": 207, \"total_deaths\": 3288}, {\"date\": \"2020-04-10\", \"new_cases\": 619, \"total_cases\": 18683, \"active_cases\": 531.0, \"mobilty\": 12.7, \"dose1\": 0, \"dose2\": 0, \"new_deaths\": 171, \"total_deaths\": 3459}, {\"date\": \"2020-04-11\", \"new_cases\": 519, \"total_cases\": 19202, \"active_cases\": 490.0, \"mobilty\": 12.1, \"dose1\": 0, \"dose2\": 0, \"new_deaths\": 178, \"total_deaths\": 3637}, {\"date\": \"2020-04-12\", \"new_cases\": 501, \"total_cases\": 19703, \"active_cases\": 384.0, \"mobilty\": 11.21, \"dose1\": 0, \"dose2\": 0, \"new_deaths\": 159, \"total_deaths\": 3796}, {\"date\": \"2020-04-13\", \"new_cases\": 596, \"total_cases\": 20299, \"active_cases\": 416.0, \"mobilty\": 12.72, \"dose1\": 0, \"dose2\": 0, \"new_deaths\": 166, \"total_deaths\": 3962}, {\"date\": \"2020-04-14\", \"new_cases\": 595, \"total_cases\": 20894, \"active_cases\": 447.0, \"mobilty\": 13.72, \"dose1\": 0, \"dose2\": 0, \"new_deaths\": 143, \"total_deaths\": 4105}, {\"date\": \"2020-04-15\", \"new_cases\": 659, \"total_cases\": 21553, \"active_cases\": 412.0, \"mobilty\": 13.91, \"dose1\": 0, \"dose2\": 0, \"new_deaths\": 143, \"total_deaths\": 4248}, {\"date\": \"2020-04-16\", \"new_cases\": 574, \"total_cases\": 22127, \"active_cases\": 388.0, \"mobilty\": 13.62, \"dose1\": 0, \"dose2\": 0, \"new_deaths\": 140, \"total_deaths\": 4388}, {\"date\": \"2020-04-17\", \"new_cases\": 580, \"total_cases\": 22707, \"active_cases\": 358.0, \"mobilty\": 13.17, \"dose1\": 0, \"dose2\": 0, \"new_deaths\": 101, \"total_deaths\": 4489}, {\"date\": \"2020-04-18\", \"new_cases\": 400, \"total_cases\": 23107, \"active_cases\": 283.0, \"mobilty\": 12.6, \"dose1\": 0, \"dose2\": 0, \"new_deaths\": 101, \"total_deaths\": 4590}, {\"date\": \"2020-04-19\", \"new_cases\": 395, \"total_cases\": 23502, \"active_cases\": 290.0, \"mobilty\": 13.58, \"dose1\": 0, \"dose2\": 0, \"new_deaths\": 104, \"total_deaths\": 4694}, {\"date\": \"2020-04-20\", \"new_cases\": 431, \"total_cases\": 23933, \"active_cases\": 308.0, \"mobilty\": 14.78, \"dose1\": 0, \"dose2\": 0, \"new_deaths\": 96, \"total_deaths\": 4790}, {\"date\": \"2020-04-21\", \"new_cases\": 466, \"total_cases\": 24399, \"active_cases\": 288.0, \"mobilty\": 14.7, \"dose1\": 0, \"dose2\": 0, \"new_deaths\": 96, \"total_deaths\": 4886}, {\"date\": \"2020-04-22\", \"new_cases\": 399, \"total_cases\": 24798, \"active_cases\": 225.0, \"mobilty\": 14.73, \"dose1\": 0, \"dose2\": 0, \"new_deaths\": 109, \"total_deaths\": 4995}, {\"date\": \"2020-04-23\", \"new_cases\": 520, \"total_cases\": 25318, \"active_cases\": 266.0, \"mobilty\": 14.85, \"dose1\": 0, \"dose2\": 0, \"new_deaths\": 77, \"total_deaths\": 5072}, {\"date\": \"2020-04-24\", \"new_cases\": 377, \"total_cases\": 25695, \"active_cases\": 171.0, \"mobilty\": 14.57, \"dose1\": 0, \"dose2\": 0, \"new_deaths\": 71, \"total_deaths\": 5143}, {\"date\": \"2020-04-25\", \"new_cases\": 333, \"total_cases\": 26028, \"active_cases\": 137.0, \"mobilty\": 14.42, \"dose1\": 0, \"dose2\": 0, \"new_deaths\": 58, \"total_deaths\": 5201}, {\"date\": \"2020-04-26\", \"new_cases\": 311, \"total_cases\": 26339, \"active_cases\": 187.0, \"mobilty\": 15.21, \"dose1\": 0, \"dose2\": 0, \"new_deaths\": 53, \"total_deaths\": 5254}, {\"date\": \"2020-04-27\", \"new_cases\": 418, \"total_cases\": 26757, \"active_cases\": 261.0, \"mobilty\": 15.41, \"dose1\": 0, \"dose2\": 0, \"new_deaths\": 52, \"total_deaths\": 5306}, {\"date\": \"2020-04-28\", \"new_cases\": 312, \"total_cases\": 27069, \"active_cases\": 248.0, \"mobilty\": 14.57, \"dose1\": 0, \"dose2\": 0, \"new_deaths\": 44, \"total_deaths\": 5350}, {\"date\": \"2020-04-29\", \"new_cases\": 428, \"total_cases\": 27497, \"active_cases\": 212.0, \"mobilty\": 15.04, \"dose1\": 0, \"dose2\": 0, \"new_deaths\": 45, \"total_deaths\": 5395}, {\"date\": \"2020-04-30\", \"new_cases\": 424, \"total_cases\": 27921, \"active_cases\": 183.0, \"mobilty\": 14.84, \"dose1\": 0, \"dose2\": 0, \"new_deaths\": 40, \"total_deaths\": 5435}, {\"date\": \"2020-05-01\", \"new_cases\": 354, \"total_cases\": 28275, \"active_cases\": 201.0, \"mobilty\": 15.62, \"dose1\": 0, \"dose2\": 0, \"new_deaths\": 41, \"total_deaths\": 5476}, {\"date\": \"2020-05-02\", \"new_cases\": 247, \"total_cases\": 28522, \"active_cases\": 150.0, \"mobilty\": 15.94, \"dose1\": 0, \"dose2\": 0, \"new_deaths\": 41, \"total_deaths\": 5517}, {\"date\": \"2020-05-03\", \"new_cases\": 167, \"total_cases\": 28689, \"active_cases\": 157.0, \"mobilty\": 16.21, \"dose1\": 0, \"dose2\": 0, \"new_deaths\": 36, \"total_deaths\": 5553}, {\"date\": \"2020-05-04\", \"new_cases\": 248, \"total_cases\": 28937, \"active_cases\": 169.0, \"mobilty\": 17.38, \"dose1\": 0, \"dose2\": 0, \"new_deaths\": 30, \"total_deaths\": 5583}, {\"date\": \"2020-05-05\", \"new_cases\": 216, \"total_cases\": 29153, \"active_cases\": 178.0, \"mobilty\": 17.57, \"dose1\": 0, \"dose2\": 0, \"new_deaths\": 25, \"total_deaths\": 5608}, {\"date\": \"2020-05-06\", \"new_cases\": 266, \"total_cases\": 29419, \"active_cases\": 216.0, \"mobilty\": 17.49, \"dose1\": 0, \"dose2\": 0, \"new_deaths\": 37, \"total_deaths\": 5645}, {\"date\": \"2020-05-07\", \"new_cases\": 273, \"total_cases\": 29692, \"active_cases\": 202.0, \"mobilty\": 17.67, \"dose1\": 0, \"dose2\": 0, \"new_deaths\": 37, \"total_deaths\": 5682}, {\"date\": \"2020-05-08\", \"new_cases\": 206, \"total_cases\": 29898, \"active_cases\": 99.0, \"mobilty\": 17.78, \"dose1\": 0, \"dose2\": 0, \"new_deaths\": 31, \"total_deaths\": 5713}, {\"date\": \"2020-05-09\", \"new_cases\": 128, \"total_cases\": 30026, \"active_cases\": 85.0, \"mobilty\": 18.45, \"dose1\": 0, \"dose2\": 0, \"new_deaths\": 23, \"total_deaths\": 5736}, {\"date\": \"2020-05-10\", \"new_cases\": 126, \"total_cases\": 30152, \"active_cases\": 86.0, \"mobilty\": 17.92, \"dose1\": 0, \"dose2\": 0, \"new_deaths\": 26, \"total_deaths\": 5762}, {\"date\": \"2020-05-11\", \"new_cases\": 162, \"total_cases\": 30314, \"active_cases\": 91.0, \"mobilty\": 17.7514285714286, \"dose1\": 0, \"dose2\": 0, \"new_deaths\": 18, \"total_deaths\": 5780}, {\"date\": \"2020-05-12\", \"new_cases\": 195, \"total_cases\": 30509, \"active_cases\": 80.0, \"mobilty\": 21.441428571428602, \"dose1\": 0, \"dose2\": 0, \"new_deaths\": 18, \"total_deaths\": 5798}, {\"date\": \"2020-05-13\", \"new_cases\": 204, \"total_cases\": 30713, \"active_cases\": 91.0, \"mobilty\": 19.95, \"dose1\": 0, \"dose2\": 0, \"new_deaths\": 17, \"total_deaths\": 5815}, {\"date\": \"2020-05-14\", \"new_cases\": 158, \"total_cases\": 30871, \"active_cases\": 91.0, \"mobilty\": 19.73, \"dose1\": 0, \"dose2\": 0, \"new_deaths\": 20, \"total_deaths\": 5835}, {\"date\": \"2020-05-15\", \"new_cases\": 132, \"total_cases\": 31003, \"active_cases\": 77.0, \"mobilty\": 20.81, \"dose1\": 0, \"dose2\": 0, \"new_deaths\": 19, \"total_deaths\": 5854}, {\"date\": \"2020-05-16\", \"new_cases\": 74, \"total_cases\": 31077, \"active_cases\": 59.0, \"mobilty\": 20.38, \"dose1\": 0, \"dose2\": 0, \"new_deaths\": 14, \"total_deaths\": 5868}, {\"date\": \"2020-05-17\", \"new_cases\": 78, \"total_cases\": 31155, \"active_cases\": 51.0, \"mobilty\": 21.57, \"dose1\": 0, \"dose2\": 0, \"new_deaths\": 16, \"total_deaths\": 5884}, {\"date\": \"2020-05-18\", \"new_cases\": 113, \"total_cases\": 31268, \"active_cases\": 74.0, \"mobilty\": 23.72, \"dose1\": 0, \"dose2\": 0, \"new_deaths\": 11, \"total_deaths\": 5895}, {\"date\": \"2020-05-19\", \"new_cases\": 129, \"total_cases\": 31397, \"active_cases\": 89.0, \"mobilty\": 23.93, \"dose1\": 0, \"dose2\": 0, \"new_deaths\": 14, \"total_deaths\": 5909}, {\"date\": \"2020-05-20\", \"new_cases\": 141, \"total_cases\": 31538, \"active_cases\": 71.0, \"mobilty\": 25.82, \"dose1\": 0, \"dose2\": 0, \"new_deaths\": 19, \"total_deaths\": 5928}, {\"date\": \"2020-05-21\", \"new_cases\": 157, \"total_cases\": 31695, \"active_cases\": 76.0, \"mobilty\": 24.67, \"dose1\": 0, \"dose2\": 0, \"new_deaths\": 12, \"total_deaths\": 5940}, {\"date\": \"2020-05-22\", \"new_cases\": 82, \"total_cases\": 31777, \"active_cases\": 77.0, \"mobilty\": 25.06, \"dose1\": 0, \"dose2\": 0, \"new_deaths\": 10, \"total_deaths\": 5950}, {\"date\": \"2020-05-23\", \"new_cases\": 65, \"total_cases\": 31842, \"active_cases\": 43.0, \"mobilty\": 24.28, \"dose1\": 0, \"dose2\": 0, \"new_deaths\": 6, \"total_deaths\": 5956}, {\"date\": \"2020-05-24\", \"new_cases\": 50, \"total_cases\": 31892, \"active_cases\": 41.0, \"mobilty\": 24.9, \"dose1\": 0, \"dose2\": 0, \"new_deaths\": 7, \"total_deaths\": 5963}, {\"date\": \"2020-05-25\", \"new_cases\": 57, \"total_cases\": 31949, \"active_cases\": 49.0, \"mobilty\": 29.48, \"dose1\": 0, \"dose2\": 0, \"new_deaths\": 9, \"total_deaths\": 5972}, {\"date\": \"2020-05-26\", \"new_cases\": 66, \"total_cases\": 32015, \"active_cases\": 67.0, \"mobilty\": 29.31, \"dose1\": 0, \"dose2\": 0, \"new_deaths\": 14, \"total_deaths\": 5986}, {\"date\": \"2020-05-27\", \"new_cases\": 85, \"total_cases\": 32100, \"active_cases\": 69.0, \"mobilty\": 28.33, \"dose1\": 0, \"dose2\": 0, \"new_deaths\": 7, \"total_deaths\": 5993}, {\"date\": \"2020-05-28\", \"new_cases\": 75, \"total_cases\": 32175, \"active_cases\": 57.0, \"mobilty\": 29.02, \"dose1\": 0, \"dose2\": 0, \"new_deaths\": 8, \"total_deaths\": 6001}, {\"date\": \"2020-05-29\", \"new_cases\": 56, \"total_cases\": 32231, \"active_cases\": 51.0, \"mobilty\": 30.22, \"dose1\": 0, \"dose2\": 0, \"new_deaths\": 7, \"total_deaths\": 6008}, {\"date\": \"2020-05-30\", \"new_cases\": 39, \"total_cases\": 32270, \"active_cases\": 30.0, \"mobilty\": 31.42, \"dose1\": 0, \"dose2\": 0, \"new_deaths\": 12, \"total_deaths\": 6020}, {\"date\": \"2020-05-31\", \"new_cases\": 38, \"total_cases\": 32308, \"active_cases\": 42.0, \"mobilty\": 31.19, \"dose1\": 0, \"dose2\": 0, \"new_deaths\": 6, \"total_deaths\": 6026}, {\"date\": \"2020-06-01\", \"new_cases\": 49, \"total_cases\": 32357, \"active_cases\": 48.0, \"mobilty\": 32.18, \"dose1\": 0, \"dose2\": 0, \"new_deaths\": 10, \"total_deaths\": 6036}, {\"date\": \"2020-06-02\", \"new_cases\": 49, \"total_cases\": 32406, \"active_cases\": 51.0, \"mobilty\": 32.59, \"dose1\": 0, \"dose2\": 0, \"new_deaths\": 8, \"total_deaths\": 6044}, {\"date\": \"2020-06-03\", \"new_cases\": 79, \"total_cases\": 32485, \"active_cases\": 68.0, \"mobilty\": 31.34, \"dose1\": 0, \"dose2\": 0, \"new_deaths\": 6, \"total_deaths\": 6050}, {\"date\": \"2020-06-04\", \"new_cases\": 57, \"total_cases\": 32542, \"active_cases\": 58.0, \"mobilty\": 29.03, \"dose1\": 0, \"dose2\": 0, \"new_deaths\": 8, \"total_deaths\": 6058}, {\"date\": \"2020-06-05\", \"new_cases\": 45, \"total_cases\": 32587, \"active_cases\": 50.0, \"mobilty\": 30.35, \"dose1\": 0, \"dose2\": 0, \"new_deaths\": 4, \"total_deaths\": 6062}, {\"date\": \"2020-06-06\", \"new_cases\": 47, \"total_cases\": 32634, \"active_cases\": 46.0, \"mobilty\": 31.14, \"dose1\": 0, \"dose2\": 0, \"new_deaths\": 0, \"total_deaths\": 6062}, {\"date\": \"2020-06-07\", \"new_cases\": 45, \"total_cases\": 32679, \"active_cases\": 56.0, \"mobilty\": 30.97, \"dose1\": 0, \"dose2\": 0, \"new_deaths\": 5, \"total_deaths\": 6067}, {\"date\": \"2020-06-08\", \"new_cases\": 57, \"total_cases\": 32736, \"active_cases\": 69.0, \"mobilty\": 31.01, \"dose1\": 0, \"dose2\": 0, \"new_deaths\": 5, \"total_deaths\": 6072}, {\"date\": \"2020-06-09\", \"new_cases\": 71, \"total_cases\": 32807, \"active_cases\": 35.0, \"mobilty\": 31.85, \"dose1\": 0, \"dose2\": 0, \"new_deaths\": 5, \"total_deaths\": 6077}, {\"date\": \"2020-06-10\", \"new_cases\": 52, \"total_cases\": 32859, \"active_cases\": 41.0, \"mobilty\": 30.17, \"dose1\": 0, \"dose2\": 0, \"new_deaths\": 8, \"total_deaths\": 6085}, {\"date\": \"2020-06-11\", \"new_cases\": 47, \"total_cases\": 32906, \"active_cases\": 32.0, \"mobilty\": 30.24, \"dose1\": 0, \"dose2\": 0, \"new_deaths\": 5, \"total_deaths\": 6090}, {\"date\": \"2020-06-12\", \"new_cases\": 53, \"total_cases\": 32959, \"active_cases\": 30.0, \"mobilty\": 33.37, \"dose1\": 0, \"dose2\": 0, \"new_deaths\": 3, \"total_deaths\": 6093}, {\"date\": \"2020-06-13\", \"new_cases\": 39, \"total_cases\": 32998, \"active_cases\": 20.0, \"mobilty\": 36.8, \"dose1\": 0, \"dose2\": 0, \"new_deaths\": 3, \"total_deaths\": 6096}, {\"date\": \"2020-06-14\", \"new_cases\": 31, \"total_cases\": 33029, \"active_cases\": 22.0, \"mobilty\": 35.0, \"dose1\": 0, \"dose2\": 0, \"new_deaths\": 3, \"total_deaths\": 6099}, {\"date\": \"2020-06-15\", \"new_cases\": 41, \"total_cases\": 33070, \"active_cases\": 49.0, \"mobilty\": 36.31, \"dose1\": 0, \"dose2\": 0, \"new_deaths\": 1, \"total_deaths\": 6100}, {\"date\": \"2020-06-16\", \"new_cases\": 47, \"total_cases\": 33117, \"active_cases\": 56.0, \"mobilty\": 35.46, \"dose1\": 0, \"dose2\": 0, \"new_deaths\": 2, \"total_deaths\": 6102}, {\"date\": \"2020-06-17\", \"new_cases\": 42, \"total_cases\": 33159, \"active_cases\": 56.0, \"mobilty\": 34.33, \"dose1\": 0, \"dose2\": 0, \"new_deaths\": 1, \"total_deaths\": 6103}, {\"date\": \"2020-06-18\", \"new_cases\": 46, \"total_cases\": 33205, \"active_cases\": 50.0, \"mobilty\": 35.35, \"dose1\": 0, \"dose2\": 0, \"new_deaths\": 2, \"total_deaths\": 6105}, {\"date\": \"2020-06-19\", \"new_cases\": 37, \"total_cases\": 33242, \"active_cases\": 47.0, \"mobilty\": 38.17, \"dose1\": 0, \"dose2\": 0, \"new_deaths\": 5, \"total_deaths\": 6110}, {\"date\": \"2020-06-20\", \"new_cases\": 29, \"total_cases\": 33271, \"active_cases\": 19.0, \"mobilty\": 41.19, \"dose1\": 0, \"dose2\": 0, \"new_deaths\": 3, \"total_deaths\": 6113}, {\"date\": \"2020-06-21\", \"new_cases\": 27, \"total_cases\": 33298, \"active_cases\": 25.0, \"mobilty\": 35.95, \"dose1\": 0, \"dose2\": 0, \"new_deaths\": 4, \"total_deaths\": 6117}, {\"date\": \"2020-06-22\", \"new_cases\": 51, \"total_cases\": 33349, \"active_cases\": 60.0, \"mobilty\": 42.1, \"dose1\": 0, \"dose2\": 0, \"new_deaths\": 2, \"total_deaths\": 6119}, {\"date\": \"2020-06-23\", \"new_cases\": 49, \"total_cases\": 33398, \"active_cases\": 69.0, \"mobilty\": 44.45, \"dose1\": 0, \"dose2\": 0, \"new_deaths\": 1, \"total_deaths\": 6120}, {\"date\": \"2020-06-24\", \"new_cases\": 46, \"total_cases\": 33444, \"active_cases\": 51.0, \"mobilty\": 46.58, \"dose1\": 0, \"dose2\": 0, \"new_deaths\": 4, \"total_deaths\": 6124}, {\"date\": \"2020-06-25\", \"new_cases\": 57, \"total_cases\": 33501, \"active_cases\": 47.0, \"mobilty\": 48.25, \"dose1\": 0, \"dose2\": 0, \"new_deaths\": 3, \"total_deaths\": 6127}, {\"date\": \"2020-06-26\", \"new_cases\": 48, \"total_cases\": 33549, \"active_cases\": 39.0, \"mobilty\": 47.16, \"dose1\": 0, \"dose2\": 0, \"new_deaths\": 2, \"total_deaths\": 6129}, {\"date\": \"2020-06-27\", \"new_cases\": 32, \"total_cases\": 33581, \"active_cases\": 29.0, \"mobilty\": 44.12, \"dose1\": 0, \"dose2\": 0, \"new_deaths\": 1, \"total_deaths\": 6130}, {\"date\": \"2020-06-28\", \"new_cases\": 22, \"total_cases\": 33603, \"active_cases\": 18.0, \"mobilty\": 41.37, \"dose1\": 0, \"dose2\": 0, \"new_deaths\": 2, \"total_deaths\": 6132}, {\"date\": \"2020-06-29\", \"new_cases\": 58, \"total_cases\": 33661, \"active_cases\": 20.0, \"mobilty\": 43.61, \"dose1\": 0, \"dose2\": 0, \"new_deaths\": 2, \"total_deaths\": 6134}, {\"date\": \"2020-06-30\", \"new_cases\": 52, \"total_cases\": 33713, \"active_cases\": 28.0, \"mobilty\": 42.79, \"dose1\": 0, \"dose2\": 0, \"new_deaths\": 1, \"total_deaths\": 6135}, {\"date\": \"2020-07-01\", \"new_cases\": 42, \"total_cases\": 33755, \"active_cases\": 53.0, \"mobilty\": 43.47, \"dose1\": 0, \"dose2\": 0, \"new_deaths\": 3, \"total_deaths\": 6138}, {\"date\": \"2020-07-02\", \"new_cases\": 40, \"total_cases\": 33795, \"active_cases\": 27.0, \"mobilty\": 43.29, \"dose1\": 0, \"dose2\": 0, \"new_deaths\": 2, \"total_deaths\": 6140}, {\"date\": \"2020-07-03\", \"new_cases\": 38, \"total_cases\": 33833, \"active_cases\": 20.0, \"mobilty\": 47.43, \"dose1\": 0, \"dose2\": 0, \"new_deaths\": 2, \"total_deaths\": 6142}, {\"date\": \"2020-07-04\", \"new_cases\": 32, \"total_cases\": 33865, \"active_cases\": 16.0, \"mobilty\": 50.91, \"dose1\": 0, \"dose2\": 0, \"new_deaths\": 1, \"total_deaths\": 6143}, {\"date\": \"2020-07-05\", \"new_cases\": 51, \"total_cases\": 33916, \"active_cases\": 23.0, \"mobilty\": 48.68, \"dose1\": 0, \"dose2\": 0, \"new_deaths\": 3, \"total_deaths\": 6146}, {\"date\": \"2020-07-06\", \"new_cases\": 54, \"total_cases\": 33970, \"active_cases\": 30.0, \"mobilty\": 51.02, \"dose1\": 0, \"dose2\": 0, \"new_deaths\": 2, \"total_deaths\": 6148}, {\"date\": \"2020-07-07\", \"new_cases\": 60, \"total_cases\": 34030, \"active_cases\": 26.0, \"mobilty\": 50.86, \"dose1\": 0, \"dose2\": 0, \"new_deaths\": 1, \"total_deaths\": 6149}, {\"date\": \"2020-07-08\", \"new_cases\": 57, \"total_cases\": 34087, \"active_cases\": 30.0, \"mobilty\": 49.03, \"dose1\": 0, \"dose2\": 0, \"new_deaths\": 3, \"total_deaths\": 6152}, {\"date\": \"2020-07-09\", \"new_cases\": 54, \"total_cases\": 34141, \"active_cases\": 27.0, \"mobilty\": 50.37, \"dose1\": 0, \"dose2\": 0, \"new_deaths\": 4, \"total_deaths\": 6156}, {\"date\": \"2020-07-10\", \"new_cases\": 41, \"total_cases\": 34182, \"active_cases\": 26.0, \"mobilty\": 56.37, \"dose1\": 0, \"dose2\": 0, \"new_deaths\": 0, \"total_deaths\": 6156}, {\"date\": \"2020-07-11\", \"new_cases\": 20, \"total_cases\": 34202, \"active_cases\": 17.0, \"mobilty\": 58.84, \"dose1\": 0, \"dose2\": 0, \"new_deaths\": 1, \"total_deaths\": 6157}, {\"date\": \"2020-07-12\", \"new_cases\": 38, \"total_cases\": 34240, \"active_cases\": 16.0, \"mobilty\": 53.15, \"dose1\": 0, \"dose2\": 0, \"new_deaths\": 1, \"total_deaths\": 6158}, {\"date\": \"2020-07-13\", \"new_cases\": 85, \"total_cases\": 34325, \"active_cases\": 18.0, \"mobilty\": 54.79, \"dose1\": 0, \"dose2\": 0, \"new_deaths\": 1, \"total_deaths\": 6159}, {\"date\": \"2020-07-14\", \"new_cases\": 62, \"total_cases\": 34387, \"active_cases\": 19.0, \"mobilty\": 55.14, \"dose1\": 0, \"dose2\": 0, \"new_deaths\": 0, \"total_deaths\": 6159}, {\"date\": \"2020-07-15\", \"new_cases\": 76, \"total_cases\": 34463, \"active_cases\": 22.0, \"mobilty\": 56.33, \"dose1\": 0, \"dose2\": 0, \"new_deaths\": 2, \"total_deaths\": 6161}, {\"date\": \"2020-07-16\", \"new_cases\": 70, \"total_cases\": 34533, \"active_cases\": 24.0, \"mobilty\": 57.31, \"dose1\": 0, \"dose2\": 0, \"new_deaths\": 0, \"total_deaths\": 6161}, {\"date\": \"2020-07-17\", \"new_cases\": 48, \"total_cases\": 34581, \"active_cases\": 18.0, \"mobilty\": 66.2, \"dose1\": 0, \"dose2\": 0, \"new_deaths\": 0, \"total_deaths\": 6161}, {\"date\": \"2020-07-18\", \"new_cases\": 47, \"total_cases\": 34628, \"active_cases\": 5.0, \"mobilty\": 66.06, \"dose1\": 0, \"dose2\": 0, \"new_deaths\": 2, \"total_deaths\": 6163}, {\"date\": \"2020-07-19\", \"new_cases\": 41, \"total_cases\": 34669, \"active_cases\": 7.0, \"mobilty\": 54.74, \"dose1\": 0, \"dose2\": 0, \"new_deaths\": 0, \"total_deaths\": 6163}, {\"date\": \"2020-07-20\", \"new_cases\": 97, \"total_cases\": 34766, \"active_cases\": 14.0, \"mobilty\": 60.56, \"dose1\": 0, \"dose2\": 0, \"new_deaths\": 0, \"total_deaths\": 6163}, {\"date\": \"2020-07-21\", \"new_cases\": 81, \"total_cases\": 34847, \"active_cases\": 11.0, \"mobilty\": 60.34, \"dose1\": 0, \"dose2\": 0, \"new_deaths\": 1, \"total_deaths\": 6164}, {\"date\": \"2020-07-22\", \"new_cases\": 80, \"total_cases\": 34927, \"active_cases\": 11.0, \"mobilty\": 61.47, \"dose1\": 0, \"dose2\": 0, \"new_deaths\": 0, \"total_deaths\": 6164}, {\"date\": \"2020-07-23\", \"new_cases\": 70, \"total_cases\": 34997, \"active_cases\": 14.0, \"mobilty\": 61.78, \"dose1\": 0, \"dose2\": 0, \"new_deaths\": 2, \"total_deaths\": 6166}, {\"date\": \"2020-07-24\", \"new_cases\": 83, \"total_cases\": 35080, \"active_cases\": 15.0, \"mobilty\": 66.13, \"dose1\": 0, \"dose2\": 0, \"new_deaths\": 0, \"total_deaths\": 6166}, {\"date\": \"2020-07-25\", \"new_cases\": 56, \"total_cases\": 35136, \"active_cases\": 5.0, \"mobilty\": 64.0, \"dose1\": 0, \"dose2\": 0, \"new_deaths\": 1, \"total_deaths\": 6167}, {\"date\": \"2020-07-26\", \"new_cases\": 65, \"total_cases\": 35201, \"active_cases\": 9.0, \"mobilty\": 59.57, \"dose1\": 0, \"dose2\": 0, \"new_deaths\": 0, \"total_deaths\": 6167}, {\"date\": \"2020-07-27\", \"new_cases\": 100, \"total_cases\": 35301, \"active_cases\": 10.0, \"mobilty\": 61.11, \"dose1\": 0, \"dose2\": 0, \"new_deaths\": 1, \"total_deaths\": 6168}, {\"date\": \"2020-07-28\", \"new_cases\": 100, \"total_cases\": 35401, \"active_cases\": 7.0, \"mobilty\": 63.55, \"dose1\": 0, \"dose2\": 0, \"new_deaths\": 0, \"total_deaths\": 6168}, {\"date\": \"2020-07-29\", \"new_cases\": 99, \"total_cases\": 35500, \"active_cases\": 11.0, \"mobilty\": 65.72, \"dose1\": 0, \"dose2\": 0, \"new_deaths\": 0, \"total_deaths\": 6168}, {\"date\": \"2020-07-30\", \"new_cases\": 102, \"total_cases\": 35602, \"active_cases\": 5.0, \"mobilty\": 67.3, \"dose1\": 0, \"dose2\": 0, \"new_deaths\": 1, \"total_deaths\": 6169}, {\"date\": \"2020-07-31\", \"new_cases\": 73, \"total_cases\": 35675, \"active_cases\": 2.0, \"mobilty\": 71.84, \"dose1\": 0, \"dose2\": 0, \"new_deaths\": 0, \"total_deaths\": 6169}, {\"date\": \"2020-08-01\", \"new_cases\": 58, \"total_cases\": 35733, \"active_cases\": 5.0, \"mobilty\": 70.88, \"dose1\": 0, \"dose2\": 0, \"new_deaths\": 0, \"total_deaths\": 6169}, {\"date\": \"2020-08-02\", \"new_cases\": 75, \"total_cases\": 35808, \"active_cases\": 10.0, \"mobilty\": 63.94, \"dose1\": 0, \"dose2\": 0, \"new_deaths\": 3, \"total_deaths\": 6172}, {\"date\": \"2020-08-03\", \"new_cases\": 87, \"total_cases\": 35895, \"active_cases\": 2.0, \"mobilty\": 67.07, \"dose1\": 0, \"dose2\": 0, \"new_deaths\": 0, \"total_deaths\": 6172}, {\"date\": \"2020-08-04\", \"new_cases\": 104, \"total_cases\": 35999, \"active_cases\": 5.0, \"mobilty\": 67.67, \"dose1\": 0, \"dose2\": 0, \"new_deaths\": 0, \"total_deaths\": 6172}, {\"date\": \"2020-08-05\", \"new_cases\": 113, \"total_cases\": 36112, \"active_cases\": 12.0, \"mobilty\": 70.56, \"dose1\": 0, \"dose2\": 0, \"new_deaths\": 0, \"total_deaths\": 6172}, {\"date\": \"2020-08-06\", \"new_cases\": 104, \"total_cases\": 36216, \"active_cases\": 7.0, \"mobilty\": 70.5, \"dose1\": 0, \"dose2\": 0, \"new_deaths\": 1, \"total_deaths\": 6173}, {\"date\": \"2020-08-07\", \"new_cases\": 122, \"total_cases\": 36338, \"active_cases\": 7.0, \"mobilty\": 74.41, \"dose1\": 0, \"dose2\": 0, \"new_deaths\": 0, \"total_deaths\": 6173}, {\"date\": \"2020-08-08\", \"new_cases\": 55, \"total_cases\": 36393, \"active_cases\": 2.0, \"mobilty\": 74.12, \"dose1\": 0, \"dose2\": 0, \"new_deaths\": 0, \"total_deaths\": 6173}, {\"date\": \"2020-08-09\", \"new_cases\": 67, \"total_cases\": 36460, \"active_cases\": 10.0, \"mobilty\": 65.9, \"dose1\": 0, \"dose2\": 0, \"new_deaths\": 0, \"total_deaths\": 6173}, {\"date\": \"2020-08-10\", \"new_cases\": 143, \"total_cases\": 36603, \"active_cases\": 9.0, \"mobilty\": 71.63, \"dose1\": 0, \"dose2\": 0, \"new_deaths\": 0, \"total_deaths\": 6173}, {\"date\": \"2020-08-11\", \"new_cases\": 149, \"total_cases\": 36752, \"active_cases\": 18.0, \"mobilty\": 69.3, \"dose1\": 0, \"dose2\": 0, \"new_deaths\": 1, \"total_deaths\": 6174}, {\"date\": \"2020-08-12\", \"new_cases\": 160, \"total_cases\": 36912, \"active_cases\": 5.0, \"mobilty\": 68.04, \"dose1\": 0, \"dose2\": 0, \"new_deaths\": 0, \"total_deaths\": 6174}, {\"date\": \"2020-08-13\", \"new_cases\": 124, \"total_cases\": 37036, \"active_cases\": 9.0, \"mobilty\": 68.66, \"dose1\": 0, \"dose2\": 0, \"new_deaths\": 2, \"total_deaths\": 6176}, {\"date\": \"2020-08-14\", \"new_cases\": 126, \"total_cases\": 37162, \"active_cases\": 8.0, \"mobilty\": 71.88, \"dose1\": 0, \"dose2\": 0, \"new_deaths\": 0, \"total_deaths\": 6176}, {\"date\": \"2020-08-15\", \"new_cases\": 106, \"total_cases\": 37268, \"active_cases\": 4.0, \"mobilty\": 71.68, \"dose1\": 0, \"dose2\": 0, \"new_deaths\": 0, \"total_deaths\": 6176}, {\"date\": \"2020-08-16\", \"new_cases\": 88, \"total_cases\": 37356, \"active_cases\": 7.0, \"mobilty\": 64.36, \"dose1\": 0, \"dose2\": 0, \"new_deaths\": 0, \"total_deaths\": 6176}, {\"date\": \"2020-08-17\", \"new_cases\": 189, \"total_cases\": 37545, \"active_cases\": 2.0, \"mobilty\": 72.27, \"dose1\": 0, \"dose2\": 0, \"new_deaths\": 1, \"total_deaths\": 6177}, {\"date\": \"2020-08-18\", \"new_cases\": 181, \"total_cases\": 37726, \"active_cases\": 6.0, \"mobilty\": 73.98, \"dose1\": 0, \"dose2\": 0, \"new_deaths\": 1, \"total_deaths\": 6178}, {\"date\": \"2020-08-19\", \"new_cases\": 151, \"total_cases\": 37877, \"active_cases\": 7.0, \"mobilty\": 72.56, \"dose1\": 0, \"dose2\": 0, \"new_deaths\": 0, \"total_deaths\": 6178}, {\"date\": \"2020-08-20\", \"new_cases\": 204, \"total_cases\": 38081, \"active_cases\": 6.0, \"mobilty\": 75.51, \"dose1\": 0, \"dose2\": 0, \"new_deaths\": 1, \"total_deaths\": 6179}, {\"date\": \"2020-08-21\", \"new_cases\": 166, \"total_cases\": 38247, \"active_cases\": 5.0, \"mobilty\": 77.49, \"dose1\": 0, \"dose2\": 0, \"new_deaths\": 0, \"total_deaths\": 6179}, {\"date\": \"2020-08-22\", \"new_cases\": 119, \"total_cases\": 38366, \"active_cases\": 3.0, \"mobilty\": 81.13, \"dose1\": 0, \"dose2\": 0, \"new_deaths\": 0, \"total_deaths\": 6179}, {\"date\": \"2020-08-23\", \"new_cases\": 144, \"total_cases\": 38510, \"active_cases\": 8.0, \"mobilty\": 70.64, \"dose1\": 0, \"dose2\": 0, \"new_deaths\": 0, \"total_deaths\": 6179}, {\"date\": \"2020-08-24\", \"new_cases\": 195, \"total_cases\": 38705, \"active_cases\": 6.0, \"mobilty\": 76.94, \"dose1\": 0, \"dose2\": 0, \"new_deaths\": 1, \"total_deaths\": 6180}, {\"date\": \"2020-08-25\", \"new_cases\": 171, \"total_cases\": 38876, \"active_cases\": 9.0, \"mobilty\": 78.02, \"dose1\": 0, \"dose2\": 0, \"new_deaths\": 1, \"total_deaths\": 6181}, {\"date\": \"2020-08-26\", \"new_cases\": 164, \"total_cases\": 39040, \"active_cases\": 5.0, \"mobilty\": 82.89, \"dose1\": 0, \"dose2\": 0, \"new_deaths\": 0, \"total_deaths\": 6181}, {\"date\": \"2020-08-27\", \"new_cases\": 229, \"total_cases\": 39269, \"active_cases\": 5.0, \"mobilty\": 74.0, \"dose1\": 0, \"dose2\": 0, \"new_deaths\": 0, \"total_deaths\": 6181}, {\"date\": \"2020-08-28\", \"new_cases\": 221, \"total_cases\": 39490, \"active_cases\": 11.0, \"mobilty\": 80.93, \"dose1\": 0, \"dose2\": 0, \"new_deaths\": 0, \"total_deaths\": 6181}, {\"date\": \"2020-08-29\", \"new_cases\": 139, \"total_cases\": 39629, \"active_cases\": 6.0, \"mobilty\": 83.81, \"dose1\": 0, \"dose2\": 0, \"new_deaths\": 0, \"total_deaths\": 6181}, {\"date\": \"2020-08-30\", \"new_cases\": 133, \"total_cases\": 39762, \"active_cases\": 6.0, \"mobilty\": 76.04, \"dose1\": 0, \"dose2\": 0, \"new_deaths\": 0, \"total_deaths\": 6181}, {\"date\": \"2020-08-31\", \"new_cases\": 216, \"total_cases\": 39978, \"active_cases\": 6.0, \"mobilty\": 83.39, \"dose1\": 0, \"dose2\": 0, \"new_deaths\": 1, \"total_deaths\": 6182}, {\"date\": \"2020-09-01\", \"new_cases\": 314, \"total_cases\": 40292, \"active_cases\": 6.0, \"mobilty\": 81.02, \"dose1\": 0, \"dose2\": 0, \"new_deaths\": 0, \"total_deaths\": 6182}, {\"date\": \"2020-09-02\", \"new_cases\": 333, \"total_cases\": 40625, \"active_cases\": 11.0, \"mobilty\": 82.55, \"dose1\": 0, \"dose2\": 0, \"new_deaths\": 1, \"total_deaths\": 6183}, {\"date\": \"2020-09-03\", \"new_cases\": 348, \"total_cases\": 40973, \"active_cases\": 15.0, \"mobilty\": 82.17, \"dose1\": 0, \"dose2\": 0, \"new_deaths\": 1, \"total_deaths\": 6184}, {\"date\": \"2020-09-04\", \"new_cases\": 355, \"total_cases\": 41328, \"active_cases\": 11.0, \"mobilty\": 86.65, \"dose1\": 0, \"dose2\": 0, \"new_deaths\": 0, \"total_deaths\": 6184}, {\"date\": \"2020-09-05\", \"new_cases\": 270, \"total_cases\": 41598, \"active_cases\": 23.0, \"mobilty\": 88.04, \"dose1\": 0, \"dose2\": 0, \"new_deaths\": 0, \"total_deaths\": 6184}, {\"date\": \"2020-09-06\", \"new_cases\": 205, \"total_cases\": 41803, \"active_cases\": 12.0, \"mobilty\": 79.68, \"dose1\": 0, \"dose2\": 0, \"new_deaths\": 2, \"total_deaths\": 6186}, {\"date\": \"2020-09-07\", \"new_cases\": 463, \"total_cases\": 42266, \"active_cases\": 5.0, \"mobilty\": 82.09, \"dose1\": 0, \"dose2\": 0, \"new_deaths\": 0, \"total_deaths\": 6186}, {\"date\": \"2020-09-08\", \"new_cases\": 342, \"total_cases\": 42608, \"active_cases\": 11.0, \"mobilty\": 82.83, \"dose1\": 0, \"dose2\": 0, \"new_deaths\": 0, \"total_deaths\": 6186}, {\"date\": \"2020-09-09\", \"new_cases\": 344, \"total_cases\": 42952, \"active_cases\": 17.0, \"mobilty\": 81.07, \"dose1\": 0, \"dose2\": 0, \"new_deaths\": 0, \"total_deaths\": 6186}, {\"date\": \"2020-09-10\", \"new_cases\": 391, \"total_cases\": 43343, \"active_cases\": 19.0, \"mobilty\": 81.32, \"dose1\": 0, \"dose2\": 0, \"new_deaths\": 2, \"total_deaths\": 6188}, {\"date\": \"2020-09-11\", \"new_cases\": 331, \"total_cases\": 43674, \"active_cases\": 13.0, \"mobilty\": 86.93, \"dose1\": 0, \"dose2\": 0, \"new_deaths\": 1, \"total_deaths\": 6189}, {\"date\": \"2020-09-12\", \"new_cases\": 229, \"total_cases\": 43903, \"active_cases\": 19.0, \"mobilty\": 92.73, \"dose1\": 0, \"dose2\": 0, \"new_deaths\": 1, \"total_deaths\": 6190}, {\"date\": \"2020-09-13\", \"new_cases\": 112, \"total_cases\": 44015, \"active_cases\": 23.0, \"mobilty\": 82.51, \"dose1\": 0, \"dose2\": 0, \"new_deaths\": 0, \"total_deaths\": 6190}, {\"date\": \"2020-09-14\", \"new_cases\": 297, \"total_cases\": 44312, \"active_cases\": 31.0, \"mobilty\": 83.06, \"dose1\": 0, \"dose2\": 0, \"new_deaths\": 0, \"total_deaths\": 6190}, {\"date\": \"2020-09-15\", \"new_cases\": 270, \"total_cases\": 44582, \"active_cases\": 26.0, \"mobilty\": 83.16, \"dose1\": 0, \"dose2\": 0, \"new_deaths\": 1, \"total_deaths\": 6191}, {\"date\": \"2020-09-16\", \"new_cases\": 292, \"total_cases\": 44874, \"active_cases\": 25.0, \"mobilty\": 83.36, \"dose1\": 0, \"dose2\": 0, \"new_deaths\": 2, \"total_deaths\": 6193}, {\"date\": \"2020-09-17\", \"new_cases\": 323, \"total_cases\": 45197, \"active_cases\": 28.0, \"mobilty\": 84.44, \"dose1\": 0, \"dose2\": 0, \"new_deaths\": 2, \"total_deaths\": 6195}, {\"date\": \"2020-09-18\", \"new_cases\": 386, \"total_cases\": 45583, \"active_cases\": 41.0, \"mobilty\": 88.49, \"dose1\": 0, \"dose2\": 0, \"new_deaths\": 1, \"total_deaths\": 6196}, {\"date\": \"2020-09-19\", \"new_cases\": 338, \"total_cases\": 45921, \"active_cases\": 32.0, \"mobilty\": 93.2, \"dose1\": 0, \"dose2\": 0, \"new_deaths\": 3, \"total_deaths\": 6199}, {\"date\": \"2020-09-20\", \"new_cases\": 409, \"total_cases\": 46330, \"active_cases\": 38.0, \"mobilty\": 82.1, \"dose1\": 0, \"dose2\": 0, \"new_deaths\": 3, \"total_deaths\": 6202}, {\"date\": \"2020-09-21\", \"new_cases\": 427, \"total_cases\": 46757, \"active_cases\": 44.0, \"mobilty\": 79.03, \"dose1\": 0, \"dose2\": 0, \"new_deaths\": 2, \"total_deaths\": 6204}, {\"date\": \"2020-09-22\", \"new_cases\": 518, \"total_cases\": 47275, \"active_cases\": 35.0, \"mobilty\": 79.07, \"dose1\": 0, \"dose2\": 0, \"new_deaths\": 6, \"total_deaths\": 6210}, {\"date\": \"2020-09-23\", \"new_cases\": 657, \"total_cases\": 47932, \"active_cases\": 36.0, \"mobilty\": 76.77, \"dose1\": 0, \"dose2\": 0, \"new_deaths\": 4, \"total_deaths\": 6214}, {\"date\": \"2020-09-24\", \"new_cases\": 599, \"total_cases\": 48531, \"active_cases\": 47.0, \"mobilty\": 74.67, \"dose1\": 0, \"dose2\": 0, \"new_deaths\": 3, \"total_deaths\": 6217}, {\"date\": \"2020-09-25\", \"new_cases\": 602, \"total_cases\": 49133, \"active_cases\": 36.0, \"mobilty\": 84.0, \"dose1\": 0, \"dose2\": 0, \"new_deaths\": 1, \"total_deaths\": 6218}, {\"date\": \"2020-09-26\", \"new_cases\": 548, \"total_cases\": 49681, \"active_cases\": 28.0, \"mobilty\": 85.32, \"dose1\": 0, \"dose2\": 0, \"new_deaths\": 1, \"total_deaths\": 6219}, {\"date\": \"2020-09-27\", \"new_cases\": 528, \"total_cases\": 50209, \"active_cases\": 23.0, \"mobilty\": 73.91, \"dose1\": 0, \"dose2\": 0, \"new_deaths\": 1, \"total_deaths\": 6220}, {\"date\": \"2020-09-28\", \"new_cases\": 742, \"total_cases\": 50951, \"active_cases\": 28.0, \"mobilty\": 74.13, \"dose1\": 0, \"dose2\": 0, \"new_deaths\": 3, \"total_deaths\": 6223}, {\"date\": \"2020-09-29\", \"new_cases\": 700, \"total_cases\": 51651, \"active_cases\": 36.0, \"mobilty\": 74.72, \"dose1\": 0, \"dose2\": 0, \"new_deaths\": 7, \"total_deaths\": 6230}, {\"date\": \"2020-09-30\", \"new_cases\": 988, \"total_cases\": 52639, \"active_cases\": 31.0, \"mobilty\": 75.83, \"dose1\": 0, \"dose2\": 0, \"new_deaths\": 6, \"total_deaths\": 6236}, {\"date\": \"2020-10-01\", \"new_cases\": 1071, \"total_cases\": 53710, \"active_cases\": 50.0, \"mobilty\": 74.27, \"dose1\": 0, \"dose2\": 0, \"new_deaths\": 4, \"total_deaths\": 6240}, {\"date\": \"2020-10-02\", \"new_cases\": 1037, \"total_cases\": 54747, \"active_cases\": 37.0, \"mobilty\": 78.77, \"dose1\": 0, \"dose2\": 0, \"new_deaths\": 1, \"total_deaths\": 6241}, {\"date\": \"2020-10-03\", \"new_cases\": 791, \"total_cases\": 55538, \"active_cases\": 38.0, \"mobilty\": 83.45, \"dose1\": 0, \"dose2\": 0, \"new_deaths\": 3, \"total_deaths\": 6244}, {\"date\": \"2020-10-04\", \"new_cases\": 819, \"total_cases\": 56357, \"active_cases\": 27.0, \"mobilty\": 71.61, \"dose1\": 0, \"dose2\": 0, \"new_deaths\": 2, \"total_deaths\": 6246}, {\"date\": \"2020-10-05\", \"new_cases\": 1290, \"total_cases\": 57647, \"active_cases\": 47.0, \"mobilty\": 72.35, \"dose1\": 0, \"dose2\": 0, \"new_deaths\": 7, \"total_deaths\": 6253}, {\"date\": \"2020-10-06\", \"new_cases\": 1168, \"total_cases\": 58815, \"active_cases\": 43.0, \"mobilty\": 72.59, \"dose1\": 0, \"dose2\": 0, \"new_deaths\": 4, \"total_deaths\": 6257}, {\"date\": \"2020-10-07\", \"new_cases\": 1403, \"total_cases\": 60218, \"active_cases\": 46.0, \"mobilty\": 76.47, \"dose1\": 0, \"dose2\": 0, \"new_deaths\": 6, \"total_deaths\": 6263}, {\"date\": \"2020-10-08\", \"new_cases\": 1474, \"total_cases\": 61692, \"active_cases\": 39.0, \"mobilty\": 74.92, \"dose1\": 0, \"dose2\": 0, \"new_deaths\": 6, \"total_deaths\": 6269}, {\"date\": \"2020-10-09\", \"new_cases\": 1345, \"total_cases\": 63037, \"active_cases\": 55.0, \"mobilty\": 83.01, \"dose1\": 0, \"dose2\": 0, \"new_deaths\": 7, \"total_deaths\": 6276}, {\"date\": \"2020-10-10\", \"new_cases\": 872, \"total_cases\": 63909, \"active_cases\": 51.0, \"mobilty\": 90.52, \"dose1\": 0, \"dose2\": 0, \"new_deaths\": 3, \"total_deaths\": 6279}, {\"date\": \"2020-10-11\", \"new_cases\": 741, \"total_cases\": 64650, \"active_cases\": 50.0, \"mobilty\": 77.91, \"dose1\": 0, \"dose2\": 0, \"new_deaths\": 5, \"total_deaths\": 6284}, {\"date\": \"2020-10-12\", \"new_cases\": 1572, \"total_cases\": 66222, \"active_cases\": 69.0, \"mobilty\": 69.02, \"dose1\": 0, \"dose2\": 0, \"new_deaths\": 7, \"total_deaths\": 6291}, {\"date\": \"2020-10-13\", \"new_cases\": 1424, \"total_cases\": 67646, \"active_cases\": 73.0, \"mobilty\": 70.55, \"dose1\": 0, \"dose2\": 0, \"new_deaths\": 4, \"total_deaths\": 6295}, {\"date\": \"2020-10-14\", \"new_cases\": 1622, \"total_cases\": 69268, \"active_cases\": 76.0, \"mobilty\": 72.4, \"dose1\": 0, \"dose2\": 0, \"new_deaths\": 6, \"total_deaths\": 6301}, {\"date\": \"2020-10-15\", \"new_cases\": 1719, \"total_cases\": 70987, \"active_cases\": 78.0, \"mobilty\": 71.33, \"dose1\": 0, \"dose2\": 0, \"new_deaths\": 13, \"total_deaths\": 6314}, {\"date\": \"2020-10-16\", \"new_cases\": 1652, \"total_cases\": 72639, \"active_cases\": 67.0, \"mobilty\": 81.68, \"dose1\": 0, \"dose2\": 0, \"new_deaths\": 6, \"total_deaths\": 6320}, {\"date\": \"2020-10-17\", \"new_cases\": 1107, \"total_cases\": 73746, \"active_cases\": 87.0, \"mobilty\": 78.48, \"dose1\": 0, \"dose2\": 0, \"new_deaths\": 2, \"total_deaths\": 6322}, {\"date\": \"2020-10-18\", \"new_cases\": 1295, \"total_cases\": 75041, \"active_cases\": 95.0, \"mobilty\": 70.35, \"dose1\": 0, \"dose2\": 0, \"new_deaths\": 5, \"total_deaths\": 6327}, {\"date\": \"2020-10-19\", \"new_cases\": 2334, \"total_cases\": 77375, \"active_cases\": 90.0, \"mobilty\": 67.06, \"dose1\": 0, \"dose2\": 0, \"new_deaths\": 11, \"total_deaths\": 6338}, {\"date\": \"2020-10-20\", \"new_cases\": 2313, \"total_cases\": 79688, \"active_cases\": 89.0, \"mobilty\": 68.22, \"dose1\": 0, \"dose2\": 0, \"new_deaths\": 8, \"total_deaths\": 6346}, {\"date\": \"2020-10-21\", \"new_cases\": 2350, \"total_cases\": 82038, \"active_cases\": 114.0, \"mobilty\": 67.63, \"dose1\": 0, \"dose2\": 0, \"new_deaths\": 14, \"total_deaths\": 6360}, {\"date\": \"2020-10-22\", \"new_cases\": 2170, \"total_cases\": 84208, \"active_cases\": 108.0, \"mobilty\": 69.62, \"dose1\": 0, \"dose2\": 0, \"new_deaths\": 12, \"total_deaths\": 6372}, {\"date\": \"2020-10-23\", \"new_cases\": 2000, \"total_cases\": 86208, \"active_cases\": 125.0, \"mobilty\": 77.23, \"dose1\": 0, \"dose2\": 0, \"new_deaths\": 7, \"total_deaths\": 6379}, {\"date\": \"2020-10-24\", \"new_cases\": 1432, \"total_cases\": 87640, \"active_cases\": 108.0, \"mobilty\": 77.92, \"dose1\": 0, \"dose2\": 0, \"new_deaths\": 18, \"total_deaths\": 6397}, {\"date\": \"2020-10-25\", \"new_cases\": 1291, \"total_cases\": 88931, \"active_cases\": 118.0, \"mobilty\": 73.78, \"dose1\": 0, \"dose2\": 0, \"new_deaths\": 10, \"total_deaths\": 6407}, {\"date\": \"2020-10-26\", \"new_cases\": 2523, \"total_cases\": 91454, \"active_cases\": 155.0, \"mobilty\": 73.45, \"dose1\": 0, \"dose2\": 0, \"new_deaths\": 10, \"total_deaths\": 6417}, {\"date\": \"2020-10-27\", \"new_cases\": 2087, \"total_cases\": 93541, \"active_cases\": 109.0, \"mobilty\": 72.86, \"dose1\": 0, \"dose2\": 0, \"new_deaths\": 12, \"total_deaths\": 6429}, {\"date\": \"2020-10-28\", \"new_cases\": 1964, \"total_cases\": 95505, \"active_cases\": 112.0, \"mobilty\": 74.47, \"dose1\": 0, \"dose2\": 0, \"new_deaths\": 23, \"total_deaths\": 6452}, {\"date\": \"2020-10-29\", \"new_cases\": 2007, \"total_cases\": 97512, \"active_cases\": 140.0, \"mobilty\": 74.62, \"dose1\": 0, \"dose2\": 0, \"new_deaths\": 14, \"total_deaths\": 6466}, {\"date\": \"2020-10-30\", \"new_cases\": 1873, \"total_cases\": 99385, \"active_cases\": 126.0, \"mobilty\": 84.29, \"dose1\": 0, \"dose2\": 0, \"new_deaths\": 17, \"total_deaths\": 6483}, {\"date\": \"2020-10-31\", \"new_cases\": 1383, \"total_cases\": 100768, \"active_cases\": 132.0, \"mobilty\": 82.43, \"dose1\": 0, \"dose2\": 0, \"new_deaths\": 7, \"total_deaths\": 6490}, {\"date\": \"2020-11-01\", \"new_cases\": 1200, \"total_cases\": 101968, \"active_cases\": 134.0, \"mobilty\": 69.49, \"dose1\": 0, \"dose2\": 0, \"new_deaths\": 17, \"total_deaths\": 6507}, {\"date\": \"2020-11-02\", \"new_cases\": 2906, \"total_cases\": 104874, \"active_cases\": 136.0, \"mobilty\": 70.1, \"dose1\": 0, \"dose2\": 0, \"new_deaths\": 16, \"total_deaths\": 6523}, {\"date\": \"2020-11-03\", \"new_cases\": 2127, \"total_cases\": 107001, \"active_cases\": 103.0, \"mobilty\": 74.54, \"dose1\": 0, \"dose2\": 0, \"new_deaths\": 10, \"total_deaths\": 6533}, {\"date\": \"2020-11-04\", \"new_cases\": 2046, \"total_cases\": 109047, \"active_cases\": 123.0, \"mobilty\": 77.69, \"dose1\": 0, \"dose2\": 0, \"new_deaths\": 18, \"total_deaths\": 6551}, {\"date\": \"2020-11-05\", \"new_cases\": 2088, \"total_cases\": 111135, \"active_cases\": 118.0, \"mobilty\": 42.21, \"dose1\": 0, \"dose2\": 0, \"new_deaths\": 17, \"total_deaths\": 6568}, {\"date\": \"2020-11-06\", \"new_cases\": 2113, \"total_cases\": 113248, \"active_cases\": 101.0, \"mobilty\": 42.07, \"dose1\": 0, \"dose2\": 0, \"new_deaths\": 12, \"total_deaths\": 6580}, {\"date\": \"2020-11-07\", \"new_cases\": 1647, \"total_cases\": 114895, \"active_cases\": 109.0, \"mobilty\": 41.63, \"dose1\": 0, \"dose2\": 0, \"new_deaths\": 21, \"total_deaths\": 6601}, {\"date\": \"2020-11-08\", \"new_cases\": 1757, \"total_cases\": 116652, \"active_cases\": 150.0, \"mobilty\": 41.48, \"dose1\": 0, \"dose2\": 0, \"new_deaths\": 15, \"total_deaths\": 6616}, {\"date\": \"2020-11-09\", \"new_cases\": 3074, \"total_cases\": 119726, \"active_cases\": 136.0, \"mobilty\": 45.85, \"dose1\": 0, \"dose2\": 0, \"new_deaths\": 28, \"total_deaths\": 6644}, {\"date\": \"2020-11-10\", \"new_cases\": 2721, \"total_cases\": 122447, \"active_cases\": 147.0, \"mobilty\": 45.65, \"dose1\": 0, \"dose2\": 0, \"new_deaths\": 14, \"total_deaths\": 6658}, {\"date\": \"2020-11-11\", \"new_cases\": 2905, \"total_cases\": 125352, \"active_cases\": 134.0, \"mobilty\": 46.05, \"dose1\": 0, \"dose2\": 0, \"new_deaths\": 15, \"total_deaths\": 6673}, {\"date\": \"2020-11-12\", \"new_cases\": 2833, \"total_cases\": 128185, \"active_cases\": 152.0, \"mobilty\": 45.31, \"dose1\": 0, \"dose2\": 0, \"new_deaths\": 16, \"total_deaths\": 6689}, {\"date\": \"2020-11-13\", \"new_cases\": 2689, \"total_cases\": 130874, \"active_cases\": 136.0, \"mobilty\": 47.1, \"dose1\": 0, \"dose2\": 0, \"new_deaths\": 14, \"total_deaths\": 6703}, {\"date\": \"2020-11-14\", \"new_cases\": 1924, \"total_cases\": 132798, \"active_cases\": 139.0, \"mobilty\": 42.87, \"dose1\": 0, \"dose2\": 0, \"new_deaths\": 21, \"total_deaths\": 6724}, {\"date\": \"2020-11-15\", \"new_cases\": 1796, \"total_cases\": 134594, \"active_cases\": 170.0, \"mobilty\": 43.37, \"dose1\": 0, \"dose2\": 0, \"new_deaths\": 18, \"total_deaths\": 6742}, {\"date\": \"2020-11-16\", \"new_cases\": 3069, \"total_cases\": 137663, \"active_cases\": 154.0, \"mobilty\": 45.65, \"dose1\": 0, \"dose2\": 0, \"new_deaths\": 29, \"total_deaths\": 6771}, {\"date\": \"2020-11-17\", \"new_cases\": 2551, \"total_cases\": 140214, \"active_cases\": 152.0, \"mobilty\": 45.76, \"dose1\": 0, \"dose2\": 0, \"new_deaths\": 29, \"total_deaths\": 6800}, {\"date\": \"2020-11-18\", \"new_cases\": 2451, \"total_cases\": 142665, \"active_cases\": 179.0, \"mobilty\": 45.9, \"dose1\": 0, \"dose2\": 0, \"new_deaths\": 23, \"total_deaths\": 6823}, {\"date\": \"2020-11-19\", \"new_cases\": 2181, \"total_cases\": 144846, \"active_cases\": 173.0, \"mobilty\": 44.27, \"dose1\": 0, \"dose2\": 0, \"new_deaths\": 24, \"total_deaths\": 6847}, {\"date\": \"2020-11-20\", \"new_cases\": 2108, \"total_cases\": 146954, \"active_cases\": 116.0, \"mobilty\": 47.17, \"dose1\": 0, \"dose2\": 0, \"new_deaths\": 20, \"total_deaths\": 6867}, {\"date\": \"2020-11-21\", \"new_cases\": 1477, \"total_cases\": 148431, \"active_cases\": 165.0, \"mobilty\": 48.9, \"dose1\": 0, \"dose2\": 0, \"new_deaths\": 19, \"total_deaths\": 6886}, {\"date\": \"2020-11-22\", \"new_cases\": 1479, \"total_cases\": 149910, \"active_cases\": 145.0, \"mobilty\": 46.69, \"dose1\": 0, \"dose2\": 0, \"new_deaths\": 29, \"total_deaths\": 6915}, {\"date\": \"2020-11-23\", \"new_cases\": 2385, \"total_cases\": 152295, \"active_cases\": 147.0, \"mobilty\": 47.97, \"dose1\": 0, \"dose2\": 0, \"new_deaths\": 19, \"total_deaths\": 6934}, {\"date\": \"2020-11-24\", \"new_cases\": 2151, \"total_cases\": 154446, \"active_cases\": 131.0, \"mobilty\": 47.62, \"dose1\": 0, \"dose2\": 0, \"new_deaths\": 27, \"total_deaths\": 6961}, {\"date\": \"2020-11-25\", \"new_cases\": 2238, \"total_cases\": 156684, \"active_cases\": 200.0, \"mobilty\": 46.59, \"dose1\": 0, \"dose2\": 0, \"new_deaths\": 30, \"total_deaths\": 6991}, {\"date\": \"2020-11-26\", \"new_cases\": 2064, \"total_cases\": 158748, \"active_cases\": 155.0, \"mobilty\": 47.5, \"dose1\": 0, \"dose2\": 0, \"new_deaths\": 25, \"total_deaths\": 7016}, {\"date\": \"2020-11-27\", \"new_cases\": 2194, \"total_cases\": 160942, \"active_cases\": 124.0, \"mobilty\": 50.13, \"dose1\": 0, \"dose2\": 0, \"new_deaths\": 28, \"total_deaths\": 7044}, {\"date\": \"2020-11-28\", \"new_cases\": 1635, \"total_cases\": 162577, \"active_cases\": 107.0, \"mobilty\": 51.71, \"dose1\": 0, \"dose2\": 0, \"new_deaths\": 23, \"total_deaths\": 7067}, {\"date\": \"2020-11-29\", \"new_cases\": 1651, \"total_cases\": 164228, \"active_cases\": 154.0, \"mobilty\": 47.2, \"dose1\": 0, \"dose2\": 0, \"new_deaths\": 40, \"total_deaths\": 7107}, {\"date\": \"2020-11-30\", \"new_cases\": 2689, \"total_cases\": 166917, \"active_cases\": 146.0, \"mobilty\": 50.61, \"dose1\": 0, \"dose2\": 0, \"new_deaths\": 19, \"total_deaths\": 7126}, {\"date\": \"2020-12-01\", \"new_cases\": 2451, \"total_cases\": 169368, \"active_cases\": 160.0, \"mobilty\": 52.95, \"dose1\": 0, \"dose2\": 0, \"new_deaths\": 28, \"total_deaths\": 7154}, {\"date\": \"2020-12-02\", \"new_cases\": 2791, \"total_cases\": 172159, \"active_cases\": 162.0, \"mobilty\": 60.57, \"dose1\": 0, \"dose2\": 0, \"new_deaths\": 30, \"total_deaths\": 7184}, {\"date\": \"2020-12-03\", \"new_cases\": 2450, \"total_cases\": 174609, \"active_cases\": 156.0, \"mobilty\": 63.77, \"dose1\": 0, \"dose2\": 0, \"new_deaths\": 27, \"total_deaths\": 7211}, {\"date\": \"2020-12-04\", \"new_cases\": 2912, \"total_cases\": 177521, \"active_cases\": 170.0, \"mobilty\": 74.48, \"dose1\": 0, \"dose2\": 0, \"new_deaths\": 30, \"total_deaths\": 7241}, {\"date\": \"2020-12-05\", \"new_cases\": 2237, \"total_cases\": 179758, \"active_cases\": 141.0, \"mobilty\": 82.08, \"dose1\": 0, \"dose2\": 0, \"new_deaths\": 26, \"total_deaths\": 7267}, {\"date\": \"2020-12-06\", \"new_cases\": 2420, \"total_cases\": 182178, \"active_cases\": 179.0, \"mobilty\": 66.9, \"dose1\": 0, \"dose2\": 0, \"new_deaths\": 25, \"total_deaths\": 7292}, {\"date\": \"2020-12-07\", \"new_cases\": 3703, \"total_cases\": 185881, \"active_cases\": 210.0, \"mobilty\": 64.8, \"dose1\": 0, \"dose2\": 0, \"new_deaths\": 30, \"total_deaths\": 7322}, {\"date\": \"2020-12-08\", \"new_cases\": 3697, \"total_cases\": 189578, \"active_cases\": 203.0, \"mobilty\": 64.62, \"dose1\": 0, \"dose2\": 0, \"new_deaths\": 35, \"total_deaths\": 7357}, {\"date\": \"2020-12-09\", \"new_cases\": 4409, \"total_cases\": 193987, \"active_cases\": 248.0, \"mobilty\": 66.81, \"dose1\": 9408, \"dose2\": 1263, \"new_deaths\": 28, \"total_deaths\": 7385}, {\"date\": \"2020-12-10\", \"new_cases\": 4997, \"total_cases\": 198984, \"active_cases\": 235.0, \"mobilty\": 67.78, \"dose1\": 18816, \"dose2\": 2526, \"new_deaths\": 31, \"total_deaths\": 7416}, {\"date\": \"2020-12-11\", \"new_cases\": 5468, \"total_cases\": 204452, \"active_cases\": 277.0, \"mobilty\": 79.32, \"dose1\": 28224, \"dose2\": 3789, \"new_deaths\": 27, \"total_deaths\": 7443}, {\"date\": \"2020-12-12\", \"new_cases\": 4654, \"total_cases\": 209106, \"active_cases\": 246.0, \"mobilty\": 84.59, \"dose1\": 37632, \"dose2\": 5052, \"new_deaths\": 33, \"total_deaths\": 7476}, {\"date\": \"2020-12-13\", \"new_cases\": 5492, \"total_cases\": 214598, \"active_cases\": 287.0, \"mobilty\": 66.44, \"dose1\": 47040, \"dose2\": 6315, \"new_deaths\": 33, \"total_deaths\": 7509}, {\"date\": \"2020-12-14\", \"new_cases\": 8309, \"total_cases\": 222907, \"active_cases\": 292.0, \"mobilty\": 69.28, \"dose1\": 56448, \"dose2\": 7578, \"new_deaths\": 39, \"total_deaths\": 7548}, {\"date\": \"2020-12-15\", \"new_cases\": 8818, \"total_cases\": 231725, \"active_cases\": 332.0, \"mobilty\": 73.29, \"dose1\": 65856, \"dose2\": 8841, \"new_deaths\": 49, \"total_deaths\": 7597}, {\"date\": \"2020-12-16\", \"new_cases\": 9962, \"total_cases\": 241687, \"active_cases\": 252.0, \"mobilty\": 56.77, \"dose1\": 75264, \"dose2\": 10104, \"new_deaths\": 37, \"total_deaths\": 7634}, {\"date\": \"2020-12-17\", \"new_cases\": 10130, \"total_cases\": 251817, \"active_cases\": 366.0, \"mobilty\": 57.6, \"dose1\": 84672, \"dose2\": 11367, \"new_deaths\": 58, \"total_deaths\": 7692}, {\"date\": \"2020-12-18\", \"new_cases\": 10766, \"total_cases\": 262583, \"active_cases\": 357.0, \"mobilty\": 60.39, \"dose1\": 94080, \"dose2\": 12630, \"new_deaths\": 43, \"total_deaths\": 7735}, {\"date\": \"2020-12-19\", \"new_cases\": 7140, \"total_cases\": 269723, \"active_cases\": 404.0, \"mobilty\": 53.79, \"dose1\": 103488, \"dose2\": 13893, \"new_deaths\": 42, \"total_deaths\": 7777}, {\"date\": \"2020-12-20\", \"new_cases\": 8875, \"total_cases\": 278598, \"active_cases\": 413.0, \"mobilty\": 39.87, \"dose1\": 112896, \"dose2\": 15156, \"new_deaths\": 54, \"total_deaths\": 7831}, {\"date\": \"2020-12-21\", \"new_cases\": 13208, \"total_cases\": 291806, \"active_cases\": 505.0, \"mobilty\": 40.4, \"dose1\": 122304, \"dose2\": 16419, \"new_deaths\": 60, \"total_deaths\": 7891}, {\"date\": \"2020-12-22\", \"new_cases\": 13317, \"total_cases\": 305123, \"active_cases\": 508.0, \"mobilty\": 37.09, \"dose1\": 131712, \"dose2\": 17682, \"new_deaths\": 59, \"total_deaths\": 7950}, {\"date\": \"2020-12-23\", \"new_cases\": 12317, \"total_cases\": 317440, \"active_cases\": 511.0, \"mobilty\": 37.33, \"dose1\": 141120, \"dose2\": 18945, \"new_deaths\": 58, \"total_deaths\": 8008}, {\"date\": \"2020-12-24\", \"new_cases\": 9402, \"total_cases\": 326842, \"active_cases\": 492.0, \"mobilty\": 31.69, \"dose1\": 150528, \"dose2\": 20208, \"new_deaths\": 65, \"total_deaths\": 8073}, {\"date\": \"2020-12-25\", \"new_cases\": 4324, \"total_cases\": 331166, \"active_cases\": 578.0, \"mobilty\": 15.54, \"dose1\": 159936, \"dose2\": 21471, \"new_deaths\": 82, \"total_deaths\": 8155}, {\"date\": \"2020-12-26\", \"new_cases\": 11849, \"total_cases\": 343015, \"active_cases\": 607.0, \"mobilty\": 29.42, \"dose1\": 169344, \"dose2\": 22734, \"new_deaths\": 82, \"total_deaths\": 8237}, {\"date\": \"2020-12-27\", \"new_cases\": 13121, \"total_cases\": 356136, \"active_cases\": 629.0, \"mobilty\": 32.85, \"dose1\": 178752, \"dose2\": 23997, \"new_deaths\": 92, \"total_deaths\": 8329}, {\"date\": \"2020-12-28\", \"new_cases\": 10666, \"total_cases\": 366802, \"active_cases\": 739.0, \"mobilty\": 34.62, \"dose1\": 188160, \"dose2\": 25260, \"new_deaths\": 89, \"total_deaths\": 8418}, {\"date\": \"2020-12-29\", \"new_cases\": 19860, \"total_cases\": 386662, \"active_cases\": 679.0, \"mobilty\": 36.66, \"dose1\": 197568, \"dose2\": 26523, \"new_deaths\": 110, \"total_deaths\": 8528}, {\"date\": \"2020-12-30\", \"new_cases\": 17303, \"total_cases\": 403965, \"active_cases\": 681.0, \"mobilty\": 36.48, \"dose1\": 206976, \"dose2\": 27786, \"new_deaths\": 100, \"total_deaths\": 8628}, {\"date\": \"2020-12-31\", \"new_cases\": 12385, \"total_cases\": 416350, \"active_cases\": 708.0, \"mobilty\": 34.43, \"dose1\": 216384, \"dose2\": 29049, \"new_deaths\": 110, \"total_deaths\": 8738}, {\"date\": \"2021-01-01\", \"new_cases\": 6735, \"total_cases\": 423085, \"active_cases\": 796.0, \"mobilty\": 26.45, \"dose1\": 225792, \"dose2\": 30312, \"new_deaths\": 114, \"total_deaths\": 8852}, {\"date\": \"2021-01-02\", \"new_cases\": 13621, \"total_cases\": 436706, \"active_cases\": 828.0, \"mobilty\": 34.41, \"dose1\": 235200, \"dose2\": 31575, \"new_deaths\": 126, \"total_deaths\": 8978}, {\"date\": \"2021-01-03\", \"new_cases\": 13108, \"total_cases\": 449814, \"active_cases\": 865.0, \"mobilty\": 36.62, \"dose1\": 244608, \"dose2\": 32838, \"new_deaths\": 107, \"total_deaths\": 9085}, {\"date\": \"2021-01-04\", \"new_cases\": 17220, \"total_cases\": 467034, \"active_cases\": 830.0, \"mobilty\": 37.35, \"dose1\": 254016, \"dose2\": 34101, \"new_deaths\": 151, \"total_deaths\": 9236}, {\"date\": \"2021-01-05\", \"new_cases\": 14534, \"total_cases\": 481568, \"active_cases\": 913.0, \"mobilty\": 33.89, \"dose1\": 263424, \"dose2\": 35364, \"new_deaths\": 149, \"total_deaths\": 9385}, {\"date\": \"2021-01-06\", \"new_cases\": 13536, \"total_cases\": 495104, \"active_cases\": 977.0, \"mobilty\": 33.01, \"dose1\": 272832, \"dose2\": 36627, \"new_deaths\": 147, \"total_deaths\": 9532}, {\"date\": \"2021-01-07\", \"new_cases\": 12052, \"total_cases\": 507156, \"active_cases\": 820.0, \"mobilty\": 32.43, \"dose1\": 282240, \"dose2\": 37890, \"new_deaths\": 159, \"total_deaths\": 9691}, {\"date\": \"2021-01-08\", \"new_cases\": 10516, \"total_cases\": 517672, \"active_cases\": 813.0, \"mobilty\": 33.25, \"dose1\": 291648, \"dose2\": 39153, \"new_deaths\": 140, \"total_deaths\": 9831}, {\"date\": \"2021-01-09\", \"new_cases\": 8729, \"total_cases\": 526401, \"active_cases\": 832.0, \"mobilty\": 32.92, \"dose1\": 301056, \"dose2\": 40416, \"new_deaths\": 148, \"total_deaths\": 9979}, {\"date\": \"2021-01-10\", \"new_cases\": 7460, \"total_cases\": 533861, \"active_cases\": 734.0, \"mobilty\": 32.37, \"dose1\": 310464, \"dose2\": 41679, \"new_deaths\": 161, \"total_deaths\": 10140}, {\"date\": \"2021-01-11\", \"new_cases\": 11534, \"total_cases\": 545395, \"active_cases\": 795.0, \"mobilty\": 33.47, \"dose1\": 319872, \"dose2\": 42942, \"new_deaths\": 163, \"total_deaths\": 10303}, {\"date\": \"2021-01-12\", \"new_cases\": 9821, \"total_cases\": 555216, \"active_cases\": 875.0, \"mobilty\": 33.13, \"dose1\": 329280, \"dose2\": 44205, \"new_deaths\": 172, \"total_deaths\": 10475}, {\"date\": \"2021-01-13\", \"new_cases\": 9302, \"total_cases\": 564518, \"active_cases\": 804.0, \"mobilty\": 32.94, \"dose1\": 338688, \"dose2\": 45468, \"new_deaths\": 167, \"total_deaths\": 10642}, {\"date\": \"2021-01-14\", \"new_cases\": 8913, \"total_cases\": 573431, \"active_cases\": 763.0, \"mobilty\": 32.44, \"dose1\": 348096, \"dose2\": 46731, \"new_deaths\": 158, \"total_deaths\": 10800}, {\"date\": \"2021-01-15\", \"new_cases\": 8181, \"total_cases\": 581612, \"active_cases\": 670.0, \"mobilty\": 34.1, \"dose1\": 357504, \"dose2\": 47994, \"new_deaths\": 148, \"total_deaths\": 10948}, {\"date\": \"2021-01-16\", \"new_cases\": 6164, \"total_cases\": 587776, \"active_cases\": 758.0, \"mobilty\": 32.99, \"dose1\": 366912, \"dose2\": 49257, \"new_deaths\": 160, \"total_deaths\": 11108}, {\"date\": \"2021-01-17\", \"new_cases\": 5382, \"total_cases\": 593158, \"active_cases\": 652.0, \"mobilty\": 34.13, \"dose1\": 376320, \"dose2\": 50520, \"new_deaths\": 170, \"total_deaths\": 11278}, {\"date\": \"2021-01-18\", \"new_cases\": 8291, \"total_cases\": 601449, \"active_cases\": 704.0, \"mobilty\": 35.14, \"dose1\": 411999, \"dose2\": 51250, \"new_deaths\": 187, \"total_deaths\": 11465}, {\"date\": \"2021-01-19\", \"new_cases\": 6997, \"total_cases\": 608446, \"active_cases\": 742.0, \"mobilty\": 34.67, \"dose1\": 447678, \"dose2\": 51980, \"new_deaths\": 182, \"total_deaths\": 11647}, {\"date\": \"2021-01-20\", \"new_cases\": 6237, \"total_cases\": 614683, \"active_cases\": 660.0, \"mobilty\": 34.23, \"dose1\": 483357, \"dose2\": 52710, \"new_deaths\": 161, \"total_deaths\": 11808}, {\"date\": \"2021-01-21\", \"new_cases\": 5787, \"total_cases\": 620470, \"active_cases\": 598.0, \"mobilty\": 34.56, \"dose1\": 519036, \"dose2\": 53440, \"new_deaths\": 182, \"total_deaths\": 11990}, {\"date\": \"2021-01-22\", \"new_cases\": 5560, \"total_cases\": 626030, \"active_cases\": 580.0, \"mobilty\": 36.62, \"dose1\": 554715, \"dose2\": 54170, \"new_deaths\": 143, \"total_deaths\": 12133}, {\"date\": \"2021-01-23\", \"new_cases\": 4143, \"total_cases\": 630173, \"active_cases\": 520.0, \"mobilty\": 36.39, \"dose1\": 590394, \"dose2\": 54900, \"new_deaths\": 141, \"total_deaths\": 12274}, {\"date\": \"2021-01-24\", \"new_cases\": 3114, \"total_cases\": 633287, \"active_cases\": 544.0, \"mobilty\": 33.49, \"dose1\": 626073, \"dose2\": 55630, \"new_deaths\": 130, \"total_deaths\": 12404}, {\"date\": \"2021-01-25\", \"new_cases\": 4956, \"total_cases\": 638243, \"active_cases\": 478.0, \"mobilty\": 36.19, \"dose1\": 671608, \"dose2\": 56199, \"new_deaths\": 128, \"total_deaths\": 12532}, {\"date\": \"2021-01-26\", \"new_cases\": 4140, \"total_cases\": 642383, \"active_cases\": 472.0, \"mobilty\": 34.67, \"dose1\": 717143, \"dose2\": 56768, \"new_deaths\": 119, \"total_deaths\": 12651}, {\"date\": \"2021-01-27\", \"new_cases\": 4201, \"total_cases\": 646584, \"active_cases\": 485.0, \"mobilty\": 35.25, \"dose1\": 762678, \"dose2\": 57337, \"new_deaths\": 113, \"total_deaths\": 12764}, {\"date\": \"2021-01-28\", \"new_cases\": 3848, \"total_cases\": 650432, \"active_cases\": 473.0, \"mobilty\": 36.32, \"dose1\": 808213, \"dose2\": 57906, \"new_deaths\": 109, \"total_deaths\": 12873}, {\"date\": \"2021-01-29\", \"new_cases\": 3375, \"total_cases\": 653807, \"active_cases\": 423.0, \"mobilty\": 37.29, \"dose1\": 853748, \"dose2\": 58475, \"new_deaths\": 96, \"total_deaths\": 12969}, {\"date\": \"2021-01-30\", \"new_cases\": 2621, \"total_cases\": 656428, \"active_cases\": 370.0, \"mobilty\": 35.55, \"dose1\": 899283, \"dose2\": 59044, \"new_deaths\": 88, \"total_deaths\": 13057}, {\"date\": \"2021-01-31\", \"new_cases\": 2231, \"total_cases\": 658659, \"active_cases\": 394.0, \"mobilty\": 36.12, \"dose1\": 944818, \"dose2\": 59613, \"new_deaths\": 91, \"total_deaths\": 13148}, {\"date\": \"2021-02-01\", \"new_cases\": 3288, \"total_cases\": 661947, \"active_cases\": 421.0, \"mobilty\": 36.41, \"dose1\": 981883, \"dose2\": 59859, \"new_deaths\": 80, \"total_deaths\": 13228}, {\"date\": \"2021-02-02\", \"new_cases\": 2943, \"total_cases\": 664890, \"active_cases\": 357.0, \"mobilty\": 35.92, \"dose1\": 1018948, \"dose2\": 60105, \"new_deaths\": 100, \"total_deaths\": 13328}, {\"date\": \"2021-02-03\", \"new_cases\": 2696, \"total_cases\": 667586, \"active_cases\": 349.0, \"mobilty\": 36.51, \"dose1\": 1056013, \"dose2\": 60351, \"new_deaths\": 108, \"total_deaths\": 13436}, {\"date\": \"2021-02-04\", \"new_cases\": 2464, \"total_cases\": 670050, \"active_cases\": 329.0, \"mobilty\": 36.67, \"dose1\": 1093078, \"dose2\": 60597, \"new_deaths\": 64, \"total_deaths\": 13500}, {\"date\": \"2021-02-05\", \"new_cases\": 2108, \"total_cases\": 672158, \"active_cases\": 292.0, \"mobilty\": 39.61, \"dose1\": 1130143, \"dose2\": 60843, \"new_deaths\": 86, \"total_deaths\": 13586}, {\"date\": \"2021-02-06\", \"new_cases\": 1540, \"total_cases\": 673698, \"active_cases\": 236.0, \"mobilty\": 38.97, \"dose1\": 1167208, \"dose2\": 61089, \"new_deaths\": 62, \"total_deaths\": 13648}, {\"date\": \"2021-02-07\", \"new_cases\": 1338, \"total_cases\": 675036, \"active_cases\": 302.0, \"mobilty\": 35.3, \"dose1\": 1204273, \"dose2\": 61335, \"new_deaths\": 71, \"total_deaths\": 13719}, {\"date\": \"2021-02-08\", \"new_cases\": 1795, \"total_cases\": 676831, \"active_cases\": 287.0, \"mobilty\": 36.45, \"dose1\": 1240822, \"dose2\": 61582, \"new_deaths\": 66, \"total_deaths\": 13785}, {\"date\": \"2021-02-09\", \"new_cases\": 1658, \"total_cases\": 678489, \"active_cases\": 232.0, \"mobilty\": 35.8, \"dose1\": 1277371, \"dose2\": 61829, \"new_deaths\": 58, \"total_deaths\": 13843}, {\"date\": \"2021-02-10\", \"new_cases\": 1530, \"total_cases\": 680019, \"active_cases\": 243.0, \"mobilty\": 37.72, \"dose1\": 1313920, \"dose2\": 62076, \"new_deaths\": 71, \"total_deaths\": 13914}, {\"date\": \"2021-02-11\", \"new_cases\": 1437, \"total_cases\": 681456, \"active_cases\": 217.0, \"mobilty\": 37.17, \"dose1\": 1350469, \"dose2\": 62323, \"new_deaths\": 50, \"total_deaths\": 13964}, {\"date\": \"2021-02-12\", \"new_cases\": 1274, \"total_cases\": 682730, \"active_cases\": 190.0, \"mobilty\": 39.56, \"dose1\": 1387018, \"dose2\": 62570, \"new_deaths\": 52, \"total_deaths\": 14016}, {\"date\": \"2021-02-13\", \"new_cases\": 865, \"total_cases\": 683595, \"active_cases\": 175.0, \"mobilty\": 39.98, \"dose1\": 1423567, \"dose2\": 62817, \"new_deaths\": 44, \"total_deaths\": 14060}, {\"date\": \"2021-02-14\", \"new_cases\": 880, \"total_cases\": 684475, \"active_cases\": 196.0, \"mobilty\": 37.2, \"dose1\": 1460116, \"dose2\": 63064, \"new_deaths\": 42, \"total_deaths\": 14102}, {\"date\": \"2021-02-15\", \"new_cases\": 1378, \"total_cases\": 685853, \"active_cases\": 179.0, \"mobilty\": 41.63, \"dose1\": 1501004, \"dose2\": 63550, \"new_deaths\": 38, \"total_deaths\": 14140}, {\"date\": \"2021-02-16\", \"new_cases\": 1194, \"total_cases\": 687047, \"active_cases\": 166.0, \"mobilty\": 41.12, \"dose1\": 1541892, \"dose2\": 64036, \"new_deaths\": 50, \"total_deaths\": 14190}, {\"date\": \"2021-02-17\", \"new_cases\": 1086, \"total_cases\": 688133, \"active_cases\": 150.0, \"mobilty\": 42.83, \"dose1\": 1582780, \"dose2\": 64522, \"new_deaths\": 44, \"total_deaths\": 14234}, {\"date\": \"2021-02-18\", \"new_cases\": 1100, \"total_cases\": 689233, \"active_cases\": 142.0, \"mobilty\": 42.44, \"dose1\": 1623668, \"dose2\": 65008, \"new_deaths\": 44, \"total_deaths\": 14278}, {\"date\": \"2021-02-19\", \"new_cases\": 1025, \"total_cases\": 690258, \"active_cases\": 150.0, \"mobilty\": 45.28, \"dose1\": 1664556, \"dose2\": 65494, \"new_deaths\": 42, \"total_deaths\": 14320}, {\"date\": \"2021-02-20\", \"new_cases\": 798, \"total_cases\": 691056, \"active_cases\": 110.0, \"mobilty\": 46.48, \"dose1\": 1705444, \"dose2\": 65980, \"new_deaths\": 28, \"total_deaths\": 14348}, {\"date\": \"2021-02-21\", \"new_cases\": 738, \"total_cases\": 691794, \"active_cases\": 127.0, \"mobilty\": 43.4, \"dose1\": 1746332, \"dose2\": 66466, \"new_deaths\": 36, \"total_deaths\": 14384}, {\"date\": \"2021-02-22\", \"new_cases\": 1020, \"total_cases\": 692814, \"active_cases\": 129.0, \"mobilty\": 44.78, \"dose1\": 1791467, \"dose2\": 68443, \"new_deaths\": 31, \"total_deaths\": 14415}, {\"date\": \"2021-02-23\", \"new_cases\": 918, \"total_cases\": 693732, \"active_cases\": 103.0, \"mobilty\": 45.54, \"dose1\": 1836602, \"dose2\": 70420, \"new_deaths\": 23, \"total_deaths\": 14438}, {\"date\": \"2021-02-24\", \"new_cases\": 727, \"total_cases\": 694459, \"active_cases\": 105.0, \"mobilty\": 46.37, \"dose1\": 1881737, \"dose2\": 72397, \"new_deaths\": 25, \"total_deaths\": 14463}, {\"date\": \"2021-02-25\", \"new_cases\": 649, \"total_cases\": 695108, \"active_cases\": 110.0, \"mobilty\": 45.48, \"dose1\": 1926872, \"dose2\": 74374, \"new_deaths\": 21, \"total_deaths\": 14484}, {\"date\": \"2021-02-26\", \"new_cases\": 619, \"total_cases\": 695727, \"active_cases\": 72.0, \"mobilty\": 50.27, \"dose1\": 1972007, \"dose2\": 76351, \"new_deaths\": 23, \"total_deaths\": 14507}, {\"date\": \"2021-02-27\", \"new_cases\": 499, \"total_cases\": 696226, \"active_cases\": 64.0, \"mobilty\": 53.59, \"dose1\": 2017142, \"dose2\": 78328, \"new_deaths\": 18, \"total_deaths\": 14525}, {\"date\": \"2021-02-28\", \"new_cases\": 473, \"total_cases\": 696699, \"active_cases\": 97.0, \"mobilty\": 46.88, \"dose1\": 2062277, \"dose2\": 80305, \"new_deaths\": 13, \"total_deaths\": 14538}, {\"date\": \"2021-03-01\", \"new_cases\": 550, \"total_cases\": 697249, \"active_cases\": 89.0, \"mobilty\": 48.31, \"dose1\": 2095615, \"dose2\": 84401, \"new_deaths\": 25, \"total_deaths\": 14563}, {\"date\": \"2021-03-02\", \"new_cases\": 657, \"total_cases\": 697906, \"active_cases\": 95.0, \"mobilty\": 47.79, \"dose1\": 2128953, \"dose2\": 88497, \"new_deaths\": 21, \"total_deaths\": 14584}, {\"date\": \"2021-03-03\", \"new_cases\": 579, \"total_cases\": 698485, \"active_cases\": 67.0, \"mobilty\": 47.4, \"dose1\": 2162291, \"dose2\": 92593, \"new_deaths\": 8, \"total_deaths\": 14592}, {\"date\": \"2021-03-04\", \"new_cases\": 509, \"total_cases\": 698994, \"active_cases\": 88.0, \"mobilty\": 46.73, \"dose1\": 2195629, \"dose2\": 96689, \"new_deaths\": 12, \"total_deaths\": 14604}, {\"date\": \"2021-03-05\", \"new_cases\": 500, \"total_cases\": 699494, \"active_cases\": 62.0, \"mobilty\": 51.26, \"dose1\": 2228967, \"dose2\": 100785, \"new_deaths\": 18, \"total_deaths\": 14622}, {\"date\": \"2021-03-06\", \"new_cases\": 400, \"total_cases\": 699894, \"active_cases\": 49.0, \"mobilty\": 52.48, \"dose1\": 2262305, \"dose2\": 104881, \"new_deaths\": 17, \"total_deaths\": 14639}, {\"date\": \"2021-03-07\", \"new_cases\": 407, \"total_cases\": 700301, \"active_cases\": 58.0, \"mobilty\": 49.76, \"dose1\": 2295643, \"dose2\": 108977, \"new_deaths\": 12, \"total_deaths\": 14651}, {\"date\": \"2021-03-08\", \"new_cases\": 562, \"total_cases\": 700863, \"active_cases\": 56.0, \"mobilty\": 50.74, \"dose1\": 2326029, \"dose2\": 114834, \"new_deaths\": 9, \"total_deaths\": 14660}, {\"date\": \"2021-03-09\", \"new_cases\": 590, \"total_cases\": 701453, \"active_cases\": 67.0, \"mobilty\": 52.16, \"dose1\": 2356415, \"dose2\": 120691, \"new_deaths\": 10, \"total_deaths\": 14670}, {\"date\": \"2021-03-10\", \"new_cases\": 528, \"total_cases\": 701981, \"active_cases\": 52.0, \"mobilty\": 49.11, \"dose1\": 2386801, \"dose2\": 126548, \"new_deaths\": 12, \"total_deaths\": 14682}, {\"date\": \"2021-03-11\", \"new_cases\": 453, \"total_cases\": 702434, \"active_cases\": 47.0, \"mobilty\": 49.57, \"dose1\": 2417187, \"dose2\": 132405, \"new_deaths\": 12, \"total_deaths\": 14694}, {\"date\": \"2021-03-12\", \"new_cases\": 509, \"total_cases\": 702943, \"active_cases\": 39.0, \"mobilty\": 50.22625, \"dose1\": 2447573, \"dose2\": 138262, \"new_deaths\": 7, \"total_deaths\": 14701}, {\"date\": \"2021-03-13\", \"new_cases\": 363, \"total_cases\": 703306, \"active_cases\": 48.0, \"mobilty\": 53.45, \"dose1\": 2477959, \"dose2\": 144119, \"new_deaths\": 9, \"total_deaths\": 14710}, {\"date\": \"2021-03-14\", \"new_cases\": 362, \"total_cases\": 703668, \"active_cases\": 41.0, \"mobilty\": 48.39, \"dose1\": 2508345, \"dose2\": 149976, \"new_deaths\": 4, \"total_deaths\": 14714}, {\"date\": \"2021-03-15\", \"new_cases\": 596, \"total_cases\": 704264, \"active_cases\": 40.0, \"mobilty\": 52.2, \"dose1\": 2557564, \"dose2\": 158802, \"new_deaths\": 7, \"total_deaths\": 14721}, {\"date\": \"2021-03-16\", \"new_cases\": 505, \"total_cases\": 704769, \"active_cases\": 45.0, \"mobilty\": 51.9, \"dose1\": 2606783, \"dose2\": 167628, \"new_deaths\": 4, \"total_deaths\": 14725}, {\"date\": \"2021-03-17\", \"new_cases\": 453, \"total_cases\": 705222, \"active_cases\": 27.0, \"mobilty\": 52.34, \"dose1\": 2656002, \"dose2\": 176454, \"new_deaths\": 10, \"total_deaths\": 14735}, {\"date\": \"2021-03-18\", \"new_cases\": 475, \"total_cases\": 705697, \"active_cases\": 33.0, \"mobilty\": 50.62, \"dose1\": 2705221, \"dose2\": 185280, \"new_deaths\": 9, \"total_deaths\": 14744}, {\"date\": \"2021-03-19\", \"new_cases\": 441, \"total_cases\": 706138, \"active_cases\": 42.0, \"mobilty\": 55.68, \"dose1\": 2754440, \"dose2\": 194106, \"new_deaths\": 5, \"total_deaths\": 14749}, {\"date\": \"2021-03-20\", \"new_cases\": 370, \"total_cases\": 706508, \"active_cases\": 31.0, \"mobilty\": 56.87, \"dose1\": 2803659, \"dose2\": 202932, \"new_deaths\": 3, \"total_deaths\": 14752}, {\"date\": \"2021-03-21\", \"new_cases\": 456, \"total_cases\": 706964, \"active_cases\": 28.0, \"mobilty\": 52.32, \"dose1\": 2852878, \"dose2\": 211758, \"new_deaths\": 5, \"total_deaths\": 14757}, {\"date\": \"2021-03-22\", \"new_cases\": 532, \"total_cases\": 707496, \"active_cases\": 31.0, \"mobilty\": 54.86, \"dose1\": 2894119, \"dose2\": 232601, \"new_deaths\": 6, \"total_deaths\": 14763}, {\"date\": \"2021-03-23\", \"new_cases\": 471, \"total_cases\": 707967, \"active_cases\": 33.0, \"mobilty\": 55.32, \"dose1\": 2935360, \"dose2\": 253444, \"new_deaths\": 2, \"total_deaths\": 14765}, {\"date\": \"2021-03-24\", \"new_cases\": 606, \"total_cases\": 708573, \"active_cases\": 27.0, \"mobilty\": 54.49, \"dose1\": 2976601, \"dose2\": 274287, \"new_deaths\": 6, \"total_deaths\": 14771}, {\"date\": \"2021-03-25\", \"new_cases\": 447, \"total_cases\": 709020, \"active_cases\": 33.0, \"mobilty\": 53.97, \"dose1\": 3017842, \"dose2\": 295130, \"new_deaths\": 2, \"total_deaths\": 14773}, {\"date\": \"2021-03-26\", \"new_cases\": 420, \"total_cases\": 709440, \"active_cases\": 26.0, \"mobilty\": 56.96, \"dose1\": 3059083, \"dose2\": 315973, \"new_deaths\": 2, \"total_deaths\": 14775}, {\"date\": \"2021-03-27\", \"new_cases\": 296, \"total_cases\": 709736, \"active_cases\": 29.0, \"mobilty\": 65.12, \"dose1\": 3100324, \"dose2\": 336816, \"new_deaths\": 4, \"total_deaths\": 14779}, {\"date\": \"2021-03-28\", \"new_cases\": 465, \"total_cases\": 710201, \"active_cases\": 32.0, \"mobilty\": 57.44, \"dose1\": 3141565, \"dose2\": 357659, \"new_deaths\": 3, \"total_deaths\": 14782}, {\"date\": \"2021-03-29\", \"new_cases\": 400, \"total_cases\": 710601, \"active_cases\": 23.0, \"mobilty\": 64.47, \"dose1\": 3155038, \"dose2\": 383559, \"new_deaths\": 1, \"total_deaths\": 14783}, {\"date\": \"2021-03-30\", \"new_cases\": 351, \"total_cases\": 710952, \"active_cases\": 29.0, \"mobilty\": 74.29, \"dose1\": 3168511, \"dose2\": 409459, \"new_deaths\": 4, \"total_deaths\": 14787}, {\"date\": \"2021-03-31\", \"new_cases\": 298, \"total_cases\": 711250, \"active_cases\": 30.0, \"mobilty\": 69.84, \"dose1\": 3181984, \"dose2\": 435359, \"new_deaths\": 5, \"total_deaths\": 14792}, {\"date\": \"2021-04-01\", \"new_cases\": 334, \"total_cases\": 711584, \"active_cases\": 25.0, \"mobilty\": 68.39, \"dose1\": 3195457, \"dose2\": 461259, \"new_deaths\": 4, \"total_deaths\": 14796}, {\"date\": \"2021-04-02\", \"new_cases\": 247, \"total_cases\": 711831, \"active_cases\": 27.0, \"mobilty\": 69.07, \"dose1\": 3208930, \"dose2\": 487159, \"new_deaths\": 4, \"total_deaths\": 14800}, {\"date\": \"2021-04-03\", \"new_cases\": 236, \"total_cases\": 712067, \"active_cases\": 25.0, \"mobilty\": 64.87, \"dose1\": 3222403, \"dose2\": 513059, \"new_deaths\": 3, \"total_deaths\": 14803}, {\"date\": \"2021-04-04\", \"new_cases\": 209, \"total_cases\": 712276, \"active_cases\": 23.0, \"mobilty\": 60.01, \"dose1\": 3235876, \"dose2\": 538959, \"new_deaths\": 0, \"total_deaths\": 14803}, {\"date\": \"2021-04-05\", \"new_cases\": 241, \"total_cases\": 712517, \"active_cases\": 23.0, \"mobilty\": 64.44, \"dose1\": 3244337, \"dose2\": 573480, \"new_deaths\": 2, \"total_deaths\": 14805}, {\"date\": \"2021-04-06\", \"new_cases\": 330, \"total_cases\": 712847, \"active_cases\": 22.0, \"mobilty\": 68.6, \"dose1\": 3252798, \"dose2\": 608001, \"new_deaths\": 1, \"total_deaths\": 14806}, {\"date\": \"2021-04-07\", \"new_cases\": 337, \"total_cases\": 713184, \"active_cases\": 26.0, \"mobilty\": 69.83, \"dose1\": 3261259, \"dose2\": 642522, \"new_deaths\": 3, \"total_deaths\": 14809}, {\"date\": \"2021-04-08\", \"new_cases\": 317, \"total_cases\": 713501, \"active_cases\": 27.0, \"mobilty\": 67.72, \"dose1\": 3269720, \"dose2\": 677043, \"new_deaths\": 3, \"total_deaths\": 14812}, {\"date\": \"2021-04-09\", \"new_cases\": 355, \"total_cases\": 713856, \"active_cases\": 21.0, \"mobilty\": 69.65, \"dose1\": 3278181, \"dose2\": 711564, \"new_deaths\": 0, \"total_deaths\": 14812}, {\"date\": \"2021-04-10\", \"new_cases\": 271, \"total_cases\": 714127, \"active_cases\": 25.0, \"mobilty\": 67.18, \"dose1\": 3286642, \"dose2\": 746085, \"new_deaths\": 4, \"total_deaths\": 14816}, {\"date\": \"2021-04-11\", \"new_cases\": 290, \"total_cases\": 714417, \"active_cases\": 28.0, \"mobilty\": 72.76, \"dose1\": 3295103, \"dose2\": 780606, \"new_deaths\": 5, \"total_deaths\": 14821}]}}, {\"mode\": \"vega-lite\"});\n",
              "</script>"
            ]
          },
          "metadata": {
            "tags": []
          },
          "execution_count": 20
        }
      ]
    },
    {
      "cell_type": "markdown",
      "metadata": {
        "id": "y_EWGl8GPouX"
      },
      "source": [
        "## Problem and our approach\n",
        "\n",
        "We set out to identify the relationship b/w \"new deaths\" per day and \"active cases\" per day. We thouight we should be able to even use one to predict another. However, on the way, we realized, due the lack of data and even otherwise, we should also take cues for predicting new cases in future from the cases reported in previous few weeks. So the task of out model will be to be able to forcast upcoming cases in the area of London."
      ]
    },
    {
      "cell_type": "markdown",
      "metadata": {
        "id": "LFeEQu9nZ6pn"
      },
      "source": [
        "### Data preparation\n",
        "\n",
        "Here we prepare our dataset, split it into test, training and holdout sets and then scale them. The other pre-processing was done during scraping of the data in their respective scrape files and the data.csv was combined manually in Excel since it was easier to do it there."
      ]
    },
    {
      "cell_type": "code",
      "metadata": {
        "colab": {
          "base_uri": "https://localhost:8080/"
        },
        "id": "iyet56rOM0UQ",
        "outputId": "469c1507-a2d3-4279-c3d2-22d1ec370f24"
      },
      "source": [
        "# creating a new dataset based on active cases since the past past 25 days\n",
        "# and using them as features\n",
        "\n",
        "date = df['date'].tolist()\n",
        "new_cases = df['new_cases'].tolist()\n",
        "mob = df['mobilty'].tolist()\n",
        "dose1 = df['dose1'].tolist()\n",
        "dose2 = df['dose2'].tolist()\n",
        "new_deaths = df['new_deaths'].tolist()\n",
        "active_cases = df['active_cases'].tolist()\n",
        "\n",
        "n = len(date)\n",
        "past = 25\n",
        "\n",
        "X = np.zeros((n-past, 2*past+3))\n",
        "y = np.zeros((n-past, 1))\n",
        "\n",
        "for i in range(n-past):\n",
        "    tmp = np.zeros(2*past+3)\n",
        "    tmp[:past] = new_cases[i:i+past]\n",
        "    tmp[past:2*past] = new_deaths[i:i+past]\n",
        "    tmp[2*past] = mob[i+past]\n",
        "    tmp[2*past+1] = dose1[i+past]\n",
        "    tmp[2*past+2] = dose2[i+past]\n",
        "    X[i] = tmp\n",
        "    y[i] = active_cases[i+past]\n",
        "\n",
        "cols = [f'cases_day_{i}' for i in range(1, past+1)]\n",
        "cols += [f'deaths_day_{i}' for i in range(1, past+1)]\n",
        "cols.append('mobility')\n",
        "cols.append('dose1')\n",
        "cols.append('dose2')\n",
        "\n",
        "X = pd.DataFrame(X, columns=cols)\n",
        "X['date'] = date[past:]\n",
        "print(X.shape, y.shape)\n",
        "print(X.head())"
      ],
      "execution_count": 4,
      "outputs": [
        {
          "output_type": "stream",
          "text": [
            "(401, 54) (401, 1)\n",
            "   cases_day_1  cases_day_2  cases_day_3  ...  dose1  dose2        date\n",
            "0          1.0          0.0          0.0  ...    0.0    0.0  2020-03-07\n",
            "1          0.0          0.0          0.0  ...    0.0    0.0  2020-03-08\n",
            "2          0.0          0.0          0.0  ...    0.0    0.0  2020-03-09\n",
            "3          0.0          0.0          0.0  ...    0.0    0.0  2020-03-10\n",
            "4          0.0          0.0          0.0  ...    0.0    0.0  2020-03-11\n",
            "\n",
            "[5 rows x 54 columns]\n"
          ],
          "name": "stdout"
        }
      ]
    },
    {
      "cell_type": "code",
      "metadata": {
        "colab": {
          "base_uri": "https://localhost:8080/"
        },
        "id": "hfrLzP17KsWH",
        "outputId": "2afb620e-93cd-4d73-99f0-66ea240b655a"
      },
      "source": [
        "# holding out last few rows for prediction\n",
        "\n",
        "hold = 7\n",
        "X_hold = X.tail(7)\n",
        "date_hold = X_hold['date']\n",
        "X_hold.drop(['date'], inplace=True, axis=1)\n",
        "print(X_hold)\n",
        "X = X.iloc[:-7]\n",
        "print(X.tail())\n",
        "\n",
        "y_hold = y[-7:]\n",
        "print(len(y_hold), y_hold)\n",
        "y = y[:-7]\n",
        "print(len(y))"
      ],
      "execution_count": 5,
      "outputs": [
        {
          "output_type": "stream",
          "text": [
            "     cases_day_1  cases_day_2  cases_day_3  ...  mobility      dose1     dose2\n",
            "394        453.0        509.0        363.0  ...     64.44  3244337.0  573480.0\n",
            "395        509.0        363.0        362.0  ...     68.60  3252798.0  608001.0\n",
            "396        363.0        362.0        596.0  ...     69.83  3261259.0  642522.0\n",
            "397        362.0        596.0        505.0  ...     67.72  3269720.0  677043.0\n",
            "398        596.0        505.0        453.0  ...     69.65  3278181.0  711564.0\n",
            "399        505.0        453.0        475.0  ...     67.18  3286642.0  746085.0\n",
            "400        453.0        475.0        441.0  ...     72.76  3295103.0  780606.0\n",
            "\n",
            "[7 rows x 53 columns]\n",
            "     cases_day_1  cases_day_2  cases_day_3  ...      dose1     dose2        date\n",
            "389        400.0        407.0        562.0  ...  3181984.0  435359.0  2021-03-31\n",
            "390        407.0        562.0        590.0  ...  3195457.0  461259.0  2021-04-01\n",
            "391        562.0        590.0        528.0  ...  3208930.0  487159.0  2021-04-02\n",
            "392        590.0        528.0        453.0  ...  3222403.0  513059.0  2021-04-03\n",
            "393        528.0        453.0        509.0  ...  3235876.0  538959.0  2021-04-04\n",
            "\n",
            "[5 rows x 54 columns]\n",
            "7 [[23.]\n",
            " [22.]\n",
            " [26.]\n",
            " [27.]\n",
            " [21.]\n",
            " [25.]\n",
            " [28.]]\n",
            "394\n"
          ],
          "name": "stdout"
        }
      ]
    },
    {
      "cell_type": "code",
      "metadata": {
        "colab": {
          "base_uri": "https://localhost:8080/"
        },
        "id": "_CUoZ-oMUeZB",
        "outputId": "6e3422b4-b6ed-466a-b4db-976117a28ebb"
      },
      "source": [
        "from sklearn.model_selection import train_test_split\n",
        "from sklearn.preprocessing import StandardScaler\n",
        "\n",
        "\n",
        "X_train, X_test, y_train, y_test = train_test_split(X, y, test_size=0.25, random_state=42)\n",
        "\n",
        "# seperate out the dates\n",
        "date_train = X_train['date']\n",
        "X_train.drop(['date'], inplace=True, axis=1)\n",
        "date_test = X_test['date']\n",
        "X_test.drop(['date'], inplace=True, axis=1)\n",
        "\n",
        "scx = StandardScaler()\n",
        "scy = StandardScaler()\n",
        "X_train_std = scx.fit_transform(X_train)\n",
        "X_test_std = scx.transform(X_test)\n",
        "y_train_std = scy.fit_transform(y_train)\n",
        "y_test_std = scy.transform(y_test)\n",
        "\n",
        "# reshaping the target vector y\n",
        "y_train_std = np.squeeze(y_train_std)\n",
        "y_test_std = np.squeeze(y_test_std)\n",
        "print(X_train_std.shape, X_test_std.shape, y_train_std.shape, y_test_std.shape)"
      ],
      "execution_count": 12,
      "outputs": [
        {
          "output_type": "stream",
          "text": [
            "(295, 53) (99, 53) (295,) (99,)\n"
          ],
          "name": "stdout"
        }
      ]
    },
    {
      "cell_type": "markdown",
      "metadata": {
        "id": "gyCTALAuLkWl"
      },
      "source": [
        "### SVR model\n",
        "\n",
        "below cells are relating to SVR model"
      ]
    },
    {
      "cell_type": "code",
      "metadata": {
        "colab": {
          "base_uri": "https://localhost:8080/"
        },
        "id": "nt7PUO8FVlzY",
        "outputId": "7340c914-3638-49eb-d1ce-2159abb3d75e"
      },
      "source": [
        "from sklearn.model_selection import GridSearchCV\n",
        "from sklearn.svm import SVR\n",
        "\n",
        "reg = SVR()\n",
        "\n",
        "param_grid = {\n",
        "    'kernel': ['rbf', 'poly',],\n",
        "    'degree': [2, 3, 4, 5],\n",
        "    'coef0': [0.0, 1.0],\n",
        "    'tol': [1e-5, 1e-3, 0.005, 0.1],\n",
        "    'C': [0.0001, 0.005, 0.01, 0.1, 1.0],\n",
        "    'epsilon': [0.5, 0.1, 0.01, 0.001]\n",
        "}\n",
        "\n",
        "gridsearch = GridSearchCV(\n",
        "    estimator=reg,\n",
        "    param_grid=param_grid,\n",
        "    n_jobs=-1,\n",
        "    scoring='neg_root_mean_squared_error').fit(X_train_std, y_train_std)\n",
        "print('Best score: ', gridsearch.best_score_, 'with params: ', gridsearch.best_params_)"
      ],
      "execution_count": null,
      "outputs": [
        {
          "output_type": "stream",
          "text": [
            "Best score:  -0.19330863377415944 with params:  {'C': 1.0, 'coef0': 1.0, 'degree': 3, 'epsilon': 0.01, 'kernel': 'poly', 'tol': 0.1}\n"
          ],
          "name": "stdout"
        }
      ]
    },
    {
      "cell_type": "code",
      "metadata": {
        "colab": {
          "base_uri": "https://localhost:8080/"
        },
        "id": "rohS0pEkV6CN",
        "outputId": "765d1096-e62f-4319-ca2b-7019c0ca8e7e"
      },
      "source": [
        "# training the SVR model\n",
        "\n",
        "from sklearn.svm import SVR\n",
        "from sklearn.metrics import mean_squared_error\n",
        "\n",
        "# best params from GridSearch\n",
        "# {'C': 1.0, 'coef0': 1.0, 'degree': 3, 'epsilon': 0.01, 'kernel': 'poly', 'tol': 0.1}\n",
        "svr = SVR(kernel='poly', C=1.0, coef0=1.0, epsilon=0.01, tol=0.1, degree=3)\n",
        "svr.fit(X_train_std, y_train_std)\n",
        "y_pred = svr.predict(X_test_std)\n",
        "rmse = sqrt(mean_squared_error(y_test_std, y_pred))\n",
        "print(rmse)\n",
        "print(svr.score(X_test_std, y_test_std))"
      ],
      "execution_count": 16,
      "outputs": [
        {
          "output_type": "stream",
          "text": [
            "0.1708923138006611\n",
            "0.9577454916905358\n"
          ],
          "name": "stdout"
        }
      ]
    },
    {
      "cell_type": "code",
      "metadata": {
        "colab": {
          "base_uri": "https://localhost:8080/",
          "height": 700,
          "referenced_widgets": [
            "f8cf4147b11f4adb944724233b08a7e2",
            "4a7de0a530774c499eb0d8b882547771",
            "2825fb59b2d247b9b5bd13793316e2bb",
            "ef157d03758847e78ed08ec876917629",
            "0d1b709c78594b1eb85f2b8b87122db7",
            "609e1e807c404565ab46d10cf4afe6b0",
            "fdaa0fc08119469e981834c6a244a774",
            "03b8a4edb1e24787852212dc3043e38e"
          ]
        },
        "id": "akmYEK9pb5DK",
        "outputId": "fd3e92b4-8514-4a6a-921d-a0ae60148e3c"
      },
      "source": [
        "# wandb log cell\n",
        "\n",
        "proj = 'final_submission'\n",
        "team_name = 'pct101'\n",
        "run_name = 'SVR'\n",
        "wandb.init(project=proj, entity=team_name, name=run_name)\n",
        "\n",
        "wandb.sklearn.plot_regressor(svr, X_train_std, X_test_std, y_train_std, y_test_std,  model_name=run_name)"
      ],
      "execution_count": null,
      "outputs": [
        {
          "output_type": "display_data",
          "data": {
            "text/html": [
              "Finishing last run (ID:3qx57l51) before initializing another..."
            ],
            "text/plain": [
              "<IPython.core.display.HTML object>"
            ]
          },
          "metadata": {
            "tags": []
          }
        },
        {
          "output_type": "display_data",
          "data": {
            "text/html": [
              "<br/>Waiting for W&B process to finish, PID 1519<br/>Program ended successfully."
            ],
            "text/plain": [
              "<IPython.core.display.HTML object>"
            ]
          },
          "metadata": {
            "tags": []
          }
        },
        {
          "output_type": "display_data",
          "data": {
            "application/vnd.jupyter.widget-view+json": {
              "model_id": "f8cf4147b11f4adb944724233b08a7e2",
              "version_minor": 0,
              "version_major": 2
            },
            "text/plain": [
              "VBox(children=(Label(value=' 0.00MB of 0.00MB uploaded (0.00MB deduped)\\r'), FloatProgress(value=1.0, max=1.0)…"
            ]
          },
          "metadata": {
            "tags": []
          }
        },
        {
          "output_type": "display_data",
          "data": {
            "text/html": [
              "Find user logs for this run at: <code>/content/wandb/run-20210430_110340-3qx57l51/logs/debug.log</code>"
            ],
            "text/plain": [
              "<IPython.core.display.HTML object>"
            ]
          },
          "metadata": {
            "tags": []
          }
        },
        {
          "output_type": "display_data",
          "data": {
            "text/html": [
              "Find internal logs for this run at: <code>/content/wandb/run-20210430_110340-3qx57l51/logs/debug-internal.log</code>"
            ],
            "text/plain": [
              "<IPython.core.display.HTML object>"
            ]
          },
          "metadata": {
            "tags": []
          }
        },
        {
          "output_type": "display_data",
          "data": {
            "text/html": [
              "<h3>Run summary:</h3><br/><style>\n",
              "    table.wandb td:nth-child(1) { padding: 0 10px; text-align: right }\n",
              "    </style><table class=\"wandb\">\n",
              "<tr><td>_runtime</td><td>5</td></tr><tr><td>_timestamp</td><td>1619780625</td></tr><tr><td>_step</td><td>1</td></tr></table>"
            ],
            "text/plain": [
              "<IPython.core.display.HTML object>"
            ]
          },
          "metadata": {
            "tags": []
          }
        },
        {
          "output_type": "display_data",
          "data": {
            "text/html": [
              "<h3>Run history:</h3><br/><style>\n",
              "    table.wandb td:nth-child(1) { padding: 0 10px; text-align: right }\n",
              "    </style><table class=\"wandb\">\n",
              "<tr><td>_runtime</td><td>▁█</td></tr><tr><td>_timestamp</td><td>▁█</td></tr><tr><td>_step</td><td>▁█</td></tr></table><br/>"
            ],
            "text/plain": [
              "<IPython.core.display.HTML object>"
            ]
          },
          "metadata": {
            "tags": []
          }
        },
        {
          "output_type": "display_data",
          "data": {
            "text/html": [
              "Synced 5 W&B file(s), 2 media file(s), 2 artifact file(s) and 1 other file(s)"
            ],
            "text/plain": [
              "<IPython.core.display.HTML object>"
            ]
          },
          "metadata": {
            "tags": []
          }
        },
        {
          "output_type": "display_data",
          "data": {
            "text/html": [
              "\n",
              "                    <br/>Synced <strong style=\"color:#cdcd00\">SVR</strong>: <a href=\"https://wandb.ai/pct101/final_submission/runs/3qx57l51\" target=\"_blank\">https://wandb.ai/pct101/final_submission/runs/3qx57l51</a><br/>\n",
              "                "
            ],
            "text/plain": [
              "<IPython.core.display.HTML object>"
            ]
          },
          "metadata": {
            "tags": []
          }
        },
        {
          "output_type": "display_data",
          "data": {
            "text/html": [
              "...Successfully finished last run (ID:3qx57l51). Initializing new run:<br/><br/>"
            ],
            "text/plain": [
              "<IPython.core.display.HTML object>"
            ]
          },
          "metadata": {
            "tags": []
          }
        },
        {
          "output_type": "display_data",
          "data": {
            "text/html": [
              "\n",
              "                Tracking run with wandb version 0.10.28<br/>\n",
              "                Syncing run <strong style=\"color:#cdcd00\">SVR</strong> to <a href=\"https://wandb.ai\" target=\"_blank\">Weights & Biases</a> <a href=\"https://docs.wandb.com/integrations/jupyter.html\" target=\"_blank\">(Documentation)</a>.<br/>\n",
              "                Project page: <a href=\"https://wandb.ai/pct101/final_submission\" target=\"_blank\">https://wandb.ai/pct101/final_submission</a><br/>\n",
              "                Run page: <a href=\"https://wandb.ai/pct101/final_submission/runs/29sgmdgc\" target=\"_blank\">https://wandb.ai/pct101/final_submission/runs/29sgmdgc</a><br/>\n",
              "                Run data is saved locally in <code>/content/wandb/run-20210430_110730-29sgmdgc</code><br/><br/>\n",
              "            "
            ],
            "text/plain": [
              "<IPython.core.display.HTML object>"
            ]
          },
          "metadata": {
            "tags": []
          }
        },
        {
          "output_type": "stream",
          "text": [
            "\u001b[34m\u001b[1mwandb\u001b[0m: \n",
            "\u001b[34m\u001b[1mwandb\u001b[0m: Plotting SVR.\n",
            "\u001b[34m\u001b[1mwandb\u001b[0m: Logged summary metrics.\n",
            "\u001b[34m\u001b[1mwandb\u001b[0m: Logged learning curve.\n",
            "\u001b[34m\u001b[1mwandb\u001b[0m: Logged outlier candidates.\n",
            "\u001b[34m\u001b[1mwandb\u001b[0m: \u001b[33mWARNING\u001b[0m wandb uses only the first 10000 datapoints to create the plots.\n",
            "\u001b[34m\u001b[1mwandb\u001b[0m: Logged residuals.\n"
          ],
          "name": "stderr"
        }
      ]
    },
    {
      "cell_type": "code",
      "metadata": {
        "colab": {
          "base_uri": "https://localhost:8080/",
          "height": 295
        },
        "id": "IeVCCG6FWYUH",
        "outputId": "4496a817-f959-448c-a554-c590affc65f8"
      },
      "source": [
        "# plot the regression fit with original data\n",
        "y_pred_plt = np.array(scy.inverse_transform(y_pred))\n",
        "y_pred_plt = y_pred_plt.reshape((-1, 1))\n",
        "y_test_std = y_test_std.reshape((-1, 1))\n",
        "y_train_std = y_train_std.reshape((-1, 1))\n",
        "y_plt = y.reshape((-1, 1))\n",
        "\n",
        "plt.scatter(date[past:-7], y_plt, color = 'red', label = 'Original Data')\n",
        "plt.scatter(date_test.values, y_pred_plt, color = 'green', label = 'Test Data')\n",
        "plt.title('Covid19 (SVR Model)')\n",
        "plt.xlabel('Days')\n",
        "plt.ylabel('Daily Active Cases')\n",
        "plt.legend()\n",
        "plt.show()"
      ],
      "execution_count": 56,
      "outputs": [
        {
          "output_type": "display_data",
          "data": {
            "image/png": "[encoded data removed]",
            "text/plain": [
              "<Figure size 432x288 with 1 Axes>"
            ]
          },
          "metadata": {
            "tags": [],
            "needs_background": "light"
          }
        }
      ]
    },
    {
      "cell_type": "code",
      "metadata": {
        "colab": {
          "base_uri": "https://localhost:8080/",
          "height": 1000
        },
        "id": "_ZrMl3oFXJEe",
        "outputId": "7bb801e8-4d30-42d1-8226-13d29badcf74"
      },
      "source": [
        "# extracting feature importance\n",
        "# NOTE: We cannot extract feature importance from a SRV model since the feautures\n",
        "# in it are transformed to another plane and hence are modified before prediction.\n",
        "# Hence we make use of a \"Linear Regression\" model\n",
        "\n",
        "from sklearn.linear_model import LinearRegression\n",
        "\n",
        "reg = LinearRegression()\n",
        "reg.fit(X_train_std, y_train_std)\n",
        "y_pred_fi = reg.predict(X_test_std)\n",
        "rmse = sqrt(mean_squared_error(y_test_std, y_pred_fi))\n",
        "print('Results for Linear Regression model (should be pretty close to SVR model)')\n",
        "print(rmse)\n",
        "print(reg.score(X_test_std, y_test_std))\n",
        "\n",
        "# summarize feature importance\n",
        "importance = reg.coef_[0]\n",
        "for i,v in enumerate(importance):\n",
        "\tprint('Feature: %0d, Score: %.5f' % (i,v))\n",
        "\n",
        "# plot feature importance\n",
        "plt.bar([x for x in range(len(importance))], importance)\n",
        "plt.show()"
      ],
      "execution_count": 57,
      "outputs": [
        {
          "output_type": "stream",
          "text": [
            "Results for Linear Regression model (should be pretty close to SVR model)\n",
            "0.27309515471487805\n",
            "0.8920914188148339\n",
            "Feature: 0, Score: 0.05507\n",
            "Feature: 1, Score: 0.15763\n",
            "Feature: 2, Score: 0.08215\n",
            "Feature: 3, Score: -0.17058\n",
            "Feature: 4, Score: -0.11063\n",
            "Feature: 5, Score: -0.03834\n",
            "Feature: 6, Score: -0.01970\n",
            "Feature: 7, Score: 0.03955\n",
            "Feature: 8, Score: -0.04601\n",
            "Feature: 9, Score: 0.08735\n",
            "Feature: 10, Score: -0.02200\n",
            "Feature: 11, Score: 0.14772\n",
            "Feature: 12, Score: 0.01475\n",
            "Feature: 13, Score: -0.17561\n",
            "Feature: 14, Score: -0.06549\n",
            "Feature: 15, Score: -0.05083\n",
            "Feature: 16, Score: -0.07026\n",
            "Feature: 17, Score: 0.03070\n",
            "Feature: 18, Score: 0.05011\n",
            "Feature: 19, Score: 0.09877\n",
            "Feature: 20, Score: 0.11228\n",
            "Feature: 21, Score: 0.13007\n",
            "Feature: 22, Score: 0.05003\n",
            "Feature: 23, Score: 0.07401\n",
            "Feature: 24, Score: 0.02172\n",
            "Feature: 25, Score: -0.17211\n",
            "Feature: 26, Score: -0.05823\n",
            "Feature: 27, Score: 0.05324\n",
            "Feature: 28, Score: 0.21309\n",
            "Feature: 29, Score: 0.13571\n",
            "Feature: 30, Score: 0.10518\n",
            "Feature: 31, Score: -0.07430\n",
            "Feature: 32, Score: -0.02155\n",
            "Feature: 33, Score: -0.19342\n",
            "Feature: 34, Score: -0.10362\n",
            "Feature: 35, Score: 0.04698\n",
            "Feature: 36, Score: -0.04290\n",
            "Feature: 37, Score: 0.25477\n",
            "Feature: 38, Score: 0.20796\n",
            "Feature: 39, Score: -0.00643\n",
            "Feature: 40, Score: -0.28054\n",
            "Feature: 41, Score: -0.34011\n",
            "Feature: 42, Score: -0.26793\n",
            "Feature: 43, Score: 0.03393\n",
            "Feature: 44, Score: 0.02400\n",
            "Feature: 45, Score: 0.01489\n",
            "Feature: 46, Score: 0.01549\n",
            "Feature: 47, Score: 0.14480\n",
            "Feature: 48, Score: 0.12088\n",
            "Feature: 49, Score: 0.83739\n",
            "Feature: 50, Score: -0.06292\n",
            "Feature: 51, Score: -0.04630\n",
            "Feature: 52, Score: 0.01942\n"
          ],
          "name": "stdout"
        },
        {
          "output_type": "display_data",
          "data": {
            "image/png": "[encoded data removed]",
            "text/plain": [
              "<Figure size 432x288 with 1 Axes>"
            ]
          },
          "metadata": {
            "tags": [],
            "needs_background": "light"
          }
        }
      ]
    },
    {
      "cell_type": "markdown",
      "metadata": {
        "id": "-Tk0sWItS7G_"
      },
      "source": [
        "#### Clearly as can be seen, the most important feature is in fact previous day death count. The other features have comparatively lesser importance in the prediction of current days active cases"
      ]
    },
    {
      "cell_type": "code",
      "metadata": {
        "colab": {
          "base_uri": "https://localhost:8080/"
        },
        "id": "VodxNBobQgsL",
        "outputId": "3c6a2ebb-c95a-4fbe-820c-bae5bf9c5168"
      },
      "source": [
        "# predicitons\n",
        "\n",
        "X_hold_ = scx.transform(X_hold)\n",
        "future = svr.predict(X_hold_)\n",
        "future = np.array(scy.inverse_transform(future))\n",
        "future = map(int, future)\n",
        "print('upcoming 7 days active cases as predicted by SVR model:\\n', *future)\n",
        "print('actual active cases from the dataset:\\n', *y_hold)"
      ],
      "execution_count": 17,
      "outputs": [
        {
          "output_type": "stream",
          "text": [
            "upcoming 7 days active cases as predicted by SVR model:\n",
            " 31 33 34 38 39 36 47\n",
            "actual active cases from the dataset:\n",
            " [23.] [22.] [26.] [27.] [21.] [25.] [28.]\n"
          ],
          "name": "stdout"
        }
      ]
    },
    {
      "cell_type": "markdown",
      "metadata": {
        "id": "JPsPZeSw2GfU"
      },
      "source": [
        "### 2-layered NN model\n",
        "\n",
        "Below cells are related to the 2-layers NN model"
      ]
    },
    {
      "cell_type": "code",
      "metadata": {
        "id": "H6039rtKFLmD"
      },
      "source": [
        "X_train_nn = torch.from_numpy(X_train_std.astype(np.float32)).view(X_train_std.shape[0], 53)\n",
        "X_test_nn = torch.from_numpy(X_test_std.astype(np.float32)).view(X_test_std.shape[0], 53)\n",
        "y_train_nn = torch.from_numpy(y_train_std.astype(np.float32)).view(X_train_std.shape[0],1)\n",
        "y_test_nn = torch.from_numpy(y_test_std.astype(np.float32)).view(X_test_std.shape[0],1)"
      ],
      "execution_count": 7,
      "outputs": []
    },
    {
      "cell_type": "code",
      "metadata": {
        "colab": {
          "base_uri": "https://localhost:8080/"
        },
        "id": "2R-0Wiq6fFCU",
        "outputId": "7fc166be-9874-4a65-cba0-375ca25c8082"
      },
      "source": [
        "min_loss=1000\n",
        "layer = 80 #159 mse loss = 0.1589 on test set and 0.018 on train set; 106 mse loss 0.1465 on test set and 0.019 on train\n",
        "epochs = 40000\n",
        "\n",
        "modelx = torch.nn.Sequential(\n",
        "    torch.nn.Linear(53, layer),\n",
        "    torch.nn.ReLU(),\n",
        "    torch.nn.Linear(layer, layer),\n",
        "    torch.nn.ReLU(),\n",
        "    torch.nn.Linear(layer, 1),\n",
        ")\n",
        "loss_fn = torch.nn.MSELoss()\n",
        "# wandb.watch(modelx, log_freq=100)\n",
        "\n",
        "learning_rate = 1e-3\n",
        "optimizer = torch.optim.RMSprop(modelx.parameters(), lr=learning_rate)\n",
        "\n",
        "start_time = datetime.now()\n",
        "\n",
        "for t in range(epochs):\n",
        "    y_pred = modelx(X_train_nn)\n",
        "\n",
        "    RMSE_loss = torch.sqrt(loss_fn(y_pred, y_train_nn))\n",
        "    \n",
        "    optimizer.zero_grad()\n",
        "\n",
        "    RMSE_loss.backward()\n",
        "\n",
        "    optimizer.step()\n",
        "\n",
        "    if t%100 == 99:\n",
        "        print(t+1, RMSE_loss.item())\n",
        "        # wandb.log({\"loss\": RMSE_loss})\n",
        "\n",
        "y1_pred = modelx(X_test_nn).detach()\n",
        "print(y1_pred.shape)\n",
        "print(torch.sqrt(loss_fn(y1_pred, y_test_nn)))"
      ],
      "execution_count": 18,
      "outputs": [
        {
          "output_type": "stream",
          "text": [
            "100 0.14027388393878937\n",
            "200 0.12075167894363403\n",
            "300 0.12469968944787979\n",
            "400 0.09942975640296936\n",
            "500 0.09097249805927277\n",
            "600 0.08525021374225616\n",
            "700 0.0830957442522049\n",
            "800 0.12185010313987732\n",
            "900 0.08272694796323776\n",
            "1000 0.07110214233398438\n",
            "1100 0.09466314315795898\n",
            "1200 0.07301391661167145\n",
            "1300 0.07332801073789597\n",
            "1400 0.056352272629737854\n",
            "1500 0.06714174896478653\n",
            "1600 0.050022587180137634\n",
            "1700 0.06709873676300049\n",
            "1800 0.05472681671380997\n",
            "1900 0.0595649890601635\n",
            "2000 0.044829946011304855\n",
            "2100 0.060739994049072266\n",
            "2200 0.05097297951579094\n",
            "2300 0.06618978828191757\n",
            "2400 0.05408245697617531\n",
            "2500 0.05966578796505928\n",
            "2600 0.04913837090134621\n",
            "2700 0.05962279438972473\n",
            "2800 0.06372781097888947\n",
            "2900 0.059358906000852585\n",
            "3000 0.04825139418244362\n",
            "3100 0.04626178741455078\n",
            "3200 0.04700877144932747\n",
            "3300 0.05007665604352951\n",
            "3400 0.05110260099172592\n",
            "3500 0.06503321975469589\n",
            "3600 0.042530607432127\n",
            "3700 0.049802690744400024\n",
            "3800 0.05130253732204437\n",
            "3900 0.0474337600171566\n",
            "4000 0.06544821709394455\n",
            "4100 0.042064864188432693\n",
            "4200 0.04194438457489014\n",
            "4300 0.04144081845879555\n",
            "4400 0.04684703052043915\n",
            "4500 0.04805354028940201\n",
            "4600 0.03984510153532028\n",
            "4700 0.05279200151562691\n",
            "4800 0.029609695076942444\n",
            "4900 0.04251223802566528\n",
            "5000 0.03981420770287514\n",
            "5100 0.03392328321933746\n",
            "5200 0.04103561490774155\n",
            "5300 0.04297677055001259\n",
            "5400 0.04020034521818161\n",
            "5500 0.041220664978027344\n",
            "5600 0.037493642419576645\n",
            "5700 0.03599851205945015\n",
            "5800 0.0377197228372097\n",
            "5900 0.04093198478221893\n",
            "6000 0.035979870706796646\n",
            "6100 0.04198184609413147\n",
            "6200 0.04196961224079132\n",
            "6300 0.03465260937809944\n",
            "6400 0.03257172927260399\n",
            "6500 0.03805581480264664\n",
            "6600 0.03322654962539673\n",
            "6700 0.03816211596131325\n",
            "6800 0.03598036244511604\n",
            "6900 0.04004250839352608\n",
            "7000 0.03331649303436279\n",
            "7100 0.038314443081617355\n",
            "7200 0.033761002123355865\n",
            "7300 0.04105221480131149\n",
            "7400 0.035487107932567596\n",
            "7500 0.0363285206258297\n",
            "7600 0.036178234964609146\n",
            "7700 0.030413152649998665\n",
            "7800 0.03102857805788517\n",
            "7900 0.03265818580985069\n",
            "8000 0.03951084241271019\n",
            "8100 0.038540031760931015\n",
            "8200 0.029854197055101395\n",
            "8300 0.030374247580766678\n",
            "8400 0.0303899385035038\n",
            "8500 0.032384242862463\n",
            "8600 0.03318833187222481\n",
            "8700 0.03039652295410633\n",
            "8800 0.029511108994483948\n",
            "8900 0.026515496894717216\n",
            "9000 0.029494043439626694\n",
            "9100 0.03055158443748951\n",
            "9200 0.03455366566777229\n",
            "9300 0.030120637267827988\n",
            "9400 0.036304622888565063\n",
            "9500 0.032065700739622116\n",
            "9600 0.028071949258446693\n",
            "9700 0.028342656791210175\n",
            "9800 0.03554592281579971\n",
            "9900 0.03282332047820091\n",
            "10000 0.036973435431718826\n",
            "10100 0.027836697176098824\n",
            "10200 0.032014019787311554\n",
            "10300 0.026721568778157234\n",
            "10400 0.025702474638819695\n",
            "10500 0.030712999403476715\n",
            "10600 0.026706965640187263\n",
            "10700 0.024786649271845818\n",
            "10800 0.023077914491295815\n",
            "10900 0.03832235559821129\n",
            "11000 0.03376423567533493\n",
            "11100 0.031347375363111496\n",
            "11200 0.03286861255764961\n",
            "11300 0.030081329867243767\n",
            "11400 0.033370114862918854\n",
            "11500 0.026544606313109398\n",
            "11600 0.026048418134450912\n",
            "11700 0.025659414008259773\n",
            "11800 0.02120400406420231\n",
            "11900 0.022748885676264763\n",
            "12000 0.03304512798786163\n",
            "12100 0.028338948264718056\n",
            "12200 0.028041815385222435\n",
            "12300 0.024730753153562546\n",
            "12400 0.028370968997478485\n",
            "12500 0.029958371073007584\n",
            "12600 0.020928096026182175\n",
            "12700 0.028100663796067238\n",
            "12800 0.04714706912636757\n",
            "12900 0.02654865011572838\n",
            "13000 0.024567285552620888\n",
            "13100 0.02496935985982418\n",
            "13200 0.02545015700161457\n",
            "13300 0.02535085566341877\n",
            "13400 0.02497696503996849\n",
            "13500 0.03127431124448776\n",
            "13600 0.03138025850057602\n",
            "13700 0.030682919546961784\n",
            "13800 0.028029851615428925\n",
            "13900 0.02415231429040432\n",
            "14000 0.026140514761209488\n",
            "14100 0.02650734968483448\n",
            "14200 0.02549845352768898\n",
            "14300 0.024501610547304153\n",
            "14400 0.024101173505187035\n",
            "14500 0.025426140055060387\n",
            "14600 0.02491064742207527\n",
            "14700 0.028351813554763794\n",
            "14800 0.02945302426815033\n",
            "14900 0.023608136922121048\n",
            "15000 0.02401508390903473\n",
            "15100 0.025318380445241928\n",
            "15200 0.02883216366171837\n",
            "15300 0.021919099614024162\n",
            "15400 0.024672457948327065\n",
            "15500 0.03299495577812195\n",
            "15600 0.022299356758594513\n",
            "15700 0.0262314286082983\n",
            "15800 0.026590587571263313\n",
            "15900 0.02363276667892933\n",
            "16000 0.04292938485741615\n",
            "16100 0.023951027542352676\n",
            "16200 0.027371158823370934\n",
            "16300 0.01966024748980999\n",
            "16400 0.02132287062704563\n",
            "16500 0.026203874498605728\n",
            "16600 0.025948595255613327\n",
            "16700 0.021883714944124222\n",
            "16800 0.020524315536022186\n",
            "16900 0.027762915939092636\n",
            "17000 0.019418776035308838\n",
            "17100 0.023281410336494446\n",
            "17200 0.03331870585680008\n",
            "17300 0.021717609837651253\n",
            "17400 0.026701465249061584\n",
            "17500 0.027345282956957817\n",
            "17600 0.02645713835954666\n",
            "17700 0.020757492631673813\n",
            "17800 0.02333824522793293\n",
            "17900 0.023068055510520935\n",
            "18000 0.029187487438321114\n",
            "18100 0.02529825270175934\n",
            "18200 0.01897270418703556\n",
            "18300 0.02295648120343685\n",
            "18400 0.01665223203599453\n",
            "18500 0.027643293142318726\n",
            "18600 0.026959296315908432\n",
            "18700 0.028627216815948486\n",
            "18800 0.025183478370308876\n",
            "18900 0.018961668014526367\n",
            "19000 0.021568939089775085\n",
            "19100 0.022398533299565315\n",
            "19200 0.024409517645835876\n",
            "19300 0.017166955396533012\n",
            "19400 0.023975055664777756\n",
            "19500 0.02414596453309059\n",
            "19600 0.02291589230298996\n",
            "19700 0.023097051307559013\n",
            "19800 0.021249283105134964\n",
            "19900 0.020084241405129433\n",
            "20000 0.019446641206741333\n",
            "20100 0.018478533253073692\n",
            "20200 0.024065736681222916\n",
            "20300 0.026906529441475868\n",
            "20400 0.026546921581029892\n",
            "20500 0.01699758879840374\n",
            "20600 0.02051427774131298\n",
            "20700 0.020853912457823753\n",
            "20800 0.023815741762518883\n",
            "20900 0.019137373194098473\n",
            "21000 0.02480997145175934\n",
            "21100 0.02142404578626156\n",
            "21200 0.024573015049099922\n",
            "21300 0.02348514460027218\n",
            "21400 0.022321127355098724\n",
            "21500 0.016867315396666527\n",
            "21600 0.023750342428684235\n",
            "21700 0.017865166068077087\n",
            "21800 0.01924232393503189\n",
            "21900 0.017849598079919815\n",
            "22000 0.02587350271642208\n",
            "22100 0.025430791079998016\n",
            "22200 0.018878309056162834\n",
            "22300 0.021021217107772827\n",
            "22400 0.019151808694005013\n",
            "22500 0.020093409344553947\n",
            "22600 0.016012489795684814\n",
            "22700 0.02152181789278984\n",
            "22800 0.023540908470749855\n",
            "22900 0.015797505155205727\n",
            "23000 0.021584361791610718\n",
            "23100 0.017957735806703568\n",
            "23200 0.020969269797205925\n",
            "23300 0.028809919953346252\n",
            "23400 0.014746710658073425\n",
            "23500 0.06589914858341217\n",
            "23600 0.022217370569705963\n",
            "23700 0.027632420882582664\n",
            "23800 0.01569410040974617\n",
            "23900 0.023854762315750122\n",
            "24000 0.021518664434552193\n",
            "24100 0.016594043001532555\n",
            "24200 0.02323566935956478\n",
            "24300 0.01845233142375946\n",
            "24400 0.02398855797946453\n",
            "24500 0.025247162207961082\n",
            "24600 0.01776651106774807\n",
            "24700 0.02536257542669773\n",
            "24800 0.02374422550201416\n",
            "24900 0.02314809150993824\n",
            "25000 0.023057281970977783\n",
            "25100 0.021563822403550148\n",
            "25200 0.018062753602862358\n",
            "25300 0.015937717631459236\n",
            "25400 0.021419962868094444\n",
            "25500 0.01900455169379711\n",
            "25600 0.020960835739970207\n",
            "25700 0.024571888148784637\n",
            "25800 0.021899351850152016\n",
            "25900 0.02385324239730835\n",
            "26000 0.01774277165532112\n",
            "26100 0.01508060097694397\n",
            "26200 0.021018588915467262\n",
            "26300 0.026324009522795677\n",
            "26400 0.0203513503074646\n",
            "26500 0.020796984434127808\n",
            "26600 0.021975001320242882\n",
            "26700 0.02142280526459217\n",
            "26800 0.02195558324456215\n",
            "26900 0.023235274478793144\n",
            "27000 0.016884034499526024\n",
            "27100 0.022424200549721718\n",
            "27200 0.015862492844462395\n",
            "27300 0.01978020742535591\n",
            "27400 0.023714987561106682\n",
            "27500 0.0194145068526268\n",
            "27600 0.02861904352903366\n",
            "27700 0.016261279582977295\n",
            "27800 0.020161183550953865\n",
            "27900 0.024035384878516197\n",
            "28000 0.019287606701254845\n",
            "28100 0.021623941138386726\n",
            "28200 0.025141458958387375\n",
            "28300 0.01825288124382496\n",
            "28400 0.024612074717879295\n",
            "28500 0.01685219630599022\n",
            "28600 0.022739939391613007\n",
            "28700 0.02301870845258236\n",
            "28800 0.01706772856414318\n",
            "28900 0.01731792651116848\n",
            "29000 0.013893832452595234\n",
            "29100 0.019695326685905457\n",
            "29200 0.014956197701394558\n",
            "29300 0.02121720090508461\n",
            "29400 0.028508571907877922\n",
            "29500 0.020153973251581192\n",
            "29600 0.01676868088543415\n",
            "29700 0.014471838250756264\n",
            "29800 0.018079295754432678\n",
            "29900 0.02052450180053711\n",
            "30000 0.02812064066529274\n",
            "30100 0.015042315237224102\n",
            "30200 0.017555711790919304\n",
            "30300 0.02296290546655655\n",
            "30400 0.020261451601982117\n",
            "30500 0.01972094550728798\n",
            "30600 0.021258538588881493\n",
            "30700 0.022269736975431442\n",
            "30800 0.030776889994740486\n",
            "30900 0.01805044710636139\n",
            "31000 0.011359276250004768\n",
            "31100 0.018494579941034317\n",
            "31200 0.018797622993588448\n",
            "31300 0.015634870156645775\n",
            "31400 0.018328586593270302\n",
            "31500 0.018622443079948425\n",
            "31600 0.015033098869025707\n",
            "31700 0.017738664522767067\n",
            "31800 0.024687521159648895\n",
            "31900 0.021882783621549606\n",
            "32000 0.015468125231564045\n",
            "32100 0.021719541400671005\n",
            "32200 0.01634817011654377\n",
            "32300 0.013207981362938881\n",
            "32400 0.015259970910847187\n",
            "32500 0.021863948553800583\n",
            "32600 0.019197717308998108\n",
            "32700 0.014653682708740234\n",
            "32800 0.01568887010216713\n",
            "32900 0.01746293157339096\n",
            "33000 0.01703209988772869\n",
            "33100 0.013176670297980309\n",
            "33200 0.015472578816115856\n",
            "33300 0.027038531377911568\n",
            "33400 0.021832318976521492\n",
            "33500 0.016917267814278603\n",
            "33600 0.02283530682325363\n",
            "33700 0.01801344007253647\n",
            "33800 0.02366025559604168\n",
            "33900 0.018663330003619194\n",
            "34000 0.02069673500955105\n",
            "34100 0.019216107204556465\n",
            "34200 0.0134111437946558\n",
            "34300 0.017143744975328445\n",
            "34400 0.022355610504746437\n",
            "34500 0.019746124744415283\n",
            "34600 0.01626892201602459\n",
            "34700 0.022885557264089584\n",
            "34800 0.012900497764348984\n",
            "34900 0.026065558195114136\n",
            "35000 0.015010273084044456\n",
            "35100 0.013032563962042332\n",
            "35200 0.021197374910116196\n",
            "35300 0.01977521926164627\n",
            "35400 0.014493790455162525\n",
            "35500 0.020517045632004738\n",
            "35600 0.01536257192492485\n",
            "35700 0.021688682958483696\n",
            "35800 0.016055839136242867\n",
            "35900 0.016249140724539757\n",
            "36000 0.020670216530561447\n",
            "36100 0.01445339061319828\n",
            "36200 0.021711038425564766\n",
            "36300 0.019909819588065147\n",
            "36400 0.01375211775302887\n",
            "36500 0.015734421089291573\n",
            "36600 0.012218202464282513\n",
            "36700 0.02161319926381111\n",
            "36800 0.014720185659825802\n",
            "36900 0.014168286696076393\n",
            "37000 0.019977882504463196\n",
            "37100 0.012243874371051788\n",
            "37200 0.014790683053433895\n",
            "37300 0.02051541768014431\n",
            "37400 0.018995145335793495\n",
            "37500 0.023115405812859535\n",
            "37600 0.01414728444069624\n",
            "37700 0.02017395943403244\n",
            "37800 0.015059276483952999\n",
            "37900 0.015004991553723812\n",
            "38000 0.018366871401667595\n",
            "38100 0.012853319756686687\n",
            "38200 0.01780390925705433\n",
            "38300 0.013716716319322586\n",
            "38400 0.018592985346913338\n",
            "38500 0.019917909055948257\n",
            "38600 0.021189996972680092\n",
            "38700 0.018770836293697357\n",
            "38800 0.01661563478410244\n",
            "38900 0.011770417913794518\n",
            "39000 0.016070671379566193\n",
            "39100 0.0141138369217515\n",
            "39200 0.01682392694056034\n",
            "39300 0.02057756297290325\n",
            "39400 0.021084554493427277\n",
            "39500 0.019523372873663902\n",
            "39600 0.013455337844789028\n",
            "39700 0.021178115159273148\n",
            "39800 0.012228776700794697\n",
            "39900 0.013503538444638252\n",
            "40000 0.013568326830863953\n",
            "torch.Size([99, 1])\n",
            "tensor(0.1530)\n"
          ],
          "name": "stdout"
        }
      ]
    },
    {
      "cell_type": "code",
      "metadata": {
        "colab": {
          "base_uri": "https://localhost:8080/",
          "height": 295
        },
        "id": "AI-cPfL3ckux",
        "outputId": "2ea57dd8-8dfd-477a-e085-35e67158456e"
      },
      "source": [
        "# plot the fit with original data\n",
        "y1_pred_plt = np.array(scy.inverse_transform(y1_pred))\n",
        "y1_pred_plt = y1_pred_plt.reshape((-1, 1))\n",
        "y_plt = y.reshape((-1, 1))\n",
        "\n",
        "plt.scatter(date[past:-7], y_plt, color = 'red', label = 'Original Data')\n",
        "plt.scatter(date_test.values, y1_pred_plt, color = 'green', label = 'Test Data')\n",
        "plt.title('Covid19 (NN Model)')\n",
        "plt.xlabel('Days')\n",
        "plt.ylabel('Daily Active Cases')\n",
        "plt.legend()\n",
        "plt.show()"
      ],
      "execution_count": 14,
      "outputs": [
        {
          "output_type": "display_data",
          "data": {
            "image/png": "[encoded data removed]",
            "text/plain": [
              "<Figure size 432x288 with 1 Axes>"
            ]
          },
          "metadata": {
            "tags": [],
            "needs_background": "light"
          }
        }
      ]
    },
    {
      "cell_type": "code",
      "metadata": {
        "colab": {
          "base_uri": "https://localhost:8080/"
        },
        "id": "6HEghasKT-MQ",
        "outputId": "2b60e67f-148d-40a0-bb2c-81e91dc028ba"
      },
      "source": [
        "# predicitons\n",
        "\n",
        "X_hold_ = scx.transform(X_hold)\n",
        "X_hold_ = torch.from_numpy(X_hold_.astype(np.float32)).view(7, 53)\n",
        "future = modelx(X_hold_).detach()\n",
        "future = np.array(scy.inverse_transform(future))\n",
        "future = map(int, future)\n",
        "print('upcoming 7 days active cases as predicted by NN:\\n', *future)\n",
        "print('actual active cases from the dataset:\\n', *y_hold)"
      ],
      "execution_count": 19,
      "outputs": [
        {
          "output_type": "stream",
          "text": [
            "upcoming 7 days active cases as predicted by NN:\n",
            " 26 29 28 26 26 22 24\n",
            "actual active cases from the dataset:\n",
            " [23.] [22.] [26.] [27.] [21.] [25.] [28.]\n"
          ],
          "name": "stdout"
        }
      ]
    },
    {
      "cell_type": "markdown",
      "metadata": {
        "id": "hGP3bSv6Gpt9"
      },
      "source": [
        "### Other models we tried\n",
        "\n",
        "Below cells include other models that we gave a spin. These include: **LinearRegression** model and **Prophet** model"
      ]
    },
    {
      "cell_type": "markdown",
      "metadata": {
        "id": "j_plv3FOG-eL"
      },
      "source": [
        "#### Linear Regression"
      ]
    },
    {
      "cell_type": "code",
      "metadata": {
        "colab": {
          "base_uri": "https://localhost:8080/"
        },
        "id": "pbH1DooeFt1d",
        "outputId": "29ab5f4a-9107-46f8-db89-c97ca0e72218"
      },
      "source": [
        "from sklearn.linear_model import LinearRegression\n",
        "\n",
        "reg = LinearRegression()\n",
        "reg.fit(X_train_std, y_train_std)\n",
        "y_pred = reg.predict(X_test_std)\n",
        "rmse = sqrt(mean_squared_error(y_test_std, y_pred))\n",
        "print(rmse)\n",
        "print(reg.score(X_test_std, y_test_std))"
      ],
      "execution_count": 88,
      "outputs": [
        {
          "output_type": "stream",
          "text": [
            "0.27309515471487805\n",
            "0.8920914188148339\n"
          ],
          "name": "stdout"
        }
      ]
    },
    {
      "cell_type": "code",
      "metadata": {
        "colab": {
          "base_uri": "https://localhost:8080/",
          "height": 700,
          "referenced_widgets": [
            "1b8e6f9a46234476879389b2a30915c5",
            "cd8aa343691741cc821dac28fa10d472",
            "217ad77833de45d2b3c142b4c68707ca",
            "5bc3e229549b4d3a92471475ebb56c39",
            "9b0056265efc4ba4ac9fbe2501037d10",
            "6396d8881aab40d0822728a6c38de6cf",
            "659d1863f99a4732be308a096e0fd200",
            "8229df5cb1c64183b7f69793293ff753"
          ]
        },
        "id": "vhcFqyh8d-M8",
        "outputId": "933689bb-9cc6-464e-afc9-b041776d8c2e"
      },
      "source": [
        "# wandb log cell\n",
        "\n",
        "proj = 'final_submission'\n",
        "team_name = 'pct101'\n",
        "run_name = 'LR'\n",
        "wandb.init(project=proj, entity=team_name, name=run_name)\n",
        "\n",
        "wandb.sklearn.plot_regressor(reg, X_train_std, X_test_std, y_train_std, y_test_std,  model_name=run_name)"
      ],
      "execution_count": null,
      "outputs": [
        {
          "output_type": "display_data",
          "data": {
            "text/html": [
              "Finishing last run (ID:29sgmdgc) before initializing another..."
            ],
            "text/plain": [
              "<IPython.core.display.HTML object>"
            ]
          },
          "metadata": {
            "tags": []
          }
        },
        {
          "output_type": "display_data",
          "data": {
            "text/html": [
              "<br/>Waiting for W&B process to finish, PID 1605<br/>Program ended successfully."
            ],
            "text/plain": [
              "<IPython.core.display.HTML object>"
            ]
          },
          "metadata": {
            "tags": []
          }
        },
        {
          "output_type": "display_data",
          "data": {
            "application/vnd.jupyter.widget-view+json": {
              "model_id": "1b8e6f9a46234476879389b2a30915c5",
              "version_minor": 0,
              "version_major": 2
            },
            "text/plain": [
              "VBox(children=(Label(value=' 0.06MB of 0.06MB uploaded (0.00MB deduped)\\r'), FloatProgress(value=1.0, max=1.0)…"
            ]
          },
          "metadata": {
            "tags": []
          }
        },
        {
          "output_type": "display_data",
          "data": {
            "text/html": [
              "Find user logs for this run at: <code>/content/wandb/run-20210430_110730-29sgmdgc/logs/debug.log</code>"
            ],
            "text/plain": [
              "<IPython.core.display.HTML object>"
            ]
          },
          "metadata": {
            "tags": []
          }
        },
        {
          "output_type": "display_data",
          "data": {
            "text/html": [
              "Find internal logs for this run at: <code>/content/wandb/run-20210430_110730-29sgmdgc/logs/debug-internal.log</code>"
            ],
            "text/plain": [
              "<IPython.core.display.HTML object>"
            ]
          },
          "metadata": {
            "tags": []
          }
        },
        {
          "output_type": "display_data",
          "data": {
            "text/html": [
              "<h3>Run summary:</h3><br/><style>\n",
              "    table.wandb td:nth-child(1) { padding: 0 10px; text-align: right }\n",
              "    </style><table class=\"wandb\">\n",
              "<tr><td>_runtime</td><td>7</td></tr><tr><td>_timestamp</td><td>1619780864</td></tr><tr><td>_step</td><td>3</td></tr></table>"
            ],
            "text/plain": [
              "<IPython.core.display.HTML object>"
            ]
          },
          "metadata": {
            "tags": []
          }
        },
        {
          "output_type": "display_data",
          "data": {
            "text/html": [
              "<h3>Run history:</h3><br/><style>\n",
              "    table.wandb td:nth-child(1) { padding: 0 10px; text-align: right }\n",
              "    </style><table class=\"wandb\">\n",
              "<tr><td>_runtime</td><td>▁▅▆█</td></tr><tr><td>_timestamp</td><td>▁▅▆█</td></tr><tr><td>_step</td><td>▁▃▆█</td></tr></table><br/>"
            ],
            "text/plain": [
              "<IPython.core.display.HTML object>"
            ]
          },
          "metadata": {
            "tags": []
          }
        },
        {
          "output_type": "display_data",
          "data": {
            "text/html": [
              "Synced 5 W&B file(s), 4 media file(s), 4 artifact file(s) and 0 other file(s)"
            ],
            "text/plain": [
              "<IPython.core.display.HTML object>"
            ]
          },
          "metadata": {
            "tags": []
          }
        },
        {
          "output_type": "display_data",
          "data": {
            "text/html": [
              "\n",
              "                    <br/>Synced <strong style=\"color:#cdcd00\">SVR</strong>: <a href=\"https://wandb.ai/pct101/final_submission/runs/29sgmdgc\" target=\"_blank\">https://wandb.ai/pct101/final_submission/runs/29sgmdgc</a><br/>\n",
              "                "
            ],
            "text/plain": [
              "<IPython.core.display.HTML object>"
            ]
          },
          "metadata": {
            "tags": []
          }
        },
        {
          "output_type": "display_data",
          "data": {
            "text/html": [
              "...Successfully finished last run (ID:29sgmdgc). Initializing new run:<br/><br/>"
            ],
            "text/plain": [
              "<IPython.core.display.HTML object>"
            ]
          },
          "metadata": {
            "tags": []
          }
        },
        {
          "output_type": "display_data",
          "data": {
            "text/html": [
              "\n",
              "                Tracking run with wandb version 0.10.28<br/>\n",
              "                Syncing run <strong style=\"color:#cdcd00\">LR</strong> to <a href=\"https://wandb.ai\" target=\"_blank\">Weights & Biases</a> <a href=\"https://docs.wandb.com/integrations/jupyter.html\" target=\"_blank\">(Documentation)</a>.<br/>\n",
              "                Project page: <a href=\"https://wandb.ai/pct101/final_submission\" target=\"_blank\">https://wandb.ai/pct101/final_submission</a><br/>\n",
              "                Run page: <a href=\"https://wandb.ai/pct101/final_submission/runs/26sni6sf\" target=\"_blank\">https://wandb.ai/pct101/final_submission/runs/26sni6sf</a><br/>\n",
              "                Run data is saved locally in <code>/content/wandb/run-20210430_110944-26sni6sf</code><br/><br/>\n",
              "            "
            ],
            "text/plain": [
              "<IPython.core.display.HTML object>"
            ]
          },
          "metadata": {
            "tags": []
          }
        },
        {
          "output_type": "stream",
          "text": [
            "\u001b[34m\u001b[1mwandb\u001b[0m: \n",
            "\u001b[34m\u001b[1mwandb\u001b[0m: Plotting LR.\n",
            "\u001b[34m\u001b[1mwandb\u001b[0m: Logged summary metrics.\n",
            "\u001b[34m\u001b[1mwandb\u001b[0m: Logged learning curve.\n",
            "\u001b[34m\u001b[1mwandb\u001b[0m: Logged outlier candidates.\n",
            "\u001b[34m\u001b[1mwandb\u001b[0m: \u001b[33mWARNING\u001b[0m wandb uses only the first 10000 datapoints to create the plots.\n",
            "\u001b[34m\u001b[1mwandb\u001b[0m: Logged residuals.\n"
          ],
          "name": "stderr"
        }
      ]
    },
    {
      "cell_type": "code",
      "metadata": {
        "colab": {
          "base_uri": "https://localhost:8080/",
          "height": 367
        },
        "id": "4JWeV2SZIfC9",
        "outputId": "0ae6f724-707c-469b-82fc-3fec5b2d738c"
      },
      "source": [
        "# plot the regression fit with original data\n",
        "y_pred_plt = np.array(scy.inverse_transform(y_pred))\n",
        "y_pred_plt = y_pred_plt.reshape((-1, 1))\n",
        "y_test_std = y_test_std.reshape((-1, 1))\n",
        "y_train_std = y_train_std.reshape((-1, 1))\n",
        "y_plt = y.reshape((-1, 1))\n",
        "\n",
        "plt.scatter(date[past:-7], y_plt, color = 'red', label = 'Original Data')\n",
        "plt.scatter(date_test.values, y_pred_plt, color = 'green', label = 'Test Data')\n",
        "plt.title('Covid19 (Linear Regression Model)')\n",
        "plt.xlabel('Days')\n",
        "plt.ylabel('Daily Active Cases')\n",
        "plt.legend()\n",
        "plt.show()"
      ],
      "execution_count": null,
      "outputs": [
        {
          "output_type": "stream",
          "text": [
            "INFO:matplotlib.category:Using categorical units to plot a list of strings that are all parsable as floats or dates. If these strings should be plotted as numbers, cast to the appropriate data type before plotting.\n",
            "INFO:matplotlib.category:Using categorical units to plot a list of strings that are all parsable as floats or dates. If these strings should be plotted as numbers, cast to the appropriate data type before plotting.\n",
            "INFO:matplotlib.category:Using categorical units to plot a list of strings that are all parsable as floats or dates. If these strings should be plotted as numbers, cast to the appropriate data type before plotting.\n"
          ],
          "name": "stderr"
        },
        {
          "output_type": "display_data",
          "data": {
            "image/png": "[encoded data removed]",
            "text/plain": [
              "<Figure size 432x288 with 1 Axes>"
            ]
          },
          "metadata": {
            "tags": [],
            "needs_background": "light"
          }
        }
      ]
    },
    {
      "cell_type": "code",
      "metadata": {
        "colab": {
          "base_uri": "https://localhost:8080/"
        },
        "id": "SR9lY9fTWluW",
        "outputId": "c35ea0a1-a0a9-4a54-8d0f-31711211a0a7"
      },
      "source": [
        "# predicitons\n",
        "\n",
        "X_hold_ = scx.transform(X_hold)\n",
        "future = reg.predict(X_hold_)\n",
        "future = np.array(scy.inverse_transform(future))\n",
        "future = map(int, future)\n",
        "print('upcoming 7 days active cases as predicted by LR model:\\n', *future)\n",
        "print('actual active cases from the dataset:\\n', *y_hold)"
      ],
      "execution_count": 89,
      "outputs": [
        {
          "output_type": "stream",
          "text": [
            "upcoming 7 days active cases as predicted by LR model:\n",
            " 15 27 22 42 36 20 38\n",
            "actual active cases from the dataset:\n",
            " [23.] [22.] [26.] [27.] [21.] [25.] [28.]\n"
          ],
          "name": "stdout"
        }
      ]
    },
    {
      "cell_type": "markdown",
      "metadata": {
        "id": "IW9KSf1eHXoh"
      },
      "source": [
        "#### Prophet"
      ]
    },
    {
      "cell_type": "code",
      "metadata": {
        "colab": {
          "base_uri": "https://localhost:8080/"
        },
        "id": "qRwlIUI1HVCZ",
        "outputId": "db35b351-19b6-4fe4-95ab-222c62771966"
      },
      "source": [
        "from fbprophet import Prophet\n",
        "\n",
        "new_df = df[['date', 'total_cases']]\n",
        "new_df.columns = ['ds', 'y']\n",
        "\n",
        "model = Prophet(interval_width=0.95)\n",
        "model.fit(new_df)\n",
        "future = model.make_future_dataframe(periods=90)\n",
        "\n",
        "forecast = model.predict(future)\n",
        "print(forecast[['ds', 'yhat', 'yhat_lower', 'yhat_upper']].tail())"
      ],
      "execution_count": null,
      "outputs": [
        {
          "output_type": "stream",
          "text": [
            "INFO:fbprophet:Disabling yearly seasonality. Run prophet with yearly_seasonality=True to override this.\n",
            "INFO:fbprophet:Disabling daily seasonality. Run prophet with daily_seasonality=True to override this.\n"
          ],
          "name": "stderr"
        },
        {
          "output_type": "stream",
          "text": [
            "            ds           yhat     yhat_lower    yhat_upper\n",
            "511 2021-07-06  855582.116280  510810.812641  1.211793e+06\n",
            "512 2021-07-07  857042.415886  510437.870195  1.217942e+06\n",
            "513 2021-07-08  858319.654380  497396.656355  1.230059e+06\n",
            "514 2021-07-09  859366.779165  485803.624695  1.242462e+06\n",
            "515 2021-07-10  860514.912645  491245.865626  1.243649e+06\n"
          ],
          "name": "stdout"
        }
      ]
    },
    {
      "cell_type": "code",
      "metadata": {
        "colab": {
          "base_uri": "https://localhost:8080/",
          "height": 441
        },
        "id": "mk0xeTIJHxk9",
        "outputId": "51adc097-0722-47a8-f9a4-8e6648421290"
      },
      "source": [
        "confirmed_forecast_plot = model.plot(forecast)"
      ],
      "execution_count": null,
      "outputs": [
        {
          "output_type": "display_data",
          "data": {
            "image/png": "[encoded data removed]",
            "text/plain": [
              "<Figure size 720x432 with 1 Axes>"
            ]
          },
          "metadata": {
            "tags": []
          }
        }
      ]
    },
    {
      "cell_type": "markdown",
      "metadata": {
        "id": "Sz6BxPtdIBqn"
      },
      "source": [
        "The total cases as seen from the Prophet model will grimly continue to rise althouth at a far lower rate"
      ]
    },
    {
      "cell_type": "code",
      "metadata": {
        "colab": {
          "base_uri": "https://localhost:8080/",
          "height": 617
        },
        "id": "BA8MtVyOH45P",
        "outputId": "2a3a7d80-1ca5-41e1-ff55-58e30d339211"
      },
      "source": [
        "from fbprophet.plot import plot_plotly, plot_components_plotly\n",
        "\n",
        "plot_plotly(model, forecast)"
      ],
      "execution_count": null,
      "outputs": [
        {
          "output_type": "display_data",
          "data": {
            "text/html": [
              "<html>\n",
              "<head><meta charset=\"utf-8\" /></head>\n",
              "<body>\n",
              "    <div>\n",
              "            <script src=\"https://cdnjs.cloudflare.com/ajax/libs/mathjax/2.7.5/MathJax.js?config=TeX-AMS-MML_SVG\"></script><script type=\"text/javascript\">if (window.MathJax) {MathJax.Hub.Config({SVG: {font: \"STIX-Web\"}});}</script>\n",
              "                <script type=\"text/javascript\">window.PlotlyConfig = {MathJaxConfig: 'local'};</script>\n",
              "        <script src=\"https://cdn.plot.ly/plotly-latest.min.js\"></script>    \n",
              "            <div id=\"18dc4f90-bf05-4d86-a891-099722430a49\" class=\"plotly-graph-div\" style=\"height:600px; width:900px;\"></div>\n",
              "            <script type=\"text/javascript\">\n",
              "                \n",
              "                    window.PLOTLYENV=window.PLOTLYENV || {};\n",
              "                    \n",
              "                if (document.getElementById(\"18dc4f90-bf05-4d86-a891-099722430a49\")) {\n",
              "                    Plotly.newPlot(\n",
              "                        '18dc4f90-bf05-4d86-a891-099722430a49',\n",
              "                        [{\"marker\": {\"color\": \"black\", \"size\": 4}, \"mode\": \"markers\", \"name\": \"Actual\", \"type\": \"scatter\", \"x\": [\"2020-02-11T00:00:00\", \"2020-02-12T00:00:00\", \"2020-02-13T00:00:00\", \"2020-02-14T00:00:00\", \"2020-02-15T00:00:00\", \"2020-02-16T00:00:00\", \"2020-02-17T00:00:00\", \"2020-02-18T00:00:00\", \"2020-02-19T00:00:00\", \"2020-02-20T00:00:00\", \"2020-02-21T00:00:00\", \"2020-02-22T00:00:00\", \"2020-02-23T00:00:00\", \"2020-02-24T00:00:00\", \"2020-02-25T00:00:00\", \"2020-02-26T00:00:00\", \"2020-02-27T00:00:00\", \"2020-02-28T00:00:00\", \"2020-02-29T00:00:00\", \"2020-03-01T00:00:00\", \"2020-03-02T00:00:00\", \"2020-03-03T00:00:00\", \"2020-03-04T00:00:00\", \"2020-03-05T00:00:00\", \"2020-03-06T00:00:00\", \"2020-03-07T00:00:00\", \"2020-03-08T00:00:00\", \"2020-03-09T00:00:00\", \"2020-03-10T00:00:00\", \"2020-03-11T00:00:00\", \"2020-03-12T00:00:00\", \"2020-03-13T00:00:00\", \"2020-03-14T00:00:00\", \"2020-03-15T00:00:00\", \"2020-03-16T00:00:00\", \"2020-03-17T00:00:00\", \"2020-03-18T00:00:00\", \"2020-03-19T00:00:00\", \"2020-03-20T00:00:00\", \"2020-03-21T00:00:00\", \"2020-03-22T00:00:00\", \"2020-03-23T00:00:00\", \"2020-03-24T00:00:00\", \"2020-03-25T00:00:00\", \"2020-03-26T00:00:00\", \"2020-03-27T00:00:00\", \"2020-03-28T00:00:00\", \"2020-03-29T00:00:00\", \"2020-03-30T00:00:00\", \"2020-03-31T00:00:00\", \"2020-04-01T00:00:00\", \"2020-04-02T00:00:00\", \"2020-04-03T00:00:00\", \"2020-04-04T00:00:00\", \"2020-04-05T00:00:00\", \"2020-04-06T00:00:00\", \"2020-04-07T00:00:00\", \"2020-04-08T00:00:00\", \"2020-04-09T00:00:00\", \"2020-04-10T00:00:00\", \"2020-04-11T00:00:00\", \"2020-04-12T00:00:00\", \"2020-04-13T00:00:00\", \"2020-04-14T00:00:00\", \"2020-04-15T00:00:00\", \"2020-04-16T00:00:00\", \"2020-04-17T00:00:00\", \"2020-04-18T00:00:00\", \"2020-04-19T00:00:00\", \"2020-04-20T00:00:00\", \"2020-04-21T00:00:00\", \"2020-04-22T00:00:00\", \"2020-04-23T00:00:00\", \"2020-04-24T00:00:00\", \"2020-04-25T00:00:00\", \"2020-04-26T00:00:00\", \"2020-04-27T00:00:00\", \"2020-04-28T00:00:00\", \"2020-04-29T00:00:00\", \"2020-04-30T00:00:00\", \"2020-05-01T00:00:00\", \"2020-05-02T00:00:00\", \"2020-05-03T00:00:00\", \"2020-05-04T00:00:00\", \"2020-05-05T00:00:00\", \"2020-05-06T00:00:00\", \"2020-05-07T00:00:00\", \"2020-05-08T00:00:00\", \"2020-05-09T00:00:00\", \"2020-05-10T00:00:00\", \"2020-05-11T00:00:00\", \"2020-05-12T00:00:00\", \"2020-05-13T00:00:00\", \"2020-05-14T00:00:00\", \"2020-05-15T00:00:00\", \"2020-05-16T00:00:00\", \"2020-05-17T00:00:00\", \"2020-05-18T00:00:00\", \"2020-05-19T00:00:00\", \"2020-05-20T00:00:00\", \"2020-05-21T00:00:00\", \"2020-05-22T00:00:00\", \"2020-05-23T00:00:00\", \"2020-05-24T00:00:00\", \"2020-05-25T00:00:00\", \"2020-05-26T00:00:00\", \"2020-05-27T00:00:00\", \"2020-05-28T00:00:00\", \"2020-05-29T00:00:00\", \"2020-05-30T00:00:00\", \"2020-05-31T00:00:00\", \"2020-06-01T00:00:00\", \"2020-06-02T00:00:00\", \"2020-06-03T00:00:00\", \"2020-06-04T00:00:00\", \"2020-06-05T00:00:00\", \"2020-06-06T00:00:00\", \"2020-06-07T00:00:00\", \"2020-06-08T00:00:00\", \"2020-06-09T00:00:00\", \"2020-06-10T00:00:00\", \"2020-06-11T00:00:00\", \"2020-06-12T00:00:00\", \"2020-06-13T00:00:00\", \"2020-06-14T00:00:00\", \"2020-06-15T00:00:00\", \"2020-06-16T00:00:00\", \"2020-06-17T00:00:00\", \"2020-06-18T00:00:00\", \"2020-06-19T00:00:00\", \"2020-06-20T00:00:00\", \"2020-06-21T00:00:00\", \"2020-06-22T00:00:00\", \"2020-06-23T00:00:00\", \"2020-06-24T00:00:00\", \"2020-06-25T00:00:00\", \"2020-06-26T00:00:00\", \"2020-06-27T00:00:00\", \"2020-06-28T00:00:00\", \"2020-06-29T00:00:00\", \"2020-06-30T00:00:00\", \"2020-07-01T00:00:00\", \"2020-07-02T00:00:00\", \"2020-07-03T00:00:00\", \"2020-07-04T00:00:00\", \"2020-07-05T00:00:00\", \"2020-07-06T00:00:00\", \"2020-07-07T00:00:00\", \"2020-07-08T00:00:00\", \"2020-07-09T00:00:00\", \"2020-07-10T00:00:00\", \"2020-07-11T00:00:00\", \"2020-07-12T00:00:00\", \"2020-07-13T00:00:00\", \"2020-07-14T00:00:00\", \"2020-07-15T00:00:00\", \"2020-07-16T00:00:00\", \"2020-07-17T00:00:00\", \"2020-07-18T00:00:00\", \"2020-07-19T00:00:00\", \"2020-07-20T00:00:00\", \"2020-07-21T00:00:00\", \"2020-07-22T00:00:00\", \"2020-07-23T00:00:00\", \"2020-07-24T00:00:00\", \"2020-07-25T00:00:00\", \"2020-07-26T00:00:00\", \"2020-07-27T00:00:00\", \"2020-07-28T00:00:00\", \"2020-07-29T00:00:00\", \"2020-07-30T00:00:00\", \"2020-07-31T00:00:00\", \"2020-08-01T00:00:00\", \"2020-08-02T00:00:00\", \"2020-08-03T00:00:00\", \"2020-08-04T00:00:00\", \"2020-08-05T00:00:00\", \"2020-08-06T00:00:00\", \"2020-08-07T00:00:00\", \"2020-08-08T00:00:00\", \"2020-08-09T00:00:00\", \"2020-08-10T00:00:00\", \"2020-08-11T00:00:00\", \"2020-08-12T00:00:00\", \"2020-08-13T00:00:00\", \"2020-08-14T00:00:00\", \"2020-08-15T00:00:00\", \"2020-08-16T00:00:00\", \"2020-08-17T00:00:00\", \"2020-08-18T00:00:00\", \"2020-08-19T00:00:00\", \"2020-08-20T00:00:00\", \"2020-08-21T00:00:00\", \"2020-08-22T00:00:00\", \"2020-08-23T00:00:00\", \"2020-08-24T00:00:00\", \"2020-08-25T00:00:00\", \"2020-08-26T00:00:00\", \"2020-08-27T00:00:00\", \"2020-08-28T00:00:00\", \"2020-08-29T00:00:00\", \"2020-08-30T00:00:00\", \"2020-08-31T00:00:00\", \"2020-09-01T00:00:00\", \"2020-09-02T00:00:00\", \"2020-09-03T00:00:00\", \"2020-09-04T00:00:00\", \"2020-09-05T00:00:00\", \"2020-09-06T00:00:00\", \"2020-09-07T00:00:00\", \"2020-09-08T00:00:00\", \"2020-09-09T00:00:00\", \"2020-09-10T00:00:00\", \"2020-09-11T00:00:00\", \"2020-09-12T00:00:00\", \"2020-09-13T00:00:00\", \"2020-09-14T00:00:00\", \"2020-09-15T00:00:00\", \"2020-09-16T00:00:00\", \"2020-09-17T00:00:00\", \"2020-09-18T00:00:00\", \"2020-09-19T00:00:00\", \"2020-09-20T00:00:00\", \"2020-09-21T00:00:00\", \"2020-09-22T00:00:00\", \"2020-09-23T00:00:00\", \"2020-09-24T00:00:00\", \"2020-09-25T00:00:00\", \"2020-09-26T00:00:00\", \"2020-09-27T00:00:00\", \"2020-09-28T00:00:00\", \"2020-09-29T00:00:00\", \"2020-09-30T00:00:00\", \"2020-10-01T00:00:00\", \"2020-10-02T00:00:00\", \"2020-10-03T00:00:00\", \"2020-10-04T00:00:00\", \"2020-10-05T00:00:00\", \"2020-10-06T00:00:00\", \"2020-10-07T00:00:00\", \"2020-10-08T00:00:00\", \"2020-10-09T00:00:00\", \"2020-10-10T00:00:00\", \"2020-10-11T00:00:00\", \"2020-10-12T00:00:00\", \"2020-10-13T00:00:00\", \"2020-10-14T00:00:00\", \"2020-10-15T00:00:00\", \"2020-10-16T00:00:00\", \"2020-10-17T00:00:00\", \"2020-10-18T00:00:00\", \"2020-10-19T00:00:00\", \"2020-10-20T00:00:00\", \"2020-10-21T00:00:00\", \"2020-10-22T00:00:00\", \"2020-10-23T00:00:00\", \"2020-10-24T00:00:00\", \"2020-10-25T00:00:00\", \"2020-10-26T00:00:00\", \"2020-10-27T00:00:00\", \"2020-10-28T00:00:00\", \"2020-10-29T00:00:00\", \"2020-10-30T00:00:00\", \"2020-10-31T00:00:00\", \"2020-11-01T00:00:00\", \"2020-11-02T00:00:00\", \"2020-11-03T00:00:00\", \"2020-11-04T00:00:00\", \"2020-11-05T00:00:00\", \"2020-11-06T00:00:00\", \"2020-11-07T00:00:00\", \"2020-11-08T00:00:00\", \"2020-11-09T00:00:00\", \"2020-11-10T00:00:00\", \"2020-11-11T00:00:00\", \"2020-11-12T00:00:00\", \"2020-11-13T00:00:00\", \"2020-11-14T00:00:00\", \"2020-11-15T00:00:00\", \"2020-11-16T00:00:00\", \"2020-11-17T00:00:00\", \"2020-11-18T00:00:00\", \"2020-11-19T00:00:00\", \"2020-11-20T00:00:00\", \"2020-11-21T00:00:00\", \"2020-11-22T00:00:00\", \"2020-11-23T00:00:00\", \"2020-11-24T00:00:00\", \"2020-11-25T00:00:00\", \"2020-11-26T00:00:00\", \"2020-11-27T00:00:00\", \"2020-11-28T00:00:00\", \"2020-11-29T00:00:00\", \"2020-11-30T00:00:00\", \"2020-12-01T00:00:00\", \"2020-12-02T00:00:00\", \"2020-12-03T00:00:00\", \"2020-12-04T00:00:00\", \"2020-12-05T00:00:00\", \"2020-12-06T00:00:00\", \"2020-12-07T00:00:00\", \"2020-12-08T00:00:00\", \"2020-12-09T00:00:00\", \"2020-12-10T00:00:00\", \"2020-12-11T00:00:00\", \"2020-12-12T00:00:00\", \"2020-12-13T00:00:00\", \"2020-12-14T00:00:00\", \"2020-12-15T00:00:00\", \"2020-12-16T00:00:00\", \"2020-12-17T00:00:00\", \"2020-12-18T00:00:00\", \"2020-12-19T00:00:00\", \"2020-12-20T00:00:00\", \"2020-12-21T00:00:00\", \"2020-12-22T00:00:00\", \"2020-12-23T00:00:00\", \"2020-12-24T00:00:00\", \"2020-12-25T00:00:00\", \"2020-12-26T00:00:00\", \"2020-12-27T00:00:00\", \"2020-12-28T00:00:00\", \"2020-12-29T00:00:00\", \"2020-12-30T00:00:00\", \"2020-12-31T00:00:00\", \"2021-01-01T00:00:00\", \"2021-01-02T00:00:00\", \"2021-01-03T00:00:00\", \"2021-01-04T00:00:00\", \"2021-01-05T00:00:00\", \"2021-01-06T00:00:00\", \"2021-01-07T00:00:00\", \"2021-01-08T00:00:00\", \"2021-01-09T00:00:00\", \"2021-01-10T00:00:00\", \"2021-01-11T00:00:00\", \"2021-01-12T00:00:00\", \"2021-01-13T00:00:00\", \"2021-01-14T00:00:00\", \"2021-01-15T00:00:00\", \"2021-01-16T00:00:00\", \"2021-01-17T00:00:00\", \"2021-01-18T00:00:00\", \"2021-01-19T00:00:00\", \"2021-01-20T00:00:00\", \"2021-01-21T00:00:00\", \"2021-01-22T00:00:00\", \"2021-01-23T00:00:00\", \"2021-01-24T00:00:00\", \"2021-01-25T00:00:00\", \"2021-01-26T00:00:00\", \"2021-01-27T00:00:00\", \"2021-01-28T00:00:00\", \"2021-01-29T00:00:00\", \"2021-01-30T00:00:00\", \"2021-01-31T00:00:00\", \"2021-02-01T00:00:00\", \"2021-02-02T00:00:00\", \"2021-02-03T00:00:00\", \"2021-02-04T00:00:00\", \"2021-02-05T00:00:00\", \"2021-02-06T00:00:00\", \"2021-02-07T00:00:00\", \"2021-02-08T00:00:00\", \"2021-02-09T00:00:00\", \"2021-02-10T00:00:00\", \"2021-02-11T00:00:00\", \"2021-02-12T00:00:00\", \"2021-02-13T00:00:00\", \"2021-02-14T00:00:00\", \"2021-02-15T00:00:00\", \"2021-02-16T00:00:00\", \"2021-02-17T00:00:00\", \"2021-02-18T00:00:00\", \"2021-02-19T00:00:00\", \"2021-02-20T00:00:00\", \"2021-02-21T00:00:00\", \"2021-02-22T00:00:00\", \"2021-02-23T00:00:00\", \"2021-02-24T00:00:00\", \"2021-02-25T00:00:00\", \"2021-02-26T00:00:00\", \"2021-02-27T00:00:00\", \"2021-02-28T00:00:00\", \"2021-03-01T00:00:00\", \"2021-03-02T00:00:00\", \"2021-03-03T00:00:00\", \"2021-03-04T00:00:00\", \"2021-03-05T00:00:00\", \"2021-03-06T00:00:00\", \"2021-03-07T00:00:00\", \"2021-03-08T00:00:00\", \"2021-03-09T00:00:00\", \"2021-03-10T00:00:00\", \"2021-03-11T00:00:00\", \"2021-03-12T00:00:00\", \"2021-03-13T00:00:00\", \"2021-03-14T00:00:00\", \"2021-03-15T00:00:00\", \"2021-03-16T00:00:00\", \"2021-03-17T00:00:00\", \"2021-03-18T00:00:00\", \"2021-03-19T00:00:00\", \"2021-03-20T00:00:00\", \"2021-03-21T00:00:00\", \"2021-03-22T00:00:00\", \"2021-03-23T00:00:00\", \"2021-03-24T00:00:00\", \"2021-03-25T00:00:00\", \"2021-03-26T00:00:00\", \"2021-03-27T00:00:00\", \"2021-03-28T00:00:00\", \"2021-03-29T00:00:00\", \"2021-03-30T00:00:00\", \"2021-03-31T00:00:00\", \"2021-04-01T00:00:00\", \"2021-04-02T00:00:00\", \"2021-04-03T00:00:00\", \"2021-04-04T00:00:00\", \"2021-04-05T00:00:00\", \"2021-04-06T00:00:00\", \"2021-04-07T00:00:00\", \"2021-04-08T00:00:00\", \"2021-04-09T00:00:00\", \"2021-04-10T00:00:00\", \"2021-04-11T00:00:00\"], \"y\": [1, 1, 1, 1, 1, 1, 1, 1, 1, 1, 1, 1, 1, 2, 5, 7, 9, 12, 13, 17, 29, 35, 53, 67, 91, 106, 128, 181, 273, 456, 620, 755, 905, 1070, 1303, 1614, 1969, 2301, 2727, 3077, 3514, 4201, 4834, 5594, 6360, 7177, 7753, 8351, 9218, 10153, 11132, 12202, 13183, 13950, 14583, 15440, 16390, 17264, 18064, 18683, 19202, 19703, 20299, 20894, 21553, 22127, 22707, 23107, 23502, 23933, 24399, 24798, 25318, 25695, 26028, 26339, 26757, 27069, 27497, 27921, 28275, 28522, 28689, 28937, 29153, 29419, 29692, 29898, 30026, 30152, 30314, 30509, 30713, 30871, 31003, 31077, 31155, 31268, 31397, 31538, 31695, 31777, 31842, 31892, 31949, 32015, 32100, 32175, 32231, 32270, 32308, 32357, 32406, 32485, 32542, 32587, 32634, 32679, 32736, 32807, 32859, 32906, 32959, 32998, 33029, 33070, 33117, 33159, 33205, 33242, 33271, 33298, 33349, 33398, 33444, 33501, 33549, 33581, 33603, 33661, 33713, 33755, 33795, 33833, 33865, 33916, 33970, 34030, 34087, 34141, 34182, 34202, 34240, 34325, 34387, 34463, 34533, 34581, 34628, 34669, 34766, 34847, 34927, 34997, 35080, 35136, 35201, 35301, 35401, 35500, 35602, 35675, 35733, 35808, 35895, 35999, 36112, 36216, 36338, 36393, 36460, 36603, 36752, 36912, 37036, 37162, 37268, 37356, 37545, 37726, 37877, 38081, 38247, 38366, 38510, 38705, 38876, 39040, 39269, 39490, 39629, 39762, 39978, 40292, 40625, 40973, 41328, 41598, 41803, 42266, 42608, 42952, 43343, 43674, 43903, 44015, 44312, 44582, 44874, 45197, 45583, 45921, 46330, 46757, 47275, 47932, 48531, 49133, 49681, 50209, 50951, 51651, 52639, 53710, 54747, 55538, 56357, 57647, 58815, 60218, 61692, 63037, 63909, 64650, 66222, 67646, 69268, 70987, 72639, 73746, 75041, 77375, 79688, 82038, 84208, 86208, 87640, 88931, 91454, 93541, 95505, 97512, 99385, 100768, 101968, 104874, 107001, 109047, 111135, 113248, 114895, 116652, 119726, 122447, 125352, 128185, 130874, 132798, 134594, 137663, 140214, 142665, 144846, 146954, 148431, 149910, 152295, 154446, 156684, 158748, 160942, 162577, 164228, 166917, 169368, 172159, 174609, 177521, 179758, 182178, 185881, 189578, 193987, 198984, 204452, 209106, 214598, 222907, 231725, 241687, 251817, 262583, 269723, 278598, 291806, 305123, 317440, 326842, 331166, 343015, 356136, 366802, 386662, 403965, 416350, 423085, 436706, 449814, 467034, 481568, 495104, 507156, 517672, 526401, 533861, 545395, 555216, 564518, 573431, 581612, 587776, 593158, 601449, 608446, 614683, 620470, 626030, 630173, 633287, 638243, 642383, 646584, 650432, 653807, 656428, 658659, 661947, 664890, 667586, 670050, 672158, 673698, 675036, 676831, 678489, 680019, 681456, 682730, 683595, 684475, 685853, 687047, 688133, 689233, 690258, 691056, 691794, 692814, 693732, 694459, 695108, 695727, 696226, 696699, 697249, 697906, 698485, 698994, 699494, 699894, 700301, 700863, 701453, 701981, 702434, 702943, 703306, 703668, 704264, 704769, 705222, 705697, 706138, 706508, 706964, 707496, 707967, 708573, 709020, 709440, 709736, 710201, 710601, 710952, 711250, 711584, 711831, 712067, 712276, 712517, 712847, 713184, 713501, 713856, 714127, 714417]}, {\"hoverinfo\": \"skip\", \"line\": {\"width\": 0}, \"mode\": \"lines\", \"type\": \"scatter\", \"x\": [\"2020-02-11T00:00:00\", \"2020-02-12T00:00:00\", \"2020-02-13T00:00:00\", \"2020-02-14T00:00:00\", \"2020-02-15T00:00:00\", \"2020-02-16T00:00:00\", \"2020-02-17T00:00:00\", \"2020-02-18T00:00:00\", \"2020-02-19T00:00:00\", \"2020-02-20T00:00:00\", \"2020-02-21T00:00:00\", \"2020-02-22T00:00:00\", \"2020-02-23T00:00:00\", \"2020-02-24T00:00:00\", \"2020-02-25T00:00:00\", \"2020-02-26T00:00:00\", \"2020-02-27T00:00:00\", \"2020-02-28T00:00:00\", \"2020-02-29T00:00:00\", \"2020-03-01T00:00:00\", \"2020-03-02T00:00:00\", \"2020-03-03T00:00:00\", \"2020-03-04T00:00:00\", \"2020-03-05T00:00:00\", \"2020-03-06T00:00:00\", \"2020-03-07T00:00:00\", \"2020-03-08T00:00:00\", \"2020-03-09T00:00:00\", \"2020-03-10T00:00:00\", \"2020-03-11T00:00:00\", \"2020-03-12T00:00:00\", \"2020-03-13T00:00:00\", \"2020-03-14T00:00:00\", \"2020-03-15T00:00:00\", \"2020-03-16T00:00:00\", \"2020-03-17T00:00:00\", \"2020-03-18T00:00:00\", \"2020-03-19T00:00:00\", \"2020-03-20T00:00:00\", \"2020-03-21T00:00:00\", \"2020-03-22T00:00:00\", \"2020-03-23T00:00:00\", \"2020-03-24T00:00:00\", \"2020-03-25T00:00:00\", \"2020-03-26T00:00:00\", \"2020-03-27T00:00:00\", \"2020-03-28T00:00:00\", \"2020-03-29T00:00:00\", \"2020-03-30T00:00:00\", \"2020-03-31T00:00:00\", \"2020-04-01T00:00:00\", \"2020-04-02T00:00:00\", \"2020-04-03T00:00:00\", \"2020-04-04T00:00:00\", \"2020-04-05T00:00:00\", \"2020-04-06T00:00:00\", \"2020-04-07T00:00:00\", \"2020-04-08T00:00:00\", \"2020-04-09T00:00:00\", \"2020-04-10T00:00:00\", \"2020-04-11T00:00:00\", \"2020-04-12T00:00:00\", \"2020-04-13T00:00:00\", \"2020-04-14T00:00:00\", \"2020-04-15T00:00:00\", \"2020-04-16T00:00:00\", \"2020-04-17T00:00:00\", \"2020-04-18T00:00:00\", \"2020-04-19T00:00:00\", \"2020-04-20T00:00:00\", \"2020-04-21T00:00:00\", \"2020-04-22T00:00:00\", \"2020-04-23T00:00:00\", \"2020-04-24T00:00:00\", \"2020-04-25T00:00:00\", \"2020-04-26T00:00:00\", \"2020-04-27T00:00:00\", \"2020-04-28T00:00:00\", \"2020-04-29T00:00:00\", \"2020-04-30T00:00:00\", \"2020-05-01T00:00:00\", \"2020-05-02T00:00:00\", \"2020-05-03T00:00:00\", \"2020-05-04T00:00:00\", \"2020-05-05T00:00:00\", \"2020-05-06T00:00:00\", \"2020-05-07T00:00:00\", \"2020-05-08T00:00:00\", \"2020-05-09T00:00:00\", \"2020-05-10T00:00:00\", \"2020-05-11T00:00:00\", \"2020-05-12T00:00:00\", \"2020-05-13T00:00:00\", \"2020-05-14T00:00:00\", \"2020-05-15T00:00:00\", \"2020-05-16T00:00:00\", \"2020-05-17T00:00:00\", \"2020-05-18T00:00:00\", \"2020-05-19T00:00:00\", \"2020-05-20T00:00:00\", \"2020-05-21T00:00:00\", \"2020-05-22T00:00:00\", \"2020-05-23T00:00:00\", \"2020-05-24T00:00:00\", \"2020-05-25T00:00:00\", \"2020-05-26T00:00:00\", \"2020-05-27T00:00:00\", \"2020-05-28T00:00:00\", \"2020-05-29T00:00:00\", \"2020-05-30T00:00:00\", \"2020-05-31T00:00:00\", \"2020-06-01T00:00:00\", \"2020-06-02T00:00:00\", \"2020-06-03T00:00:00\", \"2020-06-04T00:00:00\", \"2020-06-05T00:00:00\", \"2020-06-06T00:00:00\", \"2020-06-07T00:00:00\", \"2020-06-08T00:00:00\", \"2020-06-09T00:00:00\", \"2020-06-10T00:00:00\", \"2020-06-11T00:00:00\", \"2020-06-12T00:00:00\", \"2020-06-13T00:00:00\", \"2020-06-14T00:00:00\", \"2020-06-15T00:00:00\", \"2020-06-16T00:00:00\", \"2020-06-17T00:00:00\", \"2020-06-18T00:00:00\", \"2020-06-19T00:00:00\", \"2020-06-20T00:00:00\", \"2020-06-21T00:00:00\", \"2020-06-22T00:00:00\", \"2020-06-23T00:00:00\", \"2020-06-24T00:00:00\", \"2020-06-25T00:00:00\", \"2020-06-26T00:00:00\", \"2020-06-27T00:00:00\", \"2020-06-28T00:00:00\", \"2020-06-29T00:00:00\", \"2020-06-30T00:00:00\", \"2020-07-01T00:00:00\", \"2020-07-02T00:00:00\", \"2020-07-03T00:00:00\", \"2020-07-04T00:00:00\", \"2020-07-05T00:00:00\", \"2020-07-06T00:00:00\", \"2020-07-07T00:00:00\", \"2020-07-08T00:00:00\", \"2020-07-09T00:00:00\", \"2020-07-10T00:00:00\", \"2020-07-11T00:00:00\", \"2020-07-12T00:00:00\", \"2020-07-13T00:00:00\", \"2020-07-14T00:00:00\", \"2020-07-15T00:00:00\", \"2020-07-16T00:00:00\", \"2020-07-17T00:00:00\", \"2020-07-18T00:00:00\", \"2020-07-19T00:00:00\", \"2020-07-20T00:00:00\", \"2020-07-21T00:00:00\", \"2020-07-22T00:00:00\", \"2020-07-23T00:00:00\", \"2020-07-24T00:00:00\", \"2020-07-25T00:00:00\", \"2020-07-26T00:00:00\", \"2020-07-27T00:00:00\", \"2020-07-28T00:00:00\", \"2020-07-29T00:00:00\", \"2020-07-30T00:00:00\", \"2020-07-31T00:00:00\", \"2020-08-01T00:00:00\", \"2020-08-02T00:00:00\", \"2020-08-03T00:00:00\", \"2020-08-04T00:00:00\", \"2020-08-05T00:00:00\", \"2020-08-06T00:00:00\", \"2020-08-07T00:00:00\", \"2020-08-08T00:00:00\", \"2020-08-09T00:00:00\", \"2020-08-10T00:00:00\", \"2020-08-11T00:00:00\", \"2020-08-12T00:00:00\", \"2020-08-13T00:00:00\", \"2020-08-14T00:00:00\", \"2020-08-15T00:00:00\", \"2020-08-16T00:00:00\", \"2020-08-17T00:00:00\", \"2020-08-18T00:00:00\", \"2020-08-19T00:00:00\", \"2020-08-20T00:00:00\", \"2020-08-21T00:00:00\", \"2020-08-22T00:00:00\", \"2020-08-23T00:00:00\", \"2020-08-24T00:00:00\", \"2020-08-25T00:00:00\", \"2020-08-26T00:00:00\", \"2020-08-27T00:00:00\", \"2020-08-28T00:00:00\", \"2020-08-29T00:00:00\", \"2020-08-30T00:00:00\", \"2020-08-31T00:00:00\", \"2020-09-01T00:00:00\", \"2020-09-02T00:00:00\", \"2020-09-03T00:00:00\", \"2020-09-04T00:00:00\", \"2020-09-05T00:00:00\", \"2020-09-06T00:00:00\", \"2020-09-07T00:00:00\", \"2020-09-08T00:00:00\", \"2020-09-09T00:00:00\", \"2020-09-10T00:00:00\", \"2020-09-11T00:00:00\", \"2020-09-12T00:00:00\", \"2020-09-13T00:00:00\", \"2020-09-14T00:00:00\", \"2020-09-15T00:00:00\", \"2020-09-16T00:00:00\", \"2020-09-17T00:00:00\", \"2020-09-18T00:00:00\", \"2020-09-19T00:00:00\", \"2020-09-20T00:00:00\", \"2020-09-21T00:00:00\", \"2020-09-22T00:00:00\", \"2020-09-23T00:00:00\", \"2020-09-24T00:00:00\", \"2020-09-25T00:00:00\", \"2020-09-26T00:00:00\", \"2020-09-27T00:00:00\", \"2020-09-28T00:00:00\", \"2020-09-29T00:00:00\", \"2020-09-30T00:00:00\", \"2020-10-01T00:00:00\", \"2020-10-02T00:00:00\", \"2020-10-03T00:00:00\", \"2020-10-04T00:00:00\", \"2020-10-05T00:00:00\", \"2020-10-06T00:00:00\", \"2020-10-07T00:00:00\", \"2020-10-08T00:00:00\", \"2020-10-09T00:00:00\", \"2020-10-10T00:00:00\", \"2020-10-11T00:00:00\", \"2020-10-12T00:00:00\", \"2020-10-13T00:00:00\", \"2020-10-14T00:00:00\", \"2020-10-15T00:00:00\", \"2020-10-16T00:00:00\", \"2020-10-17T00:00:00\", \"2020-10-18T00:00:00\", \"2020-10-19T00:00:00\", \"2020-10-20T00:00:00\", \"2020-10-21T00:00:00\", \"2020-10-22T00:00:00\", \"2020-10-23T00:00:00\", \"2020-10-24T00:00:00\", \"2020-10-25T00:00:00\", \"2020-10-26T00:00:00\", \"2020-10-27T00:00:00\", \"2020-10-28T00:00:00\", \"2020-10-29T00:00:00\", \"2020-10-30T00:00:00\", \"2020-10-31T00:00:00\", \"2020-11-01T00:00:00\", \"2020-11-02T00:00:00\", \"2020-11-03T00:00:00\", \"2020-11-04T00:00:00\", \"2020-11-05T00:00:00\", \"2020-11-06T00:00:00\", \"2020-11-07T00:00:00\", \"2020-11-08T00:00:00\", \"2020-11-09T00:00:00\", \"2020-11-10T00:00:00\", \"2020-11-11T00:00:00\", \"2020-11-12T00:00:00\", \"2020-11-13T00:00:00\", \"2020-11-14T00:00:00\", \"2020-11-15T00:00:00\", \"2020-11-16T00:00:00\", \"2020-11-17T00:00:00\", \"2020-11-18T00:00:00\", \"2020-11-19T00:00:00\", \"2020-11-20T00:00:00\", \"2020-11-21T00:00:00\", \"2020-11-22T00:00:00\", \"2020-11-23T00:00:00\", \"2020-11-24T00:00:00\", \"2020-11-25T00:00:00\", \"2020-11-26T00:00:00\", \"2020-11-27T00:00:00\", \"2020-11-28T00:00:00\", \"2020-11-29T00:00:00\", \"2020-11-30T00:00:00\", \"2020-12-01T00:00:00\", \"2020-12-02T00:00:00\", \"2020-12-03T00:00:00\", \"2020-12-04T00:00:00\", \"2020-12-05T00:00:00\", \"2020-12-06T00:00:00\", \"2020-12-07T00:00:00\", \"2020-12-08T00:00:00\", \"2020-12-09T00:00:00\", \"2020-12-10T00:00:00\", \"2020-12-11T00:00:00\", \"2020-12-12T00:00:00\", \"2020-12-13T00:00:00\", \"2020-12-14T00:00:00\", \"2020-12-15T00:00:00\", \"2020-12-16T00:00:00\", \"2020-12-17T00:00:00\", \"2020-12-18T00:00:00\", \"2020-12-19T00:00:00\", \"2020-12-20T00:00:00\", \"2020-12-21T00:00:00\", \"2020-12-22T00:00:00\", \"2020-12-23T00:00:00\", \"2020-12-24T00:00:00\", \"2020-12-25T00:00:00\", \"2020-12-26T00:00:00\", \"2020-12-27T00:00:00\", \"2020-12-28T00:00:00\", \"2020-12-29T00:00:00\", \"2020-12-30T00:00:00\", \"2020-12-31T00:00:00\", \"2021-01-01T00:00:00\", \"2021-01-02T00:00:00\", \"2021-01-03T00:00:00\", \"2021-01-04T00:00:00\", \"2021-01-05T00:00:00\", \"2021-01-06T00:00:00\", \"2021-01-07T00:00:00\", \"2021-01-08T00:00:00\", \"2021-01-09T00:00:00\", \"2021-01-10T00:00:00\", \"2021-01-11T00:00:00\", \"2021-01-12T00:00:00\", \"2021-01-13T00:00:00\", \"2021-01-14T00:00:00\", \"2021-01-15T00:00:00\", \"2021-01-16T00:00:00\", \"2021-01-17T00:00:00\", \"2021-01-18T00:00:00\", \"2021-01-19T00:00:00\", \"2021-01-20T00:00:00\", \"2021-01-21T00:00:00\", \"2021-01-22T00:00:00\", \"2021-01-23T00:00:00\", \"2021-01-24T00:00:00\", \"2021-01-25T00:00:00\", \"2021-01-26T00:00:00\", \"2021-01-27T00:00:00\", \"2021-01-28T00:00:00\", \"2021-01-29T00:00:00\", \"2021-01-30T00:00:00\", \"2021-01-31T00:00:00\", \"2021-02-01T00:00:00\", \"2021-02-02T00:00:00\", \"2021-02-03T00:00:00\", \"2021-02-04T00:00:00\", \"2021-02-05T00:00:00\", \"2021-02-06T00:00:00\", \"2021-02-07T00:00:00\", \"2021-02-08T00:00:00\", \"2021-02-09T00:00:00\", \"2021-02-10T00:00:00\", \"2021-02-11T00:00:00\", \"2021-02-12T00:00:00\", \"2021-02-13T00:00:00\", \"2021-02-14T00:00:00\", \"2021-02-15T00:00:00\", \"2021-02-16T00:00:00\", \"2021-02-17T00:00:00\", \"2021-02-18T00:00:00\", \"2021-02-19T00:00:00\", \"2021-02-20T00:00:00\", \"2021-02-21T00:00:00\", \"2021-02-22T00:00:00\", \"2021-02-23T00:00:00\", \"2021-02-24T00:00:00\", \"2021-02-25T00:00:00\", \"2021-02-26T00:00:00\", \"2021-02-27T00:00:00\", \"2021-02-28T00:00:00\", \"2021-03-01T00:00:00\", \"2021-03-02T00:00:00\", \"2021-03-03T00:00:00\", \"2021-03-04T00:00:00\", \"2021-03-05T00:00:00\", \"2021-03-06T00:00:00\", \"2021-03-07T00:00:00\", \"2021-03-08T00:00:00\", \"2021-03-09T00:00:00\", \"2021-03-10T00:00:00\", \"2021-03-11T00:00:00\", \"2021-03-12T00:00:00\", \"2021-03-13T00:00:00\", \"2021-03-14T00:00:00\", \"2021-03-15T00:00:00\", \"2021-03-16T00:00:00\", \"2021-03-17T00:00:00\", \"2021-03-18T00:00:00\", \"2021-03-19T00:00:00\", \"2021-03-20T00:00:00\", \"2021-03-21T00:00:00\", \"2021-03-22T00:00:00\", \"2021-03-23T00:00:00\", \"2021-03-24T00:00:00\", \"2021-03-25T00:00:00\", \"2021-03-26T00:00:00\", \"2021-03-27T00:00:00\", \"2021-03-28T00:00:00\", \"2021-03-29T00:00:00\", \"2021-03-30T00:00:00\", \"2021-03-31T00:00:00\", \"2021-04-01T00:00:00\", \"2021-04-02T00:00:00\", \"2021-04-03T00:00:00\", \"2021-04-04T00:00:00\", \"2021-04-05T00:00:00\", \"2021-04-06T00:00:00\", \"2021-04-07T00:00:00\", \"2021-04-08T00:00:00\", \"2021-04-09T00:00:00\", \"2021-04-10T00:00:00\", \"2021-04-11T00:00:00\", \"2021-04-12T00:00:00\", \"2021-04-13T00:00:00\", \"2021-04-14T00:00:00\", \"2021-04-15T00:00:00\", \"2021-04-16T00:00:00\", \"2021-04-17T00:00:00\", \"2021-04-18T00:00:00\", \"2021-04-19T00:00:00\", \"2021-04-20T00:00:00\", \"2021-04-21T00:00:00\", \"2021-04-22T00:00:00\", \"2021-04-23T00:00:00\", \"2021-04-24T00:00:00\", \"2021-04-25T00:00:00\", \"2021-04-26T00:00:00\", \"2021-04-27T00:00:00\", \"2021-04-28T00:00:00\", \"2021-04-29T00:00:00\", \"2021-04-30T00:00:00\", \"2021-05-01T00:00:00\", \"2021-05-02T00:00:00\", \"2021-05-03T00:00:00\", \"2021-05-04T00:00:00\", \"2021-05-05T00:00:00\", \"2021-05-06T00:00:00\", \"2021-05-07T00:00:00\", \"2021-05-08T00:00:00\", \"2021-05-09T00:00:00\", \"2021-05-10T00:00:00\", \"2021-05-11T00:00:00\", \"2021-05-12T00:00:00\", \"2021-05-13T00:00:00\", \"2021-05-14T00:00:00\", \"2021-05-15T00:00:00\", \"2021-05-16T00:00:00\", \"2021-05-17T00:00:00\", \"2021-05-18T00:00:00\", \"2021-05-19T00:00:00\", \"2021-05-20T00:00:00\", \"2021-05-21T00:00:00\", \"2021-05-22T00:00:00\", \"2021-05-23T00:00:00\", \"2021-05-24T00:00:00\", \"2021-05-25T00:00:00\", \"2021-05-26T00:00:00\", \"2021-05-27T00:00:00\", \"2021-05-28T00:00:00\", \"2021-05-29T00:00:00\", \"2021-05-30T00:00:00\", \"2021-05-31T00:00:00\", \"2021-06-01T00:00:00\", \"2021-06-02T00:00:00\", \"2021-06-03T00:00:00\", \"2021-06-04T00:00:00\", \"2021-06-05T00:00:00\", \"2021-06-06T00:00:00\", \"2021-06-07T00:00:00\", \"2021-06-08T00:00:00\", \"2021-06-09T00:00:00\", \"2021-06-10T00:00:00\", \"2021-06-11T00:00:00\", \"2021-06-12T00:00:00\", \"2021-06-13T00:00:00\", \"2021-06-14T00:00:00\", \"2021-06-15T00:00:00\", \"2021-06-16T00:00:00\", \"2021-06-17T00:00:00\", \"2021-06-18T00:00:00\", \"2021-06-19T00:00:00\", \"2021-06-20T00:00:00\", \"2021-06-21T00:00:00\", \"2021-06-22T00:00:00\", \"2021-06-23T00:00:00\", \"2021-06-24T00:00:00\", \"2021-06-25T00:00:00\", \"2021-06-26T00:00:00\", \"2021-06-27T00:00:00\", \"2021-06-28T00:00:00\", \"2021-06-29T00:00:00\", \"2021-06-30T00:00:00\", \"2021-07-01T00:00:00\", \"2021-07-02T00:00:00\", \"2021-07-03T00:00:00\", \"2021-07-04T00:00:00\", \"2021-07-05T00:00:00\", \"2021-07-06T00:00:00\", \"2021-07-07T00:00:00\", \"2021-07-08T00:00:00\", \"2021-07-09T00:00:00\", \"2021-07-10T00:00:00\"], \"y\": [-19722.001975243547, -21743.047697346017, -22467.78602595959, -19704.156883901054, -19362.741073722667, -21231.810635739494, -19883.34834766451, -18167.68024165678, -19102.079763449055, -19231.527395148496, -18999.516609026326, -18216.48054993478, -18582.472669179555, -17182.230891144045, -16381.843594260085, -15423.37173535606, -15189.63471330537, -16981.518785554104, -15293.446324170454, -15983.305089978203, -14258.34316428995, -15126.90449536445, -14044.886158975163, -15410.282761908018, -13580.132086925547, -15189.194669115774, -14580.772117516208, -13006.324376303886, -12642.56608418803, -11971.405893988423, -12131.28114495698, -11488.074177949076, -10577.634306677146, -10596.124178841894, -9621.175052934917, -9180.259256770416, -9262.335196917693, -8643.065585042725, -8325.954812716069, -9447.149538951497, -9411.205912089958, -7836.836515172023, -6791.470921924403, -5616.515216228482, -6151.315333414289, -5519.002725224015, -5726.952724006096, -6035.889876345874, -4975.097420926188, -4763.638799474288, -4168.369333037165, -2222.812177631031, -3001.133810941507, -2751.0402498982817, -2871.9105582085785, -1516.7961204191017, -66.2765441590441, -704.8596381790745, -115.45924149656825, 686.0802659147961, -458.0256139296604, 137.82111284291153, 1733.7774067487817, 3647.831287967797, 1773.6559239701517, 3088.5828080853134, 3468.8979498907693, 3749.172483190703, 3195.890688865132, 6527.033881222318, 6951.566380310389, 5390.3885832674605, 6495.93322966348, 7942.604701242133, 6800.2942054112555, 8113.065961701868, 7826.868747505246, 8745.331760563813, 10092.201215157176, 10884.134239675372, 11235.410768671643, 9949.950974649091, 10202.740899347855, 10967.83878705052, 12502.735895010786, 10636.227624802978, 12659.617642329884, 12085.285539014065, 12100.425842624305, 11244.019123199612, 13239.537904755734, 13009.791483417384, 13719.586737470865, 13662.569417258579, 13877.413443870573, 13414.453619594082, 13586.581731998387, 14193.427971816536, 14608.45313055506, 14558.33438040295, 13995.949223584885, 14604.090746108744, 13615.938273958103, 14404.62177100967, 14578.647900424285, 16822.182655088454, 16242.276905651992, 15337.941404208314, 14629.12903284294, 15409.863594813587, 14960.42733523117, 15656.264197955274, 14801.381107879588, 15948.13961621222, 16106.854414871566, 15044.659674873135, 16402.214574056994, 13836.801640187763, 16668.881064162895, 17351.520604991376, 16920.5686016412, 16823.145068480408, 16145.595705659776, 15297.668350754611, 14872.930010034725, 16929.53752483619, 17749.902341114823, 15779.796003886364, 17369.45814541513, 17125.670850232535, 16207.040309582675, 15667.686803803046, 16331.590651789242, 16968.038695669988, 19068.54877028223, 16711.480341116927, 18846.105644962652, 17763.337435532536, 14837.656022181407, 17941.188478303207, 16429.016998377516, 17461.946695542938, 17399.6982890205, 17642.31506898704, 17160.42549879007, 16466.972093235137, 16898.8997716514, 18083.579589600686, 17963.043252522348, 18686.489478587206, 16662.400100060706, 18093.02121596059, 17638.63260011478, 17775.473900416713, 18943.03418202188, 18767.457226087157, 18860.968939643353, 18714.217156449817, 19641.999204150972, 18065.19913562428, 19955.03708293603, 20007.483418867712, 19730.885612684662, 18918.843420160374, 19483.50611911149, 19633.171723489526, 19894.885397017293, 19796.65161482328, 20253.84795043107, 20041.705510710934, 20207.22565808198, 19915.126205943205, 20017.36694134541, 19014.185221538617, 20167.385087230414, 21036.984185743942, 19972.430645170934, 19607.254182910645, 20528.468101331568, 20513.477825771537, 19644.659165809917, 20982.214510913887, 21572.29106902911, 20848.900528933074, 21075.92836503716, 20086.182347599923, 20612.247581974043, 21910.25410616797, 21754.52265024033, 22722.470226628793, 23763.044729937024, 20724.96158807778, 23425.05882726417, 21247.070781979277, 22736.006824826418, 23174.803660255893, 23091.214089113022, 23992.74901764395, 24058.737626234324, 24006.231556867617, 23552.988345277357, 23137.42903047839, 24274.888483914216, 25256.314454922747, 24675.91892092675, 25424.05621436821, 25940.522054266014, 25807.49677544262, 25516.812639403302, 26442.955787982046, 26004.245336109725, 27504.109650436076, 26660.833670142627, 27960.253513347354, 27546.903603787097, 26632.70589142332, 27194.616958412316, 28203.957297980218, 29025.98879504445, 29485.778656126873, 28400.28642314962, 28320.743751719117, 29474.716323832294, 29688.38793080166, 31228.20107138465, 31684.15901337169, 31303.5722396771, 31325.132665953333, 32651.918297178643, 31939.526558132147, 32994.99691180796, 34363.247163707354, 34727.915862381335, 36430.95076872088, 36998.254302905334, 38223.503141652705, 40523.435417398454, 40242.71287995705, 42479.26693806446, 44656.185679218164, 45826.497104244285, 45883.042966727575, 48257.386256924445, 48457.15244605386, 49668.08577157136, 49757.819748462374, 54670.629302366586, 56379.07989712565, 57879.88089153044, 59712.5834101839, 60418.63044846999, 62968.892448581595, 65432.94849270505, 67618.80173102819, 68553.61156724009, 71166.51755982357, 73102.49151423863, 74677.14454913889, 75797.57965770618, 78065.02868235172, 80979.74340625103, 82830.48791550433, 84181.15418324484, 86243.5451383101, 87417.62717390631, 91850.01134926507, 91427.49612890554, 94069.58664886028, 97399.20577027721, 99279.17402625804, 100480.73514591601, 101282.41878801331, 104061.62707936816, 105203.64168235322, 108728.5332576892, 111071.5097651493, 112909.60908431378, 114707.1854931624, 116175.32424206124, 119292.98234269152, 121729.96431927221, 122957.78359014458, 124661.789169435, 125978.07856415026, 128323.40928409042, 130034.3363092722, 133672.6945998445, 134057.08194184402, 136852.82436096895, 138847.61420895107, 140370.61508269206, 143130.85284014716, 145156.73934503394, 145344.13067934487, 149646.34654343137, 151583.81544992657, 154033.65273974725, 154338.36830225305, 156573.0510599677, 164133.0735617251, 170347.24154845643, 178662.6345937506, 183314.87639494834, 190155.26316900156, 195435.35845777512, 202963.5861623071, 209499.22632042106, 216812.3872735622, 224759.73789123044, 230237.33599274993, 236836.51367555282, 243908.11131439972, 249768.10002966662, 262880.6270465445, 276298.49893387494, 288238.5722443641, 300381.1655315327, 312088.3615778795, 325332.40674844646, 337991.2981968083, 350608.93550925254, 362464.5581602754, 375586.63463360013, 388132.0291041271, 399519.8216614189, 412038.6890413961, 426777.63060379267, 439652.52140637126, 453807.13254282484, 468274.153901666, 482408.14072699327, 495815.93370074, 509159.4245004074, 523418.432153473, 537678.5879992665, 553091.2697150836, 565388.2987115872, 578795.8687941002, 591428.5159265994, 606556.424423993, 606910.2692922315, 609780.9498416783, 610998.2237770957, 612043.907311641, 613993.1954000769, 614626.6336443145, 615854.4569344213, 616177.9986804195, 617456.7297059027, 618343.4172737915, 621679.1658545777, 621604.700561506, 623663.3584793345, 624452.9274922368, 625967.2029219784, 627374.7226405028, 630189.7630058166, 630310.5230947791, 631704.4784445161, 633885.2836519033, 635140.9924644063, 635963.5227214954, 637148.6981105497, 637489.0205301844, 640357.5397569286, 640727.7152257299, 643213.7408051817, 642831.4513136226, 645852.041407878, 645923.0679744047, 648595.5116705095, 649893.6067173748, 651773.2558431495, 654081.305927309, 652577.6787429121, 655710.631437817, 654889.1947690463, 657556.0711682984, 657902.4081186629, 660372.8512024155, 661960.0683798771, 662208.777066353, 665235.6438475075, 664992.8354801938, 667986.3320848311, 669201.5290581945, 670002.4671949389, 672130.0003202801, 672739.8752243064, 673782.6774944376, 674359.300820156, 676262.697506986, 677819.4395528149, 679841.9276531495, 680982.5208630001, 681385.6163006274, 683112.1814896477, 684070.2552091937, 685774.2875573431, 687973.8037242108, 689224.8124317308, 690178.0432824077, 690295.6836265064, 692132.8913248584, 693440.9062772694, 695468.1690893086, 697066.8431550546, 699084.7424826629, 700713.0580776044, 701314.8959363935, 702935.8725231893, 703716.710800523, 704673.8596205615, 705985.8086335157, 707894.4046594015, 710266.2335931432, 711289.2006830381, 712297.786204489, 711766.1165221053, 716070.0840014657, 716821.6436766379, 717892.2307449796, 718961.2838373999, 719449.3969237427, 720302.2149697669, 721672.4336152704, 723347.50034733, 725534.3418807908, 727574.5638833849, 728008.0729827567, 728615.9269393445, 729225.4278320998, 730824.6655012817, 730871.1409663673, 732328.4510851942, 732348.0050706714, 733553.6148264298, 733966.6258553783, 731698.0810405846, 733238.6879217634, 731338.4672303877, 730828.0453342631, 732398.9964572662, 729483.978171183, 729034.3566299661, 726081.860013891, 723786.1844685267, 722794.004631234, 719475.0723700717, 716357.8962507965, 718170.5070839938, 712256.7940653308, 713074.6187983346, 707409.1206420478, 707749.143165934, 707133.4404769735, 704076.8185279672, 699142.738408789, 699800.3183025457, 692621.351961549, 692518.3297185033, 683836.3541031722, 689822.9863260074, 690935.6747822977, 681006.0107555727, 680648.1151254217, 672637.3041801855, 669084.9099960653, 664580.4671285048, 665420.969430944, 659638.2899013866, 663030.4650742355, 656826.9580349323, 652987.9541522796, 653325.9922819036, 650595.8693624401, 648892.2141901415, 641962.0926809272, 639086.2506406835, 636320.863930319, 631654.9775313493, 624362.6995508416, 623031.7563172947, 621757.5052027979, 623468.7706268721, 612193.2220372306, 614200.7338975124, 599190.1658118309, 607629.2743936542, 599051.955709203, 594938.0345058027, 592869.6557640828, 589915.5164908794, 584594.2120234942, 580386.891625204, 570448.3329096765, 570351.7875330506, 566531.8306862745, 566569.0480138338, 551534.7424897838, 546567.7230038419, 548944.1522328916, 548062.0193986199, 541028.256442598, 538420.1847548129, 533213.4326134049, 534910.730743474, 529128.884132812, 518787.17689363123, 525912.0420774999, 509967.4668480896, 510810.8126411326, 510437.8701947803, 497396.6563549773, 485803.62469502, 491245.86562581983]}, {\"fill\": \"tonexty\", \"fillcolor\": \"rgba(0, 114, 178, 0.2)\", \"line\": {\"color\": \"#0072B2\", \"width\": 2}, \"mode\": \"lines\", \"name\": \"Predicted\", \"type\": \"scatter\", \"x\": [\"2020-02-11T00:00:00\", \"2020-02-12T00:00:00\", \"2020-02-13T00:00:00\", \"2020-02-14T00:00:00\", \"2020-02-15T00:00:00\", \"2020-02-16T00:00:00\", \"2020-02-17T00:00:00\", \"2020-02-18T00:00:00\", \"2020-02-19T00:00:00\", \"2020-02-20T00:00:00\", \"2020-02-21T00:00:00\", \"2020-02-22T00:00:00\", \"2020-02-23T00:00:00\", \"2020-02-24T00:00:00\", \"2020-02-25T00:00:00\", \"2020-02-26T00:00:00\", \"2020-02-27T00:00:00\", \"2020-02-28T00:00:00\", \"2020-02-29T00:00:00\", \"2020-03-01T00:00:00\", \"2020-03-02T00:00:00\", \"2020-03-03T00:00:00\", \"2020-03-04T00:00:00\", \"2020-03-05T00:00:00\", \"2020-03-06T00:00:00\", \"2020-03-07T00:00:00\", \"2020-03-08T00:00:00\", \"2020-03-09T00:00:00\", \"2020-03-10T00:00:00\", \"2020-03-11T00:00:00\", \"2020-03-12T00:00:00\", \"2020-03-13T00:00:00\", \"2020-03-14T00:00:00\", \"2020-03-15T00:00:00\", \"2020-03-16T00:00:00\", \"2020-03-17T00:00:00\", \"2020-03-18T00:00:00\", \"2020-03-19T00:00:00\", \"2020-03-20T00:00:00\", \"2020-03-21T00:00:00\", \"2020-03-22T00:00:00\", \"2020-03-23T00:00:00\", \"2020-03-24T00:00:00\", \"2020-03-25T00:00:00\", \"2020-03-26T00:00:00\", \"2020-03-27T00:00:00\", \"2020-03-28T00:00:00\", \"2020-03-29T00:00:00\", \"2020-03-30T00:00:00\", \"2020-03-31T00:00:00\", \"2020-04-01T00:00:00\", \"2020-04-02T00:00:00\", \"2020-04-03T00:00:00\", \"2020-04-04T00:00:00\", \"2020-04-05T00:00:00\", \"2020-04-06T00:00:00\", \"2020-04-07T00:00:00\", \"2020-04-08T00:00:00\", \"2020-04-09T00:00:00\", \"2020-04-10T00:00:00\", \"2020-04-11T00:00:00\", \"2020-04-12T00:00:00\", \"2020-04-13T00:00:00\", \"2020-04-14T00:00:00\", \"2020-04-15T00:00:00\", \"2020-04-16T00:00:00\", \"2020-04-17T00:00:00\", \"2020-04-18T00:00:00\", \"2020-04-19T00:00:00\", \"2020-04-20T00:00:00\", \"2020-04-21T00:00:00\", \"2020-04-22T00:00:00\", \"2020-04-23T00:00:00\", \"2020-04-24T00:00:00\", \"2020-04-25T00:00:00\", \"2020-04-26T00:00:00\", \"2020-04-27T00:00:00\", \"2020-04-28T00:00:00\", \"2020-04-29T00:00:00\", \"2020-04-30T00:00:00\", \"2020-05-01T00:00:00\", \"2020-05-02T00:00:00\", \"2020-05-03T00:00:00\", \"2020-05-04T00:00:00\", \"2020-05-05T00:00:00\", \"2020-05-06T00:00:00\", \"2020-05-07T00:00:00\", \"2020-05-08T00:00:00\", \"2020-05-09T00:00:00\", \"2020-05-10T00:00:00\", \"2020-05-11T00:00:00\", \"2020-05-12T00:00:00\", \"2020-05-13T00:00:00\", \"2020-05-14T00:00:00\", \"2020-05-15T00:00:00\", \"2020-05-16T00:00:00\", \"2020-05-17T00:00:00\", \"2020-05-18T00:00:00\", \"2020-05-19T00:00:00\", \"2020-05-20T00:00:00\", \"2020-05-21T00:00:00\", \"2020-05-22T00:00:00\", \"2020-05-23T00:00:00\", \"2020-05-24T00:00:00\", \"2020-05-25T00:00:00\", \"2020-05-26T00:00:00\", \"2020-05-27T00:00:00\", \"2020-05-28T00:00:00\", \"2020-05-29T00:00:00\", \"2020-05-30T00:00:00\", \"2020-05-31T00:00:00\", \"2020-06-01T00:00:00\", \"2020-06-02T00:00:00\", \"2020-06-03T00:00:00\", \"2020-06-04T00:00:00\", \"2020-06-05T00:00:00\", \"2020-06-06T00:00:00\", \"2020-06-07T00:00:00\", \"2020-06-08T00:00:00\", \"2020-06-09T00:00:00\", \"2020-06-10T00:00:00\", \"2020-06-11T00:00:00\", \"2020-06-12T00:00:00\", \"2020-06-13T00:00:00\", \"2020-06-14T00:00:00\", \"2020-06-15T00:00:00\", \"2020-06-16T00:00:00\", \"2020-06-17T00:00:00\", \"2020-06-18T00:00:00\", \"2020-06-19T00:00:00\", \"2020-06-20T00:00:00\", \"2020-06-21T00:00:00\", \"2020-06-22T00:00:00\", \"2020-06-23T00:00:00\", \"2020-06-24T00:00:00\", \"2020-06-25T00:00:00\", \"2020-06-26T00:00:00\", \"2020-06-27T00:00:00\", \"2020-06-28T00:00:00\", \"2020-06-29T00:00:00\", \"2020-06-30T00:00:00\", \"2020-07-01T00:00:00\", \"2020-07-02T00:00:00\", \"2020-07-03T00:00:00\", \"2020-07-04T00:00:00\", \"2020-07-05T00:00:00\", \"2020-07-06T00:00:00\", \"2020-07-07T00:00:00\", \"2020-07-08T00:00:00\", \"2020-07-09T00:00:00\", \"2020-07-10T00:00:00\", \"2020-07-11T00:00:00\", \"2020-07-12T00:00:00\", \"2020-07-13T00:00:00\", \"2020-07-14T00:00:00\", \"2020-07-15T00:00:00\", \"2020-07-16T00:00:00\", \"2020-07-17T00:00:00\", \"2020-07-18T00:00:00\", \"2020-07-19T00:00:00\", \"2020-07-20T00:00:00\", \"2020-07-21T00:00:00\", \"2020-07-22T00:00:00\", \"2020-07-23T00:00:00\", \"2020-07-24T00:00:00\", \"2020-07-25T00:00:00\", \"2020-07-26T00:00:00\", \"2020-07-27T00:00:00\", \"2020-07-28T00:00:00\", \"2020-07-29T00:00:00\", \"2020-07-30T00:00:00\", \"2020-07-31T00:00:00\", \"2020-08-01T00:00:00\", \"2020-08-02T00:00:00\", \"2020-08-03T00:00:00\", \"2020-08-04T00:00:00\", \"2020-08-05T00:00:00\", \"2020-08-06T00:00:00\", \"2020-08-07T00:00:00\", \"2020-08-08T00:00:00\", \"2020-08-09T00:00:00\", \"2020-08-10T00:00:00\", \"2020-08-11T00:00:00\", \"2020-08-12T00:00:00\", \"2020-08-13T00:00:00\", \"2020-08-14T00:00:00\", \"2020-08-15T00:00:00\", \"2020-08-16T00:00:00\", \"2020-08-17T00:00:00\", \"2020-08-18T00:00:00\", \"2020-08-19T00:00:00\", \"2020-08-20T00:00:00\", \"2020-08-21T00:00:00\", \"2020-08-22T00:00:00\", \"2020-08-23T00:00:00\", \"2020-08-24T00:00:00\", \"2020-08-25T00:00:00\", \"2020-08-26T00:00:00\", \"2020-08-27T00:00:00\", \"2020-08-28T00:00:00\", \"2020-08-29T00:00:00\", \"2020-08-30T00:00:00\", \"2020-08-31T00:00:00\", \"2020-09-01T00:00:00\", \"2020-09-02T00:00:00\", \"2020-09-03T00:00:00\", \"2020-09-04T00:00:00\", \"2020-09-05T00:00:00\", \"2020-09-06T00:00:00\", \"2020-09-07T00:00:00\", \"2020-09-08T00:00:00\", \"2020-09-09T00:00:00\", \"2020-09-10T00:00:00\", \"2020-09-11T00:00:00\", \"2020-09-12T00:00:00\", \"2020-09-13T00:00:00\", \"2020-09-14T00:00:00\", \"2020-09-15T00:00:00\", \"2020-09-16T00:00:00\", \"2020-09-17T00:00:00\", \"2020-09-18T00:00:00\", \"2020-09-19T00:00:00\", \"2020-09-20T00:00:00\", \"2020-09-21T00:00:00\", \"2020-09-22T00:00:00\", \"2020-09-23T00:00:00\", \"2020-09-24T00:00:00\", \"2020-09-25T00:00:00\", \"2020-09-26T00:00:00\", \"2020-09-27T00:00:00\", \"2020-09-28T00:00:00\", \"2020-09-29T00:00:00\", \"2020-09-30T00:00:00\", \"2020-10-01T00:00:00\", \"2020-10-02T00:00:00\", \"2020-10-03T00:00:00\", \"2020-10-04T00:00:00\", \"2020-10-05T00:00:00\", \"2020-10-06T00:00:00\", \"2020-10-07T00:00:00\", \"2020-10-08T00:00:00\", \"2020-10-09T00:00:00\", \"2020-10-10T00:00:00\", \"2020-10-11T00:00:00\", \"2020-10-12T00:00:00\", \"2020-10-13T00:00:00\", \"2020-10-14T00:00:00\", \"2020-10-15T00:00:00\", \"2020-10-16T00:00:00\", \"2020-10-17T00:00:00\", \"2020-10-18T00:00:00\", \"2020-10-19T00:00:00\", \"2020-10-20T00:00:00\", \"2020-10-21T00:00:00\", \"2020-10-22T00:00:00\", \"2020-10-23T00:00:00\", \"2020-10-24T00:00:00\", \"2020-10-25T00:00:00\", \"2020-10-26T00:00:00\", \"2020-10-27T00:00:00\", \"2020-10-28T00:00:00\", \"2020-10-29T00:00:00\", \"2020-10-30T00:00:00\", \"2020-10-31T00:00:00\", \"2020-11-01T00:00:00\", \"2020-11-02T00:00:00\", \"2020-11-03T00:00:00\", \"2020-11-04T00:00:00\", \"2020-11-05T00:00:00\", \"2020-11-06T00:00:00\", \"2020-11-07T00:00:00\", \"2020-11-08T00:00:00\", \"2020-11-09T00:00:00\", \"2020-11-10T00:00:00\", \"2020-11-11T00:00:00\", \"2020-11-12T00:00:00\", \"2020-11-13T00:00:00\", \"2020-11-14T00:00:00\", \"2020-11-15T00:00:00\", \"2020-11-16T00:00:00\", \"2020-11-17T00:00:00\", \"2020-11-18T00:00:00\", \"2020-11-19T00:00:00\", \"2020-11-20T00:00:00\", \"2020-11-21T00:00:00\", \"2020-11-22T00:00:00\", \"2020-11-23T00:00:00\", \"2020-11-24T00:00:00\", \"2020-11-25T00:00:00\", \"2020-11-26T00:00:00\", \"2020-11-27T00:00:00\", \"2020-11-28T00:00:00\", \"2020-11-29T00:00:00\", \"2020-11-30T00:00:00\", \"2020-12-01T00:00:00\", \"2020-12-02T00:00:00\", \"2020-12-03T00:00:00\", \"2020-12-04T00:00:00\", \"2020-12-05T00:00:00\", \"2020-12-06T00:00:00\", \"2020-12-07T00:00:00\", \"2020-12-08T00:00:00\", \"2020-12-09T00:00:00\", \"2020-12-10T00:00:00\", \"2020-12-11T00:00:00\", \"2020-12-12T00:00:00\", \"2020-12-13T00:00:00\", \"2020-12-14T00:00:00\", \"2020-12-15T00:00:00\", \"2020-12-16T00:00:00\", \"2020-12-17T00:00:00\", \"2020-12-18T00:00:00\", \"2020-12-19T00:00:00\", \"2020-12-20T00:00:00\", \"2020-12-21T00:00:00\", \"2020-12-22T00:00:00\", \"2020-12-23T00:00:00\", \"2020-12-24T00:00:00\", \"2020-12-25T00:00:00\", \"2020-12-26T00:00:00\", \"2020-12-27T00:00:00\", \"2020-12-28T00:00:00\", \"2020-12-29T00:00:00\", \"2020-12-30T00:00:00\", \"2020-12-31T00:00:00\", \"2021-01-01T00:00:00\", \"2021-01-02T00:00:00\", \"2021-01-03T00:00:00\", \"2021-01-04T00:00:00\", \"2021-01-05T00:00:00\", \"2021-01-06T00:00:00\", \"2021-01-07T00:00:00\", \"2021-01-08T00:00:00\", \"2021-01-09T00:00:00\", \"2021-01-10T00:00:00\", \"2021-01-11T00:00:00\", \"2021-01-12T00:00:00\", \"2021-01-13T00:00:00\", \"2021-01-14T00:00:00\", \"2021-01-15T00:00:00\", \"2021-01-16T00:00:00\", \"2021-01-17T00:00:00\", \"2021-01-18T00:00:00\", \"2021-01-19T00:00:00\", \"2021-01-20T00:00:00\", \"2021-01-21T00:00:00\", \"2021-01-22T00:00:00\", \"2021-01-23T00:00:00\", \"2021-01-24T00:00:00\", \"2021-01-25T00:00:00\", \"2021-01-26T00:00:00\", \"2021-01-27T00:00:00\", \"2021-01-28T00:00:00\", \"2021-01-29T00:00:00\", \"2021-01-30T00:00:00\", \"2021-01-31T00:00:00\", \"2021-02-01T00:00:00\", \"2021-02-02T00:00:00\", \"2021-02-03T00:00:00\", \"2021-02-04T00:00:00\", \"2021-02-05T00:00:00\", \"2021-02-06T00:00:00\", \"2021-02-07T00:00:00\", \"2021-02-08T00:00:00\", \"2021-02-09T00:00:00\", \"2021-02-10T00:00:00\", \"2021-02-11T00:00:00\", \"2021-02-12T00:00:00\", \"2021-02-13T00:00:00\", \"2021-02-14T00:00:00\", \"2021-02-15T00:00:00\", \"2021-02-16T00:00:00\", \"2021-02-17T00:00:00\", \"2021-02-18T00:00:00\", \"2021-02-19T00:00:00\", \"2021-02-20T00:00:00\", \"2021-02-21T00:00:00\", \"2021-02-22T00:00:00\", \"2021-02-23T00:00:00\", \"2021-02-24T00:00:00\", \"2021-02-25T00:00:00\", \"2021-02-26T00:00:00\", \"2021-02-27T00:00:00\", \"2021-02-28T00:00:00\", \"2021-03-01T00:00:00\", \"2021-03-02T00:00:00\", \"2021-03-03T00:00:00\", \"2021-03-04T00:00:00\", \"2021-03-05T00:00:00\", \"2021-03-06T00:00:00\", \"2021-03-07T00:00:00\", \"2021-03-08T00:00:00\", \"2021-03-09T00:00:00\", \"2021-03-10T00:00:00\", \"2021-03-11T00:00:00\", \"2021-03-12T00:00:00\", \"2021-03-13T00:00:00\", \"2021-03-14T00:00:00\", \"2021-03-15T00:00:00\", \"2021-03-16T00:00:00\", \"2021-03-17T00:00:00\", \"2021-03-18T00:00:00\", \"2021-03-19T00:00:00\", \"2021-03-20T00:00:00\", \"2021-03-21T00:00:00\", \"2021-03-22T00:00:00\", \"2021-03-23T00:00:00\", \"2021-03-24T00:00:00\", \"2021-03-25T00:00:00\", \"2021-03-26T00:00:00\", \"2021-03-27T00:00:00\", \"2021-03-28T00:00:00\", \"2021-03-29T00:00:00\", \"2021-03-30T00:00:00\", \"2021-03-31T00:00:00\", \"2021-04-01T00:00:00\", \"2021-04-02T00:00:00\", \"2021-04-03T00:00:00\", \"2021-04-04T00:00:00\", \"2021-04-05T00:00:00\", \"2021-04-06T00:00:00\", \"2021-04-07T00:00:00\", \"2021-04-08T00:00:00\", \"2021-04-09T00:00:00\", \"2021-04-10T00:00:00\", \"2021-04-11T00:00:00\", \"2021-04-12T00:00:00\", \"2021-04-13T00:00:00\", \"2021-04-14T00:00:00\", \"2021-04-15T00:00:00\", \"2021-04-16T00:00:00\", \"2021-04-17T00:00:00\", \"2021-04-18T00:00:00\", \"2021-04-19T00:00:00\", \"2021-04-20T00:00:00\", \"2021-04-21T00:00:00\", \"2021-04-22T00:00:00\", \"2021-04-23T00:00:00\", \"2021-04-24T00:00:00\", \"2021-04-25T00:00:00\", \"2021-04-26T00:00:00\", \"2021-04-27T00:00:00\", \"2021-04-28T00:00:00\", \"2021-04-29T00:00:00\", \"2021-04-30T00:00:00\", \"2021-05-01T00:00:00\", \"2021-05-02T00:00:00\", \"2021-05-03T00:00:00\", \"2021-05-04T00:00:00\", \"2021-05-05T00:00:00\", \"2021-05-06T00:00:00\", \"2021-05-07T00:00:00\", \"2021-05-08T00:00:00\", \"2021-05-09T00:00:00\", \"2021-05-10T00:00:00\", \"2021-05-11T00:00:00\", \"2021-05-12T00:00:00\", \"2021-05-13T00:00:00\", \"2021-05-14T00:00:00\", \"2021-05-15T00:00:00\", \"2021-05-16T00:00:00\", \"2021-05-17T00:00:00\", \"2021-05-18T00:00:00\", \"2021-05-19T00:00:00\", \"2021-05-20T00:00:00\", \"2021-05-21T00:00:00\", \"2021-05-22T00:00:00\", \"2021-05-23T00:00:00\", \"2021-05-24T00:00:00\", \"2021-05-25T00:00:00\", \"2021-05-26T00:00:00\", \"2021-05-27T00:00:00\", \"2021-05-28T00:00:00\", \"2021-05-29T00:00:00\", \"2021-05-30T00:00:00\", \"2021-05-31T00:00:00\", \"2021-06-01T00:00:00\", \"2021-06-02T00:00:00\", \"2021-06-03T00:00:00\", \"2021-06-04T00:00:00\", \"2021-06-05T00:00:00\", \"2021-06-06T00:00:00\", \"2021-06-07T00:00:00\", \"2021-06-08T00:00:00\", \"2021-06-09T00:00:00\", \"2021-06-10T00:00:00\", \"2021-06-11T00:00:00\", \"2021-06-12T00:00:00\", \"2021-06-13T00:00:00\", \"2021-06-14T00:00:00\", \"2021-06-15T00:00:00\", \"2021-06-16T00:00:00\", \"2021-06-17T00:00:00\", \"2021-06-18T00:00:00\", \"2021-06-19T00:00:00\", \"2021-06-20T00:00:00\", \"2021-06-21T00:00:00\", \"2021-06-22T00:00:00\", \"2021-06-23T00:00:00\", \"2021-06-24T00:00:00\", \"2021-06-25T00:00:00\", \"2021-06-26T00:00:00\", \"2021-06-27T00:00:00\", \"2021-06-28T00:00:00\", \"2021-06-29T00:00:00\", \"2021-06-30T00:00:00\", \"2021-07-01T00:00:00\", \"2021-07-02T00:00:00\", \"2021-07-03T00:00:00\", \"2021-07-04T00:00:00\", \"2021-07-05T00:00:00\", \"2021-07-06T00:00:00\", \"2021-07-07T00:00:00\", \"2021-07-08T00:00:00\", \"2021-07-09T00:00:00\", \"2021-07-10T00:00:00\"], \"y\": [-4606.7369741312405, -4202.460470244349, -3981.245077478547, -3990.143393434482, -3898.033015388083, -3979.096447130952, -3082.315025468435, -2527.83842503723, -2123.5619211510343, -1902.3465283840587, -1911.2448443404546, -1819.1344662923545, -1900.197898036346, -1003.4164763733178, -448.9398759418192, -44.66313877160758, 176.5524872790147, 167.6544046069744, 259.7650159394076, 178.70181747983918, 1075.4834724281616, 1629.9603061434593, 2034.2370433141552, 2255.452669365554, 2246.5545866928564, 2338.665198025119, 2257.6019995655297, 3154.383654511967, 3785.7539683524656, 4266.92418564561, 4565.033291819604, 4633.028689269665, 4802.0327807254025, 4797.863062389459, 5771.5381974590855, 6402.908511298912, 6884.078728592186, 7182.187834765749, 7250.183232217973, 7419.187323672012, 7415.01760533641, 8388.692740406641, 9113.916436062585, 9688.940035171581, 10080.90252316092, 10242.75130242772, 10505.608775697716, 10595.292439178285, 11662.82095606406, 12388.04465171888, 12963.068250828894, 13355.030738817799, 13516.87951808551, 13779.73699135662, 13869.420654835307, 14936.949157062834, 15662.172838057731, 16237.196422507657, 16629.1588958374, 16791.007660444546, 17053.86511905659, 17143.548767876473, 18211.077270104506, 18936.300951098998, 19511.324535548352, 19903.28700887888, 20065.135773485716, 20327.993232097593, 20417.676880917465, 21485.179081888873, 22210.37646162563, 22785.37374481925, 23177.30991689243, 23339.132380242518, 23601.9635375968, 23691.620885160413, 24759.12308612985, 25484.32046586808, 26059.317749061007, 26451.253921134576, 26613.076384485656, 26875.907541840967, 26736.927213031093, 27575.791737628428, 28072.351440995124, 28418.711047815337, 28582.00954351617, 28515.194330495106, 28549.387811477434, 28410.407482668183, 29249.27200726613, 29745.83171063171, 30092.191317452405, 30255.489813153235, 30188.67460013171, 30222.868081114462, 29922.717607923787, 30600.411988138014, 30935.801547124123, 31120.991009563542, 31123.119360883335, 30895.13400347995, 30768.15734008117, 30468.006866890548, 31145.701247105946, 31481.09080609165, 31666.2802685305, 31668.408619850285, 31440.423262448054, 31309.841871539, 31006.08667084013, 31680.176323546813, 32011.96115502368, 32193.5458899539, 32192.069513765124, 31960.479428853356, 31829.89803794414, 31526.142837245334, 32200.23248995218, 32532.017321428186, 32713.60205635791, 32712.125680169527, 32480.53559525808, 32349.95412476724, 32046.198844486895, 32720.288417613086, 33052.073169506926, 33233.657824856105, 33232.18136908575, 33000.59120459236, 32870.00973410321, 32566.254453821755, 33240.34402694845, 33572.12877884259, 33753.71343419131, 33752.23697842093, 33520.646813926636, 33390.065307384684, 33086.30999105052, 33760.39952812453, 34092.18424396505, 34273.7688632613, 34272.292371437965, 34040.70217089085, 33910.12066434845, 33606.365348014544, 34280.454885086656, 34612.23960092935, 34793.82422022504, 34792.34772840126, 34560.757570082125, 34430.17610576841, 34126.42083166346, 34800.51041096389, 35132.29516903485, 35313.879830558195, 35312.403380962234, 35080.81322264526, 34950.231758331414, 34646.476484225146, 35320.56606352627, 35652.35082159682, 35833.93548312078, 35832.45903352477, 35600.870789008055, 35470.29123849584, 35166.537878191426, 35840.62937129378, 36172.41604316471, 36354.00261849037, 36352.52808269626, 36120.93983817985, 35990.36028766779, 35686.60692736305, 36360.698420466666, 36692.4850923372, 36874.0716676631, 36929.121278276856, 36754.05718016834, 36680.001776064484, 36432.7725621688, 37163.38820168128, 37551.69901995974, 37789.80974169342, 37844.85935230795, 37669.79525420039, 37595.739850095095, 37348.510636199404, 38079.126275711686, 38467.437093989734, 38705.54781572373, 38815.5960313913, 38695.53053833653, 38676.4737392832, 38484.24313044081, 39269.85737500423, 39713.16679833599, 40006.27612512278, 40116.32434078993, 39996.25884773489, 39977.20204868385, 39784.97143984024, 40570.58568440383, 41013.895107736316, 41376.4442302198, 41555.932241584385, 41505.30654422584, 41555.68954087149, 41432.89872772537, 42287.952767986695, 42800.70198701523, 43163.251109499186, 43342.73912086343, 43292.11342350477, 43342.496420150565, 43219.70560700467, 44074.75964726368, 44587.508866294134, 45088.31235858812, 45406.05473976259, 45493.68341221337, 45682.32077866892, 45697.78433533307, 46691.092745403046, 47342.09633424368, 47842.899826536406, 48160.64220771045, 48248.270880162796, 48436.90824661697, 48452.37180328164, 49445.68021335188, 50096.68380219187, 51492.73018396632, 52705.71545462147, 53688.58701655396, 54772.467272488786, 55683.17371863433, 57571.72501818557, 59117.971496505495, 60514.017878279454, 61727.00314893499, 62709.87471086722, 63793.75496680253, 64704.46141294813, 66593.01271250013, 68699.90865017023, 70656.60449129653, 72430.23922130218, 73973.76024258549, 75618.28995787278, 77089.64586336812, 79538.84662227161, 81645.74255994198, 83602.43840106783, 85376.07313107346, 86919.59415235586, 88564.12386764323, 90035.4797731389, 92484.68053204211, 94756.59022230882, 96878.29981603044, 98816.94829863371, 100525.48307251278, 102335.02654039627, 103971.39619848866, 106585.61070998698, 108857.52040025542, 110979.2299939773, 112917.87847657938, 114626.41325045812, 116435.9567183436, 118072.32637643514, 120686.56409600063, 122958.49699433535, 125080.22979612453, 127018.90148679483, 128727.45946874125, 130537.02614469244, 132173.41901085104, 134787.65673041722, 137059.58962875148, 139181.3224305413, 141119.99412121, 142828.55210315675, 144638.11877910775, 146274.51164526693, 148888.74936180242, 151160.68225710586, 153282.4150558644, 155221.086743503, 156929.64472241953, 158739.21139534013, 160375.60425846846, 162989.8419750051, 165261.7748703089, 167383.507669067, 169322.17935670572, 171030.73733562234, 172840.30400854142, 179117.9380954807, 186373.41703582596, 193286.59115494107, 200049.56517750924, 206629.47808895833, 212979.2772916859, 219430.0851884149, 225707.71927535412, 232963.19821569923, 239876.3723348139, 246639.34635738243, 253219.2592688318, 259569.05847155806, 266019.8663682875, 278173.67073484097, 291305.31995480007, 304094.6643535278, 316733.80865571025, 329189.89184677275, 341415.86132911406, 353742.8395054584, 365896.6438720106, 379028.29309197, 391817.6374906984, 404456.78179287974, 416912.864983943, 429138.8344662832, 442751.91921034304, 456191.8301446113, 470609.58593228605, 484685.0368987297, 498610.2877686265, 512352.47752740566, 525864.5535774607, 539477.6383215212, 552917.5492557887, 567335.3050434621, 581410.7560099065, 595336.0068798049, 609078.1966385836, 622590.2726886383, 623738.4061681114, 624713.3658377933, 626666.1703608811, 628276.670062739, 629736.9696680496, 631014.2081622417, 632061.332947711, 633209.4664271832, 634184.4260968652, 636137.2306199532, 637747.7303218106, 639208.0299271224, 640485.2684213137, 641532.3932067831, 642680.5266862544, 643655.4863559371, 645608.2908790254, 647218.7905808818, 648679.090186193, 649956.3286803848, 651003.453465854, 652151.5869453275, 653126.5466150085, 655079.3511380976, 656689.850839954, 658150.1504452653, 659427.3889394576, 660474.5137249259, 661622.6472043991, 662597.6068740804, 664550.41139717, 666160.9110990262, 667621.2107043378, 668898.4491985291, 669945.5739839975, 671093.7074634706, 672068.6671331524, 674021.4716562418, 675631.9713580967, 677092.2709634086, 678369.509457601, 679416.634243069, 680564.7677225423, 681539.7273922245, 683492.5319153122, 685103.0316171689, 686563.331222481, 687840.5697166722, 688887.6945021417, 690035.8279816151, 691010.7876512962, 692963.5921743843, 694574.091876241, 696034.3914815526, 697311.6299757449, 698358.7547612138, 699506.888240687, 700481.8479103681, 702434.6524334565, 704045.1521353131, 705505.4517406246, 706782.690234816, 707829.8150202853, 708977.9484997584, 709952.90816944, 711905.7126925264, 713516.2123943847, 714976.5119996961, 716253.7504938871, 717300.8752793567, 718449.00875883, 719423.9684285114, 721376.772951599, 722987.2726534576, 724447.5722587684, 725724.8107529599, 726771.9355384294, 727920.0690179016, 728895.0286875834, 730847.8332106706, 732458.3329125288, 733918.6325178401, 735195.8710120316, 736242.9957975014, 737391.1292769734, 738366.0889466553, 740318.8934697432, 741929.3931716001, 743389.6927769117, 744666.9312711036, 745714.0560565725, 746862.1895360445, 747837.1492057267, 749789.9537288158, 751400.4534306723, 752860.7530359831, 754137.9915301754, 755185.1163156444, 756333.2497951176, 757308.2094647987, 759261.0139878879, 760871.5136897445, 762331.8132950558, 763609.0517892477, 764656.1765747165, 765804.3100541894, 766779.2697238706, 768732.07424696, 770342.573948816, 771802.8735541267, 773080.1120483188, 774127.2368337874, 775275.3703132609, 776250.3299829427, 778203.1345060299, 779813.6342078872, 781273.9338131993, 782551.1723073908, 783598.2970928593, 784746.4305723325, 785721.3902420144, 787674.1947651025, 789284.6944669603, 790744.9940722707, 792022.2325664628, 793069.3573519322, 794217.4908314057, 795192.4505010863, 797145.2550241741, 798755.7547260317, 800216.0543313427, 801493.2928255348, 802540.4176110041, 803688.5510904773, 804663.5107601583, 806616.3152832467, 808226.8149851031, 809687.1145904143, 810964.3530846058, 812011.477870075, 813159.6113495484, 814134.5710192297, 816087.3755423189, 817697.8752441751, 819158.1748494867, 820435.4133436785, 821482.5381291471, 822630.6716086204, 823605.6312783016, 825558.4358013909, 827168.9355032472, 828629.2351085591, 829906.4736027501, 830953.5983882197, 832101.7318676917, 833076.6915373735, 835029.496060463, 836639.9957623179, 838100.2953676298, 839377.5338618219, 840424.6586472915, 841572.7921267631, 842547.7517964456, 844500.5563195336, 846111.0560213906, 847571.3556267023, 848848.5941208941, 849895.7189063628, 851043.8523858362, 852018.8120555175, 853971.6165786056, 855582.1162804621, 857042.4158857738, 858319.6543799659, 859366.779165435, 860514.9126449081]}, {\"fill\": \"tonexty\", \"fillcolor\": \"rgba(0, 114, 178, 0.2)\", \"hoverinfo\": \"skip\", \"line\": {\"width\": 0}, \"mode\": \"lines\", \"type\": \"scatter\", \"x\": [\"2020-02-11T00:00:00\", \"2020-02-12T00:00:00\", \"2020-02-13T00:00:00\", \"2020-02-14T00:00:00\", \"2020-02-15T00:00:00\", \"2020-02-16T00:00:00\", \"2020-02-17T00:00:00\", \"2020-02-18T00:00:00\", \"2020-02-19T00:00:00\", \"2020-02-20T00:00:00\", \"2020-02-21T00:00:00\", \"2020-02-22T00:00:00\", \"2020-02-23T00:00:00\", \"2020-02-24T00:00:00\", \"2020-02-25T00:00:00\", \"2020-02-26T00:00:00\", \"2020-02-27T00:00:00\", \"2020-02-28T00:00:00\", \"2020-02-29T00:00:00\", \"2020-03-01T00:00:00\", \"2020-03-02T00:00:00\", \"2020-03-03T00:00:00\", \"2020-03-04T00:00:00\", \"2020-03-05T00:00:00\", \"2020-03-06T00:00:00\", \"2020-03-07T00:00:00\", \"2020-03-08T00:00:00\", \"2020-03-09T00:00:00\", \"2020-03-10T00:00:00\", \"2020-03-11T00:00:00\", \"2020-03-12T00:00:00\", \"2020-03-13T00:00:00\", \"2020-03-14T00:00:00\", \"2020-03-15T00:00:00\", \"2020-03-16T00:00:00\", \"2020-03-17T00:00:00\", \"2020-03-18T00:00:00\", \"2020-03-19T00:00:00\", \"2020-03-20T00:00:00\", \"2020-03-21T00:00:00\", \"2020-03-22T00:00:00\", \"2020-03-23T00:00:00\", \"2020-03-24T00:00:00\", \"2020-03-25T00:00:00\", \"2020-03-26T00:00:00\", \"2020-03-27T00:00:00\", \"2020-03-28T00:00:00\", \"2020-03-29T00:00:00\", \"2020-03-30T00:00:00\", \"2020-03-31T00:00:00\", \"2020-04-01T00:00:00\", \"2020-04-02T00:00:00\", \"2020-04-03T00:00:00\", \"2020-04-04T00:00:00\", \"2020-04-05T00:00:00\", \"2020-04-06T00:00:00\", \"2020-04-07T00:00:00\", \"2020-04-08T00:00:00\", \"2020-04-09T00:00:00\", \"2020-04-10T00:00:00\", \"2020-04-11T00:00:00\", \"2020-04-12T00:00:00\", \"2020-04-13T00:00:00\", \"2020-04-14T00:00:00\", \"2020-04-15T00:00:00\", \"2020-04-16T00:00:00\", \"2020-04-17T00:00:00\", \"2020-04-18T00:00:00\", \"2020-04-19T00:00:00\", \"2020-04-20T00:00:00\", \"2020-04-21T00:00:00\", \"2020-04-22T00:00:00\", \"2020-04-23T00:00:00\", \"2020-04-24T00:00:00\", \"2020-04-25T00:00:00\", \"2020-04-26T00:00:00\", \"2020-04-27T00:00:00\", \"2020-04-28T00:00:00\", \"2020-04-29T00:00:00\", \"2020-04-30T00:00:00\", \"2020-05-01T00:00:00\", \"2020-05-02T00:00:00\", \"2020-05-03T00:00:00\", \"2020-05-04T00:00:00\", \"2020-05-05T00:00:00\", \"2020-05-06T00:00:00\", \"2020-05-07T00:00:00\", \"2020-05-08T00:00:00\", \"2020-05-09T00:00:00\", \"2020-05-10T00:00:00\", \"2020-05-11T00:00:00\", \"2020-05-12T00:00:00\", \"2020-05-13T00:00:00\", \"2020-05-14T00:00:00\", \"2020-05-15T00:00:00\", \"2020-05-16T00:00:00\", \"2020-05-17T00:00:00\", \"2020-05-18T00:00:00\", \"2020-05-19T00:00:00\", \"2020-05-20T00:00:00\", \"2020-05-21T00:00:00\", \"2020-05-22T00:00:00\", \"2020-05-23T00:00:00\", \"2020-05-24T00:00:00\", \"2020-05-25T00:00:00\", \"2020-05-26T00:00:00\", \"2020-05-27T00:00:00\", \"2020-05-28T00:00:00\", \"2020-05-29T00:00:00\", \"2020-05-30T00:00:00\", \"2020-05-31T00:00:00\", \"2020-06-01T00:00:00\", \"2020-06-02T00:00:00\", \"2020-06-03T00:00:00\", \"2020-06-04T00:00:00\", \"2020-06-05T00:00:00\", \"2020-06-06T00:00:00\", \"2020-06-07T00:00:00\", \"2020-06-08T00:00:00\", \"2020-06-09T00:00:00\", \"2020-06-10T00:00:00\", \"2020-06-11T00:00:00\", \"2020-06-12T00:00:00\", \"2020-06-13T00:00:00\", \"2020-06-14T00:00:00\", \"2020-06-15T00:00:00\", \"2020-06-16T00:00:00\", \"2020-06-17T00:00:00\", \"2020-06-18T00:00:00\", \"2020-06-19T00:00:00\", \"2020-06-20T00:00:00\", \"2020-06-21T00:00:00\", \"2020-06-22T00:00:00\", \"2020-06-23T00:00:00\", \"2020-06-24T00:00:00\", \"2020-06-25T00:00:00\", \"2020-06-26T00:00:00\", \"2020-06-27T00:00:00\", \"2020-06-28T00:00:00\", \"2020-06-29T00:00:00\", \"2020-06-30T00:00:00\", \"2020-07-01T00:00:00\", \"2020-07-02T00:00:00\", \"2020-07-03T00:00:00\", \"2020-07-04T00:00:00\", \"2020-07-05T00:00:00\", \"2020-07-06T00:00:00\", \"2020-07-07T00:00:00\", \"2020-07-08T00:00:00\", \"2020-07-09T00:00:00\", \"2020-07-10T00:00:00\", \"2020-07-11T00:00:00\", \"2020-07-12T00:00:00\", \"2020-07-13T00:00:00\", \"2020-07-14T00:00:00\", \"2020-07-15T00:00:00\", \"2020-07-16T00:00:00\", \"2020-07-17T00:00:00\", \"2020-07-18T00:00:00\", \"2020-07-19T00:00:00\", \"2020-07-20T00:00:00\", \"2020-07-21T00:00:00\", \"2020-07-22T00:00:00\", \"2020-07-23T00:00:00\", \"2020-07-24T00:00:00\", \"2020-07-25T00:00:00\", \"2020-07-26T00:00:00\", \"2020-07-27T00:00:00\", \"2020-07-28T00:00:00\", \"2020-07-29T00:00:00\", \"2020-07-30T00:00:00\", \"2020-07-31T00:00:00\", \"2020-08-01T00:00:00\", \"2020-08-02T00:00:00\", \"2020-08-03T00:00:00\", \"2020-08-04T00:00:00\", \"2020-08-05T00:00:00\", \"2020-08-06T00:00:00\", \"2020-08-07T00:00:00\", \"2020-08-08T00:00:00\", \"2020-08-09T00:00:00\", \"2020-08-10T00:00:00\", \"2020-08-11T00:00:00\", \"2020-08-12T00:00:00\", \"2020-08-13T00:00:00\", \"2020-08-14T00:00:00\", \"2020-08-15T00:00:00\", \"2020-08-16T00:00:00\", \"2020-08-17T00:00:00\", \"2020-08-18T00:00:00\", \"2020-08-19T00:00:00\", \"2020-08-20T00:00:00\", \"2020-08-21T00:00:00\", \"2020-08-22T00:00:00\", \"2020-08-23T00:00:00\", \"2020-08-24T00:00:00\", \"2020-08-25T00:00:00\", \"2020-08-26T00:00:00\", \"2020-08-27T00:00:00\", \"2020-08-28T00:00:00\", \"2020-08-29T00:00:00\", \"2020-08-30T00:00:00\", \"2020-08-31T00:00:00\", \"2020-09-01T00:00:00\", \"2020-09-02T00:00:00\", \"2020-09-03T00:00:00\", \"2020-09-04T00:00:00\", \"2020-09-05T00:00:00\", \"2020-09-06T00:00:00\", \"2020-09-07T00:00:00\", \"2020-09-08T00:00:00\", \"2020-09-09T00:00:00\", \"2020-09-10T00:00:00\", \"2020-09-11T00:00:00\", \"2020-09-12T00:00:00\", \"2020-09-13T00:00:00\", \"2020-09-14T00:00:00\", \"2020-09-15T00:00:00\", \"2020-09-16T00:00:00\", \"2020-09-17T00:00:00\", \"2020-09-18T00:00:00\", \"2020-09-19T00:00:00\", \"2020-09-20T00:00:00\", \"2020-09-21T00:00:00\", \"2020-09-22T00:00:00\", \"2020-09-23T00:00:00\", \"2020-09-24T00:00:00\", \"2020-09-25T00:00:00\", \"2020-09-26T00:00:00\", \"2020-09-27T00:00:00\", \"2020-09-28T00:00:00\", \"2020-09-29T00:00:00\", \"2020-09-30T00:00:00\", \"2020-10-01T00:00:00\", \"2020-10-02T00:00:00\", \"2020-10-03T00:00:00\", \"2020-10-04T00:00:00\", \"2020-10-05T00:00:00\", \"2020-10-06T00:00:00\", \"2020-10-07T00:00:00\", \"2020-10-08T00:00:00\", \"2020-10-09T00:00:00\", \"2020-10-10T00:00:00\", \"2020-10-11T00:00:00\", \"2020-10-12T00:00:00\", \"2020-10-13T00:00:00\", \"2020-10-14T00:00:00\", \"2020-10-15T00:00:00\", \"2020-10-16T00:00:00\", \"2020-10-17T00:00:00\", \"2020-10-18T00:00:00\", \"2020-10-19T00:00:00\", \"2020-10-20T00:00:00\", \"2020-10-21T00:00:00\", \"2020-10-22T00:00:00\", \"2020-10-23T00:00:00\", \"2020-10-24T00:00:00\", \"2020-10-25T00:00:00\", \"2020-10-26T00:00:00\", \"2020-10-27T00:00:00\", \"2020-10-28T00:00:00\", \"2020-10-29T00:00:00\", \"2020-10-30T00:00:00\", \"2020-10-31T00:00:00\", \"2020-11-01T00:00:00\", \"2020-11-02T00:00:00\", \"2020-11-03T00:00:00\", \"2020-11-04T00:00:00\", \"2020-11-05T00:00:00\", \"2020-11-06T00:00:00\", \"2020-11-07T00:00:00\", \"2020-11-08T00:00:00\", \"2020-11-09T00:00:00\", \"2020-11-10T00:00:00\", \"2020-11-11T00:00:00\", \"2020-11-12T00:00:00\", \"2020-11-13T00:00:00\", \"2020-11-14T00:00:00\", \"2020-11-15T00:00:00\", \"2020-11-16T00:00:00\", \"2020-11-17T00:00:00\", \"2020-11-18T00:00:00\", \"2020-11-19T00:00:00\", \"2020-11-20T00:00:00\", \"2020-11-21T00:00:00\", \"2020-11-22T00:00:00\", \"2020-11-23T00:00:00\", \"2020-11-24T00:00:00\", \"2020-11-25T00:00:00\", \"2020-11-26T00:00:00\", \"2020-11-27T00:00:00\", \"2020-11-28T00:00:00\", \"2020-11-29T00:00:00\", \"2020-11-30T00:00:00\", \"2020-12-01T00:00:00\", \"2020-12-02T00:00:00\", \"2020-12-03T00:00:00\", \"2020-12-04T00:00:00\", \"2020-12-05T00:00:00\", \"2020-12-06T00:00:00\", \"2020-12-07T00:00:00\", \"2020-12-08T00:00:00\", \"2020-12-09T00:00:00\", \"2020-12-10T00:00:00\", \"2020-12-11T00:00:00\", \"2020-12-12T00:00:00\", \"2020-12-13T00:00:00\", \"2020-12-14T00:00:00\", \"2020-12-15T00:00:00\", \"2020-12-16T00:00:00\", \"2020-12-17T00:00:00\", \"2020-12-18T00:00:00\", \"2020-12-19T00:00:00\", \"2020-12-20T00:00:00\", \"2020-12-21T00:00:00\", \"2020-12-22T00:00:00\", \"2020-12-23T00:00:00\", \"2020-12-24T00:00:00\", \"2020-12-25T00:00:00\", \"2020-12-26T00:00:00\", \"2020-12-27T00:00:00\", \"2020-12-28T00:00:00\", \"2020-12-29T00:00:00\", \"2020-12-30T00:00:00\", \"2020-12-31T00:00:00\", \"2021-01-01T00:00:00\", \"2021-01-02T00:00:00\", \"2021-01-03T00:00:00\", \"2021-01-04T00:00:00\", \"2021-01-05T00:00:00\", \"2021-01-06T00:00:00\", \"2021-01-07T00:00:00\", \"2021-01-08T00:00:00\", \"2021-01-09T00:00:00\", \"2021-01-10T00:00:00\", \"2021-01-11T00:00:00\", \"2021-01-12T00:00:00\", \"2021-01-13T00:00:00\", \"2021-01-14T00:00:00\", \"2021-01-15T00:00:00\", \"2021-01-16T00:00:00\", \"2021-01-17T00:00:00\", \"2021-01-18T00:00:00\", \"2021-01-19T00:00:00\", \"2021-01-20T00:00:00\", \"2021-01-21T00:00:00\", \"2021-01-22T00:00:00\", \"2021-01-23T00:00:00\", \"2021-01-24T00:00:00\", \"2021-01-25T00:00:00\", \"2021-01-26T00:00:00\", \"2021-01-27T00:00:00\", \"2021-01-28T00:00:00\", \"2021-01-29T00:00:00\", \"2021-01-30T00:00:00\", \"2021-01-31T00:00:00\", \"2021-02-01T00:00:00\", \"2021-02-02T00:00:00\", \"2021-02-03T00:00:00\", \"2021-02-04T00:00:00\", \"2021-02-05T00:00:00\", \"2021-02-06T00:00:00\", \"2021-02-07T00:00:00\", \"2021-02-08T00:00:00\", \"2021-02-09T00:00:00\", \"2021-02-10T00:00:00\", \"2021-02-11T00:00:00\", \"2021-02-12T00:00:00\", \"2021-02-13T00:00:00\", \"2021-02-14T00:00:00\", \"2021-02-15T00:00:00\", \"2021-02-16T00:00:00\", \"2021-02-17T00:00:00\", \"2021-02-18T00:00:00\", \"2021-02-19T00:00:00\", \"2021-02-20T00:00:00\", \"2021-02-21T00:00:00\", \"2021-02-22T00:00:00\", \"2021-02-23T00:00:00\", \"2021-02-24T00:00:00\", \"2021-02-25T00:00:00\", \"2021-02-26T00:00:00\", \"2021-02-27T00:00:00\", \"2021-02-28T00:00:00\", \"2021-03-01T00:00:00\", \"2021-03-02T00:00:00\", \"2021-03-03T00:00:00\", \"2021-03-04T00:00:00\", \"2021-03-05T00:00:00\", \"2021-03-06T00:00:00\", \"2021-03-07T00:00:00\", \"2021-03-08T00:00:00\", \"2021-03-09T00:00:00\", \"2021-03-10T00:00:00\", \"2021-03-11T00:00:00\", \"2021-03-12T00:00:00\", \"2021-03-13T00:00:00\", \"2021-03-14T00:00:00\", \"2021-03-15T00:00:00\", \"2021-03-16T00:00:00\", \"2021-03-17T00:00:00\", \"2021-03-18T00:00:00\", \"2021-03-19T00:00:00\", \"2021-03-20T00:00:00\", \"2021-03-21T00:00:00\", \"2021-03-22T00:00:00\", \"2021-03-23T00:00:00\", \"2021-03-24T00:00:00\", \"2021-03-25T00:00:00\", \"2021-03-26T00:00:00\", \"2021-03-27T00:00:00\", \"2021-03-28T00:00:00\", \"2021-03-29T00:00:00\", \"2021-03-30T00:00:00\", \"2021-03-31T00:00:00\", \"2021-04-01T00:00:00\", \"2021-04-02T00:00:00\", \"2021-04-03T00:00:00\", \"2021-04-04T00:00:00\", \"2021-04-05T00:00:00\", \"2021-04-06T00:00:00\", \"2021-04-07T00:00:00\", \"2021-04-08T00:00:00\", \"2021-04-09T00:00:00\", \"2021-04-10T00:00:00\", \"2021-04-11T00:00:00\", \"2021-04-12T00:00:00\", \"2021-04-13T00:00:00\", \"2021-04-14T00:00:00\", \"2021-04-15T00:00:00\", \"2021-04-16T00:00:00\", \"2021-04-17T00:00:00\", \"2021-04-18T00:00:00\", \"2021-04-19T00:00:00\", \"2021-04-20T00:00:00\", \"2021-04-21T00:00:00\", \"2021-04-22T00:00:00\", \"2021-04-23T00:00:00\", \"2021-04-24T00:00:00\", \"2021-04-25T00:00:00\", \"2021-04-26T00:00:00\", \"2021-04-27T00:00:00\", \"2021-04-28T00:00:00\", \"2021-04-29T00:00:00\", \"2021-04-30T00:00:00\", \"2021-05-01T00:00:00\", \"2021-05-02T00:00:00\", \"2021-05-03T00:00:00\", \"2021-05-04T00:00:00\", \"2021-05-05T00:00:00\", \"2021-05-06T00:00:00\", \"2021-05-07T00:00:00\", \"2021-05-08T00:00:00\", \"2021-05-09T00:00:00\", \"2021-05-10T00:00:00\", \"2021-05-11T00:00:00\", \"2021-05-12T00:00:00\", \"2021-05-13T00:00:00\", \"2021-05-14T00:00:00\", \"2021-05-15T00:00:00\", \"2021-05-16T00:00:00\", \"2021-05-17T00:00:00\", \"2021-05-18T00:00:00\", \"2021-05-19T00:00:00\", \"2021-05-20T00:00:00\", \"2021-05-21T00:00:00\", \"2021-05-22T00:00:00\", \"2021-05-23T00:00:00\", \"2021-05-24T00:00:00\", \"2021-05-25T00:00:00\", \"2021-05-26T00:00:00\", \"2021-05-27T00:00:00\", \"2021-05-28T00:00:00\", \"2021-05-29T00:00:00\", \"2021-05-30T00:00:00\", \"2021-05-31T00:00:00\", \"2021-06-01T00:00:00\", \"2021-06-02T00:00:00\", \"2021-06-03T00:00:00\", \"2021-06-04T00:00:00\", \"2021-06-05T00:00:00\", \"2021-06-06T00:00:00\", \"2021-06-07T00:00:00\", \"2021-06-08T00:00:00\", \"2021-06-09T00:00:00\", \"2021-06-10T00:00:00\", \"2021-06-11T00:00:00\", \"2021-06-12T00:00:00\", \"2021-06-13T00:00:00\", \"2021-06-14T00:00:00\", \"2021-06-15T00:00:00\", \"2021-06-16T00:00:00\", \"2021-06-17T00:00:00\", \"2021-06-18T00:00:00\", \"2021-06-19T00:00:00\", \"2021-06-20T00:00:00\", \"2021-06-21T00:00:00\", \"2021-06-22T00:00:00\", \"2021-06-23T00:00:00\", \"2021-06-24T00:00:00\", \"2021-06-25T00:00:00\", \"2021-06-26T00:00:00\", \"2021-06-27T00:00:00\", \"2021-06-28T00:00:00\", \"2021-06-29T00:00:00\", \"2021-06-30T00:00:00\", \"2021-07-01T00:00:00\", \"2021-07-02T00:00:00\", \"2021-07-03T00:00:00\", \"2021-07-04T00:00:00\", \"2021-07-05T00:00:00\", \"2021-07-06T00:00:00\", \"2021-07-07T00:00:00\", \"2021-07-08T00:00:00\", \"2021-07-09T00:00:00\", \"2021-07-10T00:00:00\"], \"y\": [12330.96100881744, 12054.12481869906, 11190.828123883706, 13069.754907338187, 12046.412291202962, 14071.383566865894, 12750.8595382456, 13634.895970420372, 13934.429553612921, 15657.75824889507, 14664.342603066501, 14777.66160430061, 12872.79500061382, 14664.480982755638, 14567.010778557134, 16039.491863442116, 17633.41435920022, 16457.551431613407, 16522.059344250298, 15454.25299208383, 16982.633383350134, 18665.833058966713, 16888.078161437832, 20267.637059992372, 18513.764674799564, 18690.909007031296, 19543.24312864142, 18721.38306999344, 20811.378906570415, 19586.65365626698, 21242.119250609318, 21917.78874142942, 20420.54041921907, 20877.404701299543, 22154.040409706457, 22939.800641737096, 22880.705092094104, 22742.744776765918, 25175.658998639417, 24785.210937158474, 23936.4585154064, 26166.81194040196, 24997.79613588941, 25931.6443180005, 27074.256526009514, 25547.502054158424, 27201.743296934837, 27178.376629101633, 27794.178209597634, 28300.97247925782, 29293.268412728397, 29590.33105370883, 29035.683161846315, 30062.251475997033, 29851.688879707224, 31289.229447106496, 30505.408321995852, 32453.764569058254, 34192.15460707855, 32543.131700070313, 33572.08949765434, 33036.30043975336, 33837.29335792314, 35339.07473164828, 35433.66139339113, 35995.64040573063, 36312.05139009133, 37363.209459479884, 36317.99976348086, 37762.771472539505, 39733.2329265854, 37707.050914976855, 40353.75584669865, 39388.40655748463, 41236.16333033739, 38878.01818914301, 41286.89815625778, 41910.697012293844, 42256.7399408166, 41790.97010792339, 43158.51720522045, 43099.28159189676, 42750.99807728923, 44887.186389234026, 44013.370083451, 45536.44372282342, 45093.16116588375, 44992.20995550489, 45189.30045649982, 44156.83073442186, 44542.20534501265, 45596.67378761992, 45438.01223351949, 46545.837495168365, 46525.999398350046, 46876.6484791264, 46845.72593068299, 48511.17474738961, 46913.0842183962, 47331.17781471027, 47585.2149161151, 47985.38092964942, 46160.220241150106, 47764.52948373061, 46546.123940123354, 48906.01351719395, 49204.38586302333, 47768.5205164032, 46978.1449258444, 48341.460411371794, 47805.21683053536, 47539.31054534663, 48996.82955893436, 48974.14817623874, 47917.15330524268, 47524.53286224525, 49254.32111900512, 48003.321271093475, 49898.29082711316, 49359.379336485435, 50392.537393477076, 47331.153468133765, 48856.258826673096, 49264.89629064725, 48841.384246255846, 49091.99067349319, 49480.08842368309, 49016.03363387905, 50129.856947440094, 50021.61071639703, 48896.68356105975, 47631.42374032758, 49429.3354322917, 50800.124360105736, 50458.27254362094, 50019.969807187925, 51455.15598448559, 48418.727612645984, 49429.39021186057, 49412.23286231745, 49622.714121004574, 51507.38519710521, 51556.0195850178, 50565.11129837149, 49749.13264535807, 48751.07233293178, 50021.83878401482, 50306.78778911289, 50772.939042099126, 51128.7714234107, 49935.39934682995, 51071.67635220193, 51139.1860991564, 51231.827112156105, 52041.79930289286, 51587.813819136056, 50803.69871434893, 52064.45319626983, 50859.82452494134, 51051.82525095137, 51706.007714991545, 51633.958804351045, 53095.96191545568, 51509.00073933293, 50961.58467222784, 53000.2913710617, 50516.44786670749, 51412.21850750716, 53341.66016669623, 53259.09586209593, 51612.20363590814, 52371.232905972436, 53123.28861099341, 52349.590056611916, 53487.16383229743, 53545.99297895636, 51708.99841645548, 53202.519700849065, 52167.820399866105, 52344.535995122234, 51467.08239585954, 54094.90509388137, 54560.53498646904, 52984.957984866225, 53625.97382670067, 53007.907521308596, 54513.331378984156, 53235.83831309885, 55282.165562148126, 54792.50968998082, 54882.28714963591, 55212.89973209582, 56111.36745070197, 54820.08355485116, 54323.34429768821, 55944.55375698154, 56312.48938827139, 58213.615111883504, 56701.47328008961, 56798.28084593132, 56215.3878560554, 56218.96971408158, 57696.14285732555, 57120.227504054084, 58139.41270212344, 58137.219699180074, 58134.4907810307, 58978.75417064327, 57524.179638870635, 57922.683807427165, 58962.32759257616, 59607.28501453369, 61195.72508640125, 59874.58862876147, 59892.767117908166, 59392.87371007923, 59509.77936222825, 60861.49232419102, 62780.750788608966, 61213.25477617954, 62569.67321564148, 62606.06510748003, 61952.50152663663, 62793.65278322313, 63422.31658998764, 63750.364740033, 63904.154836352085, 64875.659198235764, 63780.813628338154, 62461.136963909055, 66309.9261911467, 66466.97867749348, 67972.51929556298, 68947.37123858444, 70301.2471471396, 71959.6894395242, 71762.30119386406, 74345.41102504655, 75751.29561821515, 77527.81973153118, 77304.35451868904, 78594.9489916953, 80863.44361087753, 79425.46085549684, 82390.27771421903, 85251.09994219134, 86699.89569892579, 88837.08892089762, 90183.09062126128, 93906.23976667238, 94646.82282808262, 96523.33082457824, 97070.28241328796, 99131.89813032774, 101924.15411275475, 103631.15549220637, 105847.45035048915, 106753.11023748334, 108998.54129830208, 110605.19597944569, 113811.21926524681, 114530.55026085951, 117394.48549676556, 119250.05524192376, 121121.34942839059, 121583.11076057536, 125486.4808063744, 126316.95921598925, 130191.1927443179, 132994.40420887843, 131915.8977542303, 134043.29510492686, 137251.4284137574, 138891.51103192515, 141351.99742370174, 143424.6424455034, 143853.66270707597, 146608.1332632871, 149463.81748487914, 151379.9511727968, 153440.2833587398, 156222.5084041218, 157987.86046571826, 158029.58396668063, 161180.71410134187, 162732.6663073054, 165198.91646823037, 166527.7218819907, 169731.73845801302, 170799.96428433247, 172837.46613979162, 175902.08597534022, 177665.30865572405, 179675.300969247, 182140.01668383158, 183318.1004576017, 185287.1718102238, 187047.5310399888, 189866.20490302934, 195227.6021636514, 202965.8236317206, 210329.5598234987, 216509.40604568666, 223379.08475417038, 228776.22130420484, 235429.51550123494, 241000.08473523293, 249064.2673049325, 256932.11996293458, 262010.67949882182, 270374.218951697, 276096.76543597627, 282935.5586444446, 294268.537792834, 307862.0417211115, 318691.09614585043, 332821.3235390751, 345679.78151319874, 357634.27502316557, 369672.83172370784, 381946.55095304456, 395707.9771219244, 407857.6513175453, 420305.189841931, 432870.6970415164, 444558.8864914086, 459366.4322006023, 472289.8980536967, 486279.02754993574, 501507.2625661019, 514846.2205824439, 529452.485635297, 541618.9495935898, 555578.6980187343, 569632.6886265998, 584728.2853602901, 599304.2277548051, 612031.1664306524, 625199.4524504546, 639491.4441591653, 639814.774376502, 641684.6661928159, 642249.8902290224, 644569.180627376, 645409.5231255731, 645557.2234139714, 649211.724447654, 650311.5788361576, 650706.5615837227, 653580.49050999, 653325.971564575, 655809.9078529007, 656171.8194780246, 658058.5505338375, 657589.7595321018, 660001.0555456727, 662053.3527606272, 663719.8747491718, 664230.8030209872, 666827.5530291738, 667736.0593672001, 668633.1353908314, 669106.8393027745, 671711.7605356291, 672484.4961273132, 675129.4180486376, 677333.2458367521, 675768.233523356, 677404.418574878, 679027.9911969278, 680461.1384782514, 681714.6638055758, 683701.3656328897, 685415.6639233656, 686094.1054968246, 686921.3020231846, 686834.6165082526, 689818.141534109, 690946.7550689445, 693009.7502619338, 694289.0223894635, 695232.2908364148, 697665.9614779274, 697898.5526432437, 699626.2633597945, 701277.6465103473, 702837.2746106061, 704777.8646349732, 704203.3714496421, 706187.066696437, 708545.0132694709, 710320.6800329303, 709863.1436432917, 711938.5912344379, 712994.1659107128, 714675.9881010466, 715894.3820656908, 715644.8256856843, 717970.5491978904, 720376.7142386913, 721316.065017113, 722741.6268114944, 724039.172553239, 725176.028518795, 726438.3264410892, 727796.9430557366, 729662.1598494706, 731147.640600958, 733318.5527250716, 734171.4592529302, 735391.3792758938, 735116.5124383912, 736349.5484741643, 739560.0373056536, 740115.6268287414, 741712.1900322665, 744164.2174987729, 746004.003191229, 744536.9081037297, 746615.2923693283, 748876.5327602611, 751498.3498020277, 749639.0161465522, 752265.1250088945, 753288.1231876487, 754438.1135394037, 757330.7253134908, 758869.0278237703, 761187.18709632, 761605.6627036905, 762930.134053594, 765398.7258326034, 766262.5563880439, 768126.1278635898, 770415.8060119011, 776627.3471204148, 777520.4517210413, 778727.1878096795, 784453.9630661921, 785067.7019812771, 790626.3713232282, 796053.7795282827, 798120.9605291404, 804454.2638658496, 806074.4477048125, 809721.6208967925, 817763.1119848376, 820656.9576423808, 826583.3447117589, 828176.7830162201, 836836.0156640268, 841535.4488518118, 842062.801697546, 850870.0774320484, 854912.1874906089, 860653.5194694202, 855606.6410899024, 869470.9609573358, 870754.5600510716, 881377.3073904228, 887853.2306898109, 890234.8518234179, 901653.7760425631, 906644.223693892, 907163.6790717114, 911971.4837305981, 922806.2249954002, 923461.9460425666, 928371.629665501, 936213.5194192003, 941011.148296915, 944167.6064265824, 950057.3867372302, 951483.0800993674, 969344.96797671, 961563.0738529982, 969481.2315397825, 978605.5661550722, 981403.3421160784, 987693.9990786168, 991952.7506648647, 995858.0286243055, 1014227.8056717146, 1025118.2540648362, 1018886.9675914935, 1027891.7704234743, 1030285.1218891008, 1040445.7395666055, 1048344.827779791, 1051839.4574667679, 1056647.8473184076, 1059922.5980493273, 1062935.574610652, 1078081.0505991415, 1079786.7936034428, 1086306.7425202015, 1092174.3307534466, 1097823.3420027408, 1119782.6580520065, 1123867.9544733698, 1129148.3677621833, 1139396.8182922294, 1141286.7153694674, 1150254.5746193798, 1155832.9629178173, 1169526.1097235826, 1169520.596199023, 1187004.0979679604, 1191838.0705149984, 1196908.902539326, 1211830.8513152455, 1211793.271094878, 1217941.9900824863, 1230058.7139706807, 1242462.3771114424, 1243648.8964493936]}],\n",
              "                        {\"height\": 600, \"showlegend\": false, \"template\": {\"data\": {\"bar\": [{\"error_x\": {\"color\": \"#2a3f5f\"}, \"error_y\": {\"color\": \"#2a3f5f\"}, \"marker\": {\"line\": {\"color\": \"#E5ECF6\", \"width\": 0.5}}, \"type\": \"bar\"}], \"barpolar\": [{\"marker\": {\"line\": {\"color\": \"#E5ECF6\", \"width\": 0.5}}, \"type\": \"barpolar\"}], \"carpet\": [{\"aaxis\": {\"endlinecolor\": \"#2a3f5f\", \"gridcolor\": \"white\", \"linecolor\": \"white\", \"minorgridcolor\": \"white\", \"startlinecolor\": \"#2a3f5f\"}, \"baxis\": {\"endlinecolor\": \"#2a3f5f\", \"gridcolor\": \"white\", \"linecolor\": \"white\", \"minorgridcolor\": \"white\", \"startlinecolor\": \"#2a3f5f\"}, \"type\": \"carpet\"}], \"choropleth\": [{\"colorbar\": {\"outlinewidth\": 0, \"ticks\": \"\"}, \"type\": \"choropleth\"}], \"contour\": [{\"colorbar\": {\"outlinewidth\": 0, \"ticks\": \"\"}, \"colorscale\": [[0.0, \"#0d0887\"], [0.1111111111111111, \"#46039f\"], [0.2222222222222222, \"#7201a8\"], [0.3333333333333333, \"#9c179e\"], [0.4444444444444444, \"#bd3786\"], [0.5555555555555556, \"#d8576b\"], [0.6666666666666666, \"#ed7953\"], [0.7777777777777778, \"#fb9f3a\"], [0.8888888888888888, \"#fdca26\"], [1.0, \"#f0f921\"]], \"type\": \"contour\"}], \"contourcarpet\": [{\"colorbar\": {\"outlinewidth\": 0, \"ticks\": \"\"}, \"type\": \"contourcarpet\"}], \"heatmap\": [{\"colorbar\": {\"outlinewidth\": 0, \"ticks\": \"\"}, \"colorscale\": [[0.0, \"#0d0887\"], [0.1111111111111111, \"#46039f\"], [0.2222222222222222, \"#7201a8\"], [0.3333333333333333, \"#9c179e\"], [0.4444444444444444, \"#bd3786\"], [0.5555555555555556, \"#d8576b\"], [0.6666666666666666, \"#ed7953\"], [0.7777777777777778, \"#fb9f3a\"], [0.8888888888888888, \"#fdca26\"], [1.0, \"#f0f921\"]], \"type\": \"heatmap\"}], \"heatmapgl\": [{\"colorbar\": {\"outlinewidth\": 0, \"ticks\": \"\"}, \"colorscale\": [[0.0, \"#0d0887\"], [0.1111111111111111, \"#46039f\"], [0.2222222222222222, \"#7201a8\"], [0.3333333333333333, \"#9c179e\"], [0.4444444444444444, \"#bd3786\"], [0.5555555555555556, \"#d8576b\"], [0.6666666666666666, \"#ed7953\"], [0.7777777777777778, \"#fb9f3a\"], [0.8888888888888888, \"#fdca26\"], [1.0, \"#f0f921\"]], \"type\": \"heatmapgl\"}], \"histogram\": [{\"marker\": {\"colorbar\": {\"outlinewidth\": 0, \"ticks\": \"\"}}, \"type\": \"histogram\"}], \"histogram2d\": [{\"colorbar\": {\"outlinewidth\": 0, \"ticks\": \"\"}, \"colorscale\": [[0.0, \"#0d0887\"], [0.1111111111111111, \"#46039f\"], [0.2222222222222222, \"#7201a8\"], [0.3333333333333333, \"#9c179e\"], [0.4444444444444444, \"#bd3786\"], [0.5555555555555556, \"#d8576b\"], [0.6666666666666666, \"#ed7953\"], [0.7777777777777778, \"#fb9f3a\"], [0.8888888888888888, \"#fdca26\"], [1.0, \"#f0f921\"]], \"type\": \"histogram2d\"}], \"histogram2dcontour\": [{\"colorbar\": {\"outlinewidth\": 0, \"ticks\": \"\"}, \"colorscale\": [[0.0, \"#0d0887\"], [0.1111111111111111, \"#46039f\"], [0.2222222222222222, \"#7201a8\"], [0.3333333333333333, \"#9c179e\"], [0.4444444444444444, \"#bd3786\"], [0.5555555555555556, \"#d8576b\"], [0.6666666666666666, \"#ed7953\"], [0.7777777777777778, \"#fb9f3a\"], [0.8888888888888888, \"#fdca26\"], [1.0, \"#f0f921\"]], \"type\": \"histogram2dcontour\"}], \"mesh3d\": [{\"colorbar\": {\"outlinewidth\": 0, \"ticks\": \"\"}, \"type\": \"mesh3d\"}], \"parcoords\": [{\"line\": {\"colorbar\": {\"outlinewidth\": 0, \"ticks\": \"\"}}, \"type\": \"parcoords\"}], \"pie\": [{\"automargin\": true, \"type\": \"pie\"}], \"scatter\": [{\"marker\": {\"colorbar\": {\"outlinewidth\": 0, \"ticks\": \"\"}}, \"type\": \"scatter\"}], \"scatter3d\": [{\"line\": {\"colorbar\": {\"outlinewidth\": 0, \"ticks\": \"\"}}, \"marker\": {\"colorbar\": {\"outlinewidth\": 0, \"ticks\": \"\"}}, \"type\": \"scatter3d\"}], \"scattercarpet\": [{\"marker\": {\"colorbar\": {\"outlinewidth\": 0, \"ticks\": \"\"}}, \"type\": \"scattercarpet\"}], \"scattergeo\": [{\"marker\": {\"colorbar\": {\"outlinewidth\": 0, \"ticks\": \"\"}}, \"type\": \"scattergeo\"}], \"scattergl\": [{\"marker\": {\"colorbar\": {\"outlinewidth\": 0, \"ticks\": \"\"}}, \"type\": \"scattergl\"}], \"scattermapbox\": [{\"marker\": {\"colorbar\": {\"outlinewidth\": 0, \"ticks\": \"\"}}, \"type\": \"scattermapbox\"}], \"scatterpolar\": [{\"marker\": {\"colorbar\": {\"outlinewidth\": 0, \"ticks\": \"\"}}, \"type\": \"scatterpolar\"}], \"scatterpolargl\": [{\"marker\": {\"colorbar\": {\"outlinewidth\": 0, \"ticks\": \"\"}}, \"type\": \"scatterpolargl\"}], \"scatterternary\": [{\"marker\": {\"colorbar\": {\"outlinewidth\": 0, \"ticks\": \"\"}}, \"type\": \"scatterternary\"}], \"surface\": [{\"colorbar\": {\"outlinewidth\": 0, \"ticks\": \"\"}, \"colorscale\": [[0.0, \"#0d0887\"], [0.1111111111111111, \"#46039f\"], [0.2222222222222222, \"#7201a8\"], [0.3333333333333333, \"#9c179e\"], [0.4444444444444444, \"#bd3786\"], [0.5555555555555556, \"#d8576b\"], [0.6666666666666666, \"#ed7953\"], [0.7777777777777778, \"#fb9f3a\"], [0.8888888888888888, \"#fdca26\"], [1.0, \"#f0f921\"]], \"type\": \"surface\"}], \"table\": [{\"cells\": {\"fill\": {\"color\": \"#EBF0F8\"}, \"line\": {\"color\": \"white\"}}, \"header\": {\"fill\": {\"color\": \"#C8D4E3\"}, \"line\": {\"color\": \"white\"}}, \"type\": \"table\"}]}, \"layout\": {\"annotationdefaults\": {\"arrowcolor\": \"#2a3f5f\", \"arrowhead\": 0, \"arrowwidth\": 1}, \"coloraxis\": {\"colorbar\": {\"outlinewidth\": 0, \"ticks\": \"\"}}, \"colorscale\": {\"diverging\": [[0, \"#8e0152\"], [0.1, \"#c51b7d\"], [0.2, \"#de77ae\"], [0.3, \"#f1b6da\"], [0.4, \"#fde0ef\"], [0.5, \"#f7f7f7\"], [0.6, \"#e6f5d0\"], [0.7, \"#b8e186\"], [0.8, \"#7fbc41\"], [0.9, \"#4d9221\"], [1, \"#276419\"]], \"sequential\": [[0.0, \"#0d0887\"], [0.1111111111111111, \"#46039f\"], [0.2222222222222222, \"#7201a8\"], [0.3333333333333333, \"#9c179e\"], [0.4444444444444444, \"#bd3786\"], [0.5555555555555556, \"#d8576b\"], [0.6666666666666666, \"#ed7953\"], [0.7777777777777778, \"#fb9f3a\"], [0.8888888888888888, \"#fdca26\"], [1.0, \"#f0f921\"]], \"sequentialminus\": [[0.0, \"#0d0887\"], [0.1111111111111111, \"#46039f\"], [0.2222222222222222, \"#7201a8\"], [0.3333333333333333, \"#9c179e\"], [0.4444444444444444, \"#bd3786\"], [0.5555555555555556, \"#d8576b\"], [0.6666666666666666, \"#ed7953\"], [0.7777777777777778, \"#fb9f3a\"], [0.8888888888888888, \"#fdca26\"], [1.0, \"#f0f921\"]]}, \"colorway\": [\"#636efa\", \"#EF553B\", \"#00cc96\", \"#ab63fa\", \"#FFA15A\", \"#19d3f3\", \"#FF6692\", \"#B6E880\", \"#FF97FF\", \"#FECB52\"], \"font\": {\"color\": \"#2a3f5f\"}, \"geo\": {\"bgcolor\": \"white\", \"lakecolor\": \"white\", \"landcolor\": \"#E5ECF6\", \"showlakes\": true, \"showland\": true, \"subunitcolor\": \"white\"}, \"hoverlabel\": {\"align\": \"left\"}, \"hovermode\": \"closest\", \"mapbox\": {\"style\": \"light\"}, \"paper_bgcolor\": \"white\", \"plot_bgcolor\": \"#E5ECF6\", \"polar\": {\"angularaxis\": {\"gridcolor\": \"white\", \"linecolor\": \"white\", \"ticks\": \"\"}, \"bgcolor\": \"#E5ECF6\", \"radialaxis\": {\"gridcolor\": \"white\", \"linecolor\": \"white\", \"ticks\": \"\"}}, \"scene\": {\"xaxis\": {\"backgroundcolor\": \"#E5ECF6\", \"gridcolor\": \"white\", \"gridwidth\": 2, \"linecolor\": \"white\", \"showbackground\": true, \"ticks\": \"\", \"zerolinecolor\": \"white\"}, \"yaxis\": {\"backgroundcolor\": \"#E5ECF6\", \"gridcolor\": \"white\", \"gridwidth\": 2, \"linecolor\": \"white\", \"showbackground\": true, \"ticks\": \"\", \"zerolinecolor\": \"white\"}, \"zaxis\": {\"backgroundcolor\": \"#E5ECF6\", \"gridcolor\": \"white\", \"gridwidth\": 2, \"linecolor\": \"white\", \"showbackground\": true, \"ticks\": \"\", \"zerolinecolor\": \"white\"}}, \"shapedefaults\": {\"line\": {\"color\": \"#2a3f5f\"}}, \"ternary\": {\"aaxis\": {\"gridcolor\": \"white\", \"linecolor\": \"white\", \"ticks\": \"\"}, \"baxis\": {\"gridcolor\": \"white\", \"linecolor\": \"white\", \"ticks\": \"\"}, \"bgcolor\": \"#E5ECF6\", \"caxis\": {\"gridcolor\": \"white\", \"linecolor\": \"white\", \"ticks\": \"\"}}, \"title\": {\"x\": 0.05}, \"xaxis\": {\"automargin\": true, \"gridcolor\": \"white\", \"linecolor\": \"white\", \"ticks\": \"\", \"title\": {\"standoff\": 15}, \"zerolinecolor\": \"white\", \"zerolinewidth\": 2}, \"yaxis\": {\"automargin\": true, \"gridcolor\": \"white\", \"linecolor\": \"white\", \"ticks\": \"\", \"title\": {\"standoff\": 15}, \"zerolinecolor\": \"white\", \"zerolinewidth\": 2}}}, \"width\": 900, \"xaxis\": {\"rangeselector\": {\"buttons\": [{\"count\": 7, \"label\": \"1w\", \"step\": \"day\", \"stepmode\": \"backward\"}, {\"count\": 1, \"label\": \"1m\", \"step\": \"month\", \"stepmode\": \"backward\"}, {\"count\": 6, \"label\": \"6m\", \"step\": \"month\", \"stepmode\": \"backward\"}, {\"count\": 1, \"label\": \"1y\", \"step\": \"year\", \"stepmode\": \"backward\"}, {\"step\": \"all\"}]}, \"rangeslider\": {\"visible\": true}, \"title\": {\"text\": \"ds\"}, \"type\": \"date\"}, \"yaxis\": {\"title\": {\"text\": \"y\"}}},\n",
              "                        {\"responsive\": true}\n",
              "                    ).then(function(){\n",
              "                            \n",
              "var gd = document.getElementById('18dc4f90-bf05-4d86-a891-099722430a49');\n",
              "var x = new MutationObserver(function (mutations, observer) {{\n",
              "        var display = window.getComputedStyle(gd).display;\n",
              "        if (!display || display === 'none') {{\n",
              "            console.log([gd, 'removed!']);\n",
              "            Plotly.purge(gd);\n",
              "            observer.disconnect();\n",
              "        }}\n",
              "}});\n",
              "\n",
              "// Listen for the removal of the full notebook cells\n",
              "var notebookContainer = gd.closest('#notebook-container');\n",
              "if (notebookContainer) {{\n",
              "    x.observe(notebookContainer, {childList: true});\n",
              "}}\n",
              "\n",
              "// Listen for the clearing of the current output cell\n",
              "var outputEl = gd.closest('.output');\n",
              "if (outputEl) {{\n",
              "    x.observe(outputEl, {childList: true});\n",
              "}}\n",
              "\n",
              "                        })\n",
              "                };\n",
              "                \n",
              "            </script>\n",
              "        </div>\n",
              "</body>\n",
              "</html>"
            ]
          },
          "metadata": {
            "tags": []
          }
        }
      ]
    },
    {
      "cell_type": "code",
      "metadata": {
        "id": "0-59Nis8IXMH"
      },
      "source": [
        ""
      ],
      "execution_count": null,
      "outputs": []
    }
  ]
}